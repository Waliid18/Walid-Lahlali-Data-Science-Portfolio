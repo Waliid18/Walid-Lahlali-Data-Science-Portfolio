{
  "metadata": {
    "kernelspec": {
      "name": "python",
      "display_name": "Python (Pyodide)",
      "language": "python"
    },
    "language_info": {
      "codemirror_mode": {
        "name": "python",
        "version": 3
      },
      "file_extension": ".py",
      "mimetype": "text/x-python",
      "name": "python",
      "nbconvert_exporter": "python",
      "pygments_lexer": "ipython3",
      "version": "3.8"
    }
  },
  "nbformat_minor": 4,
  "nbformat": 4,
  "cells": [
    {
      "cell_type": "markdown",
      "source": "# ***The main arithmetic operations***\n1. **Addition :**",
      "metadata": {}
    },
    {
      "cell_type": "code",
      "source": "#Perform the addition operation and print result\na = 1\nb = 2\nprint('The sum of the numbers \"a\" and \"b\" is :',a + b)",
      "metadata": {
        "trusted": true
      },
      "outputs": [
        {
          "name": "stdout",
          "text": "The sum of the numbers \"a\" and \"b\" is : 3\n",
          "output_type": "stream"
        }
      ],
      "execution_count": 65
    },
    {
      "cell_type": "code",
      "source": "#Perform the addition operation and display its type (integer + integer)\na = 1\nb = 2\nprint('a + b =',a + b)\ntype(a + b)",
      "metadata": {
        "trusted": true
      },
      "outputs": [
        {
          "name": "stdout",
          "text": "a + b = 3\n",
          "output_type": "stream"
        },
        {
          "execution_count": 66,
          "output_type": "execute_result",
          "data": {
            "text/plain": "int"
          },
          "metadata": {}
        }
      ],
      "execution_count": 66
    },
    {
      "cell_type": "code",
      "source": "#Perform the addition operation and display its type (float + float)\na = 8.3\nb = 6.5\nprint('a + b =',a + b)\ntype(a + b)",
      "metadata": {
        "trusted": true
      },
      "outputs": [
        {
          "name": "stdout",
          "text": "a + b = 14.8\n",
          "output_type": "stream"
        },
        {
          "execution_count": 67,
          "output_type": "execute_result",
          "data": {
            "text/plain": "float"
          },
          "metadata": {}
        }
      ],
      "execution_count": 67
    },
    {
      "cell_type": "code",
      "source": "#Perform the addition operation and display its type (integer + float)\na = 5\nb = 1.9\nprint('a + b =',a + b)\ntype(a + b)",
      "metadata": {
        "trusted": true
      },
      "outputs": [
        {
          "name": "stdout",
          "text": "a + b = 6.9\n",
          "output_type": "stream"
        },
        {
          "execution_count": 68,
          "output_type": "execute_result",
          "data": {
            "text/plain": "float"
          },
          "metadata": {}
        }
      ],
      "execution_count": 68
    },
    {
      "cell_type": "code",
      "source": "#Perform the addition operation and display its type (string + string)\na ='1'\nb ='2'\nprint('The sum of the caracters \"a\" and \"b\" is :',a + b)\ntype(a + b)",
      "metadata": {
        "trusted": true
      },
      "outputs": [
        {
          "name": "stdout",
          "text": "The sum of the caracters \"a\" and \"b\" is : 12\n",
          "output_type": "stream"
        },
        {
          "execution_count": 69,
          "output_type": "execute_result",
          "data": {
            "text/plain": "str"
          },
          "metadata": {}
        }
      ],
      "execution_count": 69
    },
    {
      "cell_type": "code",
      "source": "#Perform the addition operation\na = 5\nb = 2.3\nc = 0.8\nd = 7\nprint('a + b + c + d =',a + b + c + d)",
      "metadata": {
        "trusted": true
      },
      "outputs": [
        {
          "name": "stdout",
          "text": "a + b + c + d = 15.1\n",
          "output_type": "stream"
        }
      ],
      "execution_count": 70
    },
    {
      "cell_type": "markdown",
      "source": "2. **Subtraction :**",
      "metadata": {}
    },
    {
      "cell_type": "code",
      "source": "#Perform the subtraction operation and print result\na = 5\nb = 2\nprint('The difference of the numbers \"a\" and \"b\" is :',a - b)",
      "metadata": {
        "trusted": true
      },
      "outputs": [
        {
          "name": "stdout",
          "text": "The difference of the numbers \"a\" and \"b\" is : 3\n",
          "output_type": "stream"
        }
      ],
      "execution_count": 71
    },
    {
      "cell_type": "code",
      "source": "#Perform the subtraction operation and display its type (integer + integer)\na = 5\nb = 2\nprint('a - b =',a - b)\ntype(a - b)",
      "metadata": {
        "trusted": true
      },
      "outputs": [
        {
          "name": "stdout",
          "text": "a - b = 3\n",
          "output_type": "stream"
        },
        {
          "execution_count": 72,
          "output_type": "execute_result",
          "data": {
            "text/plain": "int"
          },
          "metadata": {}
        }
      ],
      "execution_count": 72
    },
    {
      "cell_type": "code",
      "source": "#Perform the subtraction operation and display its type (integer + integer)\na = 6\nb = 9\nprint('a - b =',a - b)\ntype(a - b)",
      "metadata": {
        "trusted": true
      },
      "outputs": [
        {
          "name": "stdout",
          "text": "a - b = -3\n",
          "output_type": "stream"
        },
        {
          "execution_count": 73,
          "output_type": "execute_result",
          "data": {
            "text/plain": "int"
          },
          "metadata": {}
        }
      ],
      "execution_count": 73
    },
    {
      "cell_type": "code",
      "source": "#Perform the subtraction operation and display its type (float + foat)\na = 3.4\nb = 1.9\nprint('a - b =',a - b)\ntype(a - b)",
      "metadata": {
        "trusted": true
      },
      "outputs": [
        {
          "name": "stdout",
          "text": "a - b = 1.5\n",
          "output_type": "stream"
        },
        {
          "execution_count": 74,
          "output_type": "execute_result",
          "data": {
            "text/plain": "float"
          },
          "metadata": {}
        }
      ],
      "execution_count": 74
    },
    {
      "cell_type": "code",
      "source": "#Perform the subtraction operation and display its type (float + integer)\na = 5.2\nb = 7.9\nprint('a - b =',a - b)\ntype(a - b)",
      "metadata": {
        "trusted": true
      },
      "outputs": [
        {
          "name": "stdout",
          "text": "a - b = -2.7\n",
          "output_type": "stream"
        },
        {
          "execution_count": 75,
          "output_type": "execute_result",
          "data": {
            "text/plain": "float"
          },
          "metadata": {}
        }
      ],
      "execution_count": 75
    },
    {
      "cell_type": "code",
      "source": "#Perform the subtraction operation\na = 5.8\nb = 2\nc = 3.8\nd = 7\nprint('a - b - c - d =',a - b - c - d)",
      "metadata": {
        "trusted": true
      },
      "outputs": [
        {
          "name": "stdout",
          "text": "a - b - c - d = -7.0\n",
          "output_type": "stream"
        }
      ],
      "execution_count": 76
    },
    {
      "cell_type": "markdown",
      "source": "3. **Multiplication:**",
      "metadata": {}
    },
    {
      "cell_type": "code",
      "source": "#Perform the multiplication operation and print result\na = 3\nb = 5\nprint('The multiplication of the numbers \"a\" and \"b\" is :',a * b)",
      "metadata": {
        "trusted": true
      },
      "outputs": [
        {
          "name": "stdout",
          "text": "The multiplication of the numbers \"a\" and \"b\" is : 15\n",
          "output_type": "stream"
        }
      ],
      "execution_count": 77
    },
    {
      "cell_type": "code",
      "source": "#Perform the multiplication operation and display its type (integer + integer)\na = 3\nb = 5\nprint('a × b =',a * b)\ntype(a * b)",
      "metadata": {
        "trusted": true
      },
      "outputs": [
        {
          "name": "stdout",
          "text": "a × b = 15\n",
          "output_type": "stream"
        },
        {
          "execution_count": 81,
          "output_type": "execute_result",
          "data": {
            "text/plain": "int"
          },
          "metadata": {}
        }
      ],
      "execution_count": 81
    },
    {
      "cell_type": "code",
      "source": "#Perform the multiplication operation and display its type (integer + integer)\na = 2\nb = -4\nprint('a × b =',a * b)\ntype(a * b)",
      "metadata": {
        "trusted": true
      },
      "outputs": [
        {
          "name": "stdout",
          "text": "a × b = -8\n",
          "output_type": "stream"
        },
        {
          "execution_count": 82,
          "output_type": "execute_result",
          "data": {
            "text/plain": "int"
          },
          "metadata": {}
        }
      ],
      "execution_count": 82
    },
    {
      "cell_type": "code",
      "source": "#Perform the multiplication operation and display its type (float + float)\na = 7.8\nb = 2.4\nprint('a × b =',a * b)\ntype(a * b)",
      "metadata": {
        "trusted": true
      },
      "outputs": [
        {
          "name": "stdout",
          "text": "a × b = 18.72\n",
          "output_type": "stream"
        },
        {
          "execution_count": 83,
          "output_type": "execute_result",
          "data": {
            "text/plain": "float"
          },
          "metadata": {}
        }
      ],
      "execution_count": 83
    },
    {
      "cell_type": "code",
      "source": "#Perform the multiplication operation and display its type (integer + float)\na = -8\nb = -7.1\nprint('a × b =',a * b)\ntype(a * b)",
      "metadata": {
        "trusted": true
      },
      "outputs": [
        {
          "name": "stdout",
          "text": "a × b = 56.8\n",
          "output_type": "stream"
        },
        {
          "execution_count": 84,
          "output_type": "execute_result",
          "data": {
            "text/plain": "float"
          },
          "metadata": {}
        }
      ],
      "execution_count": 84
    },
    {
      "cell_type": "code",
      "source": "#Perform the multiplication operation and display its type (integer + string)\na = 3\nb = 'b'\nprint('3 × b =',a * b)\ntype(a * b)",
      "metadata": {
        "trusted": true
      },
      "outputs": [
        {
          "name": "stdout",
          "text": "3 × b = bbb\n",
          "output_type": "stream"
        },
        {
          "execution_count": 85,
          "output_type": "execute_result",
          "data": {
            "text/plain": "str"
          },
          "metadata": {}
        }
      ],
      "execution_count": 85
    },
    {
      "cell_type": "code",
      "source": "#Perform the multiplication operation\na = 4\nb = -1.3\nc = 0\nd = -7\nprint('a × b × c × d =',a * b * c * d)",
      "metadata": {
        "trusted": true
      },
      "outputs": [
        {
          "name": "stdout",
          "text": "a × b × c × d = 0.0\n",
          "output_type": "stream"
        }
      ],
      "execution_count": 86
    },
    {
      "cell_type": "markdown",
      "source": "4. **Division :**",
      "metadata": {}
    },
    {
      "cell_type": "code",
      "source": "#Perform the division operation and print result\na = 12\nb = 4\nprint('The division of the numbers \"a\" and \"b\" is :',a / b)",
      "metadata": {
        "trusted": true
      },
      "outputs": [
        {
          "name": "stdout",
          "text": "The division of the numbers \"a\" and \"b\" is : 3.0\n",
          "output_type": "stream"
        }
      ],
      "execution_count": 59
    },
    {
      "cell_type": "code",
      "source": "#Perform the division operation and display its type (integer + integer)\na = 12\nb = 4\nprint('a / b =',a / b)\ntype(a / b)",
      "metadata": {
        "trusted": true
      },
      "outputs": [
        {
          "name": "stdout",
          "text": "a / b = 3.0\n",
          "output_type": "stream"
        },
        {
          "execution_count": 60,
          "output_type": "execute_result",
          "data": {
            "text/plain": "float"
          },
          "metadata": {}
        }
      ],
      "execution_count": 60
    },
    {
      "cell_type": "code",
      "source": "#Perform the division operation and display its type (float + float)\na = 15.6\nb = 3.0\nprint('a / b =',a / b)\ntype(a / b)",
      "metadata": {
        "trusted": true
      },
      "outputs": [
        {
          "name": "stdout",
          "text": "a / b = 5.2\n",
          "output_type": "stream"
        },
        {
          "execution_count": 61,
          "output_type": "execute_result",
          "data": {
            "text/plain": "float"
          },
          "metadata": {}
        }
      ],
      "execution_count": 61
    },
    {
      "cell_type": "code",
      "source": "#Perform the division operation and display the the integer part\na = 15.6\nb = 3.0\nprint('a / b =',a // b)\ntype(a // b)",
      "metadata": {
        "trusted": true
      },
      "outputs": [
        {
          "name": "stdout",
          "text": "a / b = 5.0\n",
          "output_type": "stream"
        },
        {
          "execution_count": 64,
          "output_type": "execute_result",
          "data": {
            "text/plain": "float"
          },
          "metadata": {}
        }
      ],
      "execution_count": 64
    }
  ]
}