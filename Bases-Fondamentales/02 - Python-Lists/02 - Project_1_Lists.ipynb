{
  "metadata": {
    "kernelspec": {
      "name": "python",
      "display_name": "Python (Pyodide)",
      "language": "python"
    },
    "language_info": {
      "codemirror_mode": {
        "name": "python",
        "version": 3
      },
      "file_extension": ".py",
      "mimetype": "text/x-python",
      "name": "python",
      "nbconvert_exporter": "python",
      "pygments_lexer": "ipython3",
      "version": "3.8"
    }
  },
  "nbformat_minor": 4,
  "nbformat": 4,
  "cells": [
    {
      "cell_type": "markdown",
      "source": "# ***Project : List***",
      "metadata": {}
    },
    {
      "cell_type": "markdown",
      "source": "## **Scenario : To do-list**",
      "metadata": {}
    },
    {
      "cell_type": "markdown",
      "source": "1. **Task 1 : Create a list**",
      "metadata": {}
    },
    {
      "cell_type": "markdown",
      "source": "Create an empty list \"do_list\" for storing tasks to do during the day",
      "metadata": {}
    },
    {
      "cell_type": "code",
      "source": "do_list = []",
      "metadata": {
        "trusted": true
      },
      "outputs": [],
      "execution_count": 6
    },
    {
      "cell_type": "markdown",
      "source": "2. **Task 2 : Store the tasks to be done in the \"do_list\"**\n   + **wake up**\n   + **Breakfast**\n   + **Emails**\n   + **University**\n   + **Shopping**\n   + **Gym**\n   + **Read a book**",
      "metadata": {}
    },
    {
      "cell_type": "code",
      "source": "do_list = ['wake up','Breakfast','Emails','University','Shopping','Gym','Read a book']",
      "metadata": {
        "trusted": true
      },
      "outputs": [],
      "execution_count": 7
    },
    {
      "cell_type": "markdown",
      "source": "3. **Task 3 : Add a new task to the do_list**\n   + Add \"Skiing\" to the do_list.",
      "metadata": {}
    },
    {
      "cell_type": "code",
      "source": "do_list.append('Skiing')\n# Or\n#do_list.extend(['Skiing'])",
      "metadata": {
        "trusted": true
      },
      "outputs": [],
      "execution_count": 20
    },
    {
      "cell_type": "code",
      "source": "do_list",
      "metadata": {
        "trusted": true
      },
      "outputs": [
        {
          "execution_count": 25,
          "output_type": "execute_result",
          "data": {
            "text/plain": "['wake up',\n 'Breakfast',\n 'Emails',\n 'University',\n 'Shopping',\n 'Gym',\n 'Read a book',\n 'Skiing']"
          },
          "metadata": {}
        }
      ],
      "execution_count": 25
    },
    {
      "cell_type": "markdown",
      "source": "4. **Task 4 : Print First task from the do_list**",
      "metadata": {}
    },
    {
      "cell_type": "code",
      "source": "print(f'The first task from the \"do_list\" is : {do_list[0]}')",
      "metadata": {
        "trusted": true
      },
      "outputs": [
        {
          "name": "stdout",
          "text": "The first task from the \"do_list\" is : wake up\n",
          "output_type": "stream"
        }
      ],
      "execution_count": 27
    },
    {
      "cell_type": "code",
      "source": "# Or\nprint('The first task from the \"do_list\" is :', do_list[0])",
      "metadata": {
        "trusted": true
      },
      "outputs": [
        {
          "name": "stdout",
          "text": "The first task from the \"do_list\" is : wake up\n",
          "output_type": "stream"
        }
      ],
      "execution_count": 28
    },
    {
      "cell_type": "markdown",
      "source": "5. **Task 5 : Print Last task from the do_list**",
      "metadata": {}
    },
    {
      "cell_type": "code",
      "source": "print(f'The last task from the \"do_list\" is : {do_list[-1]}')",
      "metadata": {
        "trusted": true
      },
      "outputs": [
        {
          "name": "stdout",
          "text": "The last task from the \"do_list\" is : Skiing\n",
          "output_type": "stream"
        }
      ],
      "execution_count": 29
    },
    {
      "cell_type": "code",
      "source": "# Or\nprint('The lest task from the \"do_list\" is :', do_list[7])",
      "metadata": {
        "trusted": true
      },
      "outputs": [
        {
          "name": "stdout",
          "text": "The lest task from the \"do_list\" is : Skiing\n",
          "output_type": "stream"
        }
      ],
      "execution_count": 30
    },
    {
      "cell_type": "markdown",
      "source": "6. **Task 6 : Print the entire do_list**",
      "metadata": {}
    },
    {
      "cell_type": "code",
      "source": "print(do_list)",
      "metadata": {
        "trusted": true
      },
      "outputs": [
        {
          "name": "stdout",
          "text": "['wake up', 'Breakfast', 'Emails', 'University', 'Shopping', 'Gym', 'Read a book', 'Skiing']\n",
          "output_type": "stream"
        }
      ],
      "execution_count": 31
    },
    {
      "cell_type": "markdown",
      "source": "7. **Task 7 : Print the task that are important to do from the do_list**",
      "metadata": {}
    },
    {
      "cell_type": "markdown",
      "source": "Print \"Emails\" and \"University\"",
      "metadata": {}
    },
    {
      "cell_type": "code",
      "source": "print(f'The task that are important to do : {do_list[2]} and {do_list[3]}')",
      "metadata": {
        "trusted": true
      },
      "outputs": [
        {
          "name": "stdout",
          "text": "The task that are important to do : Emails and University\n",
          "output_type": "stream"
        }
      ],
      "execution_count": 33
    },
    {
      "cell_type": "code",
      "source": "print('The task that are important to do :', do_list[2], 'and' , do_list[3])",
      "metadata": {
        "trusted": true
      },
      "outputs": [
        {
          "name": "stdout",
          "text": "The task that are important to do : Emails and University\n",
          "output_type": "stream"
        }
      ],
      "execution_count": 34
    },
    {
      "cell_type": "markdown",
      "source": "8. **Task 8 : Change the task from the do_list**",
      "metadata": {}
    },
    {
      "cell_type": "markdown",
      "source": "Instead of \"Shopping\" I'll go to \"Museum\".\n\n",
      "metadata": {}
    },
    {
      "cell_type": "code",
      "source": "do_list[4] = \"Museum\"\ndo_list",
      "metadata": {
        "trusted": true
      },
      "outputs": [
        {
          "execution_count": 36,
          "output_type": "execute_result",
          "data": {
            "text/plain": "['wake up',\n 'Breakfast',\n 'Emails',\n 'University',\n 'Museum',\n 'Gym',\n 'Read a book',\n 'Skiing']"
          },
          "metadata": {}
        }
      ],
      "execution_count": 36
    },
    {
      "cell_type": "markdown",
      "source": "9. **Task 9 : Delete the task from the do_list**",
      "metadata": {}
    },
    {
      "cell_type": "markdown",
      "source": "Let's delete items that are unimportant, such as; I don't want to eat breakfast, let's delete it.",
      "metadata": {}
    },
    {
      "cell_type": "code",
      "source": "del(do_list[1])",
      "metadata": {
        "trusted": true
      },
      "outputs": [],
      "execution_count": 38
    },
    {
      "cell_type": "markdown",
      "source": "10. **Task 10 : Print the final do_list**",
      "metadata": {}
    },
    {
      "cell_type": "code",
      "source": "print('The final do_list :',do_list)",
      "metadata": {
        "trusted": true
      },
      "outputs": [
        {
          "name": "stdout",
          "text": "The final do_list : ['wake up', 'Emails', 'University', 'Museum', 'Gym', 'Read a book', 'Skiing']\n",
          "output_type": "stream"
        }
      ],
      "execution_count": 40
    },
    {
      "cell_type": "code",
      "source": "print(f'The final do_list : {do_list}')",
      "metadata": {
        "trusted": true
      },
      "outputs": [
        {
          "name": "stdout",
          "text": "The final do_list : ['wake up', 'Emails', 'University', 'Museum', 'Gym', 'Read a book', 'Skiing']\n",
          "output_type": "stream"
        }
      ],
      "execution_count": 41
    }
  ]
}