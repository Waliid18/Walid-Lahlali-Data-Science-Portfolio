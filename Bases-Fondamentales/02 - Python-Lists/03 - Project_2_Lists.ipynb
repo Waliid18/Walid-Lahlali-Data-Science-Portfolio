{
  "metadata": {
    "kernelspec": {
      "name": "python",
      "display_name": "Python (Pyodide)",
      "language": "python"
    },
    "language_info": {
      "codemirror_mode": {
        "name": "python",
        "version": 3
      },
      "file_extension": ".py",
      "mimetype": "text/x-python",
      "name": "python",
      "nbconvert_exporter": "python",
      "pygments_lexer": "ipython3",
      "version": "3.8"
    }
  },
  "nbformat_minor": 4,
  "nbformat": 4,
  "cells": [
    {
      "cell_type": "markdown",
      "source": "# ***Project 2 : Lists***",
      "metadata": {}
    },
    {
      "cell_type": "markdown",
      "source": "## **objectif**\n### **Le principal objectif de cet articles est de :**\n\n#### **Savoir utiliser les listes sous Python**",
      "metadata": {}
    },
    {
      "cell_type": "markdown",
      "source": "**Exercice 1 : Commencement**\n\nÉcrire un programme qui créé une liste d’au moins 5 entiers puis successivement :\n1. Affiche la valeur de L[4].",
      "metadata": {}
    },
    {
      "cell_type": "code",
      "source": "L = [18,1,93,12,7]\nprint('La valeur de L[4] est :',L[4])",
      "metadata": {
        "trusted": true
      },
      "outputs": [
        {
          "name": "stdout",
          "text": "La valeur de L[4] est : 7\n",
          "output_type": "stream"
        }
      ],
      "execution_count": 2
    },
    {
      "cell_type": "markdown",
      "source": "2. Modifie la liste en remplaçant L[1] par 17 et L[3] par la somme des cases voisines L[2] et L[4].",
      "metadata": {}
    },
    {
      "cell_type": "code",
      "source": "L[1] = 17\nL[3] = L[2] + L[4]\nL",
      "metadata": {
        "trusted": true
      },
      "outputs": [
        {
          "execution_count": 3,
          "output_type": "execute_result",
          "data": {
            "text/plain": "[18, 17, 93, 100, 7]"
          },
          "metadata": {}
        }
      ],
      "execution_count": 3
    },
    {
      "cell_type": "markdown",
      "source": "3. Affiche 12 fois la valeur du dernier terme de la liste.",
      "metadata": {}
    },
    {
      "cell_type": "code",
      "source": "for i in range (0,12):\n    print(L[-1])\n",
      "metadata": {
        "trusted": true
      },
      "outputs": [
        {
          "name": "stdout",
          "text": "7\n7\n7\n7\n7\n7\n7\n7\n7\n7\n7\n7\n",
          "output_type": "stream"
        }
      ],
      "execution_count": 8
    },
    {
      "cell_type": "code",
      "source": "Exercice 3 : Parcours de liste\nÉcrire un programme qui crée une liste d’entiers, puis à l’aide de parcours successifs de la liste effectue les actions suivantes\n\n1. Affiche la liste en colonne",
      "metadata": {
        "trusted": true
      },
      "outputs": [],
      "execution_count": null
    }
  ]
}