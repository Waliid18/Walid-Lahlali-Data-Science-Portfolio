{
  "metadata": {
    "kernelspec": {
      "name": "python",
      "display_name": "Python (Pyodide)",
      "language": "python"
    },
    "language_info": {
      "codemirror_mode": {
        "name": "python",
        "version": 3
      },
      "file_extension": ".py",
      "mimetype": "text/x-python",
      "name": "python",
      "nbconvert_exporter": "python",
      "pygments_lexer": "ipython3",
      "version": "3.8"
    }
  },
  "nbformat_minor": 4,
  "nbformat": 4,
  "cells": [
    {
      "cell_type": "markdown",
      "source": "# ***Project 3 : Lists***",
      "metadata": {}
    },
    {
      "cell_type": "markdown",
      "source": "## **objectif**\n### **Le principal objectif de cet article est de :**\n\n#### **Savoir utiliser les listes sous Python**",
      "metadata": {}
    },
    {
      "cell_type": "markdown",
      "source": "Écrire un programme qui crée une liste d’entiers, puis à l’aide de parcours successifs de la liste effectue les actions suivantes:\n\n1. Affiche la liste en colonne",
      "metadata": {}
    },
    {
      "cell_type": "code",
      "source": "# 1ère méthode\nlist = [18,11,3,1,12,7,10]\nfor i in range (0,7):\n    print('La colonne N° :',i,'est :',list[i])",
      "metadata": {
        "trusted": true
      },
      "outputs": [
        {
          "name": "stdout",
          "text": "La colonne N° : 0 est : 18\nLa colonne N° : 1 est : 11\nLa colonne N° : 2 est : 3\nLa colonne N° : 3 est : 1\nLa colonne N° : 4 est : 12\nLa colonne N° : 5 est : 7\nLa colonne N° : 6 est : 10\n",
          "output_type": "stream"
        }
      ],
      "execution_count": 3
    },
    {
      "cell_type": "code",
      "source": "# 2ème méthode \nlist = [18,11,3,1,12,7,10]\nfor i in range(7):\n     print('La colonne N° :',i,'est :',list[i])",
      "metadata": {
        "trusted": true
      },
      "outputs": [
        {
          "name": "stdout",
          "text": "La colonne N° : 0 est : 18\nLa colonne N° : 1 est : 11\nLa colonne N° : 2 est : 3\nLa colonne N° : 3 est : 1\nLa colonne N° : 4 est : 12\nLa colonne N° : 5 est : 7\nLa colonne N° : 6 est : 10\n",
          "output_type": "stream"
        }
      ],
      "execution_count": 8
    },
    {
      "cell_type": "code",
      "source": "# 3ème méthode \nlist = [18,11,3,1,12,7,10]\nLongueur = len (list)\nfor i in range(Longueur):\n     print('La colonne N° :',i,'est :',list[i])",
      "metadata": {
        "trusted": true
      },
      "outputs": [
        {
          "name": "stdout",
          "text": "La colonne N° : 0 est : 18\nLa colonne N° : 1 est : 11\nLa colonne N° : 2 est : 3\nLa colonne N° : 3 est : 1\nLa colonne N° : 4 est : 12\nLa colonne N° : 5 est : 7\nLa colonne N° : 6 est : 10\n",
          "output_type": "stream"
        }
      ],
      "execution_count": 9
    },
    {
      "cell_type": "markdown",
      "source": "2. Compte le nombre de multiples de 3 présents dans la liste",
      "metadata": {}
    },
    {
      "cell_type": "code",
      "source": "list = [18,11,3,1,12,7,10]\nLongueur = len(list)\nj = 0 # le compteur\nfor i in range (Longueur):\n     if list[i] %3 == 0 :\n         j = j + 1\nprint('Le nombre de multiple de 3 présente dans la liste est :', j)\n         ",
      "metadata": {
        "trusted": true
      },
      "outputs": [
        {
          "name": "stdout",
          "text": "Le nombre de multiple de 3 présente dans la liste est : 3\n",
          "output_type": "stream"
        }
      ],
      "execution_count": 20
    },
    {
      "cell_type": "markdown",
      "source": "3. Compte le nombre de multiples de 5 présents dans la liste",
      "metadata": {}
    },
    {
      "cell_type": "code",
      "source": "j = 0\nfor i in range (Longueur) :\n    if list[i] % 5 == 0 :\n        j = j + 1\nprint('Le nombre de multiple de 3 présente dans la liste est :', j)",
      "metadata": {
        "trusted": true
      },
      "outputs": [
        {
          "name": "stdout",
          "text": "Le nombre de multiple de 3 présente dans la liste est : 1\n",
          "output_type": "stream"
        }
      ],
      "execution_count": 28
    },
    {
      "cell_type": "markdown",
      "source": "4. Calcule la somme de toutes les valeurs paires de la liste",
      "metadata": {}
    },
    {
      "cell_type": "code",
      "source": "somme = 0\nfor i in range (Longueur) :\n    somme = list[i] + somme\nprint('La somme de toutes les valeurs de la liste est :',somme)",
      "metadata": {
        "trusted": true
      },
      "outputs": [
        {
          "name": "stdout",
          "text": "La somme de toutes les valeurs de la liste est : 62\n",
          "output_type": "stream"
        }
      ],
      "execution_count": 30
    },
    {
      "cell_type": "markdown",
      "source": "5. Calcule la somme de toutes les valeurs paires de la liste",
      "metadata": {}
    },
    {
      "cell_type": "code",
      "source": "somme = 0\nfor i in range (Longueur) :\n    if list[i] % 2 == 0 :\n        somme = list[i] + somme\nprint('La somme de toutes les valeurs paires de la liste est :',somme)",
      "metadata": {
        "trusted": true
      },
      "outputs": [
        {
          "name": "stdout",
          "text": "La somme de toutes les valeurs paires de la liste est : 40\n",
          "output_type": "stream"
        }
      ],
      "execution_count": 31
    },
    {
      "cell_type": "markdown",
      "source": "5. Calcule la somme de toutes les valeurs impaires de la liste",
      "metadata": {}
    },
    {
      "cell_type": "code",
      "source": "somme = 0\nfor i in range (Longueur) :\n    if list[i] % 2 != 0 :\n        somme = list[i] + somme\nprint('La somme de toutes les valeurs paires de la liste est :',somme)",
      "metadata": {
        "trusted": true
      },
      "outputs": [
        {
          "name": "stdout",
          "text": "La somme de toutes les valeurs paires de la liste est : 22\n",
          "output_type": "stream"
        }
      ],
      "execution_count": 32
    },
    {
      "cell_type": "markdown",
      "source": "6. Calcule le maximum et le minimum des éléments de la liste",
      "metadata": {}
    },
    {
      "cell_type": "code",
      "source": "# Calculons le maximum de la liste\n\nmax = list[0]\nfor i in range (Longueur) :\n    if list[i] >= max :\n        max = list[i]\nprint('Le maximum des éléments de la liste est :',max)\n\n# Calculons le minimum de la liste\n\nmin = list[0]\nfor i in range (Longueur) :\n    if list[i] <= min :\n        min = list[i]\nprint('Le minimum des éléments de la liste est :',min)\n\n",
      "metadata": {
        "trusted": true
      },
      "outputs": [
        {
          "name": "stdout",
          "text": "Le maximum des éléments de la liste est : 18\nLe minimum des éléments de la liste est : 1\n",
          "output_type": "stream"
        }
      ],
      "execution_count": 34
    },
    {
      "cell_type": "markdown",
      "source": "7. Créer un booléen vraie si la moyenne arithmétique des valeurs de la liste est supérieure ou égale à 10",
      "metadata": {}
    },
    {
      "cell_type": "code",
      "source": "somme = 0\nfor i in range (Longueur) :\n    somme = list[i] + somme\n#print('La somme de toutes les valeurs de la liste est :',somme)\n#print('Le nombre des éléments de la liste est :', Longueur)\nmoyenne_arithmétique = somme/Longueur\n#print('Donc la moyenne arithmétique des valeurs de la liste est :', moyenne_arithmétique)\nif moyenne_arithmétique > 10 :\n    print (\"La moyenne arithmétique est supérieure ou égale à 10\")\nelse :\n    print (\"La moyenne arithmétique est inférieure ou égale à 10\")",
      "metadata": {
        "trusted": true
      },
      "outputs": [
        {
          "name": "stdout",
          "text": "La moyenne arithmétique est inférieure ou égale à 10\n",
          "output_type": "stream"
        }
      ],
      "execution_count": 44
    },
    {
      "cell_type": "markdown",
      "source": "8. Créer le produit de toutes les valeurs de la liste",
      "metadata": {}
    },
    {
      "cell_type": "code",
      "source": "produit = 1\nfor i in range (Longueur) :\n    produit = list[i]*produit\nprint('Le produit de toutes les valeurs de la liste est :',produit)",
      "metadata": {
        "trusted": true
      },
      "outputs": [
        {
          "name": "stdout",
          "text": "Le produit de toutes les valeurs de la liste est : 498960\n",
          "output_type": "stream"
        }
      ],
      "execution_count": 47
    },
    {
      "cell_type": "markdown",
      "source": "9. Créer le produit de toutes les valeurs de la liste comprise dans l’intervalle [3, 15]",
      "metadata": {}
    },
    {
      "cell_type": "code",
      "source": "p = 1\nfor i in range (Longueur) :\n    if 3 <=list[i]<= 15 :\n        p = list[i]*p\nprint('Le produit de toutes les valeurs de la liste comprise dans l’intervalle [3, 15] est :',p)",
      "metadata": {
        "trusted": true
      },
      "outputs": [
        {
          "name": "stdout",
          "text": "Le produit de toutes les valeurs de la liste comprise dans l’intervalle [3, 15] est : 27720\n",
          "output_type": "stream"
        }
      ],
      "execution_count": 51
    },
    {
      "cell_type": "markdown",
      "source": "10. Affiche la liste à l’envers (sans créer de nouvelle liste)",
      "metadata": {}
    },
    {
      "cell_type": "code",
      "source": "for i in range (Longueur) :\n    print (list[Longueur-1-i])",
      "metadata": {
        "trusted": true
      },
      "outputs": [
        {
          "name": "stdout",
          "text": "10\n7\n12\n1\n3\n11\n18\n",
          "output_type": "stream"
        }
      ],
      "execution_count": 66
    }
  ]
}