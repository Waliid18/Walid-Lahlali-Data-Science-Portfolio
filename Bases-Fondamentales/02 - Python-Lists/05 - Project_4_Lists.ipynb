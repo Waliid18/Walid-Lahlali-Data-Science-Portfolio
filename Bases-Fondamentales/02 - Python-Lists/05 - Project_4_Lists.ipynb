{
  "metadata": {
    "kernelspec": {
      "name": "python",
      "display_name": "Python (Pyodide)",
      "language": "python"
    },
    "language_info": {
      "codemirror_mode": {
        "name": "python",
        "version": 3
      },
      "file_extension": ".py",
      "mimetype": "text/x-python",
      "name": "python",
      "nbconvert_exporter": "python",
      "pygments_lexer": "ipython3",
      "version": "3.8"
    }
  },
  "nbformat_minor": 4,
  "nbformat": 4,
  "cells": [
    {
      "cell_type": "markdown",
      "source": "# ***Project 4 : Lists***",
      "metadata": {}
    },
    {
      "cell_type": "markdown",
      "source": "## **objectif**\n### **Le principal objectif de cet article est de :**\n\n#### **Savoir utiliser les listes sous Python**",
      "metadata": {}
    },
    {
      "cell_type": "markdown",
      "source": "Écrire un programme qui crée la liste d’entiers qui effectue successivement les actions suivantes :\n\n1. Modifie la liste en augmentant de 1 la valeur de chaque élément de la liste",
      "metadata": {}
    },
    {
      "cell_type": "code",
      "source": "list = [11,97,18,93]\nprint('La liste initiale :',list)\nLongueur = len (list)\nfor i in range (Longueur):\n    list[i] = list[i] + 1\nprint(\"La nouvelle liste après l'ajout de 1 à chaque élément :\",list)",
      "metadata": {
        "trusted": true
      },
      "outputs": [
        {
          "name": "stdout",
          "text": "La liste initiale : [11, 97, 18, 93]\nLa nouvelle liste après l'ajout de 1 à chaque élément : [12, 98, 19, 94]\n",
          "output_type": "stream"
        }
      ],
      "execution_count": 21
    },
    {
      "cell_type": "markdown",
      "source": "2. Modifie la liste par permutation circulaire",
      "metadata": {}
    },
    {
      "cell_type": "code",
      "source": "list = [11,97,18,93]\nLongueur = len (list)\na = list[0]\nfor i in range (1,Longueur):\n    list[i-1] = list[i]\nlist [Longueur-1] = a\nprint('La liste après la permutation circulaire :',list)",
      "metadata": {
        "trusted": true
      },
      "outputs": [
        {
          "name": "stdout",
          "text": "La liste après la permutation circulaire : [97, 18, 93, 11]\n",
          "output_type": "stream"
        }
      ],
      "execution_count": 37
    }
  ]
}