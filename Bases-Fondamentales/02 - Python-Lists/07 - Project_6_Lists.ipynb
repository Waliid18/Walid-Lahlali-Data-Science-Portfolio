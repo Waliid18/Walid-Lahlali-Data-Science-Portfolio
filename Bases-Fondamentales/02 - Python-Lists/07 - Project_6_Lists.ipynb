{
 "cells": [
  {
   "cell_type": "code",
   "execution_count": 6,
   "id": "099506f8",
   "metadata": {},
   "outputs": [
    {
     "name": "stdout",
     "output_type": "stream",
     "text": [
      "Entrer le nombre des éléments :3\n",
      "Entrer l'élément  0  de la liste :\n",
      "1\n",
      "Entrer l'élément  1  de la liste :\n",
      "9\n",
      "Entrer l'élément  2  de la liste :\n",
      "3\n",
      "Le contenu de la liste :\n",
      "1\n",
      "9\n",
      "3\n"
     ]
    }
   ],
   "source": [
    "list = []\n",
    "Longueur = int(input('Entrer le nombre des éléments :'))\n",
    "\n",
    "for i in range (Longueur):\n",
    "    print (\"Entrer l'élément \",i,\" de la liste :\")\n",
    "    x = int(input())\n",
    "    list.append(x)\n",
    "    \n",
    "print (\"Le contenu de la liste :\")\n",
    "for j in range (Longueur):\n",
    "    print (list[j])"
   ]
  }
 ],
 "metadata": {
  "kernelspec": {
   "display_name": "Python 3 (ipykernel)",
   "language": "python",
   "name": "python3"
  },
  "language_info": {
   "codemirror_mode": {
    "name": "ipython",
    "version": 3
   },
   "file_extension": ".py",
   "mimetype": "text/x-python",
   "name": "python",
   "nbconvert_exporter": "python",
   "pygments_lexer": "ipython3",
   "version": "3.11.5"
  }
 },
 "nbformat": 4,
 "nbformat_minor": 5
}
