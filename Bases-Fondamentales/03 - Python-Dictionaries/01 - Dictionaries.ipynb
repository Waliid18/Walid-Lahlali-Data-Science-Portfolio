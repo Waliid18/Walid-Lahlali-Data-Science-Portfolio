{
  "metadata": {
    "kernelspec": {
      "name": "python",
      "display_name": "Python (Pyodide)",
      "language": "python"
    },
    "language_info": {
      "codemirror_mode": {
        "name": "python",
        "version": 3
      },
      "file_extension": ".py",
      "mimetype": "text/x-python",
      "name": "python",
      "nbconvert_exporter": "python",
      "pygments_lexer": "ipython3",
      "version": "3.8"
    }
  },
  "nbformat_minor": 4,
  "nbformat": 4,
  "cells": [
    {
      "cell_type": "markdown",
      "source": "# ***Dictionaries***",
      "metadata": {}
    },
    {
      "cell_type": "markdown",
      "source": "1. **Create a Dictionary :**",
      "metadata": {}
    },
    {
      "cell_type": "markdown",
      "source": "+ **Example 1 :**",
      "metadata": {}
    },
    {
      "cell_type": "code",
      "source": "dictionnaire = { \"Key 1\" : \"value 1\" , \"Key 2\" : \"value 2\" , \"Key 3\" : \"value 3\" }\ndictionnaire",
      "metadata": {
        "trusted": true
      },
      "outputs": [
        {
          "execution_count": 30,
          "output_type": "execute_result",
          "data": {
            "text/plain": "{'Key 1': 'value 1', 'Key 2': 'value 2', 'Key 3': 'value 3'}"
          },
          "metadata": {}
        }
      ],
      "execution_count": 30
    },
    {
      "cell_type": "markdown",
      "source": "+ **Example 2 :**",
      "metadata": {}
    },
    {
      "cell_type": "code",
      "source": "Dictionnaire = { \"Afrique\" : 987 , \"Asie\" : 4075 , \"Europe\" : 731 , \"South America\" : 579 , \"North America\" : 342 }\nDictionnaire",
      "metadata": {
        "trusted": true
      },
      "outputs": [
        {
          "execution_count": 31,
          "output_type": "execute_result",
          "data": {
            "text/plain": "{'Afrique': 987,\n 'Asie': 4075,\n 'Europe': 731,\n 'South America': 579,\n 'North America': 342}"
          },
          "metadata": {}
        }
      ],
      "execution_count": 31
    },
    {
      "cell_type": "markdown",
      "source": "2. **Access the elements :**",
      "metadata": {}
    },
    {
      "cell_type": "markdown",
      "source": "Access to the value by the key",
      "metadata": {}
    },
    {
      "cell_type": "markdown",
      "source": "+ **Example 1 :**",
      "metadata": {}
    },
    {
      "cell_type": "code",
      "source": "# Access to the value 1 by the key 1\ndictionnaire = { \"Key 1\" : \"value 1\" , \"Key 2\" : \"value 2\" , \"Key 3\" : \"value 3\" }\ndictionnaire [\"Key 1\"]",
      "metadata": {
        "trusted": true
      },
      "outputs": [
        {
          "execution_count": 32,
          "output_type": "execute_result",
          "data": {
            "text/plain": "'value 1'"
          },
          "metadata": {}
        }
      ],
      "execution_count": 32
    },
    {
      "cell_type": "markdown",
      "source": "+ **Example 2 :**",
      "metadata": {}
    },
    {
      "cell_type": "code",
      "source": "# Access to the value 3 by the key 3\nDictionnaire = { \"Afrique\" : 987 , \"Asie\" : 4075 , \"Europe\" : 731 , \"South America\" : 579 , \"North America\" : 342 }\nDictionnaire [\"North America\"]",
      "metadata": {
        "trusted": true
      },
      "outputs": [
        {
          "execution_count": 33,
          "output_type": "execute_result",
          "data": {
            "text/plain": "342"
          },
          "metadata": {}
        }
      ],
      "execution_count": 33
    },
    {
      "cell_type": "markdown",
      "source": "3. **Keys :**",
      "metadata": {}
    },
    {
      "cell_type": "markdown",
      "source": "Let us retrieve all the keys of the dictionary using the method **keys()**",
      "metadata": {}
    },
    {
      "cell_type": "markdown",
      "source": "+ **Example 1 :**",
      "metadata": {}
    },
    {
      "cell_type": "code",
      "source": "# Get all the keys in dictionary \"dictionnaire\"\ndictionnaire = { \"Key 1\" : \"value 1\" , \"Key 2\" : \"value 2\" , \"Key 3\" : \"value 3\" }\ndictionnaire.keys()",
      "metadata": {
        "trusted": true
      },
      "outputs": [
        {
          "execution_count": 34,
          "output_type": "execute_result",
          "data": {
            "text/plain": "dict_keys(['Key 1', 'Key 2', 'Key 3'])"
          },
          "metadata": {}
        }
      ],
      "execution_count": 34
    },
    {
      "cell_type": "code",
      "source": "# Get all the keys in dictionary \"Dictionnaire\"\nDictionnaire = { \"Afrique\" : 987 , \"Asie\" : 4075 , \"Europe\" : 731 , \"South America\" : 579 , \"North America\" : 342 }\nDictionnaire.keys()",
      "metadata": {
        "trusted": true
      },
      "outputs": [
        {
          "execution_count": 35,
          "output_type": "execute_result",
          "data": {
            "text/plain": "dict_keys(['Afrique', 'Asie', 'Europe', 'South America', 'North America'])"
          },
          "metadata": {}
        }
      ],
      "execution_count": 35
    },
    {
      "cell_type": "markdown",
      "source": "4. **Values :**",
      "metadata": {}
    },
    {
      "cell_type": "markdown",
      "source": "Let us retrieve all the values of the dictionary using the method values()",
      "metadata": {}
    },
    {
      "cell_type": "markdown",
      "source": "+ **Example 1 :**",
      "metadata": {}
    },
    {
      "cell_type": "code",
      "source": "# Get all the values in dictionary \"dictionnaire\"\ndictionnaire = { \"Key 1\" : \"value 1\" , \"Key 2\" : \"value 2\" , \"Key 3\" : \"value 3\" }\ndictionnaire.values()",
      "metadata": {
        "trusted": true
      },
      "outputs": [
        {
          "execution_count": 36,
          "output_type": "execute_result",
          "data": {
            "text/plain": "dict_values(['value 1', 'value 2', 'value 3'])"
          },
          "metadata": {}
        }
      ],
      "execution_count": 36
    },
    {
      "cell_type": "markdown",
      "source": "+ **Example 2 :**",
      "metadata": {}
    },
    {
      "cell_type": "code",
      "source": "# Get all the values in dictionary \"dictionnaire\"\nDictionnaire = { \"Afrique\" : 987 , \"Asie\" : 4075 , \"Europe\" : 731 , \"South America\" : 579 , \"North America\" : 342 }\nDictionnaire.values()",
      "metadata": {
        "trusted": true
      },
      "outputs": [
        {
          "execution_count": 37,
          "output_type": "execute_result",
          "data": {
            "text/plain": "dict_values([987, 4075, 731, 579, 342])"
          },
          "metadata": {}
        }
      ],
      "execution_count": 37
    },
    {
      "cell_type": "markdown",
      "source": "5. **Append :**",
      "metadata": {}
    },
    {
      "cell_type": "markdown",
      "source": "We can add an entry",
      "metadata": {}
    },
    {
      "cell_type": "code",
      "source": "Dictionnaire = { \"Afrique\" : 987 , \"Asie\" : 4075 , \"Europe\" : 731 , \"South America\" : 579 , \"North America\" : 342 }\n# Add value 4 to a key Antarctica\nDictionnaire [\"Antarctica\"] = 4\n# print Dictionnaire\nDictionnaire",
      "metadata": {
        "trusted": true
      },
      "outputs": [
        {
          "execution_count": 38,
          "output_type": "execute_result",
          "data": {
            "text/plain": "{'Afrique': 987,\n 'Asie': 4075,\n 'Europe': 731,\n 'South America': 579,\n 'North America': 342,\n 'Antarctica': 4}"
          },
          "metadata": {}
        }
      ],
      "execution_count": 38
    },
    {
      "cell_type": "markdown",
      "source": "6. **Delete :**",
      "metadata": {}
    },
    {
      "cell_type": "markdown",
      "source": "We can delete an entry",
      "metadata": {}
    },
    {
      "cell_type": "code",
      "source": "del (Dictionnaire[\"Asie\"])\nDictionnaire",
      "metadata": {
        "trusted": true
      },
      "outputs": [
        {
          "execution_count": 39,
          "output_type": "execute_result",
          "data": {
            "text/plain": "{'Afrique': 987,\n 'Europe': 731,\n 'South America': 579,\n 'North America': 342,\n 'Antarctica': 4}"
          },
          "metadata": {}
        }
      ],
      "execution_count": 39
    },
    {
      "cell_type": "markdown",
      "source": "We can verify if an element is in the dictionary:",
      "metadata": {}
    },
    {
      "cell_type": "markdown",
      "source": "+ **Example 1 :**",
      "metadata": {}
    },
    {
      "cell_type": "code",
      "source": "\"North America\" in Dictionnaire",
      "metadata": {
        "trusted": true
      },
      "outputs": [
        {
          "execution_count": 40,
          "output_type": "execute_result",
          "data": {
            "text/plain": "True"
          },
          "metadata": {}
        }
      ],
      "execution_count": 40
    },
    {
      "cell_type": "markdown",
      "source": "+ **Example 2 :**",
      "metadata": {}
    },
    {
      "cell_type": "code",
      "source": "\"Asie\" in Dictionnaire",
      "metadata": {
        "trusted": true
      },
      "outputs": [
        {
          "execution_count": 41,
          "output_type": "execute_result",
          "data": {
            "text/plain": "False"
          },
          "metadata": {}
        }
      ],
      "execution_count": 41
    }
  ]
}