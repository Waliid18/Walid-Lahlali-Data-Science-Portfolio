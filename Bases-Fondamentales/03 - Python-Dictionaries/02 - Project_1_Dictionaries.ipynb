{
  "metadata": {
    "kernelspec": {
      "name": "python",
      "display_name": "Python (Pyodide)",
      "language": "python"
    },
    "language_info": {
      "codemirror_mode": {
        "name": "python",
        "version": 3
      },
      "file_extension": ".py",
      "mimetype": "text/x-python",
      "name": "python",
      "nbconvert_exporter": "python",
      "pygments_lexer": "ipython3",
      "version": "3.8"
    }
  },
  "nbformat_minor": 4,
  "nbformat": 4,
  "cells": [
    {
      "cell_type": "markdown",
      "source": "# ***Project : Dictionaries***",
      "metadata": {}
    },
    {
      "cell_type": "markdown",
      "source": "We consider the following dictionary:",
      "metadata": {}
    },
    {
      "cell_type": "code",
      "source": "Real_madrid_dict = {\"Champions League 1\": 1956, \"Champions League 2\": 1957,\n                    \"Champions League 3\": 1958, \"Champions League 4\": 1959,\n                    \"Champions League 5\": 1960, \"Champions League 6\": 1966,\n                    \"Champions League 7\": 1998, \"Champions League 8\": 2000,\n                    \"Champions League 9\": 2002, \"Champions League 10\": 2014,\n                    \"Champions League 11\": 2016,\"Champions League 12\": 2017,\n                    \"Champions League 13\": 2018,\"Champions League 14\": 2022}\nReal_madrid_dict",
      "metadata": {
        "trusted": true
      },
      "outputs": [
        {
          "execution_count": 1,
          "output_type": "execute_result",
          "data": {
            "text/plain": "{'Champions League 1': 1956,\n 'Champions League 2': 1957,\n 'Champions League 3': 1958,\n 'Champions League 4': 1959,\n 'Champions League 5': 1960,\n 'Champions League 6': 1966,\n 'Champions League 7': 1998,\n 'Champions League 8': 2000,\n 'Champions League 9': 2002,\n 'Champions League 10': 2014,\n 'Champions League 11': 2016,\n 'Champions League 12': 2017,\n 'Champions League 13': 2018,\n 'Champions League 14': 2022}"
          },
          "metadata": {}
        }
      ],
      "execution_count": 1
    },
    {
      "cell_type": "markdown",
      "source": "1. Retrieve the year of the 8th Champions League :",
      "metadata": {}
    },
    {
      "cell_type": "code",
      "source": "print(f'The year of the 8th Champions League is : {Real_madrid_dict [\"Champions League 8\"]}')",
      "metadata": {
        "trusted": true
      },
      "outputs": [
        {
          "name": "stdout",
          "text": "The year of the 8th Champions League is : 2000\n",
          "output_type": "stream"
        }
      ],
      "execution_count": 3
    },
    {
      "cell_type": "markdown",
      "source": "2. Retrieve all values of dictionary \"Real_madrid_dict\"",
      "metadata": {}
    },
    {
      "cell_type": "code",
      "source": "print(f'The values of dictionary \"Real_madrid_dict\" : {Real_madrid_dict.values()}')",
      "metadata": {
        "trusted": true
      },
      "outputs": [
        {
          "name": "stdout",
          "text": "The values of dictionary \"Real_madrid_dict\" : dict_values([1956, 1957, 1958, 1959, 1960, 1966, 1998, 2000, 2002, 2014, 2016, 2017, 2018, 2022])\n",
          "output_type": "stream"
        }
      ],
      "execution_count": 5
    },
    {
      "cell_type": "markdown",
      "source": "3. Retrieve all keys of dictionary \"Real_madrid_dict\"",
      "metadata": {}
    },
    {
      "cell_type": "code",
      "source": "print(f'The keys of dictionary \"Real_madrid_dict\" : {Real_madrid_dict.keys()}')",
      "metadata": {
        "trusted": true
      },
      "outputs": [
        {
          "name": "stdout",
          "text": "The keys of dictionary \"Real_madrid_dict\" : dict_keys(['Champions League 1', 'Champions League 2', 'Champions League 3', 'Champions League 4', 'Champions League 5', 'Champions League 6', 'Champions League 7', 'Champions League 8', 'Champions League 9', 'Champions League 10', 'Champions League 11', 'Champions League 12', 'Champions League 13', 'Champions League 14'])\n",
          "output_type": "stream"
        }
      ],
      "execution_count": 6
    },
    {
      "cell_type": "markdown",
      "source": "4. Add an entry \"Champions League 15\" : 2023",
      "metadata": {}
    },
    {
      "cell_type": "code",
      "source": "Real_madrid_dict[\"Champions League 15\"] = 2023\nReal_madrid_dict",
      "metadata": {
        "trusted": true
      },
      "outputs": [
        {
          "execution_count": 7,
          "output_type": "execute_result",
          "data": {
            "text/plain": "{'Champions League 1': 1956,\n 'Champions League 2': 1957,\n 'Champions League 3': 1958,\n 'Champions League 4': 1959,\n 'Champions League 5': 1960,\n 'Champions League 6': 1966,\n 'Champions League 7': 1998,\n 'Champions League 8': 2000,\n 'Champions League 9': 2002,\n 'Champions League 10': 2014,\n 'Champions League 11': 2016,\n 'Champions League 12': 2017,\n 'Champions League 13': 2018,\n 'Champions League 14': 2022,\n 'Champions League 15': 2023}"
          },
          "metadata": {}
        }
      ],
      "execution_count": 7
    },
    {
      "cell_type": "markdown",
      "source": "5. Delete the 15th Champions leaugue",
      "metadata": {}
    },
    {
      "cell_type": "code",
      "source": "del (Real_madrid_dict[\"Champions League 15\"])",
      "metadata": {
        "trusted": true
      },
      "outputs": [],
      "execution_count": 8
    },
    {
      "cell_type": "markdown",
      "source": "6. Verify is still there the 15th trophy in the dictionary",
      "metadata": {}
    },
    {
      "cell_type": "code",
      "source": "\"Champions League 15\" in Real_madrid_dict",
      "metadata": {
        "trusted": true
      },
      "outputs": [
        {
          "execution_count": 10,
          "output_type": "execute_result",
          "data": {
            "text/plain": "False"
          },
          "metadata": {}
        }
      ],
      "execution_count": 10
    },
    {
      "cell_type": "markdown",
      "source": "7. Print the final dictionary",
      "metadata": {}
    },
    {
      "cell_type": "code",
      "source": "Real_madrid_dict",
      "metadata": {
        "trusted": true
      },
      "outputs": [
        {
          "execution_count": 11,
          "output_type": "execute_result",
          "data": {
            "text/plain": "{'Champions League 1': 1956,\n 'Champions League 2': 1957,\n 'Champions League 3': 1958,\n 'Champions League 4': 1959,\n 'Champions League 5': 1960,\n 'Champions League 6': 1966,\n 'Champions League 7': 1998,\n 'Champions League 8': 2000,\n 'Champions League 9': 2002,\n 'Champions League 10': 2014,\n 'Champions League 11': 2016,\n 'Champions League 12': 2017,\n 'Champions League 13': 2018,\n 'Champions League 14': 2022}"
          },
          "metadata": {}
        }
      ],
      "execution_count": 11
    }
  ]
}