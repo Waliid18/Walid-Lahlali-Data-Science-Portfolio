{
  "metadata": {
    "kernelspec": {
      "name": "python",
      "display_name": "Python (Pyodide)",
      "language": "python"
    },
    "language_info": {
      "codemirror_mode": {
        "name": "python",
        "version": 3
      },
      "file_extension": ".py",
      "mimetype": "text/x-python",
      "name": "python",
      "nbconvert_exporter": "python",
      "pygments_lexer": "ipython3",
      "version": "3.8"
    }
  },
  "nbformat_minor": 4,
  "nbformat": 4,
  "cells": [
    {
      "cell_type": "markdown",
      "source": "# ***Project 2 : Dictionaries***",
      "metadata": {}
    },
    {
      "cell_type": "markdown",
      "source": "## Scenario:Inventory Store\n\nThe inventory store scenario project utilizes a dictionary-based approach to develop a robust system for managing and tracking inventory in a retail store.\n\n**Note:- You will be working with two product details.**",
      "metadata": {}
    },
    {
      "cell_type": "markdown",
      "source": "1. **Task 1 : Create an empty dictionary**",
      "metadata": {}
    },
    {
      "cell_type": "markdown",
      "source": "First you need to create an empty dictionary, where you will be storing the product details.",
      "metadata": {}
    },
    {
      "cell_type": "code",
      "source": "Product = {}",
      "metadata": {
        "trusted": true
      },
      "outputs": [],
      "execution_count": 38
    },
    {
      "cell_type": "markdown",
      "source": "2. **Task 2 : Store the first product details in variable**\n* Product Name= Mobile phone\n* Product Quantity= 5\n* Product price= 20000\n* Product Release Year= 2020",
      "metadata": {}
    },
    {
      "cell_type": "code",
      "source": "Product1_Name = \"Mobile phone\"\nProduct1_Quantity = 5\nProduct1_price = 20000\nProduct1_Release_Year= 2020",
      "metadata": {
        "trusted": true
      },
      "outputs": [],
      "execution_count": 39
    },
    {
      "cell_type": "markdown",
      "source": "3. **Task 3 : Add the details in Product**",
      "metadata": {}
    },
    {
      "cell_type": "code",
      "source": "Product[\"Product1_Name\"] = \"Mobile phone\"\nProduct[\"Product1_Quantity\"] = 5\nProduct[\"Product1_price\"] = 20000\nProduct[\"Product1_Release_Year\"] = 2020",
      "metadata": {
        "trusted": true
      },
      "outputs": [],
      "execution_count": 40
    },
    {
      "cell_type": "markdown",
      "source": "4. **Task 4 : Store the second product details in a variable**\n* Product Name= \"Laptop\"\n* Product Quantity= 10\n* Product price = 50000\n* Product Release Year= 2023",
      "metadata": {}
    },
    {
      "cell_type": "code",
      "source": "Product2_Name = \"Laptop\"\nProduct2_Quantity = 10\nProduct2_price = 50000\nProduct2_Release_Year= 2023",
      "metadata": {
        "trusted": true
      },
      "outputs": [],
      "execution_count": 41
    },
    {
      "cell_type": "markdown",
      "source": "5. **Task 5 : Add the details in Product**",
      "metadata": {}
    },
    {
      "cell_type": "code",
      "source": "Product[\"Product2_Name\"] = \"Laptop\"\nProduct[\"Product2_Quantity\"] = 10\nProduct[\"Product2_price\"] = 50000\nProduct[\"Product2_Release_Year\"] = 2023",
      "metadata": {
        "trusted": true
      },
      "outputs": [],
      "execution_count": 42
    },
    {
      "cell_type": "markdown",
      "source": "6. **Task 6 : Display the Products present in the inventory**",
      "metadata": {}
    },
    {
      "cell_type": "code",
      "source": "Product",
      "metadata": {
        "trusted": true
      },
      "outputs": [
        {
          "execution_count": 43,
          "output_type": "execute_result",
          "data": {
            "text/plain": "{'Product1_Name': 'Mobile phone',\n 'Product1_Quantity': 5,\n 'Product1_price': 20000,\n 'Product1_Release_Year': 2020,\n 'Product2_Name': 'Laptop',\n 'Product2_Quantity': 10,\n 'Product2_price': 50000,\n 'Product2_Release_Year': 2023}"
          },
          "metadata": {}
        }
      ],
      "execution_count": 43
    },
    {
      "cell_type": "markdown",
      "source": "7. **Task 7 : Check if \"Product1_Release_Year\" and \"Product3_Release_Year\" is in the inventory**\n",
      "metadata": {}
    },
    {
      "cell_type": "code",
      "source": "\"Product1_Release_Year\" in Product",
      "metadata": {
        "trusted": true
      },
      "outputs": [
        {
          "execution_count": 44,
          "output_type": "execute_result",
          "data": {
            "text/plain": "True"
          },
          "metadata": {}
        }
      ],
      "execution_count": 44
    },
    {
      "cell_type": "code",
      "source": "\"Product3_Release_Year\" in Product",
      "metadata": {
        "trusted": true
      },
      "outputs": [
        {
          "execution_count": 45,
          "output_type": "execute_result",
          "data": {
            "text/plain": "False"
          },
          "metadata": {}
        }
      ],
      "execution_count": 45
    },
    {
      "cell_type": "markdown",
      "source": "8. **Task 8 : Delete release year of both the products from the inventory**",
      "metadata": {}
    },
    {
      "cell_type": "code",
      "source": "del (Product[\"Product1_Release_Year\"])",
      "metadata": {
        "trusted": true
      },
      "outputs": [],
      "execution_count": 46
    },
    {
      "cell_type": "code",
      "source": "del (Product[\"Product2_Release_Year\"])",
      "metadata": {
        "trusted": true
      },
      "outputs": [],
      "execution_count": 47
    },
    {
      "cell_type": "markdown",
      "source": "9. **Display the element present in the dictionary**",
      "metadata": {}
    },
    {
      "cell_type": "code",
      "source": "Product",
      "metadata": {
        "trusted": true
      },
      "outputs": [
        {
          "execution_count": 48,
          "output_type": "execute_result",
          "data": {
            "text/plain": "{'Product1_Name': 'Mobile phone',\n 'Product1_Quantity': 5,\n 'Product1_price': 20000,\n 'Product2_Name': 'Laptop',\n 'Product2_Quantity': 10,\n 'Product2_price': 50000}"
          },
          "metadata": {}
        }
      ],
      "execution_count": 48
    }
  ]
}