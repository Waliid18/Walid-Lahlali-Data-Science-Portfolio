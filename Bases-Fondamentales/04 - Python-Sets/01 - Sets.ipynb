{
  "metadata": {
    "kernelspec": {
      "name": "python",
      "display_name": "Python (Pyodide)",
      "language": "python"
    },
    "language_info": {
      "codemirror_mode": {
        "name": "python",
        "version": 3
      },
      "file_extension": ".py",
      "mimetype": "text/x-python",
      "name": "python",
      "nbconvert_exporter": "python",
      "pygments_lexer": "ipython3",
      "version": "3.8"
    }
  },
  "nbformat_minor": 4,
  "nbformat": 4,
  "cells": [
    {
      "cell_type": "markdown",
      "source": "# ***Sets :***",
      "metadata": {}
    },
    {
      "cell_type": "markdown",
      "source": "1. **Set Content :**",
      "metadata": {}
    },
    {
      "cell_type": "markdown",
      "source": "A set is a unique collection of objects in Python. You can denote a set with a pair of curly brackets {}. Python will automatically remove duplicate items.",
      "metadata": {}
    },
    {
      "cell_type": "markdown",
      "source": "* **Example :**",
      "metadata": {}
    },
    {
      "cell_type": "code",
      "source": "# Create a set\nset = {\"Walid\" , 18 , 1 , \"Walid\" , 31}",
      "metadata": {
        "trusted": true
      },
      "outputs": [],
      "execution_count": 51
    },
    {
      "cell_type": "code",
      "source": "# Print set\nprint(set)",
      "metadata": {
        "trusted": true
      },
      "outputs": [
        {
          "name": "stdout",
          "text": "{'Walid', 18, 1, 31}\n",
          "output_type": "stream"
        }
      ],
      "execution_count": 52
    },
    {
      "cell_type": "markdown",
      "source": "2. **Set Operations :**",
      "metadata": {}
    },
    {
      "cell_type": "markdown",
      "source": "2.1 **Add method :**",
      "metadata": {}
    },
    {
      "cell_type": "markdown",
      "source": "We can add an element to a set using the add() method:",
      "metadata": {}
    },
    {
      "cell_type": "code",
      "source": "set = {\"Walid\" , 18 , 1 , \"Walid\" , 31}\nset.add(\"Raja\") # add \"Raja\" to set",
      "metadata": {
        "trusted": true
      },
      "outputs": [],
      "execution_count": 53
    },
    {
      "cell_type": "code",
      "source": "# Print set\nprint(set)",
      "metadata": {
        "trusted": true
      },
      "outputs": [
        {
          "name": "stdout",
          "text": "{'Walid', 1, 'Raja', 18, 31}\n",
          "output_type": "stream"
        }
      ],
      "execution_count": 54
    },
    {
      "cell_type": "markdown",
      "source": "2.2 **Remove method :**",
      "metadata": {}
    },
    {
      "cell_type": "markdown",
      "source": "We can remove an item from a set using the remove() method:",
      "metadata": {}
    },
    {
      "cell_type": "code",
      "source": "set = {\"Walid\", 1, \"Raja\", 18, 31}\nset.remove(\"Walid\") # remove \"Waja\" from set",
      "metadata": {
        "trusted": true
      },
      "outputs": [],
      "execution_count": 55
    },
    {
      "cell_type": "code",
      "source": "# Print set\nprint(set)",
      "metadata": {
        "trusted": true
      },
      "outputs": [
        {
          "name": "stdout",
          "text": "{1, 18, 'Raja', 31}\n",
          "output_type": "stream"
        }
      ],
      "execution_count": 56
    },
    {
      "cell_type": "markdown",
      "source": "We can verify if an element is in the set using the in command:",
      "metadata": {}
    },
    {
      "cell_type": "markdown",
      "source": "* **Example 1 :**",
      "metadata": {}
    },
    {
      "cell_type": "code",
      "source": "\"Walid\" in set",
      "metadata": {
        "trusted": true
      },
      "outputs": [
        {
          "execution_count": 57,
          "output_type": "execute_result",
          "data": {
            "text/plain": "False"
          },
          "metadata": {}
        }
      ],
      "execution_count": 57
    },
    {
      "cell_type": "markdown",
      "source": "* **Example 2 :**",
      "metadata": {}
    },
    {
      "cell_type": "code",
      "source": "\"Raja\" in set",
      "metadata": {
        "trusted": true
      },
      "outputs": [
        {
          "execution_count": 58,
          "output_type": "execute_result",
          "data": {
            "text/plain": "True"
          },
          "metadata": {}
        }
      ],
      "execution_count": 58
    },
    {
      "cell_type": "markdown",
      "source": "3. **Sets Logic Operations :**",
      "metadata": {}
    },
    {
      "cell_type": "markdown",
      "source": "We consider the following two sets :",
      "metadata": {}
    },
    {
      "cell_type": "code",
      "source": "set_1 = {\"Walid\", 1 , \"Raja\", 18 , 31 ,\"Walid\", 7}\nset_2 = {\"Canada\", 7 , 11 , \"Raja\", 12 ,\"Walid\" , 31}",
      "metadata": {
        "trusted": true
      },
      "outputs": [],
      "execution_count": 59
    },
    {
      "cell_type": "markdown",
      "source": "3.1 **Intersections :**",
      "metadata": {}
    },
    {
      "cell_type": "markdown",
      "source": "* We can find the intersect of two sets as follow using **&** :",
      "metadata": {}
    },
    {
      "cell_type": "code",
      "source": "# Print set_1 and set_2\nprint('set_1 = ', set_1)\nprint('set_2 = ', set_2)",
      "metadata": {
        "trusted": true
      },
      "outputs": [
        {
          "name": "stdout",
          "text": "set_1 =  {'Walid', 1, 18, 7, 'Raja', 31}\nset_2 =  {'Walid', 'Canada', 7, 11, 12, 'Raja', 31}\n",
          "output_type": "stream"
        }
      ],
      "execution_count": 60
    },
    {
      "cell_type": "code",
      "source": "# Find the intersections\nintersection = set_1 & set_2\nprint('The intersection of two sets \"set_1\" and \"set_2\" is : ', intersection)",
      "metadata": {
        "trusted": true
      },
      "outputs": [
        {
          "name": "stdout",
          "text": "The intersection of two sets \"set_1\" and \"set_2\" is :  {'Walid', 31, 'Raja', 7}\n",
          "output_type": "stream"
        }
      ],
      "execution_count": 61
    },
    {
      "cell_type": "markdown",
      "source": "* We can find the intersect of two sets using **intersection()** method :",
      "metadata": {}
    },
    {
      "cell_type": "code",
      "source": "# Find the intersections\ninter = set_1.intersection(set_2)\nprint('The intersection of two sets \"set_1\" and \"set_2\" is : ', inter)",
      "metadata": {
        "trusted": true
      },
      "outputs": [
        {
          "name": "stdout",
          "text": "The intersection of two sets \"set_1\" and \"set_2\" is :  {'Walid', 31, 'Raja', 7}\n",
          "output_type": "stream"
        }
      ],
      "execution_count": 62
    },
    {
      "cell_type": "markdown",
      "source": "3.2 **Difference :**",
      "metadata": {}
    },
    {
      "cell_type": "markdown",
      "source": "We can find all the elements that are only contained in set_1 using the **difference()** method:",
      "metadata": {}
    },
    {
      "cell_type": "code",
      "source": "# Print set_1 and set_2\nprint('set_1 = ', set_1)\nprint('set_2 = ', set_2)",
      "metadata": {
        "trusted": true
      },
      "outputs": [
        {
          "name": "stdout",
          "text": "set_1 =  {'Walid', 1, 18, 7, 'Raja', 31}\nset_2 =  {'Walid', 'Canada', 7, 11, 12, 'Raja', 31}\n",
          "output_type": "stream"
        }
      ],
      "execution_count": 63
    },
    {
      "cell_type": "code",
      "source": "# The difference in set_1 but not set_2\ndifference_1 = set_1.difference(set_2)\nprint('The difference in \"set_1\" but not \"set_2\" is : ', difference_1)",
      "metadata": {
        "trusted": true
      },
      "outputs": [
        {
          "name": "stdout",
          "text": "The difference in \"set_1\" but not \"set_2\" is :  {1, 18}\n",
          "output_type": "stream"
        }
      ],
      "execution_count": 64
    },
    {
      "cell_type": "code",
      "source": "# The difference in set_2 but not set_1\ndifference_2 = set_2.difference(set_1)\nprint('The difference in \"set_1\" but not \"set_2\" is : ', difference_2)",
      "metadata": {
        "trusted": true
      },
      "outputs": [
        {
          "name": "stdout",
          "text": "The difference in \"set_1\" but not \"set_2\" is :  {11, 12, 'Canada'}\n",
          "output_type": "stream"
        }
      ],
      "execution_count": 65
    },
    {
      "cell_type": "markdown",
      "source": "3.3 **Union :**",
      "metadata": {}
    },
    {
      "cell_type": "markdown",
      "source": "* We can find the union of two sets using **union()** method :",
      "metadata": {}
    },
    {
      "cell_type": "code",
      "source": "# Print set_1 and set_2\nprint('set_1 = ', set_1)\nprint('set_2 = ', set_2)",
      "metadata": {
        "trusted": true
      },
      "outputs": [
        {
          "name": "stdout",
          "text": "set_1 =  {'Walid', 1, 18, 7, 'Raja', 31}\nset_2 =  {'Walid', 'Canada', 7, 11, 12, 'Raja', 31}\n",
          "output_type": "stream"
        }
      ],
      "execution_count": 66
    },
    {
      "cell_type": "code",
      "source": "# Find the union\nunion = set_1.union(set_2)\nprint('The union of two sets \"set_1\" and \"set_2\" is : ', union)",
      "metadata": {
        "trusted": true
      },
      "outputs": [
        {
          "name": "stdout",
          "text": "The union of two sets \"set_1\" and \"set_2\" is :  {'Walid', 1, 7, 11, 12, 'Raja', 18, 'Canada', 31}\n",
          "output_type": "stream"
        }
      ],
      "execution_count": 67
    },
    {
      "cell_type": "markdown",
      "source": "* We can check if a set is a **superset** or **subset** of another set, respectively, like this:",
      "metadata": {}
    },
    {
      "cell_type": "code",
      "source": "set_1 = {\"Walid\" , \"Raja\", 18 ,\"Walid\", 7}\nset_2 = {\"Canada\", 7 , 18 , \"Raja\", 12 ,\"Walid\" , 7}",
      "metadata": {
        "trusted": true
      },
      "outputs": [],
      "execution_count": 68
    },
    {
      "cell_type": "code",
      "source": "# Check if superset\nset_1.issuperset(set_2)   # set_1 isn't a superset of set_2",
      "metadata": {
        "trusted": true
      },
      "outputs": [
        {
          "execution_count": 69,
          "output_type": "execute_result",
          "data": {
            "text/plain": "False"
          },
          "metadata": {}
        }
      ],
      "execution_count": 69
    },
    {
      "cell_type": "code",
      "source": "# Check if subset\nset_1.issubset(set_2)   # set_1 is a subset of set_2   ",
      "metadata": {
        "trusted": true
      },
      "outputs": [
        {
          "execution_count": 70,
          "output_type": "execute_result",
          "data": {
            "text/plain": "True"
          },
          "metadata": {}
        }
      ],
      "execution_count": 70
    }
  ]
}