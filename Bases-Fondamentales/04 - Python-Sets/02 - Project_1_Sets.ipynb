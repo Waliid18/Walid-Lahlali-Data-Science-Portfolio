{
  "metadata": {
    "kernelspec": {
      "name": "python",
      "display_name": "Python (Pyodide)",
      "language": "python"
    },
    "language_info": {
      "codemirror_mode": {
        "name": "python",
        "version": 3
      },
      "file_extension": ".py",
      "mimetype": "text/x-python",
      "name": "python",
      "nbconvert_exporter": "python",
      "pygments_lexer": "ipython3",
      "version": "3.8"
    }
  },
  "nbformat_minor": 4,
  "nbformat": 4,
  "cells": [
    {
      "cell_type": "markdown",
      "source": "# ***Project : Sets***",
      "metadata": {}
    },
    {
      "cell_type": "markdown",
      "source": "1. **Convert the list ['football','basketball','Tennis', 'swimming'] to a set:**",
      "metadata": {}
    },
    {
      "cell_type": "code",
      "source": "# Create a list\nlist = ['Football','Basketball','Tennis', 'Swimming']\n# Convert the list to a set\nset_1 = set(list)",
      "metadata": {
        "trusted": true
      },
      "outputs": [],
      "execution_count": 23
    },
    {
      "cell_type": "code",
      "source": "# Print set\nprint(set_1)",
      "metadata": {
        "trusted": true
      },
      "outputs": [
        {
          "name": "stdout",
          "text": "{'Football', 'Swimming', 'Basketball', 'Tennis'}\n",
          "output_type": "stream"
        }
      ],
      "execution_count": 24
    },
    {
      "cell_type": "markdown",
      "source": "2. **Consider the list A = [1, 2, 2, 1] and set B = set([1, 2, 2, 1]), does sum(A) == sum(B)?**",
      "metadata": {}
    },
    {
      "cell_type": "code",
      "source": "# create a list A\n\nA = [1,2,2,1]\n\n# create a set B\n\nB = set(A)\n\n#Print the of A and B\n\nprint('The sum of list A is :' , sum(A))\nprint('The sum of set B is :' , sum(B))\n\n# print result\n\nif sum (A) == sum (B):\n    print('The sum of list A and set B are equal')\nelse :\n    print('The sum of list A and set B are not equal')",
      "metadata": {
        "trusted": true
      },
      "outputs": [
        {
          "name": "stdout",
          "text": "The sum of list A is : 6\nThe sum of set B is : 3\nThe sum of list A and set B are not equal\n",
          "output_type": "stream"
        }
      ],
      "execution_count": 25
    },
    {
      "cell_type": "markdown",
      "source": "3. **Create a new set set_3 that is the union of set_1 and set_2:**\n   \n**Note :** set_2 = {\"Tennis\",\"Hooky\",\"Badminton\",\"Football\",\"Golf\"}",
      "metadata": {}
    },
    {
      "cell_type": "code",
      "source": "set_2 = {\"Tennis\",\"Hooky\",\"Badminton\",\"Football\",\"Golf\"}\nset_3 = set_1.union(set_2)\nprint('The union of two sets \"set_1\" and \"set_2\" is : ', set_3)",
      "metadata": {
        "trusted": true
      },
      "outputs": [
        {
          "name": "stdout",
          "text": "The union of two sets \"set_1\" and \"set_2\" is :  {'Tennis', 'Hooky', 'Basketball', 'Badminton', 'Swimming', 'Golf', 'Football'}\n",
          "output_type": "stream"
        }
      ],
      "execution_count": 26
    },
    {
      "cell_type": "markdown",
      "source": "4. **Create a new set set_4 that is the intersection of set_1 and set_2:**",
      "metadata": {}
    },
    {
      "cell_type": "code",
      "source": "set_4 = set_1.intersection(set_2)\nprint('The intersection of two sets \"set_1\" and \"set_2\" is : ', set_4)\n",
      "metadata": {
        "trusted": true
      },
      "outputs": [
        {
          "name": "stdout",
          "text": "The intersection of two sets \"set_1\" and \"set_2\" is :  {'Football', 'Tennis'}\n",
          "output_type": "stream"
        }
      ],
      "execution_count": 27
    },
    {
      "cell_type": "markdown",
      "source": "5. **Find all the elements that are only contained in set_1**",
      "metadata": {}
    },
    {
      "cell_type": "code",
      "source": "# The difference in set_1 but not set_2\ndifference = set_1.difference(set_2)\nprint('The elements that are only contained in set_1 : ', difference)",
      "metadata": {
        "trusted": true
      },
      "outputs": [
        {
          "name": "stdout",
          "text": "The elements that are only contained in set_1 :  {'Swimming', 'Basketball'}\n",
          "output_type": "stream"
        }
      ],
      "execution_count": 28
    },
    {
      "cell_type": "markdown",
      "source": "6. **Check if \"Swimming\" exist in the set_2**",
      "metadata": {}
    },
    {
      "cell_type": "code",
      "source": "print('The answer is :' , \"Swimming\" in set_2)",
      "metadata": {
        "trusted": true
      },
      "outputs": [
        {
          "name": "stdout",
          "text": "The answer is : False\n",
          "output_type": "stream"
        }
      ],
      "execution_count": 29
    }
  ]
}