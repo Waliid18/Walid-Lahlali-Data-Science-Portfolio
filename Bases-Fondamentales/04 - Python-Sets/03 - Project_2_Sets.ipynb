{
  "metadata": {
    "kernelspec": {
      "name": "python",
      "display_name": "Python (Pyodide)",
      "language": "python"
    },
    "language_info": {
      "codemirror_mode": {
        "name": "python",
        "version": 3
      },
      "file_extension": ".py",
      "mimetype": "text/x-python",
      "name": "python",
      "nbconvert_exporter": "python",
      "pygments_lexer": "ipython3",
      "version": "3.8"
    }
  },
  "nbformat_minor": 4,
  "nbformat": 4,
  "cells": [
    {
      "cell_type": "markdown",
      "source": "# ***Project 2 : Sets***",
      "metadata": {}
    },
    {
      "cell_type": "markdown",
      "source": "1. **Add a list of elements to a set**",
      "metadata": {}
    },
    {
      "cell_type": "markdown",
      "source": "   * **Given:**",
      "metadata": {}
    },
    {
      "cell_type": "markdown",
      "source": "sample_set = {\"Yellow\", \"Orange\", \"Black\"}\n\nsample_list = [\"Blue\", \"Green\", \"Red\"]",
      "metadata": {}
    },
    {
      "cell_type": "markdown",
      "source": "   * **Expected output :**",
      "metadata": {}
    },
    {
      "cell_type": "markdown",
      "source": "{'Green', 'Yellow', 'Black', 'Orange', 'Red', 'Blue'}\n\n**Note :** Set is unordered.",
      "metadata": {}
    },
    {
      "cell_type": "code",
      "source": "# Create a list\n\nsample_list = [\"Blue\", \"Green\", \"Red\"]\n\n# Create two sets\n\nsample_set = {\"Yellow\", \"Orange\", \"Black\"}\nsample_set2 = set(sample_list)\n\n# Find the union\n\nsample_set.union(sample_set2)",
      "metadata": {
        "trusted": true
      },
      "outputs": [
        {
          "execution_count": 3,
          "output_type": "execute_result",
          "data": {
            "text/plain": "{'Black', 'Blue', 'Green', 'Orange', 'Red', 'Yellow'}"
          },
          "metadata": {}
        }
      ],
      "execution_count": 3
    },
    {
      "cell_type": "markdown",
      "source": "2. **Return a new set of identical items from two sets**",
      "metadata": {}
    },
    {
      "cell_type": "markdown",
      "source": "   * **Given:**",
      "metadata": {}
    },
    {
      "cell_type": "markdown",
      "source": "set1 = {10, 20, 30, 40, 50}\n\nset2 = {30, 40, 50, 60, 70}",
      "metadata": {}
    },
    {
      "cell_type": "markdown",
      "source": "   * **Expected output :**",
      "metadata": {}
    },
    {
      "cell_type": "markdown",
      "source": "{40, 50, 30}",
      "metadata": {}
    },
    {
      "cell_type": "code",
      "source": "# Create two sets\n\nset1 = {10, 20, 30, 40, 50}\nset2 = {30, 40, 50, 60, 70}\n\n# Find the intersections\n\nset1.intersection(set2)",
      "metadata": {
        "trusted": true
      },
      "outputs": [
        {
          "execution_count": 5,
          "output_type": "execute_result",
          "data": {
            "text/plain": "{30, 40, 50}"
          },
          "metadata": {}
        }
      ],
      "execution_count": 5
    },
    {
      "cell_type": "markdown",
      "source": "3. **Get Only unique items from two sets**",
      "metadata": {}
    },
    {
      "cell_type": "code",
      "source": "print('The only unique items in set1 are : ',set1.difference(set2))",
      "metadata": {
        "trusted": true
      },
      "outputs": [
        {
          "name": "stdout",
          "text": "The only unique items in set1 are :  {10, 20}\n",
          "output_type": "stream"
        }
      ],
      "execution_count": 8
    },
    {
      "cell_type": "code",
      "source": "print('The only unique items in set2 are : ',set2.difference(set1))",
      "metadata": {
        "trusted": true
      },
      "outputs": [
        {
          "name": "stdout",
          "text": "The only unique items in set2 are :  {60, 70}\n",
          "output_type": "stream"
        }
      ],
      "execution_count": 9
    },
    {
      "cell_type": "markdown",
      "source": "4. **Check if 40 exist in set2**",
      "metadata": {}
    },
    {
      "cell_type": "code",
      "source": "print('The answer is :' , 0 in set_2)",
      "metadata": {
        "trusted": true
      },
      "outputs": [],
      "execution_count": null
    }
  ]
}