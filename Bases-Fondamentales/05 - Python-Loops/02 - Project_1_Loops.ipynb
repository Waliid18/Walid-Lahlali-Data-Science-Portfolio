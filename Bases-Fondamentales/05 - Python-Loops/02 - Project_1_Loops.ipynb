{
  "metadata": {
    "kernelspec": {
      "name": "python",
      "display_name": "Python (Pyodide)",
      "language": "python"
    },
    "language_info": {
      "codemirror_mode": {
        "name": "python",
        "version": 3
      },
      "file_extension": ".py",
      "mimetype": "text/x-python",
      "name": "python",
      "nbconvert_exporter": "python",
      "pygments_lexer": "ipython3",
      "version": "3.8"
    }
  },
  "nbformat_minor": 4,
  "nbformat": 4,
  "cells": [
    {
      "cell_type": "markdown",
      "source": "# ***Project : Loops***",
      "metadata": {}
    },
    {
      "cell_type": "markdown",
      "source": "1. **Write a for loop that prints out all the elements between -5 and 5 using the range function.**",
      "metadata": {}
    },
    {
      "cell_type": "code",
      "source": "for i in range (-5,6) :\n    print (i,end = ' ')",
      "metadata": {
        "trusted": true
      },
      "outputs": [
        {
          "name": "stdout",
          "text": "-5 -4 -3 -2 -1 0 1 2 3 4 5 ",
          "output_type": "stream"
        }
      ],
      "execution_count": 9
    },
    {
      "cell_type": "markdown",
      "source": "2. **Print the elements of the following list : Sports = [ 'Football', 'Tennis', 'Swimming', 'Basketball', 'Ice Hockey', 'Golf'].**",
      "metadata": {}
    },
    {
      "cell_type": "code",
      "source": "Sports = [ 'Football', 'Tennis', 'Swimming', 'Basketball', 'Ice Hockey', 'Golf']\nfor i in Sports :\n    print (i)",
      "metadata": {
        "trusted": true
      },
      "outputs": [
        {
          "name": "stdout",
          "text": "Football\nTennis\nSwimming\nBasketball\nIce Hockey\nGolf\n",
          "output_type": "stream"
        }
      ],
      "execution_count": 10
    },
    {
      "cell_type": "markdown",
      "source": "3. **Write a for loop that prints out the following list: squares=['red', 'yellow', 'green', 'purple', 'blue']**",
      "metadata": {}
    },
    {
      "cell_type": "code",
      "source": "squares = ['red', 'yellow', 'green', 'purple', 'blue']\nN = len (squares)\nfor i in range (N) :\n    print (squares [i])",
      "metadata": {
        "trusted": true
      },
      "outputs": [
        {
          "name": "stdout",
          "text": "red\nyellow\ngreen\npurple\nblue\n",
          "output_type": "stream"
        }
      ],
      "execution_count": 11
    },
    {
      "cell_type": "markdown",
      "source": "4. **Write a while loop to display the values of the Rating of an album playlist stored in thePlayListRatings list. If the score is less than 6, exit the loop. The list PlayListRatings is given by: PlayListRatings = [10, 9.5, 10, 8, 7.5, 5, 10, 10]**",
      "metadata": {}
    },
    {
      "cell_type": "code",
      "source": "PlayListRatings = [10, 9.5, 10, 8, 7.5, 5, 10, 10]\ni = 0 \nindex = PlayListRatings [0]\nwhile ( i < 8 and index >= 6 ):\n    print (index)\n    i = i + 1\n    index = PlayListRatings [i]",
      "metadata": {
        "trusted": true
      },
      "outputs": [
        {
          "name": "stdout",
          "text": "10\n9.5\n10\n8\n7.5\n",
          "output_type": "stream"
        }
      ],
      "execution_count": 12
    },
    {
      "cell_type": "markdown",
      "source": "5. **Write a while loop to copy the strings 'orange' of the list squares to the list new_squares. Stop and exit the loop if the value on the list is not 'orange':**",
      "metadata": {}
    },
    {
      "cell_type": "code",
      "source": "squares = ['red', 'yellow', 'green', 'purple', 'blue']\nnew_squares = []\ncolor = squares [0]\nN = len (squares)\ni = 0\nwhile (i < N and squares [i] == 'orange'):\n    new_squares.append(squares [i])\n    i = i + 1\n    color = squares [i]\nprint (new_squares)",
      "metadata": {
        "trusted": true
      },
      "outputs": [
        {
          "name": "stdout",
          "text": "[]\n",
          "output_type": "stream"
        }
      ],
      "execution_count": 13
    }
  ]
}