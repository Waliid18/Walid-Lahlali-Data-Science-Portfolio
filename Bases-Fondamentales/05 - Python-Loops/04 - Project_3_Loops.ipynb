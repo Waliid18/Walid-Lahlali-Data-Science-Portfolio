{
  "metadata": {
    "kernelspec": {
      "name": "python",
      "display_name": "Python (Pyodide)",
      "language": "python"
    },
    "language_info": {
      "codemirror_mode": {
        "name": "python",
        "version": 3
      },
      "file_extension": ".py",
      "mimetype": "text/x-python",
      "name": "python",
      "nbconvert_exporter": "python",
      "pygments_lexer": "ipython3",
      "version": "3.8"
    }
  },
  "nbformat_minor": 4,
  "nbformat": 4,
  "cells": [
    {
      "cell_type": "markdown",
      "source": "# ***Project 3 : Loops***",
      "metadata": {}
    },
    {
      "cell_type": "markdown",
      "source": "**Write a Python program to construct the following pattern, using a nested for loop**\r\n*",
      "metadata": {},
      "attachments": {}
    },
    {
      "cell_type": "markdown",
      "source": "1  \n1 2  \n1 2 3  \n1 2 3 4  \n1 2 3 4 5  \n1 2 3 4  \n1 2 3  \n1 2  \n1  ",
      "metadata": {}
    },
    {
      "cell_type": "code",
      "source": "for i in range (1 , 6 ) :\n    for j in range (1 , i+1 ) :\n       print (j , end =' ')\n    print (\" \")\n\nfor i in range (4 , 0, -1 ) :\n    for j in range (1 , i+1 ) :\n        print (j , end =' ')\n    print (\" \")",
      "metadata": {
        "trusted": true
      },
      "outputs": [
        {
          "name": "stdout",
          "text": "1  \n1 2  \n1 2 3  \n1 2 3 4  \n1 2 3 4 5  \n1 2 3 4  \n1 2 3  \n1 2  \n1  \n",
          "output_type": "stream"
        }
      ],
      "execution_count": 42
    }
  ]
}