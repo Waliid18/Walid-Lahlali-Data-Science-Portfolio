{
  "metadata": {
    "kernelspec": {
      "name": "python",
      "display_name": "Python (Pyodide)",
      "language": "python"
    },
    "language_info": {
      "codemirror_mode": {
        "name": "python",
        "version": 3
      },
      "file_extension": ".py",
      "mimetype": "text/x-python",
      "name": "python",
      "nbconvert_exporter": "python",
      "pygments_lexer": "ipython3",
      "version": "3.8"
    }
  },
  "nbformat_minor": 4,
  "nbformat": 4,
  "cells": [
    {
      "cell_type": "markdown",
      "source": "# ***Project 4 : Loops***",
      "metadata": {}
    },
    {
      "cell_type": "markdown",
      "source": "**Write a Python program to count the number of even and odd numbers in a series of numbers.**\n\n**Sample numbers : numbers = [1, 2, 3, 4, 5, 6, 7, 8, 9]**\n\n**Expected Output :**\n\n**Number of even numbers : 4**\n\n**Number of odd numbers : 5**",
      "metadata": {}
    },
    {
      "cell_type": "code",
      "source": "numbers = [1, 2, 3, 4, 5, 6, 7, 8, 9]\nles_nombres_pairs = []\nles_nombres_impairs = []\n\nLongueur = len (numbers)\n\nfor i in numbers :\n    if i % 2 == 0 :\n        les_nombres_pairs.append(i)\n    else:\n        les_nombres_impairs.append(i)\n        \nprint('Number of even numbers : ' , len(les_nombres_pairs))\nprint('Number of odd numbers : ' , len(les_nombres_impairs))       ",
      "metadata": {
        "trusted": true
      },
      "outputs": [
        {
          "name": "stdout",
          "text": "Number of even numbers :  4\nNumber of odd numbers :  5\n",
          "output_type": "stream"
        }
      ],
      "execution_count": 4
    }
  ]
}