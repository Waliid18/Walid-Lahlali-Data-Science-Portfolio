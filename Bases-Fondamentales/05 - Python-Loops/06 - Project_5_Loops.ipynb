{
  "metadata": {
    "kernelspec": {
      "name": "python",
      "display_name": "Python (Pyodide)",
      "language": "python"
    },
    "language_info": {
      "codemirror_mode": {
        "name": "python",
        "version": 3
      },
      "file_extension": ".py",
      "mimetype": "text/x-python",
      "name": "python",
      "nbconvert_exporter": "python",
      "pygments_lexer": "ipython3",
      "version": "3.8"
    }
  },
  "nbformat_minor": 4,
  "nbformat": 4,
  "cells": [
    {
      "cell_type": "markdown",
      "source": "# ***Project 5 : Loops***",
      "metadata": {}
    },
    {
      "cell_type": "markdown",
      "source": "**Écrivez un programme qui affiche une table de conversion de sommes d'argent exprimées en euros, en dollars canadiens. La progression des sommes de la table sera « géométrique », comme dans l'exemple ci-dessous :**\n\n**1 euro(s) = 1.65 dollar(s)**\n\n**2 euro(s) = 3.30 dollar(s)**\n\n**4 euro(s) = 6.60 dollar(s)**\n\n**8 euro(s) = 13.20 dollar(s)**\n\n**etc. (S'arrêter à 100 euros)**",
      "metadata": {}
    },
    {
      "cell_type": "code",
      "source": "for j in range (1,3) :\n    print (j,\"euro(s) = \", 1.65*j,\" dollar(s)\")\n    \nfor i in range (2,51,2) :\n    print (2*i,\"euro(s) = \", 2*i*1.65,\" dollar(s)\")",
      "metadata": {
        "trusted": true
      },
      "outputs": [
        {
          "name": "stdout",
          "text": "1 euro(s) =  1.65  dollar(s)\n2 euro(s) =  3.3  dollar(s)\n4 euro(s) =  6.6  dollar(s)\n8 euro(s) =  13.2  dollar(s)\n12 euro(s) =  19.799999999999997  dollar(s)\n16 euro(s) =  26.4  dollar(s)\n20 euro(s) =  33.0  dollar(s)\n24 euro(s) =  39.599999999999994  dollar(s)\n28 euro(s) =  46.199999999999996  dollar(s)\n32 euro(s) =  52.8  dollar(s)\n36 euro(s) =  59.4  dollar(s)\n40 euro(s) =  66.0  dollar(s)\n44 euro(s) =  72.6  dollar(s)\n48 euro(s) =  79.19999999999999  dollar(s)\n52 euro(s) =  85.8  dollar(s)\n56 euro(s) =  92.39999999999999  dollar(s)\n60 euro(s) =  99.0  dollar(s)\n64 euro(s) =  105.6  dollar(s)\n68 euro(s) =  112.19999999999999  dollar(s)\n72 euro(s) =  118.8  dollar(s)\n76 euro(s) =  125.39999999999999  dollar(s)\n80 euro(s) =  132.0  dollar(s)\n84 euro(s) =  138.6  dollar(s)\n88 euro(s) =  145.2  dollar(s)\n92 euro(s) =  151.79999999999998  dollar(s)\n96 euro(s) =  158.39999999999998  dollar(s)\n100 euro(s) =  165.0  dollar(s)\n",
          "output_type": "stream"
        }
      ],
      "execution_count": 3
    }
  ]
}