{
 "cells": [
  {
   "cell_type": "markdown",
   "metadata": {},
   "source": [
    "# ***Fonctions :***"
   ]
  },
  {
   "cell_type": "markdown",
   "metadata": {},
   "source": [
    "* **Function of Addition :**"
   ]
  },
  {
   "cell_type": "code",
   "execution_count": 6,
   "metadata": {},
   "outputs": [],
   "source": [
    "def addition (a,b):\n",
    "    c = a + b\n",
    "    return c"
   ]
  },
  {
   "cell_type": "code",
   "execution_count": 7,
   "metadata": {},
   "outputs": [
    {
     "data": {
      "text/plain": [
       "14"
      ]
     },
     "execution_count": 7,
     "metadata": {},
     "output_type": "execute_result"
    }
   ],
   "source": [
    "addition (5,9)"
   ]
  },
  {
   "cell_type": "code",
   "execution_count": 15,
   "metadata": {},
   "outputs": [
    {
     "name": "stdout",
     "output_type": "stream",
     "text": [
      "Entrer le 1er terme : 4.2\n",
      "Entrer le 2ème terme : 2.9\n",
      "La somme de 4.2 et 2.9 égale : 7.1\n"
     ]
    }
   ],
   "source": [
    "x = float(input('Entrer le 1er terme : '))\n",
    "y = float(input('Entrer le 2ème terme : '))\n",
    "print (f'La somme de {x} et {y} égale : {addition(x,y)}')"
   ]
  },
  {
   "cell_type": "markdown",
   "metadata": {},
   "source": [
    "* **Function of Subtraction :**"
   ]
  },
  {
   "cell_type": "code",
   "execution_count": 16,
   "metadata": {},
   "outputs": [],
   "source": [
    "def soustraction (a,b):\n",
    "    c = a - b\n",
    "    return c"
   ]
  },
  {
   "cell_type": "code",
   "execution_count": 17,
   "metadata": {},
   "outputs": [
    {
     "data": {
      "text/plain": [
       "-4"
      ]
     },
     "execution_count": 17,
     "metadata": {},
     "output_type": "execute_result"
    }
   ],
   "source": [
    "soustraction (3,7)"
   ]
  },
  {
   "cell_type": "code",
   "execution_count": 22,
   "metadata": {},
   "outputs": [
    {
     "name": "stdout",
     "output_type": "stream",
     "text": [
      "Entrer le 1er terme : 2\n",
      "Entrer le 2ème terme : 9\n",
      "La différence de 2.0 et 9.0 égale : -7.0\n"
     ]
    }
   ],
   "source": [
    "x = float(input('Entrer le 1er terme : '))\n",
    "y = float(input('Entrer le 2ème terme : '))\n",
    "print (f'La différence de {x} et {y} égale : {soustraction(x,y)}')"
   ]
  },
  {
   "cell_type": "markdown",
   "metadata": {},
   "source": [
    "* **Function of Multiplication :**"
   ]
  },
  {
   "cell_type": "code",
   "execution_count": 23,
   "metadata": {},
   "outputs": [],
   "source": [
    "def multiplication (a,b):\n",
    "    c = a * b\n",
    "    return c"
   ]
  },
  {
   "cell_type": "code",
   "execution_count": 24,
   "metadata": {},
   "outputs": [
    {
     "data": {
      "text/plain": [
       "15"
      ]
     },
     "execution_count": 24,
     "metadata": {},
     "output_type": "execute_result"
    }
   ],
   "source": [
    "multiplication (3,5)"
   ]
  },
  {
   "cell_type": "code",
   "execution_count": 25,
   "metadata": {},
   "outputs": [
    {
     "name": "stdout",
     "output_type": "stream",
     "text": [
      "Entrer le 1er facteur : 2\n",
      "Entrer le 2ème facteur : -7.3\n",
      "Le produit de 2.0 et -7.3 égale : -14.6\n"
     ]
    }
   ],
   "source": [
    "x = float(input('Entrer le 1er facteur : '))\n",
    "y = float(input('Entrer le 2ème facteur : '))\n",
    "print (f'Le produit de {x} et {y} égale : {multiplication(x,y)}')"
   ]
  },
  {
   "cell_type": "markdown",
   "metadata": {},
   "source": [
    "* **Function of Division :**"
   ]
  },
  {
   "cell_type": "code",
   "execution_count": 26,
   "metadata": {},
   "outputs": [],
   "source": [
    "def division (a,b):\n",
    "    if (b == 0 ):\n",
    "        print ('Erreur. Entrer un nombre supérieur ou égal à 0')\n",
    "    else :\n",
    "        c = a / b\n",
    "        return c"
   ]
  },
  {
   "cell_type": "code",
   "execution_count": 27,
   "metadata": {},
   "outputs": [
    {
     "data": {
      "text/plain": [
       "4.0"
      ]
     },
     "execution_count": 27,
     "metadata": {},
     "output_type": "execute_result"
    }
   ],
   "source": [
    "division (12,3)"
   ]
  },
  {
   "cell_type": "code",
   "execution_count": 28,
   "metadata": {},
   "outputs": [
    {
     "name": "stdout",
     "output_type": "stream",
     "text": [
      "Erreur. Entrer un nombre supérieur ou égal à 0\n"
     ]
    }
   ],
   "source": [
    "division (12,0)"
   ]
  },
  {
   "cell_type": "code",
   "execution_count": 35,
   "metadata": {},
   "outputs": [
    {
     "name": "stdout",
     "output_type": "stream",
     "text": [
      "Entrer le dividende : 12.8\n",
      "Entrer le diviseur : 4\n",
      "Le quotient de 12.8 sur 4.0 égale : 3.2\n"
     ]
    }
   ],
   "source": [
    "x = float(input('Entrer le dividende : '))\n",
    "y = float(input('Entrer le diviseur : '))\n",
    "print (f'Le quotient de {x} sur {y} égale : {division(x,y)}')"
   ]
  },
  {
   "cell_type": "markdown",
   "metadata": {},
   "source": [
    "* **Square Function :**"
   ]
  },
  {
   "cell_type": "code",
   "execution_count": 36,
   "metadata": {},
   "outputs": [],
   "source": [
    "def square (a):\n",
    "    c = a * a\n",
    "    return c"
   ]
  },
  {
   "cell_type": "code",
   "execution_count": 37,
   "metadata": {},
   "outputs": [
    {
     "data": {
      "text/plain": [
       "25"
      ]
     },
     "execution_count": 37,
     "metadata": {},
     "output_type": "execute_result"
    }
   ],
   "source": [
    "square (5)"
   ]
  },
  {
   "cell_type": "code",
   "execution_count": 39,
   "metadata": {},
   "outputs": [
    {
     "name": "stdout",
     "output_type": "stream",
     "text": [
      "Entrer un nombre : 9\n",
      "Le carré de 9.0 est : 81.0\n"
     ]
    }
   ],
   "source": [
    "x = float(input('Entrer un nombre : '))\n",
    "print (f'Le carré de {x} est : {square(x)}')"
   ]
  },
  {
   "cell_type": "markdown",
   "metadata": {},
   "source": [
    "* **Function of the square root :**"
   ]
  },
  {
   "cell_type": "code",
   "execution_count": 45,
   "metadata": {},
   "outputs": [],
   "source": [
    "import math\n",
    "def square_root (a):\n",
    "    if (a < 0 ) :\n",
    "        print ('Erreur. Entrer un nombre supérieur ou égal à 0')\n",
    "    else :\n",
    "        c = math.sqrt(a)\n",
    "        return c"
   ]
  },
  {
   "cell_type": "code",
   "execution_count": 46,
   "metadata": {},
   "outputs": [
    {
     "data": {
      "text/plain": [
       "3.0"
      ]
     },
     "execution_count": 46,
     "metadata": {},
     "output_type": "execute_result"
    }
   ],
   "source": [
    "square_root (9)\n"
   ]
  },
  {
   "cell_type": "code",
   "execution_count": 41,
   "metadata": {},
   "outputs": [
    {
     "name": "stdout",
     "output_type": "stream",
     "text": [
      "Erreur. Entrer un nombre supérieur ou égal à 0\n"
     ]
    }
   ],
   "source": [
    "square_root (-9)"
   ]
  },
  {
   "cell_type": "code",
   "execution_count": 48,
   "metadata": {},
   "outputs": [
    {
     "name": "stdout",
     "output_type": "stream",
     "text": [
      "Entrer un nombre positif : 64\n",
      "La racine carrée de 64.0 égale : 8.0\n"
     ]
    }
   ],
   "source": [
    "x = float(input('Entrer un nombre positif : '))\n",
    "print (f'La racine carrée de {x} égale : {square_root(x)}')"
   ]
  },
  {
   "cell_type": "markdown",
   "metadata": {},
   "source": [
    "* **The absolute value :**"
   ]
  },
  {
   "cell_type": "code",
   "execution_count": 1,
   "metadata": {},
   "outputs": [
    {
     "name": "stdout",
     "output_type": "stream",
     "text": [
      "Entrer un nombre : -9\n",
      "La valeur absolue de  -9.0  est :  9.0\n",
      "On écrit | -9.0 | =  9.0\n"
     ]
    }
   ],
   "source": [
    "x = float(input(\"Entrer un nombre : \"))\n",
    "if (x >= 0):\n",
    "    print(\"La valeur absolue de \",x,\" est : \", x)\n",
    "    print(\"On écrit |\",x,\"| = \", x)\n",
    "else : \n",
    "    print(\"La valeur absolue de \",x,\" est : \", -x)\n",
    "    print(\"On écrit |\",x,\"| = \", -x)"
   ]
  },
  {
   "cell_type": "markdown",
   "metadata": {},
   "source": [
    "* **Comma precision :**"
   ]
  },
  {
   "cell_type": "code",
   "execution_count": 2,
   "metadata": {},
   "outputs": [
    {
     "name": "stdout",
     "output_type": "stream",
     "text": [
      "Entrer un nombre décimal :1.23456765433567765\n",
      "Entrer les nombres que vous voulez après la virgule (la précision):3\n",
      "Le nombre est :  1.235\n"
     ]
    }
   ],
   "source": [
    "x = float(input(\"Entrer un nombre décimal :\"))\n",
    "y = int(input(\"Entrer les nombres que vous voulez après la virgule (la précision):\"))\n",
    "print(\"Le nombre est : \", round(x,y)) "
   ]
  },
  {
   "cell_type": "code",
   "execution_count": null,
   "metadata": {},
   "outputs": [],
   "source": []
  }
 ],
 "metadata": {
  "kernelspec": {
   "display_name": "Python 3 (ipykernel)",
   "language": "python",
   "name": "python3"
  },
  "language_info": {
   "codemirror_mode": {
    "name": "ipython",
    "version": 3
   },
   "file_extension": ".py",
   "mimetype": "text/x-python",
   "name": "python",
   "nbconvert_exporter": "python",
   "pygments_lexer": "ipython3",
   "version": "3.11.5"
  }
 },
 "nbformat": 4,
 "nbformat_minor": 4
}
