{
  "metadata": {
    "kernelspec": {
      "name": "python",
      "display_name": "Python (Pyodide)",
      "language": "python"
    },
    "language_info": {
      "codemirror_mode": {
        "name": "python",
        "version": 3
      },
      "file_extension": ".py",
      "mimetype": "text/x-python",
      "name": "python",
      "nbconvert_exporter": "python",
      "pygments_lexer": "ipython3",
      "version": "3.8"
    }
  },
  "nbformat_minor": 4,
  "nbformat": 4,
  "cells": [
    {
      "cell_type": "markdown",
      "source": "# ***Project 2 : Functions***",
      "metadata": {}
    },
    {
      "cell_type": "markdown",
      "source": "## **Les identités remarquables :**",
      "metadata": {}
    },
    {
      "cell_type": "markdown",
      "source": "1 . **Formules de 2ème degré :**\n\n   * **(a+b)² = a² + 2ab + b²**\n\n   * **(a-b)² = a² - 2ab +b²**\n\n   * **(a+b)(a-b) = a²-b²**",
      "metadata": {}
    },
    {
      "cell_type": "markdown",
      "source": " **La 1ère identité remarqueble : (a + b)² = a² + 2ab + b²**",
      "metadata": {}
    },
    {
      "cell_type": "code",
      "source": "def ident_1 (a,b) :\n    c = a*a + 2*a*b + b*b\n    print (\"L'identité remarquable : (\",a,\"+\",b,\")² = \", c)\n    return",
      "metadata": {
        "trusted": true
      },
      "outputs": [],
      "execution_count": 61
    },
    {
      "cell_type": "code",
      "source": "ident_1 (1,5)",
      "metadata": {
        "trusted": true
      },
      "outputs": [
        {
          "name": "stdout",
          "text": "L'identité remarquable : ( 1 + 5 )² =  36\n",
          "output_type": "stream"
        }
      ],
      "execution_count": 62
    },
    {
      "cell_type": "markdown",
      "source": " **La 2ème identité remarqueble : (a - b)² = a² - 2ab + b²**",
      "metadata": {}
    },
    {
      "cell_type": "code",
      "source": "def ident_2 (a,b) :\n    c = a*a - 2*a*b + b*b\n    print (\"L'identité remarquable : (\",a,\"-\",b,\")² = \", c)\n    return",
      "metadata": {
        "trusted": true
      },
      "outputs": [],
      "execution_count": 63
    },
    {
      "cell_type": "code",
      "source": "ident_2 (7,3)",
      "metadata": {
        "trusted": true
      },
      "outputs": [
        {
          "name": "stdout",
          "text": "L'identité remarquable : ( 7 - 3 )² =  16\n",
          "output_type": "stream"
        }
      ],
      "execution_count": 64
    },
    {
      "cell_type": "markdown",
      "source": " **La 3ème identité remarqueble : (a + b)(a - b) = a² - b²**",
      "metadata": {}
    },
    {
      "cell_type": "code",
      "source": "def ident_3 (a,b) :\n    c = a*a - b*b\n    print (\"L'identité remarquable : (\",a,\"+\",b,\")(\",a,\"-\",b,\") = \", c)\n    return",
      "metadata": {
        "trusted": true
      },
      "outputs": [],
      "execution_count": 65
    },
    {
      "cell_type": "code",
      "source": "ident_3 (2,5)",
      "metadata": {
        "trusted": true
      },
      "outputs": [
        {
          "name": "stdout",
          "text": "L'identité remarquable : ( 2 + 5 )( 2 - 5 ) =  -21\n",
          "output_type": "stream"
        }
      ],
      "execution_count": 66
    },
    {
      "cell_type": "markdown",
      "source": "2 . **Formules de 3ème degré :**\n\n   * **(a + b)3 = a 3 + 3a²b + 3ab² + b3**\n\n   * **(a – b)3 = a 3 – 3a²b + 3ab² – b3**\n\n   * **a3 – b3 = (a – b) (a² + ab + b² )**\n\n   * **a3 – 1 = (a – 1) (a² + a + 1 )**\n\n   * **a3 + b3 = (a + b) (a² – ab + b² )**",
      "metadata": {}
    },
    {
      "cell_type": "markdown",
      "source": " **La 1ère identité remarqueble : (a + b)3 = a 3 + 3a²b + 3ab² + b3**",
      "metadata": {}
    },
    {
      "cell_type": "code",
      "source": "def ident_4 (a,b) :\n    c = a*a*a + 3*a*a*b + 3*a*b*b + b*b*b\n    print (\"L'identité remarquable : (\",a,\"+\",b,\")3 = \", c)\n    return",
      "metadata": {
        "trusted": true
      },
      "outputs": [],
      "execution_count": 67
    },
    {
      "cell_type": "code",
      "source": "ident_4 (2,3)",
      "metadata": {
        "trusted": true
      },
      "outputs": [
        {
          "name": "stdout",
          "text": "L'identité remarquable : ( 2 + 3 )3 =  125\n",
          "output_type": "stream"
        }
      ],
      "execution_count": 68
    },
    {
      "cell_type": "markdown",
      "source": " **La 2ème identité remarqueble : (a - b)3 = a 3 - 3a²b + 3ab² - b3**",
      "metadata": {}
    },
    {
      "cell_type": "code",
      "source": "def ident_5 (a,b) :\n    c = a*a*a - 3*a*a*b + 3*a*b*b - b*b*b\n    print (\"L'identité remarquable : (\",a,\"-\",b,\")3 = \", c)\n    return",
      "metadata": {
        "trusted": true
      },
      "outputs": [],
      "execution_count": 69
    },
    {
      "cell_type": "code",
      "source": "ident_5 (5,7)",
      "metadata": {
        "trusted": true
      },
      "outputs": [
        {
          "name": "stdout",
          "text": "L'identité remarquable : ( 5 - 7 )3 =  -8\n",
          "output_type": "stream"
        }
      ],
      "execution_count": 70
    },
    {
      "cell_type": "markdown",
      "source": " **La 3ème identité remarqueble : a3 – b3 = (a – b) (a² + ab + b² )**",
      "metadata": {}
    },
    {
      "cell_type": "code",
      "source": "def ident_6 (a,b) :\n    c = ( a - b )*( a*a + a*b + b*b )\n    print (\"Le résultat de l'identité remarquable est : \" , c)\n    return",
      "metadata": {
        "trusted": true
      },
      "outputs": [],
      "execution_count": 71
    },
    {
      "cell_type": "code",
      "source": "ident_6 (1,4)",
      "metadata": {
        "trusted": true
      },
      "outputs": [
        {
          "name": "stdout",
          "text": "Le résultat de l'identité remarquable est :  -63\n",
          "output_type": "stream"
        }
      ],
      "execution_count": 72
    },
    {
      "cell_type": "markdown",
      "source": " **La 4 identité remarqueble : a3 – 1 = (a – 1) (a² + a + 1 )**",
      "metadata": {}
    },
    {
      "cell_type": "code",
      "source": "def ident_7 (a) :\n    c = ( a - 1 )*( a*a + a + 1 )\n    print (\"Le résultat de l'identité remarquable est : \" , c)\n    return",
      "metadata": {
        "trusted": true
      },
      "outputs": [],
      "execution_count": 73
    },
    {
      "cell_type": "code",
      "source": "ident_7 (3)",
      "metadata": {
        "trusted": true
      },
      "outputs": [
        {
          "name": "stdout",
          "text": "Le résultat de l'identité remarquable est :  26\n",
          "output_type": "stream"
        }
      ],
      "execution_count": 74
    },
    {
      "cell_type": "markdown",
      "source": " **La 5ème identité remarqueble : a3 + b3 = (a + b) (a² – ab + b² )**",
      "metadata": {}
    },
    {
      "cell_type": "code",
      "source": "def ident_8 (a,b) :\n    c = ( a + b )*( a*a - a*b + b*b )\n    print (\"Le résultat de l'identité remarquable est : \" , c)\n    return",
      "metadata": {
        "trusted": true
      },
      "outputs": [],
      "execution_count": 76
    },
    {
      "cell_type": "code",
      "source": "ident_8 (2,6)",
      "metadata": {
        "trusted": true
      },
      "outputs": [
        {
          "name": "stdout",
          "text": "Le résultat de l'identité remarquable est :  224\n",
          "output_type": "stream"
        }
      ],
      "execution_count": 77
    }
  ]
}