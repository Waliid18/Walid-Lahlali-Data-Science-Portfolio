{
 "cells": [
  {
   "cell_type": "code",
   "execution_count": 1,
   "id": "8191cc7e",
   "metadata": {},
   "outputs": [
    {
     "name": "stdout",
     "output_type": "stream",
     "text": [
      "Entrer l'âge du candidat :41\n",
      "Le candidat est-il admissible ? True\n"
     ]
    }
   ],
   "source": [
    "#1ère méthode :\n",
    "\n",
    "Age = int(input(\"Entrer l'âge du candidat :\"))\n",
    "\n",
    "def president_US (Age):\n",
    "    return Age >= 35\n",
    "\n",
    "print('Le candidat est-il admissible ?', president_US (Age))"
   ]
  },
  {
   "cell_type": "code",
   "execution_count": 2,
   "id": "ee4c830d",
   "metadata": {},
   "outputs": [
    {
     "name": "stdout",
     "output_type": "stream",
     "text": [
      "Entrer l'âge du candidat :18\n",
      "Le candidat est-il admissible ? False\n"
     ]
    }
   ],
   "source": [
    "#2ème méthode :\n",
    "\n",
    "Age = int(input(\"Entrer l'âge du candidat :\"))\n",
    "\n",
    "def president_US (Age):\n",
    "    if (Age >=35):\n",
    "        return True\n",
    "    else :\n",
    "        return False\n",
    "\n",
    "print('Le candidat est-il admissible ?', president_US (Age))"
   ]
  },
  {
   "cell_type": "code",
   "execution_count": 9,
   "id": "49900ecb",
   "metadata": {},
   "outputs": [
    {
     "name": "stdout",
     "output_type": "stream",
     "text": [
      "Entrer l'âge du candidat :18\n",
      "Est-ce qu'il est un citoyen américain de naissance ? (Answer : True or False)True\n",
      "Le candidat est-il admissible ? False\n"
     ]
    }
   ],
   "source": [
    "def can_run_for_president(age, is_natural_born_citizen):\n",
    "    if (age >= 35 and is_natural_born_citizen == True):\n",
    "        return True\n",
    "    else :\n",
    "        return False\n",
    "    \n",
    "age = int(input(\"Entrer l'âge du candidat :\"))\n",
    "natural = bool(input(\"Est-ce qu'il est un citoyen américain de naissance ? (Answer : True or False)\"))\n",
    "\n",
    "print('Le candidat est-il admissible ?',can_run_for_president(age, natural))"
   ]
  }
 ],
 "metadata": {
  "kernelspec": {
   "display_name": "Python 3 (ipykernel)",
   "language": "python",
   "name": "python3"
  },
  "language_info": {
   "codemirror_mode": {
    "name": "ipython",
    "version": 3
   },
   "file_extension": ".py",
   "mimetype": "text/x-python",
   "name": "python",
   "nbconvert_exporter": "python",
   "pygments_lexer": "ipython3",
   "version": "3.11.5"
  }
 },
 "nbformat": 4,
 "nbformat_minor": 5
}
