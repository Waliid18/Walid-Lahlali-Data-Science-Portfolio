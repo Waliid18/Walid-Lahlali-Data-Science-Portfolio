{
  "metadata": {
    "kernelspec": {
      "name": "python",
      "display_name": "Python (Pyodide)",
      "language": "python"
    },
    "language_info": {
      "codemirror_mode": {
        "name": "python",
        "version": 3
      },
      "file_extension": ".py",
      "mimetype": "text/x-python",
      "name": "python",
      "nbconvert_exporter": "python",
      "pygments_lexer": "ipython3",
      "version": "3.8"
    }
  },
  "nbformat_minor": 4,
  "nbformat": 4,
  "cells": [
    {
      "cell_type": "markdown",
      "source": "# ***First steps :***",
      "metadata": {}
    },
    {
      "cell_type": "markdown",
      "source": "1. Print \"Hello world !\"",
      "metadata": {}
    },
    {
      "cell_type": "code",
      "source": "print(\"Hello world !\")",
      "metadata": {
        "trusted": true
      },
      "outputs": [
        {
          "name": "stdout",
          "text": "Hello world !\n",
          "output_type": "stream"
        }
      ],
      "execution_count": 1
    },
    {
      "cell_type": "markdown",
      "source": "2. Print \"My name is Walid Lahlali\"",
      "metadata": {}
    },
    {
      "cell_type": "code",
      "source": "print(\"My name is Walid Lahlali\")",
      "metadata": {
        "trusted": true
      },
      "outputs": [
        {
          "name": "stdout",
          "text": "My name is Walid Lahlali\n",
          "output_type": "stream"
        }
      ],
      "execution_count": 2
    },
    {
      "cell_type": "markdown",
      "source": "3. Print \"These are my first steps on Pythone\"",
      "metadata": {}
    },
    {
      "cell_type": "code",
      "source": "print(\"These are my first steps on Pythone\")",
      "metadata": {
        "trusted": true
      },
      "outputs": [
        {
          "name": "stdout",
          "text": "These are my first steps on Pythone\n",
          "output_type": "stream"
        }
      ],
      "execution_count": 3
    }
  ]
}