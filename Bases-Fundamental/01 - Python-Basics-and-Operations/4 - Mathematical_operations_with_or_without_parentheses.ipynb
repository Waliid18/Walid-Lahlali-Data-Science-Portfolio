{
  "metadata": {
    "kernelspec": {
      "name": "python",
      "display_name": "Python (Pyodide)",
      "language": "python"
    },
    "language_info": {
      "codemirror_mode": {
        "name": "python",
        "version": 3
      },
      "file_extension": ".py",
      "mimetype": "text/x-python",
      "name": "python",
      "nbconvert_exporter": "python",
      "pygments_lexer": "ipython3",
      "version": "3.8"
    }
  },
  "nbformat_minor": 4,
  "nbformat": 4,
  "cells": [
    {
      "cell_type": "markdown",
      "source": "# ***I - Mathematical operations with / without parentheses:***",
      "metadata": {}
    },
    {
      "cell_type": "markdown",
      "source": "1. **Mathematical operations without parentheses:**",
      "metadata": {}
    },
    {
      "cell_type": "markdown",
      "source": "Let's perform the following operation : -12.4 + 3.2 × 7.2 - 12.4 ÷ 3.2 + 1.4 × 5",
      "metadata": {}
    },
    {
      "cell_type": "markdown",
      "source": "+ **Step 1 :**",
      "metadata": {}
    },
    {
      "cell_type": "markdown",
      "source": "Complete all multiplication and division working from left to right. Perform : 3.2 × 7.2 and 12.4 ÷ 3.2 and 1.4 × 5",
      "metadata": {}
    },
    {
      "cell_type": "code",
      "source": "print('3.2 × 7.2 =',3.2*7.2)\nprint('12.4 ÷ 3.2 =',12.4/3.2)\nprint('1.4 × 5 =',1.4*5)",
      "metadata": {
        "trusted": true
      },
      "outputs": [
        {
          "name": "stdout",
          "text": "3.2 × 7.2 = 23.040000000000003\n12.4 ÷ 3.2 = 3.875\n1.4 × 5 = 7.0\n",
          "output_type": "stream"
        }
      ],
      "execution_count": 24
    },
    {
      "cell_type": "markdown",
      "source": "+ **Step 2 :**",
      "metadata": {}
    },
    {
      "cell_type": "markdown",
      "source": "Complete all addition and subtraction working from left to right.Prform : -12.4 + 23.040000000000003 - 3.875 + 7.0",
      "metadata": {}
    },
    {
      "cell_type": "code",
      "source": "print('-12.4 + 23.040000000000003 - 3.875 + 7.0 =',-12.4 + 23.040000000000003 - 3.875 + 7.0)",
      "metadata": {
        "trusted": true
      },
      "outputs": [
        {
          "name": "stdout",
          "text": "-12.4 + 23.040000000000003 - 3.875 + 7.0 = 13.765000000000002\n",
          "output_type": "stream"
        }
      ],
      "execution_count": 28
    },
    {
      "cell_type": "markdown",
      "source": "+ **Step 3 :**",
      "metadata": {}
    },
    {
      "cell_type": "markdown",
      "source": "The result",
      "metadata": {}
    },
    {
      "cell_type": "code",
      "source": "print('-12.4 + 3.2 × 7.2 - 12.4÷3.2 + 1.4×5 =',-12.4 + 3.2*7.2 - 12.4/3.2 + 1.4*5)",
      "metadata": {
        "trusted": true
      },
      "outputs": [
        {
          "name": "stdout",
          "text": "-12.4 + 3.2 × 7.2 - 12.4÷3.2 + 1.4×5 = 13.765000000000002\n",
          "output_type": "stream"
        }
      ],
      "execution_count": 29
    },
    {
      "cell_type": "markdown",
      "source": "2. **Mathematical operations with parentheses :**",
      "metadata": {}
    },
    {
      "cell_type": "markdown",
      "source": "Let's perform the following operation : (-15.6 + 2.1) × 4.5 - 9.7 ÷ (5.2 - 0.4) + 6.2",
      "metadata": {}
    },
    {
      "cell_type": "markdown",
      "source": "+ **Step 1 :**",
      "metadata": {}
    },
    {
      "cell_type": "markdown",
      "source": "calculat the operation inside of the parentheses. Perform : -15.6 + 2.1 and 5.2 - 0.4",
      "metadata": {}
    },
    {
      "cell_type": "code",
      "source": "print('-15.6 + 2.1 =',-15.6 + 2.1)\nprint('  5.2 - 0.4 =',5.2 - 0.4)",
      "metadata": {
        "trusted": true
      },
      "outputs": [
        {
          "name": "stdout",
          "text": "-15.6 + 2.1 = -13.5\n  5.2 - 0.4 = 4.8\n",
          "output_type": "stream"
        }
      ],
      "execution_count": 31
    },
    {
      "cell_type": "markdown",
      "source": "+ **Step 2 :**",
      "metadata": {}
    },
    {
      "cell_type": "markdown",
      "source": "Complete all multiplication and division working from left to right. Perform : -13.5 × 4.5 and 9.7 ÷ 4.8",
      "metadata": {}
    },
    {
      "cell_type": "code",
      "source": "print('-13.5 × 4.5 =',-13.5*4.5)\nprint('9.7 ÷ 4.8 =',9.7/4.8)",
      "metadata": {
        "trusted": true
      },
      "outputs": [
        {
          "name": "stdout",
          "text": "-13.5 × 4.5 = -60.75\n9.7 ÷ 4.8 = 2.0208333333333335\n",
          "output_type": "stream"
        }
      ],
      "execution_count": 33
    },
    {
      "cell_type": "markdown",
      "source": "Complete all addition and subtraction working from left to right.Prform : -60.75 - 2.0208333333333335 + 6.2",
      "metadata": {}
    },
    {
      "cell_type": "code",
      "source": "print('-60.75 - 2.0208333333333335 + 6.2 =',-60.75 - 2.0208333333333335 + 6.2)",
      "metadata": {
        "trusted": true
      },
      "outputs": [
        {
          "name": "stdout",
          "text": "-60.75 - 2.0208333333333335 + 6.2 = -56.57083333333333\n",
          "output_type": "stream"
        }
      ],
      "execution_count": 34
    },
    {
      "cell_type": "markdown",
      "source": "+ **Step 3 :**",
      "metadata": {}
    },
    {
      "cell_type": "markdown",
      "source": "The result",
      "metadata": {}
    },
    {
      "cell_type": "code",
      "source": "print('(-15.6 + 2.1) × 4.5 - 9.7 ÷ (5.2 - 0.4) + 6.2 =',(-15.6 + 2.1)*4.5 - 9.7/(5.2 - 0.4) + 6.2)",
      "metadata": {
        "trusted": true
      },
      "outputs": [
        {
          "name": "stdout",
          "text": "(-15.6 + 2.1) × 4.5 - 9.7 ÷ (5.2 - 0.4) + 6.2 = -56.57083333333333\n",
          "output_type": "stream"
        }
      ],
      "execution_count": 35
    }
  ]
}