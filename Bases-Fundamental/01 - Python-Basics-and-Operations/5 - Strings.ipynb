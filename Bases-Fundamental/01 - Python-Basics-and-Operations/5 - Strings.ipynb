{
  "metadata": {
    "kernelspec": {
      "name": "python",
      "display_name": "Python (Pyodide)",
      "language": "python"
    },
    "language_info": {
      "codemirror_mode": {
        "name": "python",
        "version": 3
      },
      "file_extension": ".py",
      "mimetype": "text/x-python",
      "name": "python",
      "nbconvert_exporter": "python",
      "pygments_lexer": "ipython3",
      "version": "3.8"
    }
  },
  "nbformat_minor": 4,
  "nbformat": 4,
  "cells": [
    {
      "cell_type": "markdown",
      "source": "# ***Strings :***",
      "metadata": {}
    },
    {
      "cell_type": "markdown",
      "source": "1. **Print strings :**",
      "metadata": {}
    },
    {
      "cell_type": "markdown",
      "source": "+ **Method 1 :**",
      "metadata": {}
    },
    {
      "cell_type": "code",
      "source": "print(\"My name is Walid Lahlali, I'm 31 years old\")",
      "metadata": {
        "trusted": true
      },
      "outputs": [
        {
          "name": "stdout",
          "text": "My name is Walid Lahlali, I'm 31 years old\n",
          "output_type": "stream"
        }
      ],
      "execution_count": 4
    },
    {
      "cell_type": "markdown",
      "source": "+ **Method 2 :**",
      "metadata": {}
    },
    {
      "cell_type": "code",
      "source": "Name_Age = \"My name is Walid Lahlali, I'm 31 years old\"\nName_Age",
      "metadata": {
        "trusted": true
      },
      "outputs": [
        {
          "execution_count": 5,
          "output_type": "execute_result",
          "data": {
            "text/plain": "\"My name is Walid Lahlali, I'm 31 years old\""
          },
          "metadata": {}
        }
      ],
      "execution_count": 5
    },
    {
      "cell_type": "markdown",
      "source": "2. **Indexing :**",
      "metadata": {}
    },
    {
      "cell_type": "markdown",
      "source": "The first index of \"My name is Walid Lahlali, I'm 31 years old\" is :",
      "metadata": {}
    },
    {
      "cell_type": "code",
      "source": "Name_Age[0] #The first index",
      "metadata": {
        "trusted": true
      },
      "outputs": [
        {
          "execution_count": 7,
          "output_type": "execute_result",
          "data": {
            "text/plain": "'M'"
          },
          "metadata": {}
        }
      ],
      "execution_count": 7
    },
    {
      "cell_type": "markdown",
      "source": "The last index of \"My name is Walid Lahlali, I'm 31 years old\" is :",
      "metadata": {}
    },
    {
      "cell_type": "code",
      "source": "Name_Age[-1] #The last index is Name_Age[-1] or Name_Age[41]",
      "metadata": {
        "trusted": true
      },
      "outputs": [
        {
          "execution_count": 14,
          "output_type": "execute_result",
          "data": {
            "text/plain": "'d'"
          },
          "metadata": {}
        }
      ],
      "execution_count": 14
    },
    {
      "cell_type": "code",
      "source": "Name_Age[41] #The last index is Name_Age[41] or Name_Age[-1]",
      "metadata": {
        "trusted": true
      },
      "outputs": [
        {
          "execution_count": 16,
          "output_type": "execute_result",
          "data": {
            "text/plain": "'d'"
          },
          "metadata": {}
        }
      ],
      "execution_count": 16
    },
    {
      "cell_type": "code",
      "source": "Name_Age[11] #The 12th caracter",
      "metadata": {
        "trusted": true
      },
      "outputs": [
        {
          "execution_count": 18,
          "output_type": "execute_result",
          "data": {
            "text/plain": "'W'"
          },
          "metadata": {}
        }
      ],
      "execution_count": 18
    },
    {
      "cell_type": "markdown",
      "source": "3. **The number of characters :**",
      "metadata": {}
    },
    {
      "cell_type": "code",
      "source": "Name_Age",
      "metadata": {
        "trusted": true
      },
      "outputs": [
        {
          "execution_count": 42,
          "output_type": "execute_result",
          "data": {
            "text/plain": "\"My name is Walid Lahlali, I'm 31 years old\""
          },
          "metadata": {}
        }
      ],
      "execution_count": 42
    },
    {
      "cell_type": "code",
      "source": "print('The number of characters is :',len(Name_Age))",
      "metadata": {
        "trusted": true
      },
      "outputs": [
        {
          "name": "stdout",
          "text": "The number of characters is : 42\n",
          "output_type": "stream"
        }
      ],
      "execution_count": 24
    },
    {
      "cell_type": "code",
      "source": "print(f'The number of characters is : {len(Name_Age)}')",
      "metadata": {
        "trusted": true
      },
      "outputs": [
        {
          "name": "stdout",
          "text": "The number of characters is : 42\n",
          "output_type": "stream"
        }
      ],
      "execution_count": 25
    },
    {
      "cell_type": "markdown",
      "source": "4. **Slicing :**",
      "metadata": {}
    },
    {
      "cell_type": "markdown",
      "source": "The first four characters of \"My name is Walid Lahlali, I'm 31 years old\" are :",
      "metadata": {}
    },
    {
      "cell_type": "code",
      "source": "Name_Age[0:5]",
      "metadata": {
        "trusted": true
      },
      "outputs": [
        {
          "execution_count": 29,
          "output_type": "execute_result",
          "data": {
            "text/plain": "'My na'"
          },
          "metadata": {}
        }
      ],
      "execution_count": 29
    },
    {
      "cell_type": "markdown",
      "source": "The caracters from 11 to 15 :",
      "metadata": {}
    },
    {
      "cell_type": "code",
      "source": "Name_Age[11:16]",
      "metadata": {
        "trusted": true
      },
      "outputs": [
        {
          "execution_count": 40,
          "output_type": "execute_result",
          "data": {
            "text/plain": "'Walid'"
          },
          "metadata": {}
        }
      ],
      "execution_count": 40
    },
    {
      "cell_type": "markdown",
      "source": "Select every second variable :",
      "metadata": {}
    },
    {
      "cell_type": "code",
      "source": "print(Name_Age[::2])",
      "metadata": {
        "trusted": true
      },
      "outputs": [
        {
          "name": "stdout",
          "text": "M aei ai all,Im3 er l\n",
          "output_type": "stream"
        }
      ],
      "execution_count": 41
    }
  ]
}