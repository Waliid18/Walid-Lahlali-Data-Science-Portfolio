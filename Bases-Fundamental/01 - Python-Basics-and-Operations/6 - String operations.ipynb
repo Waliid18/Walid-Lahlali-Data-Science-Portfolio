{
  "metadata": {
    "kernelspec": {
      "name": "python",
      "display_name": "Python (Pyodide)",
      "language": "python"
    },
    "language_info": {
      "codemirror_mode": {
        "name": "python",
        "version": 3
      },
      "file_extension": ".py",
      "mimetype": "text/x-python",
      "name": "python",
      "nbconvert_exporter": "python",
      "pygments_lexer": "ipython3",
      "version": "3.8"
    }
  },
  "nbformat_minor": 4,
  "nbformat": 4,
  "cells": [
    {
      "cell_type": "markdown",
      "source": "# ***String Operations :***",
      "metadata": {}
    },
    {
      "cell_type": "markdown",
      "source": "1. **Addition :**",
      "metadata": {}
    },
    {
      "cell_type": "markdown",
      "source": "Concatenate two strings : ",
      "metadata": {}
    },
    {
      "cell_type": "markdown",
      "source": "+ **Example 1 :**",
      "metadata": {}
    },
    {
      "cell_type": "code",
      "source": "'Walid' + 'Lahlali'",
      "metadata": {
        "trusted": true
      },
      "outputs": [
        {
          "execution_count": 57,
          "output_type": "execute_result",
          "data": {
            "text/plain": "'WalidLahlali'"
          },
          "metadata": {}
        }
      ],
      "execution_count": 57
    },
    {
      "cell_type": "markdown",
      "source": "+ **Example 2 :**",
      "metadata": {}
    },
    {
      "cell_type": "code",
      "source": "first_name = 'Walid'\nlast_name = 'Lahlali'\nfirst_name + last_name",
      "metadata": {
        "trusted": true
      },
      "outputs": [
        {
          "execution_count": 58,
          "output_type": "execute_result",
          "data": {
            "text/plain": "'WalidLahlali'"
          },
          "metadata": {}
        }
      ],
      "execution_count": 58
    },
    {
      "cell_type": "markdown",
      "source": "Concatenate three or four strings : ",
      "metadata": {}
    },
    {
      "cell_type": "code",
      "source": "'my' + 'name' + 'is' + 'Walid'",
      "metadata": {
        "trusted": true
      },
      "outputs": [
        {
          "execution_count": 59,
          "output_type": "execute_result",
          "data": {
            "text/plain": "'mynameisWalid'"
          },
          "metadata": {}
        }
      ],
      "execution_count": 59
    },
    {
      "cell_type": "markdown",
      "source": "2. **Multiplication :**",
      "metadata": {}
    },
    {
      "cell_type": "markdown",
      "source": "**Example 1 :** Print the string for 2 times : ",
      "metadata": {}
    },
    {
      "cell_type": "code",
      "source": "2*'Walid'",
      "metadata": {
        "trusted": true
      },
      "outputs": [
        {
          "execution_count": 60,
          "output_type": "execute_result",
          "data": {
            "text/plain": "'WalidWalid'"
          },
          "metadata": {}
        }
      ],
      "execution_count": 60
    },
    {
      "cell_type": "markdown",
      "source": "**Example 2 :** Print the string for 5 times :",
      "metadata": {}
    },
    {
      "cell_type": "code",
      "source": "5*'Lahlali'",
      "metadata": {
        "trusted": true
      },
      "outputs": [
        {
          "execution_count": 61,
          "output_type": "execute_result",
          "data": {
            "text/plain": "'LahlaliLahlaliLahlaliLahlaliLahlali'"
          },
          "metadata": {}
        }
      ],
      "execution_count": 61
    },
    {
      "cell_type": "markdown",
      "source": "3. **Capital letters :**",
      "metadata": {}
    },
    {
      "cell_type": "markdown",
      "source": "The method **upper** converts lower case characters to upper case characters:",
      "metadata": {}
    },
    {
      "cell_type": "code",
      "source": "Name = 'walid lahlali'\nName.upper()",
      "metadata": {
        "trusted": true
      },
      "outputs": [
        {
          "execution_count": 62,
          "output_type": "execute_result",
          "data": {
            "text/plain": "'WALID LAHLALI'"
          },
          "metadata": {}
        }
      ],
      "execution_count": 62
    },
    {
      "cell_type": "markdown",
      "source": "4. **Lowercase letters :**",
      "metadata": {}
    },
    {
      "cell_type": "markdown",
      "source": "The method lower converts upper case characters to lower case characters:",
      "metadata": {}
    },
    {
      "cell_type": "code",
      "source": "Name = 'WALID LAHLAI'\nName.lower()",
      "metadata": {
        "trusted": true
      },
      "outputs": [
        {
          "execution_count": 63,
          "output_type": "execute_result",
          "data": {
            "text/plain": "'walid lahlai'"
          },
          "metadata": {}
        }
      ],
      "execution_count": 63
    },
    {
      "cell_type": "markdown",
      "source": "5. **Replace strings :**",
      "metadata": {}
    },
    {
      "cell_type": "markdown",
      "source": "The method replace replaces a segment of the string :",
      "metadata": {}
    },
    {
      "cell_type": "code",
      "source": "Name = 'walid lahlali'\nName.replace('walid','raja')",
      "metadata": {
        "trusted": true
      },
      "outputs": [
        {
          "execution_count": 64,
          "output_type": "execute_result",
          "data": {
            "text/plain": "'raja lahlali'"
          },
          "metadata": {}
        }
      ],
      "execution_count": 64
    },
    {
      "cell_type": "markdown",
      "source": "6. **Find strings:**",
      "metadata": {}
    },
    {
      "cell_type": "markdown",
      "source": "The method find finds a sub-string :",
      "metadata": {}
    },
    {
      "cell_type": "code",
      "source": "Name = 'walid lahlali'\nName.find('lid') # 2 is the index of first string",
      "metadata": {
        "trusted": true
      },
      "outputs": [
        {
          "execution_count": 65,
          "output_type": "execute_result",
          "data": {
            "text/plain": "2"
          },
          "metadata": {}
        }
      ],
      "execution_count": 65
    },
    {
      "cell_type": "markdown",
      "source": "7. **split strings :**",
      "metadata": {}
    },
    {
      "cell_type": "code",
      "source": "Name = 'walid lahlali'\nName.split()",
      "metadata": {
        "trusted": true
      },
      "outputs": [
        {
          "execution_count": 66,
          "output_type": "execute_result",
          "data": {
            "text/plain": "['walid', 'lahlali']"
          },
          "metadata": {}
        }
      ],
      "execution_count": 66
    }
  ]
}