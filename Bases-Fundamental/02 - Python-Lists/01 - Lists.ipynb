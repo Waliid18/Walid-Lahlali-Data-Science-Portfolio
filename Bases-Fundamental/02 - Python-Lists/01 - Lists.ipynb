{
  "metadata": {
    "kernelspec": {
      "name": "python",
      "display_name": "Python (Pyodide)",
      "language": "python"
    },
    "language_info": {
      "codemirror_mode": {
        "name": "python",
        "version": 3
      },
      "file_extension": ".py",
      "mimetype": "text/x-python",
      "name": "python",
      "nbconvert_exporter": "python",
      "pygments_lexer": "ipython3",
      "version": "3.8"
    }
  },
  "nbformat_minor": 4,
  "nbformat": 4,
  "cells": [
    {
      "cell_type": "markdown",
      "source": "# ***Lists :***",
      "metadata": {}
    },
    {
      "cell_type": "markdown",
      "source": "We consider the following list :",
      "metadata": {}
    },
    {
      "cell_type": "code",
      "source": "list = ['Walid' , 'Lahlali' , 31 , 'Montreal' , 'Canada']\nlist",
      "metadata": {
        "trusted": true
      },
      "outputs": [
        {
          "execution_count": 6,
          "output_type": "execute_result",
          "data": {
            "text/plain": "['Walid', 'Lahlali', 31, 'Montreal', 'Canada']"
          },
          "metadata": {}
        }
      ],
      "execution_count": 6
    },
    {
      "cell_type": "markdown",
      "source": "1. **indexing :**",
      "metadata": {}
    },
    {
      "cell_type": "code",
      "source": "# first element of the list\nlist [0]",
      "metadata": {
        "trusted": true
      },
      "outputs": [
        {
          "execution_count": 7,
          "output_type": "execute_result",
          "data": {
            "text/plain": "'Walid'"
          },
          "metadata": {}
        }
      ],
      "execution_count": 7
    },
    {
      "cell_type": "code",
      "source": "# Last element of the list\nlist [-1]",
      "metadata": {
        "trusted": true
      },
      "outputs": [
        {
          "name": "stdout",
          "text": "Canada\n",
          "output_type": "stream"
        }
      ],
      "execution_count": 12
    },
    {
      "cell_type": "code",
      "source": "# Second element of the list\nprint('The second element using positive indexing:',list [1])\n#or\nprint('The second element using negative indexing:',list [-4])",
      "metadata": {
        "trusted": true
      },
      "outputs": [
        {
          "name": "stdout",
          "text": "The second element using positive indexing: Lahlali\nThe second element using negative indexing: Lahlali\n",
          "output_type": "stream"
        }
      ],
      "execution_count": 11
    },
    {
      "cell_type": "markdown",
      "source": "2. **Slicing :**",
      "metadata": {}
    },
    {
      "cell_type": "markdown",
      "source": "We can perform slicing in lists. For example, if we want the first two elements, we use :",
      "metadata": {}
    },
    {
      "cell_type": "code",
      "source": "list [0:2]",
      "metadata": {
        "trusted": true
      },
      "outputs": [
        {
          "execution_count": 16,
          "output_type": "execute_result",
          "data": {
            "text/plain": "['Walid', 'Lahlali']"
          },
          "metadata": {}
        }
      ],
      "execution_count": 16
    },
    {
      "cell_type": "markdown",
      "source": "if we want to select every second element, we use :",
      "metadata": {}
    },
    {
      "cell_type": "code",
      "source": "list [::2]",
      "metadata": {
        "trusted": true
      },
      "outputs": [
        {
          "execution_count": 17,
          "output_type": "execute_result",
          "data": {
            "text/plain": "['Walid', 31, 'Canada']"
          },
          "metadata": {}
        }
      ],
      "execution_count": 17
    },
    {
      "cell_type": "markdown",
      "source": "3. **Extend :**",
      "metadata": {}
    },
    {
      "cell_type": "markdown",
      "source": "We use the method extend to add new elements to the list:",
      "metadata": {}
    },
    {
      "cell_type": "code",
      "source": "# Add two elements : 'Raja' and 30 to \"list\"\nlist.extend(['Raja', 30 ])",
      "metadata": {
        "trusted": true
      },
      "outputs": [],
      "execution_count": 18
    },
    {
      "cell_type": "code",
      "source": "list",
      "metadata": {
        "trusted": true
      },
      "outputs": [
        {
          "execution_count": 21,
          "output_type": "execute_result",
          "data": {
            "text/plain": "['Walid', 'Lahlali', 31, 'Montreal', 'Canada', 'Raja', 30]"
          },
          "metadata": {}
        }
      ],
      "execution_count": 21
    },
    {
      "cell_type": "markdown",
      "source": "4. **Append :**",
      "metadata": {}
    },
    {
      "cell_type": "markdown",
      "source": "If we apply append, we add one element to the list:",
      "metadata": {}
    },
    {
      "cell_type": "code",
      "source": "list.append(['Morocco'])",
      "metadata": {
        "trusted": true
      },
      "outputs": [],
      "execution_count": 22
    },
    {
      "cell_type": "code",
      "source": "list",
      "metadata": {
        "trusted": true
      },
      "outputs": [
        {
          "execution_count": 23,
          "output_type": "execute_result",
          "data": {
            "text/plain": "['Walid', 'Lahlali', 31, 'Montreal', 'Canada', 'Raja', 30, ['Morocco']]"
          },
          "metadata": {}
        }
      ],
      "execution_count": 23
    },
    {
      "cell_type": "code",
      "source": "list.append(['North america','Africa'])",
      "metadata": {
        "trusted": true
      },
      "outputs": [],
      "execution_count": 42
    },
    {
      "cell_type": "code",
      "source": "list",
      "metadata": {
        "trusted": true
      },
      "outputs": [
        {
          "execution_count": 43,
          "output_type": "execute_result",
          "data": {
            "text/plain": "['Walid',\n 'Lahlali',\n 31,\n 'Montreal',\n 'Canada',\n 'Raja',\n 30,\n ['Morocco'],\n ['North america', 'Africa']]"
          },
          "metadata": {}
        }
      ],
      "execution_count": 43
    },
    {
      "cell_type": "markdown",
      "source": "5. **Delete :**",
      "metadata": {}
    },
    {
      "cell_type": "markdown",
      "source": "We can delete an element of the list using del command :",
      "metadata": {}
    },
    {
      "cell_type": "code",
      "source": "# Delete the last element\ndel ( list[-1] )",
      "metadata": {
        "trusted": true
      },
      "outputs": [],
      "execution_count": 44
    },
    {
      "cell_type": "code",
      "source": "list",
      "metadata": {
        "trusted": true
      },
      "outputs": [
        {
          "execution_count": 45,
          "output_type": "execute_result",
          "data": {
            "text/plain": "['Walid', 'Lahlali', 31, 'Montreal', 'Canada', 'Raja', 30, ['Morocco']]"
          },
          "metadata": {}
        }
      ],
      "execution_count": 45
    },
    {
      "cell_type": "markdown",
      "source": "6. **Cloning :**",
      "metadata": {}
    },
    {
      "cell_type": "markdown",
      "source": "We can clone \"list\" by using the following syntax:",
      "metadata": {}
    },
    {
      "cell_type": "code",
      "source": "LIST = list[:]",
      "metadata": {
        "trusted": true
      },
      "outputs": [],
      "execution_count": 46
    },
    {
      "cell_type": "code",
      "source": "LIST",
      "metadata": {
        "trusted": true
      },
      "outputs": [
        {
          "execution_count": 47,
          "output_type": "execute_result",
          "data": {
            "text/plain": "['Walid', 'Lahlali', 31, 'Montreal', 'Canada', 'Raja', 30, ['Morocco']]"
          },
          "metadata": {}
        }
      ],
      "execution_count": 47
    },
    {
      "cell_type": "code",
      "source": "",
      "metadata": {
        "trusted": true
      },
      "outputs": [],
      "execution_count": null
    }
  ]
}