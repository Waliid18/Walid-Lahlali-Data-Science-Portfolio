{
  "metadata": {
    "kernelspec": {
      "name": "python",
      "display_name": "Python (Pyodide)",
      "language": "python"
    },
    "language_info": {
      "codemirror_mode": {
        "name": "python",
        "version": 3
      },
      "file_extension": ".py",
      "mimetype": "text/x-python",
      "name": "python",
      "nbconvert_exporter": "python",
      "pygments_lexer": "ipython3",
      "version": "3.8"
    }
  },
  "nbformat_minor": 4,
  "nbformat": 4,
  "cells": [
    {
      "cell_type": "markdown",
      "source": "# ***Project 5 : Lists***",
      "metadata": {}
    },
    {
      "cell_type": "markdown",
      "source": "## **objectif**\n### **Le principal objectif de cet article est de :**\n\n#### **Savoir utiliser les listes sous Python**",
      "metadata": {}
    },
    {
      "cell_type": "markdown",
      "source": "**Création de listes**\n\n1. On dispose d’une liste L non vide de nombres. Créer une liste LC contenant les carrés des nombres de L.",
      "metadata": {}
    },
    {
      "cell_type": "code",
      "source": "# 1ère méthode\n\nL = [1,2,3,4,5]\nLongueur = len (L)\nLC = []\n\nfor i in range (Longueur) :\n     LC.append(L[i]*L[i])\n\nprint(\"La nouvelle liste qui contient les carrées de l'ancienne liste\" , LC )",
      "metadata": {
        "trusted": true
      },
      "outputs": [
        {
          "name": "stdout",
          "text": "La nouvelle liste qui contient les carrées de l'ancienne liste [1, 4, 9, 16, 25]\n",
          "output_type": "stream"
        }
      ],
      "execution_count": 10
    },
    {
      "cell_type": "code",
      "source": "# 2ème méthode\n\nL = [1,2,3,4,5]\nLongueur = len (L)\nLC = []\n\nfor i in range (Longueur) :\n    LC.append(L[i]**2)\nprint(\"La nouvelle liste qui contient les carrées de l'ancienne liste\" , LC )",
      "metadata": {
        "trusted": true
      },
      "outputs": [
        {
          "name": "stdout",
          "text": "La nouvelle liste qui contient les carrées de l'ancienne liste [1, 4, 9, 16, 25]\n",
          "output_type": "stream"
        }
      ],
      "execution_count": 11
    },
    {
      "cell_type": "markdown",
      "source": "2. On dispose maintenant de deux listes L1 et L2. Il s’agit de créer une liste :\n\n+ L3 identiques à L1 dans laquelle on a supprimé la première valeur",
      "metadata": {}
    },
    {
      "cell_type": "code",
      "source": "# Création de deux listes L1 et L2\n\nL1 = [18,1,1993]\nprint('La première liste L1 = ',L1)\nL2 = [11,3,1997]\nprint('La deuxième liste L2 = ',L2)\n\n# Création de la troisième liste vide\n\nL3 = []\n\n# Déterminer le nombre d'éléments de L1\n\nNombre_element_L1 = len (L1)\n\n# Copier les éléments de la liste L1 dans la liste L3 sans le premier élément\n\nfor i in range (1,Nombre_element_L1):\n    L3.append(L1[i])\n    \nprint('La troisième liste L3 = ',L3)",
      "metadata": {
        "trusted": true
      },
      "outputs": [
        {
          "name": "stdout",
          "text": "La première liste L1 =  [18, 1, 1993]\nLa deuxième liste L2 =  [11, 3, 1997]\nLa troisième liste L3 =  [1, 1993]\n",
          "output_type": "stream"
        }
      ],
      "execution_count": 24
    },
    {
      "cell_type": "markdown",
      "source": "+ L4 contenant les valeurs L1 puis celles de L2",
      "metadata": {}
    },
    {
      "cell_type": "code",
      "source": "# Création de la troisième liste vide\n\nL4 = []\n\n# Déterminer le nombre d'éléments de L1\n\nNombre_element_L2 = len (L2)\n\n# Copier les éléments de la liste L1 dans la liste L4\n\nfor i in range (Nombre_element_L1):\n    L4.append(L1[i])\n    \n# Copier les éléments de la liste L2 dans la liste L4\n\nfor i in range (Nombre_element_L2):\n    L4.append(L2[i])\n    \nprint('La quatrième liste L4 = ',L4)\n    ",
      "metadata": {
        "trusted": true
      },
      "outputs": [
        {
          "name": "stdout",
          "text": "La quatrième liste L4 =  [18, 1, 1993, 11, 3, 1997]\n",
          "output_type": "stream"
        }
      ],
      "execution_count": 27
    },
    {
      "cell_type": "markdown",
      "source": "3. Symétrie de la liste :\n\nÉcrire un programme qui affiche si une liste est symétrique (liste identique à la liste à l’envers).",
      "metadata": {}
    },
    {
      "cell_type": "markdown",
      "source": "+ Exemple 1 :",
      "metadata": {}
    },
    {
      "cell_type": "code",
      "source": "list_1 = [7,4,5,2,5,4,7]\ns = True\nnb = len(list_1)\n\nfor i in range (0,nb//2):\n    if list_1[i] == list_1[nb-1-i]:\n        s = True\nprint ('La liste est-elle symétrique ? La réponse est :',s)",
      "metadata": {
        "trusted": true
      },
      "outputs": [
        {
          "name": "stdout",
          "text": "La liste est-elle symétrique ? La réponse est : True\n",
          "output_type": "stream"
        }
      ],
      "execution_count": 52
    },
    {
      "cell_type": "markdown",
      "source": "+ Exemple 2 :",
      "metadata": {}
    },
    {
      "cell_type": "code",
      "source": "list_1 = [19,22,53,2,1]\ns = True\nnb = len(list_1)\n\nfor i in range (0,nb//2):\n    if list_1[i] != list_1[nb-1-i]:\n        s = False\nprint ('La liste est-elle symétrique ? La réponse est :',s)",
      "metadata": {
        "trusted": true
      },
      "outputs": [
        {
          "name": "stdout",
          "text": "La liste est-elle symétrique ? La réponse est : False\n",
          "output_type": "stream"
        }
      ],
      "execution_count": 48
    }
  ]
}