{
 "cells": [
  {
   "cell_type": "code",
   "execution_count": 1,
   "id": "b81c3e79",
   "metadata": {},
   "outputs": [
    {
     "name": "stdout",
     "output_type": "stream",
     "text": [
      "Entrer le nombre d'éléments de la liste :4\n",
      " \n",
      "Entrer l'élement N°  1  : \n",
      "2\n",
      "Entrer l'élement N°  2  : \n",
      "-4\n",
      "Entrer l'élement N°  3  : \n",
      "0\n",
      "Entrer l'élement N°  4  : \n",
      "5\n",
      " \n",
      " Les élements de la liste :\n",
      " \n",
      "[2, -4, 0, 5]\n",
      " \n",
      "Le nombre des éléments supérieurs à 3 est : 1\n"
     ]
    }
   ],
   "source": [
    "x = int(input(\"Entrer le nombre d'éléments de la liste :\"))\n",
    "print (\" \")\n",
    "List =[]\n",
    "for i in range (x) :\n",
    "    print (\"Entrer l'élement N° \",i+1,\" : \")\n",
    "    y = int(input())\n",
    "    List.append(y)\n",
    "print (\" \")\n",
    "print (\" Les élements de la liste :\")\n",
    "print (\" \")\n",
    "print(List)\n",
    "print (\" \")\n",
    "\n",
    "#list = [1,-2,5,9,0,12,11,90,-4,92,15]\n",
    "\n",
    "tri_list = []\n",
    "\n",
    "for i in List :\n",
    "    if i > 3 :\n",
    "        tri_list.append(i)\n",
    "    \n",
    "print(\"Le nombre des éléments supérieurs à 3 est :\",len(tri_list))"
   ]
  },
  {
   "cell_type": "code",
   "execution_count": null,
   "id": "ea71cbbe",
   "metadata": {},
   "outputs": [],
   "source": []
  }
 ],
 "metadata": {
  "kernelspec": {
   "display_name": "Python 3 (ipykernel)",
   "language": "python",
   "name": "python3"
  },
  "language_info": {
   "codemirror_mode": {
    "name": "ipython",
    "version": 3
   },
   "file_extension": ".py",
   "mimetype": "text/x-python",
   "name": "python",
   "nbconvert_exporter": "python",
   "pygments_lexer": "ipython3",
   "version": "3.11.5"
  }
 },
 "nbformat": 4,
 "nbformat_minor": 5
}
