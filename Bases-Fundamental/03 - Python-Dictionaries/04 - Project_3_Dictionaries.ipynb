{
  "metadata": {
    "kernelspec": {
      "name": "python",
      "display_name": "Python (Pyodide)",
      "language": "python"
    },
    "language_info": {
      "codemirror_mode": {
        "name": "python",
        "version": 3
      },
      "file_extension": ".py",
      "mimetype": "text/x-python",
      "name": "python",
      "nbconvert_exporter": "python",
      "pygments_lexer": "ipython3",
      "version": "3.8"
    }
  },
  "nbformat_minor": 4,
  "nbformat": 4,
  "cells": [
    {
      "cell_type": "markdown",
      "source": "# ***Project 3 : Dictionaries***",
      "metadata": {}
    },
    {
      "cell_type": "markdown",
      "source": "On considère la ville suivante :",
      "metadata": {}
    },
    {
      "cell_type": "markdown",
      "source": "| Clé | Valeur |\n|-----|--------|\n| Nom | Montréal|\n| Pays | Canada |\n| Province | Québec |\n| Pop | 1825208 |\n| Superficie | 315 |",
      "metadata": {}
    },
    {
      "cell_type": "markdown",
      "source": "1. **Créer un dict affecté à la variable ville contenant les données ci-dessus.**",
      "metadata": {}
    },
    {
      "cell_type": "code",
      "source": "ville = {\"Nom\" : \"Montréal\" , \"Pays\" : \"Canada\" , \"Province\" : \"Québec\" ,\n         \"Pop\" : 1825208 , \"Superficie\" : 315}\nville",
      "metadata": {
        "trusted": true
      },
      "outputs": [
        {
          "execution_count": 12,
          "output_type": "execute_result",
          "data": {
            "text/plain": "{'Nom': 'Montréal',\n 'Pays': 'Canada',\n 'Province': 'Québec',\n 'Pop': 1825208,\n 'Superficie': 315}"
          },
          "metadata": {}
        }
      ],
      "execution_count": 12
    },
    {
      "cell_type": "markdown",
      "source": "2. **Modifier la superficie, qui est fausse, en 365.**",
      "metadata": {}
    },
    {
      "cell_type": "code",
      "source": "ville[\"Superficie\"] = 365\nville",
      "metadata": {
        "trusted": true
      },
      "outputs": [
        {
          "execution_count": 13,
          "output_type": "execute_result",
          "data": {
            "text/plain": "{'Nom': 'Montréal',\n 'Pays': 'Canada',\n 'Province': 'Québec',\n 'Pop': 1825208,\n 'Superficie': 365}"
          },
          "metadata": {}
        }
      ],
      "execution_count": 13
    },
    {
      "cell_type": "markdown",
      "source": "3. **Ajouter la densité qui est de 4992 habitants au kilomètre carré.**",
      "metadata": {}
    },
    {
      "cell_type": "code",
      "source": "ville[\"Densité\"] = 4992\nville",
      "metadata": {
        "trusted": true
      },
      "outputs": [
        {
          "execution_count": 14,
          "output_type": "execute_result",
          "data": {
            "text/plain": "{'Nom': 'Montréal',\n 'Pays': 'Canada',\n 'Province': 'Québec',\n 'Pop': 1825208,\n 'Superficie': 365,\n 'Densité': 4992}"
          },
          "metadata": {}
        }
      ],
      "execution_count": 14
    },
    {
      "cell_type": "markdown",
      "source": "4. **Supprimer la clé “pop” pour qu’elle devienne “population”.**",
      "metadata": {}
    },
    {
      "cell_type": "code",
      "source": "del (ville[\"Pop\"])\nville[\"population\"] = 1825208\nville",
      "metadata": {
        "trusted": true
      },
      "outputs": [
        {
          "execution_count": 15,
          "output_type": "execute_result",
          "data": {
            "text/plain": "{'Nom': 'Montréal',\n 'Pays': 'Canada',\n 'Province': 'Québec',\n 'Superficie': 365,\n 'Densité': 4992,\n 'population': 1825208}"
          },
          "metadata": {}
        }
      ],
      "execution_count": 15
    }
  ]
}