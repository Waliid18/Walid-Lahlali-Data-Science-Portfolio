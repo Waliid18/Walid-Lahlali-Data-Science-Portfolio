{
  "metadata": {
    "kernelspec": {
      "name": "python",
      "display_name": "Python (Pyodide)",
      "language": "python"
    },
    "language_info": {
      "codemirror_mode": {
        "name": "python",
        "version": 3
      },
      "file_extension": ".py",
      "mimetype": "text/x-python",
      "name": "python",
      "nbconvert_exporter": "python",
      "pygments_lexer": "ipython3",
      "version": "3.8"
    }
  },
  "nbformat_minor": 4,
  "nbformat": 4,
  "cells": [
    {
      "cell_type": "markdown",
      "source": "# ***Project 4 : Dictionaries***",
      "metadata": {}
    },
    {
      "cell_type": "markdown",
      "source": "On considère les données suivantes :",
      "metadata": {}
    },
    {
      "cell_type": "markdown",
      "source": "| Nom | Téléphone |\n|-----|--------|\n| Patrick | 5145861992|\n| Marie | 5148762002 |\n| Hanae | 5141241991 |\n| Piotr | 5140222000 |\n| Sophie | 5147642010 |",
      "metadata": {}
    },
    {
      "cell_type": "markdown",
      "source": "1. **Affecter les données ci-dessus dans un dictionnaire répertoire**",
      "metadata": {}
    },
    {
      "cell_type": "code",
      "source": "répertoire = {\"Patrick\" : 5145861992 , \"Marie\" : 5148762002 , \"Hanae\" : 5141241991,\n              \"Piotr\" : 5140222000 , \"Sophie\" : 5147642010}",
      "metadata": {
        "trusted": true
      },
      "outputs": [],
      "execution_count": 6
    },
    {
      "cell_type": "markdown",
      "source": "2. **Accéder au téléphone de Piotr.**",
      "metadata": {}
    },
    {
      "cell_type": "code",
      "source": "print(\"Le téléphone de Piotr est :\",répertoire[\"Piotr\"])",
      "metadata": {
        "trusted": true
      },
      "outputs": [
        {
          "name": "stdout",
          "text": "Le téléphone de Piotr est : 5140222000\n",
          "output_type": "stream"
        }
      ],
      "execution_count": 7
    },
    {
      "cell_type": "markdown",
      "source": "3. **Vérifier si “Fanny” est enregistrée dans le répertoire.**",
      "metadata": {}
    },
    {
      "cell_type": "code",
      "source": "print(\"Est-ce-que Fanny est enregistrée dans le répertoire? la réponse :\", \"Fanny\" in répertoire)",
      "metadata": {
        "trusted": true
      },
      "outputs": [
        {
          "name": "stdout",
          "text": "Est-ce-que Fanny est enregistrée dans le répertoire? la réponse : False\n",
          "output_type": "stream"
        }
      ],
      "execution_count": 9
    },
    {
      "cell_type": "markdown",
      "source": "4. **Modifier le numéro de Patrick, il se termine par un 3 et non un 2.**",
      "metadata": {}
    },
    {
      "cell_type": "code",
      "source": "répertoire [\"Patrick\"] = 5145861993",
      "metadata": {
        "trusted": true
      },
      "outputs": [],
      "execution_count": 10
    },
    {
      "cell_type": "markdown",
      "source": "5. **Ajouter “Raoul” dont le numéro est “0789898989”**",
      "metadata": {}
    },
    {
      "cell_type": "code",
      "source": "répertoire [\"Raoul\"] = 5140071193",
      "metadata": {
        "trusted": true
      },
      "outputs": [],
      "execution_count": 12
    },
    {
      "cell_type": "markdown",
      "source": "6. **Supprimer “Marie” du repertoire.**",
      "metadata": {}
    },
    {
      "cell_type": "code",
      "source": "del(répertoire [\"Marie\"])",
      "metadata": {
        "trusted": true
      },
      "outputs": [],
      "execution_count": 13
    },
    {
      "cell_type": "markdown",
      "source": "7. **Imprimer la nouvelle répertoire**",
      "metadata": {}
    },
    {
      "cell_type": "code",
      "source": "",
      "metadata": {
        "trusted": true
      },
      "outputs": [],
      "execution_count": null
    }
  ]
}