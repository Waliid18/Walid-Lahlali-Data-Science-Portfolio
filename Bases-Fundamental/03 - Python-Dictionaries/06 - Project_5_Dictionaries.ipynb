{
  "metadata": {
    "kernelspec": {
      "name": "python",
      "display_name": "Python (Pyodide)",
      "language": "python"
    },
    "language_info": {
      "codemirror_mode": {
        "name": "python",
        "version": 3
      },
      "file_extension": ".py",
      "mimetype": "text/x-python",
      "name": "python",
      "nbconvert_exporter": "python",
      "pygments_lexer": "ipython3",
      "version": "3.8"
    }
  },
  "nbformat_minor": 4,
  "nbformat": 4,
  "cells": [
    {
      "cell_type": "markdown",
      "source": "# ***Project 5 : Dictionaries***",
      "metadata": {}
    },
    {
      "cell_type": "markdown",
      "source": "1 . **Créer à la main en une seule instruction le dictionnaire correspondant au tableau suivant :**",
      "metadata": {}
    },
    {
      "cell_type": "markdown",
      "source": "| Nombre | Carré |\n|-----|--------|\n| 1 | 1 |\n| 2 | 4 |\n| 3 | 9 |\n| 4 | 16 |\n| 5 | 25 |\n| 6 | 36 |\n| 7 | 49 |",
      "metadata": {}
    },
    {
      "cell_type": "code",
      "source": "carré_1 = {1 : 1 , 2 : 4 , 3 : 9 , 4 : 16 , 5 : 25 , 6 : 36, 7 : 49}\ncarré_1",
      "metadata": {
        "trusted": true
      },
      "outputs": [
        {
          "execution_count": 2,
          "output_type": "execute_result",
          "data": {
            "text/plain": "{1: 1, 2: 4, 3: 9, 4: 16, 5: 25, 6: 36, 7: 49}"
          },
          "metadata": {}
        }
      ],
      "execution_count": 2
    },
    {
      "cell_type": "markdown",
      "source": "2. **Créer le même dictionnaire en partant d’un dictionnaire vide et en ajoutant les nombres et leur carré instruction par instruction.**",
      "metadata": {}
    },
    {
      "cell_type": "code",
      "source": "carré_2 = {}\ncarré_2 [1] = 1\ncarré_2 [2] = 4\ncarré_2 [3] = 9\ncarré_2 [4] = 16\ncarré_2 [5] = 25\ncarré_2 [6] = 36\ncarré_2 [7] = 49\ncarré_2",
      "metadata": {
        "trusted": true
      },
      "outputs": [
        {
          "execution_count": 4,
          "output_type": "execute_result",
          "data": {
            "text/plain": "{1: 1, 2: 4, 3: 9, 4: 16, 5: 25, 6: 36, 7: 49}"
          },
          "metadata": {}
        }
      ],
      "execution_count": 4
    },
    {
      "cell_type": "markdown",
      "source": "3. **Recommencer en utilisant une boucle.**",
      "metadata": {}
    },
    {
      "cell_type": "code",
      "source": "carré_3 = {}\nfor i in range (1, :\n    carré_3 [i] = i*i\ncarré_3",
      "metadata": {
        "trusted": true
      },
      "outputs": [
        {
          "execution_count": 5,
          "output_type": "execute_result",
          "data": {
            "text/plain": "{}"
          },
          "metadata": {}
        }
      ],
      "execution_count": 5
    },
    {
      "cell_type": "code",
      "source": "",
      "metadata": {
        "trusted": true
      },
      "outputs": [],
      "execution_count": null
    }
  ]
}