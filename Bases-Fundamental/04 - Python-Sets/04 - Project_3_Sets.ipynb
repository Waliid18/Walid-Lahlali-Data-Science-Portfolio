{
  "metadata": {
    "kernelspec": {
      "name": "python",
      "display_name": "Python (Pyodide)",
      "language": "python"
    },
    "language_info": {
      "codemirror_mode": {
        "name": "python",
        "version": 3
      },
      "file_extension": ".py",
      "mimetype": "text/x-python",
      "name": "python",
      "nbconvert_exporter": "python",
      "pygments_lexer": "ipython3",
      "version": "3.8"
    }
  },
  "nbformat_minor": 4,
  "nbformat": 4,
  "cells": [
    {
      "cell_type": "markdown",
      "source": "# ***Project 3 : Sets***",
      "metadata": {}
    },
    {
      "cell_type": "markdown",
      "source": "1. **Return a set of elements present in Set A or B, but not both**",
      "metadata": {}
    },
    {
      "cell_type": "markdown",
      "source": " * **Given :**\n\nset1 = {10, 20, 30, 40, 50}\n\r\nset2 = {30, 40, 50, 60, 70\n\n * **Expected output :**\n\n{20, 70, 10, 60}}",
      "metadata": {}
    },
    {
      "cell_type": "code",
      "source": "# Create two sets\n\nset1 = {10, 20, 30, 40, 50}\n\nset2 = {30, 40, 50, 60, 70}\n\nprint(set1.symmetric_difference(set2))",
      "metadata": {
        "trusted": true
      },
      "outputs": [
        {
          "name": "stdout",
          "text": "{20, 70, 10, 60}\n",
          "output_type": "stream"
        }
      ],
      "execution_count": 7
    },
    {
      "cell_type": "markdown",
      "source": "2. **Check if two sets have any elements in common. If yes, display the common elements**",
      "metadata": {}
    },
    {
      "cell_type": "markdown",
      "source": " * **Given :**\n\nset1 = {10, 20, 30, 40, 50}\n\nset2 = {60, 70, 80, 90, 10}\n\n * **Expected output :**\n\nTwo sets have items in common\n{10}",
      "metadata": {}
    },
    {
      "cell_type": "code",
      "source": "# Create two sets\n\nset1 = {10, 20, 30, 40, 50}\n\nset2 = {60, 70, 80, 90, 10}\n\nif set1.isdisjoint(set2):\n  print(\"Two sets have no items in common\")\nelse:\n  print(\"Two sets have items in common\",set1.intersection(set2))",
      "metadata": {
        "trusted": true
      },
      "outputs": [
        {
          "name": "stdout",
          "text": "Two sets have items in common {10}\n",
          "output_type": "stream"
        }
      ],
      "execution_count": 8
    },
    {
      "cell_type": "markdown",
      "source": "3. **Update set1 by adding items from set2, except common items**",
      "metadata": {}
    },
    {
      "cell_type": "markdown",
      "source": " * **Given :**\n\nset1 = {10, 20, 30, 40, 50}\n\r\nset2 = {30, 40, 50, 60, 70}\n * **Expected output :**\n\n{70, 10, 20, 60}}",
      "metadata": {}
    },
    {
      "cell_type": "code",
      "source": "set1 = {10, 20, 30, 40, 50}\n\nset2 = {30, 40, 50, 60, 70}\n\nset1.symmetric_difference_update(set2)\n\nprint(set1)",
      "metadata": {
        "trusted": true
      },
      "outputs": [
        {
          "name": "stdout",
          "text": "{20, 70, 10, 60}\n",
          "output_type": "stream"
        }
      ],
      "execution_count": 9
    },
    {
      "cell_type": "markdown",
      "source": "4. **Remove items from set1 that are not common to both set1 and set2**",
      "metadata": {}
    },
    {
      "cell_type": "markdown",
      "source": " * **Given :**\n\nset1 = {10, 20, 30, 40, 50}\n\r\nset2 = {30, 40, 50, 60, 70}\n\n * **Expected output :**\n{40, 50, 30}}",
      "metadata": {}
    },
    {
      "cell_type": "code",
      "source": "set1 = {10, 20, 30, 40, 50}\n\nset2 = {30, 40, 50, 60, 70}\n\nset1.intersection_update(set2)\n\nprint(set1)",
      "metadata": {
        "trusted": true
      },
      "outputs": [
        {
          "name": "stdout",
          "text": "{40, 50, 30}\n",
          "output_type": "stream"
        }
      ],
      "execution_count": 10
    }
  ]
}