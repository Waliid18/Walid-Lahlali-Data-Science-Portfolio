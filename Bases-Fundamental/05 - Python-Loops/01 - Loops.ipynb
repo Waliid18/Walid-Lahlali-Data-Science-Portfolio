{
  "metadata": {
    "kernelspec": {
      "name": "python",
      "display_name": "Python (Pyodide)",
      "language": "python"
    },
    "language_info": {
      "codemirror_mode": {
        "name": "python",
        "version": 3
      },
      "file_extension": ".py",
      "mimetype": "text/x-python",
      "name": "python",
      "nbconvert_exporter": "python",
      "pygments_lexer": "ipython3",
      "version": "3.8"
    }
  },
  "nbformat_minor": 4,
  "nbformat": 4,
  "cells": [
    {
      "cell_type": "markdown",
      "source": "# ***Loops :***",
      "metadata": {}
    },
    {
      "cell_type": "markdown",
      "source": "1. **The for loop :**",
      "metadata": {}
    },
    {
      "cell_type": "markdown",
      "source": "The for loop enables to execute a code block multiple times. ",
      "metadata": {}
    },
    {
      "cell_type": "markdown",
      "source": "**Example 1 :** Print all integers between 0 and 10.",
      "metadata": {}
    },
    {
      "cell_type": "code",
      "source": "# First element is 0, and the last element is 10 not 11\nfor i in range (0 , 11) :\n    print (i, end=' ')",
      "metadata": {
        "trusted": true
      },
      "outputs": [
        {
          "name": "stdout",
          "text": "0 1 2 3 4 5 6 7 8 9 10 ",
          "output_type": "stream"
        }
      ],
      "execution_count": 29
    },
    {
      "cell_type": "markdown",
      "source": "**Example 2 :** print out every element in a list.",
      "metadata": {}
    },
    {
      "cell_type": "code",
      "source": "# Create a list\n\nlist = [\"Walid\" , 18 , 1 , \"Montreal\" , \"Morocco\", 12 , 7]\n\n# Print out every element in a list\n\nfor i in list :\n    print (i)",
      "metadata": {
        "trusted": true
      },
      "outputs": [
        {
          "name": "stdout",
          "text": "Walid\n18\n1\nMontreal\nMorocco\n12\n7\n",
          "output_type": "stream"
        }
      ],
      "execution_count": 30
    },
    {
      "cell_type": "code",
      "source": "# Create a list\n\nlist = [\"Walid\" , 18 , 1 , \"Montreal\" , \"Morocco\", 12 , 7]\n\n# Print out every element in a list\n\nfor i in range (0,7) : # We use the range object\n\n    print (list[i])",
      "metadata": {
        "trusted": true
      },
      "outputs": [
        {
          "name": "stdout",
          "text": "Walid\n18\n1\nMontreal\nMorocco\n12\n7\n",
          "output_type": "stream"
        }
      ],
      "execution_count": 31
    },
    {
      "cell_type": "code",
      "source": "# Create a list\n\nlist = [\"Walid\" , 18 , 1 , \"Montreal\" , \"Morocco\", 12 , 7]\n\nLongueur = len (list)  # We use The len() function\n\n# Print out every element in a list\n\nfor i in range(Longueur) :  # We use the range object\n    \n    print (list[i])",
      "metadata": {
        "trusted": true
      },
      "outputs": [
        {
          "name": "stdout",
          "text": "Walid\n18\n1\nMontreal\nMorocco\n12\n7\n",
          "output_type": "stream"
        }
      ],
      "execution_count": 32
    },
    {
      "cell_type": "markdown",
      "source": "**Example 3 :** Access the index and the elements of a list\n",
      "metadata": {}
    },
    {
      "cell_type": "code",
      "source": "for i, j in enumerate (list) :\n    print (\"The index \" , i ,\" is : \", j)",
      "metadata": {
        "trusted": true
      },
      "outputs": [
        {
          "name": "stdout",
          "text": "The index  0  is :  Walid\nThe index  1  is :  18\nThe index  2  is :  1\nThe index  3  is :  Montreal\nThe index  4  is :  Morocco\nThe index  5  is :  12\nThe index  6  is :  7\n",
          "output_type": "stream"
        }
      ],
      "execution_count": 33
    },
    {
      "cell_type": "markdown",
      "source": "2. **The while loop :**",
      "metadata": {}
    },
    {
      "cell_type": "markdown",
      "source": "The while loop exists as a tool for repeated execution based on a condition. The code block will keep being executed until the given logical condition returns a False boolean value.",
      "metadata": {}
    },
    {
      "cell_type": "markdown",
      "source": "**Example 1 :** Print all integers between 0 and 10.",
      "metadata": {}
    },
    {
      "cell_type": "code",
      "source": "i = 0\nwhile (i < 11 ) :\n    print (i,end=' ')\n    i = i + 1",
      "metadata": {
        "trusted": true
      },
      "outputs": [
        {
          "name": "stdout",
          "text": "0 1 2 3 4 5 6 7 8 9 10 ",
          "output_type": "stream"
        }
      ],
      "execution_count": 34
    },
    {
      "cell_type": "markdown",
      "source": "**Example 2 :** print out every element in a list.",
      "metadata": {}
    },
    {
      "cell_type": "code",
      "source": "# Create a list\n\nlist = [\"Walid\" , 18 , 1 , \"Montreal\" , \"Morocco\", 12 , 7]\nLongueur = len (list)\n\n# Print out every element in a list\n\ni = 0\nwhile (i < Longueur) :\n    print (list[i])\n    i = i + 1",
      "metadata": {
        "trusted": true
      },
      "outputs": [
        {
          "name": "stdout",
          "text": "Walid\n18\n1\nMontreal\nMorocco\n12\n7\n",
          "output_type": "stream"
        }
      ],
      "execution_count": 35
    }
  ]
}