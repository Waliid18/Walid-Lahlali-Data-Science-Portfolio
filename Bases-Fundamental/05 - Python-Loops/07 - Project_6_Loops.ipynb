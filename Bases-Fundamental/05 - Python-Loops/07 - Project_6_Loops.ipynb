{
  "metadata": {
    "kernelspec": {
      "name": "python",
      "display_name": "Python (Pyodide)",
      "language": "python"
    },
    "language_info": {
      "codemirror_mode": {
        "name": "python",
        "version": 3
      },
      "file_extension": ".py",
      "mimetype": "text/x-python",
      "name": "python",
      "nbconvert_exporter": "python",
      "pygments_lexer": "ipython3",
      "version": "3.8"
    }
  },
  "nbformat_minor": 4,
  "nbformat": 4,
  "cells": [
    {
      "cell_type": "markdown",
      "source": "# ***Project 6 : Loops***",
      "metadata": {}
    },
    {
      "cell_type": "markdown",
      "source": "**En mathématiques, la suite de Fibonacci est une suite d'entiers dans laquelle chaque terme est la somme des deux termes qui le précèdent. Elle commence généralement par les termes 0 et 1 (parfois 1 et 1) et ses premiers termes sont 0, 1, 1, 2, 3, 5, 8, 13, 21, 34, 55, 89, etc.**\n\n* **Écrivez un programme paramétrique qui fournit la série de Fibonacci pour obtenir les valeurs de n termes.**\n",
      "metadata": {}
    },
    {
      "cell_type": "code",
      "source": "def fibonacci(n):  \n\n    if n == 0: \n        return 0 \n    elif n == 1: \n        return 1 \n    else: \n        return fibonacci(n-2) + fibonacci(n-1) \n  \nprint([fibonacci(n) for n in range(20)]) ",
      "metadata": {
        "trusted": true
      },
      "outputs": [
        {
          "name": "stdout",
          "text": "[0, 1, 1, 2, 3, 5, 8, 13, 21, 34, 55, 89, 144, 233, 377, 610, 987, 1597, 2584, 4181]\n",
          "output_type": "stream"
        }
      ],
      "execution_count": 13
    }
  ]
}