{
 "cells": [
  {
   "cell_type": "markdown",
   "metadata": {},
   "source": [
    "# ***Project 3 : Functions***"
   ]
  },
  {
   "cell_type": "markdown",
   "metadata": {},
   "source": [
    "1. **Définissez une fonction maximum(n1,n2,n3) qui renvoie le plus grand des 3 nombres n1, n2, n3 fournis en arguments.**"
   ]
  },
  {
   "cell_type": "markdown",
   "metadata": {},
   "source": [
    "**Par exemple, l'exécution de l'instruction : print(maximum(2,5,4)) doit donner le résultat : 5.**"
   ]
  },
  {
   "cell_type": "code",
   "execution_count": 1,
   "metadata": {
    "tags": []
   },
   "outputs": [],
   "source": [
    "def maximum (n1,n2,n3) :\n",
    "    if (n1 >= n2 and n1 >= n3) :\n",
    "        print (\"Le maximum de (\",n1,\",\",n2,\",\",n3,\") est :\" , n1)\n",
    "    elif (n2 >= n1 and n2 >= n3) :\n",
    "        print (\"Le maximum de (\",n1,\",\",n2,\",\",n3,\") est :\" , n2)\n",
    "    else :\n",
    "        print (\"Le maximum de (\",n1,\",\",n2,\",\",n3,\") est :\" , n3)\n",
    "    return"
   ]
  },
  {
   "cell_type": "code",
   "execution_count": 2,
   "metadata": {
    "tags": []
   },
   "outputs": [
    {
     "name": "stdout",
     "output_type": "stream",
     "text": [
      "Le maximum de ( 2 , 5 , 4 ) est : 5\n"
     ]
    }
   ],
   "source": [
    "maximum (2,5,4)"
   ]
  },
  {
   "cell_type": "code",
   "execution_count": 3,
   "metadata": {
    "tags": []
   },
   "outputs": [
    {
     "name": "stdout",
     "output_type": "stream",
     "text": [
      "Le maximum de ( 43 , 19 , 12 ) est : 43\n"
     ]
    }
   ],
   "source": [
    "maximum (43,19,12)"
   ]
  },
  {
   "cell_type": "code",
   "execution_count": 4,
   "metadata": {
    "tags": []
   },
   "outputs": [
    {
     "name": "stdout",
     "output_type": "stream",
     "text": [
      "Le maximum de ( 1.7 , -9.5 , 7.2 ) est : 7.2\n"
     ]
    }
   ],
   "source": [
    "maximum (1.7,-9.5,7.2)"
   ]
  },
  {
   "cell_type": "code",
   "execution_count": 5,
   "metadata": {
    "tags": []
   },
   "outputs": [
    {
     "name": "stdout",
     "output_type": "stream",
     "text": [
      "Entrer le 1er nombre : 22.3\n",
      "Entrer le 2ème nombre : 12.9\n",
      "Entrer le 3ème nombre : 1\n",
      "Le maximum de ( 22.3 , 12.9 , 1.0 ) est : 22.3\n"
     ]
    }
   ],
   "source": [
    "x = float (input(\"Entrer le 1er nombre : \"))\n",
    "y = float (input(\"Entrer le 2ème nombre : \"))\n",
    "z = float (input(\"Entrer le 3ème nombre : \"))\n",
    "maximum (x , y , z)"
   ]
  },
  {
   "cell_type": "markdown",
   "metadata": {},
   "source": [
    "2. **Définissez une fonction minimum(n1,n2,n3) qui renvoie le plus peti des 3 nombres n1, n2, n3 fournis en arguments.**"
   ]
  },
  {
   "cell_type": "markdown",
   "metadata": {},
   "source": [
    "**Par exemple, l'exécution de l'instruction : print(minimum(2,5,4)) doit donner le résultat : 2.**"
   ]
  },
  {
   "cell_type": "code",
   "execution_count": 6,
   "metadata": {},
   "outputs": [],
   "source": [
    "def minimum (n1,n2,n3) :\n",
    "    if (n1 <= n2 and n1 <= n3) :\n",
    "        print (\"Le minimum de (\",n1,\",\",n2,\",\",n3,\") est :\" , n1)\n",
    "    elif (n2 <= n1 and n2 <= n3) :\n",
    "        print (\"Le minimum de (\",n1,\",\",n2,\",\",n3,\") est :\" , n2)\n",
    "    else :\n",
    "        print (\"Le minimum de (\",n1,\",\",n2,\",\",n3,\") est :\" , n3)\n",
    "    return"
   ]
  },
  {
   "cell_type": "code",
   "execution_count": 7,
   "metadata": {},
   "outputs": [
    {
     "name": "stdout",
     "output_type": "stream",
     "text": [
      "Le minimum de ( 2 , 5 , 4 ) est : 2\n"
     ]
    }
   ],
   "source": [
    "minimum (2,5,4)"
   ]
  },
  {
   "cell_type": "code",
   "execution_count": 8,
   "metadata": {},
   "outputs": [
    {
     "name": "stdout",
     "output_type": "stream",
     "text": [
      "Le minimum de ( 0 , -3 , 6 ) est : -3\n"
     ]
    }
   ],
   "source": [
    "minimum (0,-3,6)"
   ]
  },
  {
   "cell_type": "code",
   "execution_count": 9,
   "metadata": {
    "tags": []
   },
   "outputs": [
    {
     "name": "stdout",
     "output_type": "stream",
     "text": [
      "Le minimum de ( 3.2 , 1.9 , 1 ) est : 1\n"
     ]
    }
   ],
   "source": [
    "minimum (3.2,1.9,1)"
   ]
  },
  {
   "cell_type": "code",
   "execution_count": 10,
   "metadata": {},
   "outputs": [
    {
     "name": "stdout",
     "output_type": "stream",
     "text": [
      "Entrer le 1er nombre :11\n",
      "Entrer le 2ème nombre :0\n",
      "Entrer le 3ème nombre :-2.3\n",
      "Le minimum de ( 11.0 , 0.0 , -2.3 ) est : -2.3\n"
     ]
    }
   ],
   "source": [
    "x = float(input('Entrer le 1er nombre :'))\n",
    "y = float(input('Entrer le 2ème nombre :'))\n",
    "z = float(input('Entrer le 3ème nombre :'))\n",
    "minimum (x,y,z)"
   ]
  },
  {
   "cell_type": "code",
   "execution_count": null,
   "metadata": {},
   "outputs": [],
   "source": []
  }
 ],
 "metadata": {
  "kernelspec": {
   "display_name": "Python 3 (ipykernel)",
   "language": "python",
   "name": "python3"
  },
  "language_info": {
   "codemirror_mode": {
    "name": "ipython",
    "version": 3
   },
   "file_extension": ".py",
   "mimetype": "text/x-python",
   "name": "python",
   "nbconvert_exporter": "python",
   "pygments_lexer": "ipython3",
   "version": "3.11.5"
  }
 },
 "nbformat": 4,
 "nbformat_minor": 4
}
