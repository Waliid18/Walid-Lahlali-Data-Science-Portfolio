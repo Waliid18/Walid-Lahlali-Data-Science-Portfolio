{
 "cells": [
  {
   "cell_type": "markdown",
   "metadata": {},
   "source": [
    "# ***Project 4 : Functions***"
   ]
  },
  {
   "cell_type": "markdown",
   "metadata": {},
   "source": [
    "**Un gardien de phare va aux toilettes cinq fois par jour. Or les WC sont au rez-de-chaussée…**\n",
    "\n",
    "**Écrire une procédure (donc sans return) hauteurParcourue qui reçoit deux paramètres, le nombre de marches du phare et la hauteur de chaque marche (en cm), et qui affiche :**\n",
    "\n",
    "**Pour x marches de y cm, il parcourt z.zz m par semaine.**"
   ]
  },
  {
   "cell_type": "code",
   "execution_count": 2,
   "metadata": {
    "tags": []
   },
   "outputs": [],
   "source": [
    "def hauteurParcourue (a,b):\n",
    "    if (a < 0 or b < 0 ) :\n",
    "        print (\"Le nombre de marches et la hauteur de chaque marche doivent être positifs !\")\n",
    "    else :\n",
    "        c = (a * b * 10 * 7) / 100\n",
    "        print (\"Pour \",a,\" marches de \", b,\" cm\",\", il parcourt\", c,\" m par semaine\")\n",
    "    return"
   ]
  },
  {
   "cell_type": "code",
   "execution_count": 3,
   "metadata": {
    "tags": []
   },
   "outputs": [
    {
     "name": "stdin",
     "output_type": "stream",
     "text": [
      "Entrer le nombre de marches : 10\n",
      "Entrer la hauteur de chaque marche : 70\n"
     ]
    },
    {
     "name": "stdout",
     "output_type": "stream",
     "text": [
      "Pour  10  marches de  70  cm , il parcourt 490.0  m par semaine\n"
     ]
    }
   ],
   "source": [
    "x = int (input(\"Entrer le nombre de marches :\"))\n",
    "y = int (input(\"Entrer la hauteur de chaque marche :\"))\n",
    "hauteurParcourue (x,y)"
   ]
  },
  {
   "cell_type": "code",
   "execution_count": null,
   "metadata": {},
   "outputs": [],
   "source": []
  }
 ],
 "metadata": {
  "kernelspec": {
   "display_name": "Python 3 (ipykernel)",
   "language": "python",
   "name": "python3"
  },
  "language_info": {
   "codemirror_mode": {
    "name": "ipython",
    "version": 3
   },
   "file_extension": ".py",
   "mimetype": "text/x-python",
   "name": "python",
   "nbconvert_exporter": "python",
   "pygments_lexer": "ipython3",
   "version": "3.11.5"
  }
 },
 "nbformat": 4,
 "nbformat_minor": 4
}
