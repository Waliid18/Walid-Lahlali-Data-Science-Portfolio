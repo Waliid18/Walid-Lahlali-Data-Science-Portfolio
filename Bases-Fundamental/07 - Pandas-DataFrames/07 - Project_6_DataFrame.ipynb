{
 "cells": [
  {
   "cell_type": "markdown",
   "id": "ed175a82",
   "metadata": {},
   "source": [
    "# Project 6 : DataFrame\n",
    "\n"
   ]
  },
  {
   "cell_type": "markdown",
   "id": "de835e49",
   "metadata": {},
   "source": [
    "1. **What is the average number of goals for the home team?**"
   ]
  },
  {
   "cell_type": "code",
   "execution_count": 69,
   "id": "3033fd44",
   "metadata": {},
   "outputs": [],
   "source": [
    "import pandas as pd"
   ]
  },
  {
   "cell_type": "code",
   "execution_count": 70,
   "id": "2c9de780",
   "metadata": {},
   "outputs": [],
   "source": [
    "df = pd.read_csv(\"results.csv\")"
   ]
  },
  {
   "cell_type": "code",
   "execution_count": 71,
   "id": "bb2a11f0",
   "metadata": {},
   "outputs": [
    {
     "name": "stdout",
     "output_type": "stream",
     "text": [
      "<class 'pandas.core.frame.DataFrame'>\n",
      "RangeIndex: 45315 entries, 0 to 45314\n",
      "Data columns (total 9 columns):\n",
      " #   Column      Non-Null Count  Dtype \n",
      "---  ------      --------------  ----- \n",
      " 0   date        45315 non-null  object\n",
      " 1   home_team   45315 non-null  object\n",
      " 2   away_team   45315 non-null  object\n",
      " 3   home_score  45315 non-null  int64 \n",
      " 4   away_score  45315 non-null  int64 \n",
      " 5   tournament  45315 non-null  object\n",
      " 6   city        45315 non-null  object\n",
      " 7   country     45315 non-null  object\n",
      " 8   neutral     45315 non-null  bool  \n",
      "dtypes: bool(1), int64(2), object(6)\n",
      "memory usage: 2.8+ MB\n"
     ]
    }
   ],
   "source": [
    "df.info()"
   ]
  },
  {
   "cell_type": "code",
   "execution_count": 72,
   "id": "5fc49597",
   "metadata": {},
   "outputs": [
    {
     "data": {
      "text/html": [
       "<div>\n",
       "<style scoped>\n",
       "    .dataframe tbody tr th:only-of-type {\n",
       "        vertical-align: middle;\n",
       "    }\n",
       "\n",
       "    .dataframe tbody tr th {\n",
       "        vertical-align: top;\n",
       "    }\n",
       "\n",
       "    .dataframe thead th {\n",
       "        text-align: right;\n",
       "    }\n",
       "</style>\n",
       "<table border=\"1\" class=\"dataframe\">\n",
       "  <thead>\n",
       "    <tr style=\"text-align: right;\">\n",
       "      <th></th>\n",
       "      <th>date</th>\n",
       "      <th>home_team</th>\n",
       "      <th>away_team</th>\n",
       "      <th>home_score</th>\n",
       "      <th>away_score</th>\n",
       "      <th>tournament</th>\n",
       "      <th>city</th>\n",
       "      <th>country</th>\n",
       "      <th>neutral</th>\n",
       "    </tr>\n",
       "  </thead>\n",
       "  <tbody>\n",
       "    <tr>\n",
       "      <th>0</th>\n",
       "      <td>1872-11-30</td>\n",
       "      <td>Scotland</td>\n",
       "      <td>England</td>\n",
       "      <td>0</td>\n",
       "      <td>0</td>\n",
       "      <td>Friendly</td>\n",
       "      <td>Glasgow</td>\n",
       "      <td>Scotland</td>\n",
       "      <td>False</td>\n",
       "    </tr>\n",
       "    <tr>\n",
       "      <th>1</th>\n",
       "      <td>1873-03-08</td>\n",
       "      <td>England</td>\n",
       "      <td>Scotland</td>\n",
       "      <td>4</td>\n",
       "      <td>2</td>\n",
       "      <td>Friendly</td>\n",
       "      <td>London</td>\n",
       "      <td>England</td>\n",
       "      <td>False</td>\n",
       "    </tr>\n",
       "    <tr>\n",
       "      <th>2</th>\n",
       "      <td>1874-03-07</td>\n",
       "      <td>Scotland</td>\n",
       "      <td>England</td>\n",
       "      <td>2</td>\n",
       "      <td>1</td>\n",
       "      <td>Friendly</td>\n",
       "      <td>Glasgow</td>\n",
       "      <td>Scotland</td>\n",
       "      <td>False</td>\n",
       "    </tr>\n",
       "    <tr>\n",
       "      <th>3</th>\n",
       "      <td>1875-03-06</td>\n",
       "      <td>England</td>\n",
       "      <td>Scotland</td>\n",
       "      <td>2</td>\n",
       "      <td>2</td>\n",
       "      <td>Friendly</td>\n",
       "      <td>London</td>\n",
       "      <td>England</td>\n",
       "      <td>False</td>\n",
       "    </tr>\n",
       "    <tr>\n",
       "      <th>4</th>\n",
       "      <td>1876-03-04</td>\n",
       "      <td>Scotland</td>\n",
       "      <td>England</td>\n",
       "      <td>3</td>\n",
       "      <td>0</td>\n",
       "      <td>Friendly</td>\n",
       "      <td>Glasgow</td>\n",
       "      <td>Scotland</td>\n",
       "      <td>False</td>\n",
       "    </tr>\n",
       "    <tr>\n",
       "      <th>...</th>\n",
       "      <td>...</td>\n",
       "      <td>...</td>\n",
       "      <td>...</td>\n",
       "      <td>...</td>\n",
       "      <td>...</td>\n",
       "      <td>...</td>\n",
       "      <td>...</td>\n",
       "      <td>...</td>\n",
       "      <td>...</td>\n",
       "    </tr>\n",
       "    <tr>\n",
       "      <th>45310</th>\n",
       "      <td>2023-11-21</td>\n",
       "      <td>Wales</td>\n",
       "      <td>Turkey</td>\n",
       "      <td>1</td>\n",
       "      <td>1</td>\n",
       "      <td>UEFA Euro qualification</td>\n",
       "      <td>Cardiff</td>\n",
       "      <td>Wales</td>\n",
       "      <td>False</td>\n",
       "    </tr>\n",
       "    <tr>\n",
       "      <th>45311</th>\n",
       "      <td>2023-11-21</td>\n",
       "      <td>Croatia</td>\n",
       "      <td>Armenia</td>\n",
       "      <td>1</td>\n",
       "      <td>0</td>\n",
       "      <td>UEFA Euro qualification</td>\n",
       "      <td>Zagreb</td>\n",
       "      <td>Croatia</td>\n",
       "      <td>False</td>\n",
       "    </tr>\n",
       "    <tr>\n",
       "      <th>45312</th>\n",
       "      <td>2023-11-21</td>\n",
       "      <td>Andorra</td>\n",
       "      <td>Israel</td>\n",
       "      <td>0</td>\n",
       "      <td>2</td>\n",
       "      <td>UEFA Euro qualification</td>\n",
       "      <td>Andorra la Vella</td>\n",
       "      <td>Andorra</td>\n",
       "      <td>False</td>\n",
       "    </tr>\n",
       "    <tr>\n",
       "      <th>45313</th>\n",
       "      <td>2023-11-21</td>\n",
       "      <td>Kosovo</td>\n",
       "      <td>Belarus</td>\n",
       "      <td>0</td>\n",
       "      <td>1</td>\n",
       "      <td>UEFA Euro qualification</td>\n",
       "      <td>Pristina</td>\n",
       "      <td>Kosovo</td>\n",
       "      <td>False</td>\n",
       "    </tr>\n",
       "    <tr>\n",
       "      <th>45314</th>\n",
       "      <td>2023-11-21</td>\n",
       "      <td>Romania</td>\n",
       "      <td>Switzerland</td>\n",
       "      <td>1</td>\n",
       "      <td>0</td>\n",
       "      <td>UEFA Euro qualification</td>\n",
       "      <td>Bucharest</td>\n",
       "      <td>Romania</td>\n",
       "      <td>False</td>\n",
       "    </tr>\n",
       "  </tbody>\n",
       "</table>\n",
       "<p>45315 rows × 9 columns</p>\n",
       "</div>"
      ],
      "text/plain": [
       "             date home_team    away_team  home_score  away_score  \\\n",
       "0      1872-11-30  Scotland      England           0           0   \n",
       "1      1873-03-08   England     Scotland           4           2   \n",
       "2      1874-03-07  Scotland      England           2           1   \n",
       "3      1875-03-06   England     Scotland           2           2   \n",
       "4      1876-03-04  Scotland      England           3           0   \n",
       "...           ...       ...          ...         ...         ...   \n",
       "45310  2023-11-21     Wales       Turkey           1           1   \n",
       "45311  2023-11-21   Croatia      Armenia           1           0   \n",
       "45312  2023-11-21   Andorra       Israel           0           2   \n",
       "45313  2023-11-21    Kosovo      Belarus           0           1   \n",
       "45314  2023-11-21   Romania  Switzerland           1           0   \n",
       "\n",
       "                    tournament              city   country  neutral  \n",
       "0                     Friendly           Glasgow  Scotland    False  \n",
       "1                     Friendly            London   England    False  \n",
       "2                     Friendly           Glasgow  Scotland    False  \n",
       "3                     Friendly            London   England    False  \n",
       "4                     Friendly           Glasgow  Scotland    False  \n",
       "...                        ...               ...       ...      ...  \n",
       "45310  UEFA Euro qualification           Cardiff     Wales    False  \n",
       "45311  UEFA Euro qualification            Zagreb   Croatia    False  \n",
       "45312  UEFA Euro qualification  Andorra la Vella   Andorra    False  \n",
       "45313  UEFA Euro qualification          Pristina    Kosovo    False  \n",
       "45314  UEFA Euro qualification         Bucharest   Romania    False  \n",
       "\n",
       "[45315 rows x 9 columns]"
      ]
     },
     "execution_count": 72,
     "metadata": {},
     "output_type": "execute_result"
    }
   ],
   "source": [
    "df"
   ]
  },
  {
   "cell_type": "code",
   "execution_count": 73,
   "id": "85a32f35",
   "metadata": {},
   "outputs": [
    {
     "name": "stdout",
     "output_type": "stream",
     "text": [
      "The average number of goals for the home team is :  1.7393136930376256\n"
     ]
    }
   ],
   "source": [
    "print(\"The average number of goals for the home team is : \",df['home_score'].mean())"
   ]
  },
  {
   "cell_type": "markdown",
   "id": "74d261e5",
   "metadata": {},
   "source": [
    "2. **What is the average number of goals for the away team?**"
   ]
  },
  {
   "cell_type": "code",
   "execution_count": 74,
   "id": "47e4dd57",
   "metadata": {},
   "outputs": [
    {
     "name": "stdout",
     "output_type": "stream",
     "text": [
      "The average number of goals for the away team is :  1.1782412004854905\n"
     ]
    }
   ],
   "source": [
    "print(\"The average number of goals for the away team is : \",df['away_score'].mean())"
   ]
  },
  {
   "cell_type": "markdown",
   "id": "4b806aea",
   "metadata": {},
   "source": [
    "3. **What is the country with the highest overall home score?**"
   ]
  },
  {
   "cell_type": "code",
   "execution_count": 75,
   "id": "175fec92",
   "metadata": {},
   "outputs": [
    {
     "name": "stdout",
     "output_type": "stream",
     "text": [
      "The country with the highest overall home score is :  United States\n"
     ]
    }
   ],
   "source": [
    "pays = df.groupby(\"country\")[\"home_score\"].sum().idxmax()\n",
    "print(\"The country with the highest overall home score is : \",pays)"
   ]
  },
  {
   "cell_type": "markdown",
   "id": "4131e3a5",
   "metadata": {},
   "source": [
    "4. **What are the top 3 type of tournaments?**"
   ]
  },
  {
   "cell_type": "code",
   "execution_count": 76,
   "id": "dd9073ee",
   "metadata": {},
   "outputs": [
    {
     "name": "stdout",
     "output_type": "stream",
     "text": [
      "The top 3 type of tournaments :\n"
     ]
    },
    {
     "data": {
      "text/plain": [
       "tournament                  \n",
       "Friendly                        17773\n",
       "FIFA World Cup qualification     8016\n",
       "UEFA Euro qualification          2815\n",
       "Name: count, dtype: int64"
      ]
     },
     "execution_count": 76,
     "metadata": {},
     "output_type": "execute_result"
    }
   ],
   "source": [
    "print(\"The top 3 type of tournaments :\")\n",
    "df[['tournament']].value_counts().head(3)"
   ]
  },
  {
   "cell_type": "markdown",
   "id": "12f1fad8",
   "metadata": {},
   "source": [
    "5. **What are the top 3 cities?**"
   ]
  },
  {
   "cell_type": "code",
   "execution_count": 77,
   "id": "e5d93b04",
   "metadata": {},
   "outputs": [
    {
     "name": "stdout",
     "output_type": "stream",
     "text": [
      "The top 5 cities :\n"
     ]
    },
    {
     "data": {
      "text/plain": [
       "city        \n",
       "Kuala Lumpur    678\n",
       "Doha            519\n",
       "Bangkok         430\n",
       "London          423\n",
       "Budapest        419\n",
       "Name: count, dtype: int64"
      ]
     },
     "execution_count": 77,
     "metadata": {},
     "output_type": "execute_result"
    }
   ],
   "source": [
    "print(\"The top 5 cities :\")\n",
    "df[[\"city\"]].value_counts().head()"
   ]
  },
  {
   "cell_type": "markdown",
   "id": "338f985e",
   "metadata": {},
   "source": [
    "6. **Which country has the highest overall FIFA World Cup goals?**"
   ]
  },
  {
   "cell_type": "code",
   "execution_count": 78,
   "id": "392b9b56",
   "metadata": {},
   "outputs": [],
   "source": [
    "df1 = df[df['tournament'] == 'FIFA World Cup'].copy()"
   ]
  },
  {
   "cell_type": "code",
   "execution_count": 79,
   "id": "ee07e3d6",
   "metadata": {},
   "outputs": [],
   "source": [
    "df1[\"Total\"] = df1[\"home_score\"] + df1[\"away_score\"]"
   ]
  },
  {
   "cell_type": "code",
   "execution_count": 80,
   "id": "41615344",
   "metadata": {},
   "outputs": [
    {
     "name": "stdout",
     "output_type": "stream",
     "text": [
      "The country with the highest overall home score is: Brazil\n"
     ]
    }
   ],
   "source": [
    "HS = df1.groupby('country')['Total'].sum().idxmax()\n",
    "\n",
    "print(f\"The country with the highest overall home score is: {HS}\")"
   ]
  },
  {
   "cell_type": "markdown",
   "id": "811033a8",
   "metadata": {},
   "source": [
    "7. **Which country has the lower overall FIFA World Cup goals?**"
   ]
  },
  {
   "cell_type": "code",
   "execution_count": 81,
   "id": "ae66a082",
   "metadata": {},
   "outputs": [
    {
     "name": "stdout",
     "output_type": "stream",
     "text": [
      "The country has the lower overall FIFA World Cup goals is :  Uruguay\n"
     ]
    }
   ],
   "source": [
    "print(\"The country has the lower overall FIFA World Cup goals is : \",df1.groupby('country')[\"Total\"].sum().idxmin())"
   ]
  }
 ],
 "metadata": {
  "kernelspec": {
   "display_name": "Python 3 (ipykernel)",
   "language": "python",
   "name": "python3"
  },
  "language_info": {
   "codemirror_mode": {
    "name": "ipython",
    "version": 3
   },
   "file_extension": ".py",
   "mimetype": "text/x-python",
   "name": "python",
   "nbconvert_exporter": "python",
   "pygments_lexer": "ipython3",
   "version": "3.11.5"
  }
 },
 "nbformat": 4,
 "nbformat_minor": 5
}
