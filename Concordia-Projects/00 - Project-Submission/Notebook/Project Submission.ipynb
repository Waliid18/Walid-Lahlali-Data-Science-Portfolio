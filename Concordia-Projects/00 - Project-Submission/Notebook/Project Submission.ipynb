{
  "metadata": {
    "kernelspec": {
      "name": "python",
      "display_name": "Python (Pyodide)",
      "language": "python"
    },
    "language_info": {
      "codemirror_mode": {
        "name": "python",
        "version": 3
      },
      "file_extension": ".py",
      "mimetype": "text/x-python",
      "name": "python",
      "nbconvert_exporter": "python",
      "pygments_lexer": "ipython3",
      "version": "3.8"
    }
  },
  "nbformat_minor": 5,
  "nbformat": 4,
  "cells": [
    {
      "id": "ed175a82",
      "cell_type": "markdown",
      "source": "# Project Submission\n\n**Please use this notebook for your submission.**\n\nMake sure to fill out all the required fields and to answer all the questions.\n\nAt the end of this project, you will have answered the following questions:\n\n1. What is the average number of goals for the home team? \n2. What is the average number of goals for the away team? \n3. What is the country with the highest overall home score?\n4. What are the top 3 type of tournaments?\n5. Which country has the highest overall FIFA World Cup goals?\n\n\n**Submission Requirements:**\n\n- Make sure that you run all cells with code in your notebook before submitting.\n- You can add additional cells of code if you want, but make sure to clean up your notebook, and only leave the code required to answer the questions.",
      "metadata": {}
    },
    {
      "id": "43e336b8",
      "cell_type": "markdown",
      "source": "## Step 1: Getting Started\n\nYou will mainly work with a Python library called Pandas. Pandas is a powerful library that allows us to manipulate data. In order to use Pandas, you first have to import it. ",
      "metadata": {}
    },
    {
      "id": "3033fd44",
      "cell_type": "code",
      "source": "import pandas as pd",
      "metadata": {
        "trusted": true
      },
      "outputs": [],
      "execution_count": 85
    },
    {
      "id": "f7e3b7f7",
      "cell_type": "markdown",
      "source": "## Step 2: Loading and Exporing the Data\n\nYou can use Pandas to explore and manipulate the _results.csv_ file. \nYou first have to load the csv file into a Pandas dataframe, so you can then analyize the data. \n\nWhen using `pd.read_csv()`, make sure you inlcude the correct path to the csv file, depending on where you saved it when you downloaded it.",
      "metadata": {}
    },
    {
      "id": "2c9de780",
      "cell_type": "code",
      "source": "# First: Load the csv file into a Pandas dataframe (df)\n\ndf = pd.read_csv('results.csv')\ndf",
      "metadata": {
        "trusted": true
      },
      "outputs": [
        {
          "execution_count": 86,
          "output_type": "execute_result",
          "data": {
            "text/plain": "             date home_team    away_team  home_score  away_score  \\\n0      1872-11-30  Scotland      England           0           0   \n1      1873-03-08   England     Scotland           4           2   \n2      1874-03-07  Scotland      England           2           1   \n3      1875-03-06   England     Scotland           2           2   \n4      1876-03-04  Scotland      England           3           0   \n...           ...       ...          ...         ...         ...   \n45310  2023-11-21     Wales       Turkey           1           1   \n45311  2023-11-21   Croatia      Armenia           1           0   \n45312  2023-11-21   Andorra       Israel           0           2   \n45313  2023-11-21    Kosovo      Belarus           0           1   \n45314  2023-11-21   Romania  Switzerland           1           0   \n\n                    tournament              city   country  neutral  \n0                     Friendly           Glasgow  Scotland    False  \n1                     Friendly            London   England    False  \n2                     Friendly           Glasgow  Scotland    False  \n3                     Friendly            London   England    False  \n4                     Friendly           Glasgow  Scotland    False  \n...                        ...               ...       ...      ...  \n45310  UEFA Euro qualification           Cardiff     Wales    False  \n45311  UEFA Euro qualification            Zagreb   Croatia    False  \n45312  UEFA Euro qualification  Andorra la Vella   Andorra    False  \n45313  UEFA Euro qualification          Pristina    Kosovo    False  \n45314  UEFA Euro qualification         Bucharest   Romania    False  \n\n[45315 rows x 9 columns]",
            "text/html": "<div>\n<style scoped>\n    .dataframe tbody tr th:only-of-type {\n        vertical-align: middle;\n    }\n\n    .dataframe tbody tr th {\n        vertical-align: top;\n    }\n\n    .dataframe thead th {\n        text-align: right;\n    }\n</style>\n<table border=\"1\" class=\"dataframe\">\n  <thead>\n    <tr style=\"text-align: right;\">\n      <th></th>\n      <th>date</th>\n      <th>home_team</th>\n      <th>away_team</th>\n      <th>home_score</th>\n      <th>away_score</th>\n      <th>tournament</th>\n      <th>city</th>\n      <th>country</th>\n      <th>neutral</th>\n    </tr>\n  </thead>\n  <tbody>\n    <tr>\n      <th>0</th>\n      <td>1872-11-30</td>\n      <td>Scotland</td>\n      <td>England</td>\n      <td>0</td>\n      <td>0</td>\n      <td>Friendly</td>\n      <td>Glasgow</td>\n      <td>Scotland</td>\n      <td>False</td>\n    </tr>\n    <tr>\n      <th>1</th>\n      <td>1873-03-08</td>\n      <td>England</td>\n      <td>Scotland</td>\n      <td>4</td>\n      <td>2</td>\n      <td>Friendly</td>\n      <td>London</td>\n      <td>England</td>\n      <td>False</td>\n    </tr>\n    <tr>\n      <th>2</th>\n      <td>1874-03-07</td>\n      <td>Scotland</td>\n      <td>England</td>\n      <td>2</td>\n      <td>1</td>\n      <td>Friendly</td>\n      <td>Glasgow</td>\n      <td>Scotland</td>\n      <td>False</td>\n    </tr>\n    <tr>\n      <th>3</th>\n      <td>1875-03-06</td>\n      <td>England</td>\n      <td>Scotland</td>\n      <td>2</td>\n      <td>2</td>\n      <td>Friendly</td>\n      <td>London</td>\n      <td>England</td>\n      <td>False</td>\n    </tr>\n    <tr>\n      <th>4</th>\n      <td>1876-03-04</td>\n      <td>Scotland</td>\n      <td>England</td>\n      <td>3</td>\n      <td>0</td>\n      <td>Friendly</td>\n      <td>Glasgow</td>\n      <td>Scotland</td>\n      <td>False</td>\n    </tr>\n    <tr>\n      <th>...</th>\n      <td>...</td>\n      <td>...</td>\n      <td>...</td>\n      <td>...</td>\n      <td>...</td>\n      <td>...</td>\n      <td>...</td>\n      <td>...</td>\n      <td>...</td>\n    </tr>\n    <tr>\n      <th>45310</th>\n      <td>2023-11-21</td>\n      <td>Wales</td>\n      <td>Turkey</td>\n      <td>1</td>\n      <td>1</td>\n      <td>UEFA Euro qualification</td>\n      <td>Cardiff</td>\n      <td>Wales</td>\n      <td>False</td>\n    </tr>\n    <tr>\n      <th>45311</th>\n      <td>2023-11-21</td>\n      <td>Croatia</td>\n      <td>Armenia</td>\n      <td>1</td>\n      <td>0</td>\n      <td>UEFA Euro qualification</td>\n      <td>Zagreb</td>\n      <td>Croatia</td>\n      <td>False</td>\n    </tr>\n    <tr>\n      <th>45312</th>\n      <td>2023-11-21</td>\n      <td>Andorra</td>\n      <td>Israel</td>\n      <td>0</td>\n      <td>2</td>\n      <td>UEFA Euro qualification</td>\n      <td>Andorra la Vella</td>\n      <td>Andorra</td>\n      <td>False</td>\n    </tr>\n    <tr>\n      <th>45313</th>\n      <td>2023-11-21</td>\n      <td>Kosovo</td>\n      <td>Belarus</td>\n      <td>0</td>\n      <td>1</td>\n      <td>UEFA Euro qualification</td>\n      <td>Pristina</td>\n      <td>Kosovo</td>\n      <td>False</td>\n    </tr>\n    <tr>\n      <th>45314</th>\n      <td>2023-11-21</td>\n      <td>Romania</td>\n      <td>Switzerland</td>\n      <td>1</td>\n      <td>0</td>\n      <td>UEFA Euro qualification</td>\n      <td>Bucharest</td>\n      <td>Romania</td>\n      <td>False</td>\n    </tr>\n  </tbody>\n</table>\n<p>45315 rows × 9 columns</p>\n</div>"
          },
          "metadata": {}
        }
      ],
      "execution_count": 86
    },
    {
      "id": "bb2a11f0",
      "cell_type": "code",
      "source": "# Explore the df\n\ndf.info()",
      "metadata": {
        "trusted": true
      },
      "outputs": [
        {
          "name": "stdout",
          "text": "<class 'pandas.core.frame.DataFrame'>\nRangeIndex: 45315 entries, 0 to 45314\nData columns (total 9 columns):\n #   Column      Non-Null Count  Dtype \n---  ------      --------------  ----- \n 0   date        45315 non-null  object\n 1   home_team   45315 non-null  object\n 2   away_team   45315 non-null  object\n 3   home_score  45315 non-null  int64 \n 4   away_score  45315 non-null  int64 \n 5   tournament  45315 non-null  object\n 6   city        45315 non-null  object\n 7   country     45315 non-null  object\n 8   neutral     45315 non-null  bool  \ndtypes: bool(1), int64(2), object(6)\nmemory usage: 1.8+ MB\n",
          "output_type": "stream"
        }
      ],
      "execution_count": 87
    },
    {
      "id": "6a2aa881",
      "cell_type": "markdown",
      "source": "## Step 3: Data Analysis",
      "metadata": {}
    },
    {
      "id": "98b9d5dd",
      "cell_type": "markdown",
      "source": "### Q1: What is the average number of goals for the home team?\n\nHint: You can call the `mean()` method on the _'home_score'_ column.",
      "metadata": {}
    },
    {
      "id": "c2c5b5ea",
      "cell_type": "code",
      "source": "# Code here\n\nprint('The average number of goals for the home team is :',df['home_score'].mean())",
      "metadata": {
        "trusted": true
      },
      "outputs": [
        {
          "name": "stdout",
          "text": "The average number of goals for the home team is : 1.7393136930376256\n",
          "output_type": "stream"
        }
      ],
      "execution_count": 88
    },
    {
      "id": "ce194e01",
      "cell_type": "markdown",
      "source": "### Q2: What is the average number of goals for the away team?\n\nHint: You can call the `mean()` method on the _'away_score'_ column.",
      "metadata": {}
    },
    {
      "id": "4fb43467",
      "cell_type": "code",
      "source": "# Code here\n\nprint('The average number of goals for the away team is :',df['away_score'].mean())",
      "metadata": {
        "trusted": true
      },
      "outputs": [
        {
          "name": "stdout",
          "text": "The average number of goals for the away team is : 1.1782412004854905\n",
          "output_type": "stream"
        }
      ],
      "execution_count": 89
    },
    {
      "id": "c6044d75",
      "cell_type": "markdown",
      "source": "### Q3: What is the country with the highest overall home score?\n\nHint: You will need to group the data by country, then get the sum of home scores for each country. You can use the `idxmax()` function to find the index(country) with the highest sum. ",
      "metadata": {}
    },
    {
      "id": "e5d93b04",
      "cell_type": "code",
      "source": "# Code here\n\nhighest=df.groupby('country')['home_score'].sum()\n\nprint(f'The country with the highest overall home score is: {highest.idxmax()}')\n",
      "metadata": {
        "trusted": true
      },
      "outputs": [
        {
          "name": "stdout",
          "text": "The country with the highest overall home score is: United States\n",
          "output_type": "stream"
        }
      ],
      "execution_count": 90
    },
    {
      "id": "47e0f275",
      "cell_type": "markdown",
      "source": "### Q4: What are the top 3 type of tournaments?\n\nHint: You can use the `value_counts()` method to count the occurences of each unique value in the _'tournament'_ column.",
      "metadata": {}
    },
    {
      "id": "2d65e4e3",
      "cell_type": "code",
      "source": "# Code here\n\nprint('The top 3 type of tournaments :')\n\ndf[['tournament']].value_counts().head(3)",
      "metadata": {
        "trusted": true
      },
      "outputs": [
        {
          "name": "stdout",
          "text": "The top 3 type of tournaments :\n",
          "output_type": "stream"
        },
        {
          "execution_count": 91,
          "output_type": "execute_result",
          "data": {
            "text/plain": "tournament                  \nFriendly                        17773\nFIFA World Cup qualification     8016\nUEFA Euro qualification          2815\ndtype: int64"
          },
          "metadata": {}
        }
      ],
      "execution_count": 91
    },
    {
      "id": "0bdc8158",
      "cell_type": "markdown",
      "source": "### Q5: Which country has the highest overall FIFA World Cup goals?\n\nTo answer this question, consider breaking down your solution into 3 steps.\n\n**5.1 Create a new dataframe (fifa_df) that only contains rows where the \"tournament\" column == 'FIFA World Cup'.**",
      "metadata": {}
    },
    {
      "id": "db30530c",
      "cell_type": "code",
      "source": "# Code here\n\nfifa_df = df[df['tournament'] == 'FIFA World Cup'].copy()\n\nfifa_df",
      "metadata": {
        "trusted": true
      },
      "outputs": [
        {
          "execution_count": 92,
          "output_type": "execute_result",
          "data": {
            "text/plain": "             date  home_team      away_team  home_score  away_score  \\\n1311   1930-07-13    Belgium  United States           0           3   \n1312   1930-07-13     France         Mexico           4           1   \n1313   1930-07-14     Brazil     Yugoslavia           1           2   \n1314   1930-07-14       Peru        Romania           1           3   \n1315   1930-07-15  Argentina         France           1           0   \n...           ...        ...            ...         ...         ...   \n44349  2022-12-10    England         France           1           2   \n44351  2022-12-13  Argentina        Croatia           3           0   \n44352  2022-12-14     France        Morocco           2           0   \n44356  2022-12-17    Croatia        Morocco           2           1   \n44358  2022-12-18  Argentina         France           3           3   \n\n           tournament        city  country  neutral  \n1311   FIFA World Cup  Montevideo  Uruguay     True  \n1312   FIFA World Cup  Montevideo  Uruguay     True  \n1313   FIFA World Cup  Montevideo  Uruguay     True  \n1314   FIFA World Cup  Montevideo  Uruguay     True  \n1315   FIFA World Cup  Montevideo  Uruguay     True  \n...               ...         ...      ...      ...  \n44349  FIFA World Cup     Al Khor    Qatar     True  \n44351  FIFA World Cup      Lusail    Qatar     True  \n44352  FIFA World Cup     Al Khor    Qatar     True  \n44356  FIFA World Cup   Al Rayyan    Qatar     True  \n44358  FIFA World Cup      Lusail    Qatar     True  \n\n[964 rows x 9 columns]",
            "text/html": "<div>\n<style scoped>\n    .dataframe tbody tr th:only-of-type {\n        vertical-align: middle;\n    }\n\n    .dataframe tbody tr th {\n        vertical-align: top;\n    }\n\n    .dataframe thead th {\n        text-align: right;\n    }\n</style>\n<table border=\"1\" class=\"dataframe\">\n  <thead>\n    <tr style=\"text-align: right;\">\n      <th></th>\n      <th>date</th>\n      <th>home_team</th>\n      <th>away_team</th>\n      <th>home_score</th>\n      <th>away_score</th>\n      <th>tournament</th>\n      <th>city</th>\n      <th>country</th>\n      <th>neutral</th>\n    </tr>\n  </thead>\n  <tbody>\n    <tr>\n      <th>1311</th>\n      <td>1930-07-13</td>\n      <td>Belgium</td>\n      <td>United States</td>\n      <td>0</td>\n      <td>3</td>\n      <td>FIFA World Cup</td>\n      <td>Montevideo</td>\n      <td>Uruguay</td>\n      <td>True</td>\n    </tr>\n    <tr>\n      <th>1312</th>\n      <td>1930-07-13</td>\n      <td>France</td>\n      <td>Mexico</td>\n      <td>4</td>\n      <td>1</td>\n      <td>FIFA World Cup</td>\n      <td>Montevideo</td>\n      <td>Uruguay</td>\n      <td>True</td>\n    </tr>\n    <tr>\n      <th>1313</th>\n      <td>1930-07-14</td>\n      <td>Brazil</td>\n      <td>Yugoslavia</td>\n      <td>1</td>\n      <td>2</td>\n      <td>FIFA World Cup</td>\n      <td>Montevideo</td>\n      <td>Uruguay</td>\n      <td>True</td>\n    </tr>\n    <tr>\n      <th>1314</th>\n      <td>1930-07-14</td>\n      <td>Peru</td>\n      <td>Romania</td>\n      <td>1</td>\n      <td>3</td>\n      <td>FIFA World Cup</td>\n      <td>Montevideo</td>\n      <td>Uruguay</td>\n      <td>True</td>\n    </tr>\n    <tr>\n      <th>1315</th>\n      <td>1930-07-15</td>\n      <td>Argentina</td>\n      <td>France</td>\n      <td>1</td>\n      <td>0</td>\n      <td>FIFA World Cup</td>\n      <td>Montevideo</td>\n      <td>Uruguay</td>\n      <td>True</td>\n    </tr>\n    <tr>\n      <th>...</th>\n      <td>...</td>\n      <td>...</td>\n      <td>...</td>\n      <td>...</td>\n      <td>...</td>\n      <td>...</td>\n      <td>...</td>\n      <td>...</td>\n      <td>...</td>\n    </tr>\n    <tr>\n      <th>44349</th>\n      <td>2022-12-10</td>\n      <td>England</td>\n      <td>France</td>\n      <td>1</td>\n      <td>2</td>\n      <td>FIFA World Cup</td>\n      <td>Al Khor</td>\n      <td>Qatar</td>\n      <td>True</td>\n    </tr>\n    <tr>\n      <th>44351</th>\n      <td>2022-12-13</td>\n      <td>Argentina</td>\n      <td>Croatia</td>\n      <td>3</td>\n      <td>0</td>\n      <td>FIFA World Cup</td>\n      <td>Lusail</td>\n      <td>Qatar</td>\n      <td>True</td>\n    </tr>\n    <tr>\n      <th>44352</th>\n      <td>2022-12-14</td>\n      <td>France</td>\n      <td>Morocco</td>\n      <td>2</td>\n      <td>0</td>\n      <td>FIFA World Cup</td>\n      <td>Al Khor</td>\n      <td>Qatar</td>\n      <td>True</td>\n    </tr>\n    <tr>\n      <th>44356</th>\n      <td>2022-12-17</td>\n      <td>Croatia</td>\n      <td>Morocco</td>\n      <td>2</td>\n      <td>1</td>\n      <td>FIFA World Cup</td>\n      <td>Al Rayyan</td>\n      <td>Qatar</td>\n      <td>True</td>\n    </tr>\n    <tr>\n      <th>44358</th>\n      <td>2022-12-18</td>\n      <td>Argentina</td>\n      <td>France</td>\n      <td>3</td>\n      <td>3</td>\n      <td>FIFA World Cup</td>\n      <td>Lusail</td>\n      <td>Qatar</td>\n      <td>True</td>\n    </tr>\n  </tbody>\n</table>\n<p>964 rows × 9 columns</p>\n</div>"
          },
          "metadata": {}
        }
      ],
      "execution_count": 92
    },
    {
      "id": "c06b0011",
      "cell_type": "markdown",
      "source": "**5.2 In your new fifa_df, create a new _'total_score'_ column that sums _'home_score'_ + _'away_score'_ for each row.**\n\nPS. If you get a \"SettingWithCopyWarning\", please ignore it.",
      "metadata": {}
    },
    {
      "id": "8dd33359",
      "cell_type": "code",
      "source": "# Code here\nfifa_df['total_score'] = fifa_df['home_score'] + fifa_df['away_score']\n\nfifa_df",
      "metadata": {
        "trusted": true
      },
      "outputs": [
        {
          "execution_count": 93,
          "output_type": "execute_result",
          "data": {
            "text/plain": "             date  home_team      away_team  home_score  away_score  \\\n1311   1930-07-13    Belgium  United States           0           3   \n1312   1930-07-13     France         Mexico           4           1   \n1313   1930-07-14     Brazil     Yugoslavia           1           2   \n1314   1930-07-14       Peru        Romania           1           3   \n1315   1930-07-15  Argentina         France           1           0   \n...           ...        ...            ...         ...         ...   \n44349  2022-12-10    England         France           1           2   \n44351  2022-12-13  Argentina        Croatia           3           0   \n44352  2022-12-14     France        Morocco           2           0   \n44356  2022-12-17    Croatia        Morocco           2           1   \n44358  2022-12-18  Argentina         France           3           3   \n\n           tournament        city  country  neutral  total_score  \n1311   FIFA World Cup  Montevideo  Uruguay     True            3  \n1312   FIFA World Cup  Montevideo  Uruguay     True            5  \n1313   FIFA World Cup  Montevideo  Uruguay     True            3  \n1314   FIFA World Cup  Montevideo  Uruguay     True            4  \n1315   FIFA World Cup  Montevideo  Uruguay     True            1  \n...               ...         ...      ...      ...          ...  \n44349  FIFA World Cup     Al Khor    Qatar     True            3  \n44351  FIFA World Cup      Lusail    Qatar     True            3  \n44352  FIFA World Cup     Al Khor    Qatar     True            2  \n44356  FIFA World Cup   Al Rayyan    Qatar     True            3  \n44358  FIFA World Cup      Lusail    Qatar     True            6  \n\n[964 rows x 10 columns]",
            "text/html": "<div>\n<style scoped>\n    .dataframe tbody tr th:only-of-type {\n        vertical-align: middle;\n    }\n\n    .dataframe tbody tr th {\n        vertical-align: top;\n    }\n\n    .dataframe thead th {\n        text-align: right;\n    }\n</style>\n<table border=\"1\" class=\"dataframe\">\n  <thead>\n    <tr style=\"text-align: right;\">\n      <th></th>\n      <th>date</th>\n      <th>home_team</th>\n      <th>away_team</th>\n      <th>home_score</th>\n      <th>away_score</th>\n      <th>tournament</th>\n      <th>city</th>\n      <th>country</th>\n      <th>neutral</th>\n      <th>total_score</th>\n    </tr>\n  </thead>\n  <tbody>\n    <tr>\n      <th>1311</th>\n      <td>1930-07-13</td>\n      <td>Belgium</td>\n      <td>United States</td>\n      <td>0</td>\n      <td>3</td>\n      <td>FIFA World Cup</td>\n      <td>Montevideo</td>\n      <td>Uruguay</td>\n      <td>True</td>\n      <td>3</td>\n    </tr>\n    <tr>\n      <th>1312</th>\n      <td>1930-07-13</td>\n      <td>France</td>\n      <td>Mexico</td>\n      <td>4</td>\n      <td>1</td>\n      <td>FIFA World Cup</td>\n      <td>Montevideo</td>\n      <td>Uruguay</td>\n      <td>True</td>\n      <td>5</td>\n    </tr>\n    <tr>\n      <th>1313</th>\n      <td>1930-07-14</td>\n      <td>Brazil</td>\n      <td>Yugoslavia</td>\n      <td>1</td>\n      <td>2</td>\n      <td>FIFA World Cup</td>\n      <td>Montevideo</td>\n      <td>Uruguay</td>\n      <td>True</td>\n      <td>3</td>\n    </tr>\n    <tr>\n      <th>1314</th>\n      <td>1930-07-14</td>\n      <td>Peru</td>\n      <td>Romania</td>\n      <td>1</td>\n      <td>3</td>\n      <td>FIFA World Cup</td>\n      <td>Montevideo</td>\n      <td>Uruguay</td>\n      <td>True</td>\n      <td>4</td>\n    </tr>\n    <tr>\n      <th>1315</th>\n      <td>1930-07-15</td>\n      <td>Argentina</td>\n      <td>France</td>\n      <td>1</td>\n      <td>0</td>\n      <td>FIFA World Cup</td>\n      <td>Montevideo</td>\n      <td>Uruguay</td>\n      <td>True</td>\n      <td>1</td>\n    </tr>\n    <tr>\n      <th>...</th>\n      <td>...</td>\n      <td>...</td>\n      <td>...</td>\n      <td>...</td>\n      <td>...</td>\n      <td>...</td>\n      <td>...</td>\n      <td>...</td>\n      <td>...</td>\n      <td>...</td>\n    </tr>\n    <tr>\n      <th>44349</th>\n      <td>2022-12-10</td>\n      <td>England</td>\n      <td>France</td>\n      <td>1</td>\n      <td>2</td>\n      <td>FIFA World Cup</td>\n      <td>Al Khor</td>\n      <td>Qatar</td>\n      <td>True</td>\n      <td>3</td>\n    </tr>\n    <tr>\n      <th>44351</th>\n      <td>2022-12-13</td>\n      <td>Argentina</td>\n      <td>Croatia</td>\n      <td>3</td>\n      <td>0</td>\n      <td>FIFA World Cup</td>\n      <td>Lusail</td>\n      <td>Qatar</td>\n      <td>True</td>\n      <td>3</td>\n    </tr>\n    <tr>\n      <th>44352</th>\n      <td>2022-12-14</td>\n      <td>France</td>\n      <td>Morocco</td>\n      <td>2</td>\n      <td>0</td>\n      <td>FIFA World Cup</td>\n      <td>Al Khor</td>\n      <td>Qatar</td>\n      <td>True</td>\n      <td>2</td>\n    </tr>\n    <tr>\n      <th>44356</th>\n      <td>2022-12-17</td>\n      <td>Croatia</td>\n      <td>Morocco</td>\n      <td>2</td>\n      <td>1</td>\n      <td>FIFA World Cup</td>\n      <td>Al Rayyan</td>\n      <td>Qatar</td>\n      <td>True</td>\n      <td>3</td>\n    </tr>\n    <tr>\n      <th>44358</th>\n      <td>2022-12-18</td>\n      <td>Argentina</td>\n      <td>France</td>\n      <td>3</td>\n      <td>3</td>\n      <td>FIFA World Cup</td>\n      <td>Lusail</td>\n      <td>Qatar</td>\n      <td>True</td>\n      <td>6</td>\n    </tr>\n  </tbody>\n</table>\n<p>964 rows × 10 columns</p>\n</div>"
          },
          "metadata": {}
        }
      ],
      "execution_count": 93
    },
    {
      "id": "9b7d48d2",
      "cell_type": "markdown",
      "source": "**5.3 Group your data by country, then get the sum of the _'total_score'_ column. From there, you can use `idxmax()` to find the country with the highest _'total_score'_.**",
      "metadata": {}
    },
    {
      "id": "682c7a8a",
      "cell_type": "code",
      "source": "# Code here\n\nHS = fifa_df.groupby('country')['total_score'].sum().idxmax()\n\nprint(f\"The country with the highest overall home score is: {HS}\")\n",
      "metadata": {
        "trusted": true
      },
      "outputs": [
        {
          "name": "stdout",
          "text": "The country with the highest overall home score is: Brazil\n",
          "output_type": "stream"
        }
      ],
      "execution_count": 94
    },
    {
      "id": "147676f0-b3ce-455b-9f80-d24e6449dd1b",
      "cell_type": "code",
      "source": "",
      "metadata": {
        "trusted": true
      },
      "outputs": [],
      "execution_count": null
    }
  ]
}