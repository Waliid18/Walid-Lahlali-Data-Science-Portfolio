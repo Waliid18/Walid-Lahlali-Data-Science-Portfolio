{
 "cells": [
  {
   "cell_type": "markdown",
   "id": "c86aa4af",
   "metadata": {},
   "source": [
    "# Assignment 1 - Intro to Python\n",
    "___"
   ]
  },
  {
   "cell_type": "markdown",
   "id": "628da81f",
   "metadata": {},
   "source": [
    "## Exercise 1: Basics"
   ]
  },
  {
   "cell_type": "markdown",
   "id": "d14a81c5",
   "metadata": {},
   "source": [
    "### 1.1 \n",
    "\n",
    "Convert the cell below into a markdown cell with the following content:\n",
    "\n",
    "- A level 3 header titled \"Markdown Cell\"\n",
    "- The following text: \"This is a markdown cell\"\n",
    "- The following text in bold: \"This is bold text\"\n",
    "- The following text in italics: \"This text is italicized\""
   ]
  },
  {
   "cell_type": "markdown",
   "id": "ccd5968e",
   "metadata": {},
   "source": [
    "### Markdown Cell\n",
    "\n",
    "This is a markdown cell\n",
    "\n",
    "**This is bold text**\n",
    "\n",
    "*This text is italicized*"
   ]
  },
  {
   "cell_type": "markdown",
   "id": "9821fe72",
   "metadata": {},
   "source": [
    "### 1.2\n",
    "\n",
    "What's the difference between a local and a global variable in Python? \n",
    "Use a multiline comment in the cell below for your answer."
   ]
  },
  {
   "cell_type": "code",
   "execution_count": 86,
   "id": "ab2b4549",
   "metadata": {},
   "outputs": [
    {
     "name": "stdout",
     "output_type": "stream",
     "text": [
      "\n",
      "In Python, the difference between a local and a global variable is their scope and lifetime.\n",
      "\n",
      "- Local Variable:\n",
      "  - A local variable is declared inside a function and is only accessible within that function.\n",
      "  - It is created when the function starts executing and is destroyed when the function ends.\n",
      "  - Local variables can only be used within the scope of the function where they are declared.\n",
      "\n",
      "- Global Variable:\n",
      "  - A global variable is declared outside of all functions and is accessible from any function in the program.\n",
      "  - It exists for the lifetime of the program and can be accessed or modified from any part of the code.\n",
      "  - Global variables can be accessed inside functions, but if you want to modify a global variable inside a function, you need to use the `global` keyword.\n",
      "\n",
      "So, local variables have a local scope limited to the function in which they are defined, while global variables have a global scope and can be accessed from anywhere in the program.\n",
      "\n"
     ]
    }
   ],
   "source": [
    "# 1.2 Answer\n",
    "\n",
    "print(\"\"\"\n",
    "In Python, the difference between a local and a global variable is their scope and lifetime.\n",
    "\n",
    "- Local Variable:\n",
    "  - A local variable is declared inside a function and is only accessible within that function.\n",
    "  - It is created when the function starts executing and is destroyed when the function ends.\n",
    "  - Local variables can only be used within the scope of the function where they are declared.\n",
    "\n",
    "- Global Variable:\n",
    "  - A global variable is declared outside of all functions and is accessible from any function in the program.\n",
    "  - It exists for the lifetime of the program and can be accessed or modified from any part of the code.\n",
    "  - Global variables can be accessed inside functions, but if you want to modify a global variable inside a function, you need to use the `global` keyword.\n",
    "\n",
    "So, local variables have a local scope limited to the function in which they are defined, while global variables have a global scope and can be accessed from anywhere in the program.\n",
    "\"\"\")\n"
   ]
  },
  {
   "cell_type": "markdown",
   "id": "b4014a08",
   "metadata": {},
   "source": [
    "### 1.3\n",
    "\n",
    "Correct the following variable names following Python variable naming convention."
   ]
  },
  {
   "cell_type": "code",
   "execution_count": 87,
   "id": "7f6ec8ef",
   "metadata": {},
   "outputs": [
    {
     "ename": "SyntaxError",
     "evalue": "invalid decimal literal (1058536408.py, line 3)",
     "output_type": "error",
     "traceback": [
      "\u001b[1;36m  Cell \u001b[1;32mIn[87], line 3\u001b[1;36m\u001b[0m\n\u001b[1;33m    1st_variable = 'Hello'\u001b[0m\n\u001b[1;37m    ^\u001b[0m\n\u001b[1;31mSyntaxError\u001b[0m\u001b[1;31m:\u001b[0m invalid decimal literal\n"
     ]
    }
   ],
   "source": [
    "# 1.3.1\n",
    "\n",
    "1st_variable = 'Hello'"
   ]
  },
  {
   "cell_type": "code",
   "execution_count": 88,
   "id": "752632e5",
   "metadata": {},
   "outputs": [],
   "source": [
    "# 1.3.1 Answer\n",
    "\n",
    "st_variable = 'Hello'"
   ]
  },
  {
   "cell_type": "code",
   "execution_count": 89,
   "id": "a1c759f1",
   "metadata": {},
   "outputs": [],
   "source": [
    "# 1.3.2\n",
    "\n",
    "My_VAR = '5'"
   ]
  },
  {
   "cell_type": "code",
   "execution_count": 90,
   "id": "867c3eb9",
   "metadata": {},
   "outputs": [],
   "source": [
    "# 1.3.2 Answer\n",
    "\n",
    "my_var = '5'"
   ]
  },
  {
   "cell_type": "markdown",
   "id": "ecedfba6",
   "metadata": {},
   "source": [
    "### 1.4\n",
    "\n",
    "Given the variables:\n",
    "\n",
    "    country = 'Canada'\n",
    "    city = 'Ottawa'\n",
    "\n",
    "Use the `format()` method to print the following string: \"**The capital of Canada is Ottawa**\""
   ]
  },
  {
   "cell_type": "code",
   "execution_count": 91,
   "id": "b43b4dca",
   "metadata": {},
   "outputs": [
    {
     "name": "stdout",
     "output_type": "stream",
     "text": [
      "The capital of Canada is Ottawa\n"
     ]
    }
   ],
   "source": [
    "# 1.4 Answer\n",
    "country = 'Canada'\n",
    "city = 'Ottawa'\n",
    "\n",
    "print('The capital of {} is {}'.format(country,city))"
   ]
  },
  {
   "cell_type": "markdown",
   "id": "38baaa0b",
   "metadata": {},
   "source": [
    "## Exercise 2: Python Data Types"
   ]
  },
  {
   "cell_type": "markdown",
   "id": "cc0b752f",
   "metadata": {},
   "source": [
    "### 2.1 \n",
    "\n",
    "Perform the following conversions:"
   ]
  },
  {
   "cell_type": "code",
   "execution_count": 92,
   "id": "836e7c8e",
   "metadata": {},
   "outputs": [],
   "source": [
    "# 2.1.1\n",
    "# Convert this string into an integer using the int() function\n",
    "\n",
    "s = '123'"
   ]
  },
  {
   "cell_type": "code",
   "execution_count": 93,
   "id": "bbbaed4f",
   "metadata": {},
   "outputs": [
    {
     "data": {
      "text/plain": [
       "123"
      ]
     },
     "execution_count": 93,
     "metadata": {},
     "output_type": "execute_result"
    }
   ],
   "source": [
    "# 2.1.1 Answer\n",
    "\n",
    "int(s)"
   ]
  },
  {
   "cell_type": "code",
   "execution_count": 94,
   "id": "f39db411",
   "metadata": {},
   "outputs": [],
   "source": [
    "# 2.1.2\n",
    "# Convert this number to a string using the str() function\n",
    "\n",
    "i = 456"
   ]
  },
  {
   "cell_type": "code",
   "execution_count": 95,
   "id": "51990c34",
   "metadata": {},
   "outputs": [
    {
     "data": {
      "text/plain": [
       "'456'"
      ]
     },
     "execution_count": 95,
     "metadata": {},
     "output_type": "execute_result"
    }
   ],
   "source": [
    "# 2.1.2 Answer\n",
    "\n",
    "str(i)"
   ]
  },
  {
   "cell_type": "code",
   "execution_count": 96,
   "id": "37a93d08",
   "metadata": {},
   "outputs": [],
   "source": [
    "# 2.1.2 \n",
    "# Convert this float to an integer\n",
    "\n",
    "f = 3.14"
   ]
  },
  {
   "cell_type": "code",
   "execution_count": 97,
   "id": "d7bbe1ae",
   "metadata": {},
   "outputs": [
    {
     "data": {
      "text/plain": [
       "3"
      ]
     },
     "execution_count": 97,
     "metadata": {},
     "output_type": "execute_result"
    }
   ],
   "source": [
    "# 2.1.2 Answer\n",
    "\n",
    "int(f)"
   ]
  },
  {
   "cell_type": "markdown",
   "id": "4d249c91",
   "metadata": {},
   "source": [
    "## Exercise 3: Data Containers"
   ]
  },
  {
   "cell_type": "markdown",
   "id": "930bca67",
   "metadata": {},
   "source": [
    "### 3.1\n",
    "\n",
    "Create a list called **my_list** that contains the numbers from 1-5"
   ]
  },
  {
   "cell_type": "code",
   "execution_count": 98,
   "id": "be85fffa",
   "metadata": {},
   "outputs": [],
   "source": [
    "# 3.1 Answer\n",
    "\n",
    "my_list = [1,2,3,4,5]"
   ]
  },
  {
   "cell_type": "markdown",
   "id": "7db28209",
   "metadata": {},
   "source": [
    "### 3.2\n",
    "\n",
    "Use negative indexing to access the last element in **my_list**."
   ]
  },
  {
   "cell_type": "code",
   "execution_count": 99,
   "id": "3bcb7576",
   "metadata": {},
   "outputs": [
    {
     "data": {
      "text/plain": [
       "5"
      ]
     },
     "execution_count": 99,
     "metadata": {},
     "output_type": "execute_result"
    }
   ],
   "source": [
    "# 3.2 Answer\n",
    "\n",
    "my_list[-1]"
   ]
  },
  {
   "cell_type": "markdown",
   "id": "1459bcfd",
   "metadata": {},
   "source": [
    "### 3.3\n",
    "\n",
    "Create another list called **new_list** that contains 3 negative numbers only."
   ]
  },
  {
   "cell_type": "code",
   "execution_count": 100,
   "id": "c7cdcf4b",
   "metadata": {},
   "outputs": [],
   "source": [
    "# 3.3 Answer\n",
    "\n",
    "new_list = [-1,-2,-3]"
   ]
  },
  {
   "cell_type": "markdown",
   "id": "9a683f29",
   "metadata": {},
   "source": [
    "### 3.4\n",
    "\n",
    "Append the second element of **new_list** to **my_list**, then print the updated **my_list**."
   ]
  },
  {
   "cell_type": "code",
   "execution_count": 101,
   "id": "142ce2a5",
   "metadata": {},
   "outputs": [
    {
     "name": "stdout",
     "output_type": "stream",
     "text": [
      "[1, 2, 3, 4, 5, -2]\n"
     ]
    }
   ],
   "source": [
    "# 3.4 Answer\n",
    "\n",
    "my_list.append(new_list[1])\n",
    "print(my_list)"
   ]
  },
  {
   "cell_type": "markdown",
   "id": "4e0548d6",
   "metadata": {},
   "source": [
    "### 3.5\n",
    "\n",
    "Create a dictionary with the following keys, 'Name', 'Year', 'Music' and 'Food'. The values associated with each key (in order) should be your name, the current year, you favourite genre of music and one of your favourite foods. \n",
    "\n",
    "Name the dictionary **my_dict** and print it. "
   ]
  },
  {
   "cell_type": "code",
   "execution_count": 102,
   "id": "69fb4235",
   "metadata": {},
   "outputs": [
    {
     "name": "stdout",
     "output_type": "stream",
     "text": [
      "{'Name': 'Walid', 'Year': 2024, 'Music': 'Rap', 'Food': 'Pizza'}\n"
     ]
    }
   ],
   "source": [
    "# 3.5 Answer\n",
    "\n",
    "my_dict = { 'Name' : 'Walid' , 'Year' : 2024 , 'Music' : 'Rap' , 'Food' : 'Pizza' }\n",
    "print(my_dict)"
   ]
  },
  {
   "cell_type": "markdown",
   "id": "6d5942e6",
   "metadata": {},
   "source": [
    "### 3.6\n",
    "\n",
    "Replace the value associated with 'Food' to another one of your favourite foods.\n",
    "Print the updated dictionary."
   ]
  },
  {
   "cell_type": "code",
   "execution_count": 103,
   "id": "7dad74e9",
   "metadata": {},
   "outputs": [
    {
     "name": "stdout",
     "output_type": "stream",
     "text": [
      "{'Name': 'Walid', 'Year': 2024, 'Music': 'Rap', 'Food': 'Pasta'}\n"
     ]
    }
   ],
   "source": [
    "# 3.6 Answer\n",
    "\n",
    "my_dict['Food'] = 'Pasta'\n",
    "print(my_dict)"
   ]
  },
  {
   "cell_type": "markdown",
   "id": "4ffc85dd",
   "metadata": {},
   "source": [
    "### 3.7\n",
    "\n",
    "Given this nested dictionary, grab the word \"YES\"."
   ]
  },
  {
   "cell_type": "code",
   "execution_count": 104,
   "id": "82430263",
   "metadata": {},
   "outputs": [
    {
     "data": {
      "text/plain": [
       "{'key': [634,\n",
       "  11,\n",
       "  9892,\n",
       "  {'another key': ['more', 'values', 'here', {'target': [9, 8, 7, 'YES']}]}]}"
      ]
     },
     "execution_count": 104,
     "metadata": {},
     "output_type": "execute_result"
    }
   ],
   "source": [
    "d = {'key':[634,11,9892,{'another key':['more','values','here',{'target':[9,8,7,'YES']}]}]}\n",
    "d"
   ]
  },
  {
   "cell_type": "code",
   "execution_count": 105,
   "id": "2cc780f4",
   "metadata": {},
   "outputs": [
    {
     "data": {
      "text/plain": [
       "'YES'"
      ]
     },
     "execution_count": 105,
     "metadata": {},
     "output_type": "execute_result"
    }
   ],
   "source": [
    "# 3.7 Answer\n",
    "\n",
    "d['key'][3]['another key'][3]['target'][3]"
   ]
  },
  {
   "cell_type": "markdown",
   "id": "99b11025",
   "metadata": {},
   "source": [
    "### 3.8\n",
    "\n",
    "What is the difference between a tuple and a set?"
   ]
  },
  {
   "cell_type": "code",
   "execution_count": 106,
   "id": "39fe046d",
   "metadata": {},
   "outputs": [
    {
     "name": "stdout",
     "output_type": "stream",
     "text": [
      "\n",
      "The main differences between a tuple and a set in Python are their properties and intended use cases:\n",
      "Tuple: Ordered, immutable, allows duplicates. Defined with ().\n",
      "Set: Unordered, mutable, no duplicates. Defined with {} or set().\n",
      "\n"
     ]
    }
   ],
   "source": [
    "# 3.8 Answer\n",
    "\n",
    "print(\"\"\"\n",
    "The main differences between a tuple and a set in Python are their properties and intended use cases:\n",
    "Tuple: Ordered, immutable, allows duplicates. Defined with ().\n",
    "Set: Unordered, mutable, no duplicates. Defined with {} or set().\n",
    "\"\"\")"
   ]
  },
  {
   "cell_type": "markdown",
   "id": "f3521cec-02bd-40fa-8160-85fbb3c54778",
   "metadata": {},
   "source": [
    "### 3.9\n",
    "\n",
    "Given the following list:\n",
    "\n",
    "`l = [1,2,3,1]`\n",
    "\n",
    "Convert it to a list with unique values only. "
   ]
  },
  {
   "cell_type": "code",
   "execution_count": 107,
   "id": "be9822e7-f0f3-42b4-9568-43f94c30437c",
   "metadata": {},
   "outputs": [
    {
     "data": {
      "text/plain": [
       "[1, 2, 3]"
      ]
     },
     "execution_count": 107,
     "metadata": {},
     "output_type": "execute_result"
    }
   ],
   "source": [
    "# 3.9 Answer\n",
    "l = [1,2,3,1]\n",
    "l = set(l)\n",
    "l = list(l)\n",
    "l"
   ]
  },
  {
   "cell_type": "markdown",
   "id": "ab89e99f",
   "metadata": {
    "tags": []
   },
   "source": [
    "## Exercise 4: Python Operators"
   ]
  },
  {
   "cell_type": "markdown",
   "id": "e805e355",
   "metadata": {},
   "source": [
    "### 4.1\n",
    "\n",
    "Perform the follwoing arithmetic operation: (5+3) x 2"
   ]
  },
  {
   "cell_type": "code",
   "execution_count": 108,
   "id": "09fe76b0",
   "metadata": {},
   "outputs": [
    {
     "data": {
      "text/plain": [
       "16"
      ]
     },
     "execution_count": 108,
     "metadata": {},
     "output_type": "execute_result"
    }
   ],
   "source": [
    "# 4.1 Answer\n",
    "(5+3)*2"
   ]
  },
  {
   "cell_type": "markdown",
   "id": "796ce86e",
   "metadata": {
    "tags": []
   },
   "source": [
    "### 4.2\n",
    "\n",
    "Explain the difference between `/` and `//` division operators in Python"
   ]
  },
  {
   "cell_type": "code",
   "execution_count": 112,
   "id": "ca416e34",
   "metadata": {},
   "outputs": [
    {
     "name": "stdout",
     "output_type": "stream",
     "text": [
      "\n",
      "The / operator performs true division, which means it divides the left operand by the right operand and returns a floating-point result.True division always returns a float, even if both operands are integers.\n",
      "      Example: 5 / 2 results in 2.5.\n",
      "\n",
      "The // operator performs floor division, which means it divides the left operand by the right operand and returns the largest integer less than or equal to the result (i.e., it rounds down to the nearest whole number).\n",
      "Floor division returns an integer if both operands are integers, and a float if at least one operand is a float.\n",
      "      Example: 5 // 2 results in 2.\n",
      "\n"
     ]
    }
   ],
   "source": [
    "# 4.2 Answer\n",
    "print(\"\"\"\n",
    "The / operator performs true division, which means it divides the left operand by the right operand and returns a floating-point result.True division always returns a float, even if both operands are integers.\n",
    "      Example: 5 / 2 results in 2.5.\n",
    "\n",
    "The // operator performs floor division, which means it divides the left operand by the right operand and returns the largest integer less than or equal to the result (i.e., it rounds down to the nearest whole number).\n",
    "Floor division returns an integer if both operands are integers, and a float if at least one operand is a float.\n",
    "      Example: 5 // 2 results in 2.\n",
    "\"\"\")\n"
   ]
  },
  {
   "cell_type": "markdown",
   "id": "c8063453",
   "metadata": {},
   "source": [
    "### 4.3\n",
    "\n",
    "What is the result of 7%3?"
   ]
  },
  {
   "cell_type": "code",
   "execution_count": 113,
   "id": "2de8a10c",
   "metadata": {},
   "outputs": [
    {
     "name": "stdout",
     "output_type": "stream",
     "text": [
      "The result of 7%3 is : 1\n"
     ]
    }
   ],
   "source": [
    "# 4.3\n",
    "\n",
    "print('The result of 7%3 is : 1')"
   ]
  },
  {
   "cell_type": "markdown",
   "id": "d5b8ccfe",
   "metadata": {},
   "source": [
    "### 4.4\n",
    "\n",
    "Use the `in` operator to check whether the number 3 and the number 7 are in the following list:"
   ]
  },
  {
   "cell_type": "code",
   "execution_count": 114,
   "id": "2b893e14",
   "metadata": {},
   "outputs": [],
   "source": [
    "lst = [1,2,3,4,5]"
   ]
  },
  {
   "cell_type": "code",
   "execution_count": 115,
   "id": "79f40d5b",
   "metadata": {},
   "outputs": [
    {
     "name": "stdout",
     "output_type": "stream",
     "text": [
      "Is 3 in the list? True\n",
      "Is 7 in the list? False\n"
     ]
    }
   ],
   "source": [
    "# 4.4 Answer (Don't forget to print your results)\n",
    "print('Is 3 in the list?', 3 in lst)\n",
    "print('Is 7 in the list?', 7 in lst)"
   ]
  },
  {
   "cell_type": "markdown",
   "id": "70df4331",
   "metadata": {},
   "source": [
    "### 4.5\n",
    "\n",
    "Explain the difference between `=` and `==` using the following two variables:"
   ]
  },
  {
   "cell_type": "code",
   "execution_count": 116,
   "id": "67aed188",
   "metadata": {},
   "outputs": [],
   "source": [
    "x = 5\n",
    "y = 10"
   ]
  },
  {
   "cell_type": "code",
   "execution_count": 119,
   "id": "bd2e81ac",
   "metadata": {},
   "outputs": [
    {
     "name": "stdout",
     "output_type": "stream",
     "text": [
      "\n",
      "The = operator is used to assign a value to a variable.\n",
      "Example: x = 5 assigns the value 5 to the variable x.\n",
      "\n"
     ]
    }
   ],
   "source": [
    "# 4.5 Answer\n",
    "\n",
    "print(\"\"\"\n",
    "The = operator is used to assign a value to a variable.\n",
    "Example: x = 5 assigns the value 5 to the variable x.\n",
    "\"\"\")"
   ]
  },
  {
   "cell_type": "code",
   "execution_count": 120,
   "id": "87464ecb",
   "metadata": {},
   "outputs": [
    {
     "name": "stdout",
     "output_type": "stream",
     "text": [
      "5\n"
     ]
    }
   ],
   "source": [
    "print(x)"
   ]
  },
  {
   "cell_type": "code",
   "execution_count": 121,
   "id": "a183b54b",
   "metadata": {},
   "outputs": [
    {
     "name": "stdout",
     "output_type": "stream",
     "text": [
      "\n",
      "The == operator is used to compare two values for equality.\n",
      "It checks whether the values on its left and right are equal and returns True if they are, and False otherwise.\n",
      "Example: x == y checks if the value of x is equal to the value of y.\n",
      "if x = 5 and y = 10, the result will be False.\n",
      "\n"
     ]
    }
   ],
   "source": [
    "print(\"\"\"\n",
    "The == operator is used to compare two values for equality.\n",
    "It checks whether the values on its left and right are equal and returns True if they are, and False otherwise.\n",
    "Example: x == y checks if the value of x is equal to the value of y.\n",
    "if x = 5 and y = 10, the result will be False.\n",
    "\"\"\")"
   ]
  },
  {
   "cell_type": "code",
   "execution_count": 122,
   "id": "2ce7e046",
   "metadata": {},
   "outputs": [
    {
     "name": "stdout",
     "output_type": "stream",
     "text": [
      "False\n"
     ]
    }
   ],
   "source": [
    "print(x == y)"
   ]
  },
  {
   "cell_type": "markdown",
   "id": "bc33b830-9708-48e2-a397-712f4ddad816",
   "metadata": {},
   "source": [
    "# The End!"
   ]
  }
 ],
 "metadata": {
  "kernelspec": {
   "display_name": "Python 3 (ipykernel)",
   "language": "python",
   "name": "python3"
  },
  "language_info": {
   "codemirror_mode": {
    "name": "ipython",
    "version": 3
   },
   "file_extension": ".py",
   "mimetype": "text/x-python",
   "name": "python",
   "nbconvert_exporter": "python",
   "pygments_lexer": "ipython3",
   "version": "3.11.5"
  }
 },
 "nbformat": 4,
 "nbformat_minor": 5
}
