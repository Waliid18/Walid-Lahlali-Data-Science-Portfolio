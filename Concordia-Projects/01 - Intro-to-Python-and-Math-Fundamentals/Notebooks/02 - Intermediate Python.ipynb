{
 "cells": [
  {
   "cell_type": "markdown",
   "id": "c84fefbf-6238-4c05-b5b8-2a7662858ec3",
   "metadata": {},
   "source": [
    "# Workshop 2 - Intermediate Python\n",
    "___"
   ]
  },
  {
   "cell_type": "markdown",
   "id": "ed89587a-838c-4d44-b5be-9ad8facc30ea",
   "metadata": {},
   "source": [
    "## Exercise 1"
   ]
  },
  {
   "cell_type": "markdown",
   "id": "95f14dad-06bd-4754-8feb-ad3a6064aad8",
   "metadata": {
    "tags": []
   },
   "source": [
    "### 1.1\n",
    "\n",
    "Use conditional logic to check if a number is positive, negative or zero.\n",
    "\n",
    "Try the following values for `num`:\n",
    "\n",
    "- 3\n",
    "- -7\n",
    "- 0"
   ]
  },
  {
   "cell_type": "code",
   "execution_count": 183,
   "id": "71553763-566e-44c1-b5cb-d4f815610c75",
   "metadata": {
    "tags": []
   },
   "outputs": [
    {
     "name": "stdout",
     "output_type": "stream",
     "text": [
      "3 is positive\n",
      "-7 is negative\n",
      "0 is zero\n"
     ]
    }
   ],
   "source": [
    "# 1.1 Answer\n",
    "# method 1:\n",
    "list = [3,-7,0]\n",
    "\n",
    "for num in list:\n",
    "    if num == 0:\n",
    "        print(num, 'is zero')\n",
    "    elif num > 0:\n",
    "        print(num, 'is positive')\n",
    "    else:\n",
    "        print(num, 'is negative')"
   ]
  },
  {
   "cell_type": "code",
   "execution_count": 184,
   "id": "b9ce7608",
   "metadata": {},
   "outputs": [
    {
     "name": "stdout",
     "output_type": "stream",
     "text": [
      "Number 3 is : Positive\n",
      "Number -7 is : Negative\n",
      "Number 0 is : zero\n"
     ]
    }
   ],
   "source": [
    "# 1.1 Answer\n",
    "# method 2:\n",
    "def number_sign(num):\n",
    "    if num == 0:\n",
    "        return'zero'\n",
    "    elif num > 0:\n",
    "        return'Positive'\n",
    "    else:\n",
    "        return'Negative'\n",
    "        \n",
    "print('Number 3 is :',number_sign(3))\n",
    "print('Number -7 is :',number_sign(-7))\n",
    "print('Number 0 is :',number_sign(0))"
   ]
  },
  {
   "cell_type": "markdown",
   "id": "c8ffaa53-d2d5-4c11-bfbe-e78c908d8d1f",
   "metadata": {},
   "source": [
    "### 1.2\n",
    "\n",
    "Use conditional logic to check if a number is even or odd.\n",
    "\n",
    "Try the following values for `num`:\n",
    "\n",
    "- 234\n",
    "- 81"
   ]
  },
  {
   "cell_type": "code",
   "execution_count": 189,
   "id": "05f8cddb-77da-4b04-8d22-cbf0c901d1a8",
   "metadata": {
    "tags": []
   },
   "outputs": [
    {
     "name": "stdout",
     "output_type": "stream",
     "text": [
      "The number 234 is even\n",
      "The number 81 is odd\n"
     ]
    }
   ],
   "source": [
    "# 1.2 Answer\n",
    "# method 1:\n",
    "numbers = [234,81]\n",
    "for number in numbers:\n",
    "    if number % 2 == 0:\n",
    "        print(\"The number\", number ,\"is even\")\n",
    "    else :\n",
    "        print(\"The number\", number ,\"is odd\")"
   ]
  },
  {
   "cell_type": "code",
   "execution_count": 190,
   "id": "217753c9",
   "metadata": {},
   "outputs": [],
   "source": [
    "# 1.2 Answer\n",
    "# method 2:\n",
    "def number(n):\n",
    "    if n % 2 == 0:\n",
    "        print(\"The number\", n ,\"is even\")\n",
    "    else:\n",
    "        print(\"The number\", n ,\"is odd\")"
   ]
  },
  {
   "cell_type": "code",
   "execution_count": 191,
   "id": "557eaf28",
   "metadata": {},
   "outputs": [
    {
     "name": "stdout",
     "output_type": "stream",
     "text": [
      "The number 234 is even\n",
      "The number 81 is odd\n"
     ]
    }
   ],
   "source": [
    "number(234)\n",
    "number(81)"
   ]
  },
  {
   "cell_type": "markdown",
   "id": "20412d0d",
   "metadata": {},
   "source": [
    "### 1.3\n",
    "\n",
    "Determine the largest among 3 numbers: \n",
    "\n",
    "```\n",
    "num1 = 23\n",
    "num2 = 45\n",
    "num3 = 6\n",
    "```"
   ]
  },
  {
   "cell_type": "code",
   "execution_count": 193,
   "id": "bf9f710d",
   "metadata": {},
   "outputs": [
    {
     "name": "stdout",
     "output_type": "stream",
     "text": [
      "The largest among 3 numbers 23,45,6 is :  45\n"
     ]
    }
   ],
   "source": [
    "# 1.3 Answer\n",
    "# method 1:\n",
    "numbers = [23,45,6]\n",
    "if (numbers[0]>numbers[1] and numbers[0]>numbers[2]):\n",
    "    print(\"The largest among 3 numbers 23,45,6 is : \",numbers[0])\n",
    "elif (numbers[1]>numbers[0] and numbers[1]>numbers[2]):\n",
    "    print(\"The largest among 3 numbers 23,45,6 is : \",numbers[1])\n",
    "else:\n",
    "    print(\"The largest among 3 numbers 23,45,6 is : \",numbers[2])"
   ]
  },
  {
   "cell_type": "code",
   "execution_count": 194,
   "id": "291d4af0-6f24-4c32-8efa-a79d6e0a2692",
   "metadata": {
    "tags": []
   },
   "outputs": [
    {
     "name": "stdout",
     "output_type": "stream",
     "text": [
      "The largest among 3 numbers: 23,45,6 is : 45\n"
     ]
    }
   ],
   "source": [
    "# 1.3 Answer\n",
    "# method 2:\n",
    "numbers = [23,45,6]\n",
    "print(\"The largest among 3 numbers: 23,45,6 is :\",max([23,45,6]))"
   ]
  },
  {
   "cell_type": "markdown",
   "id": "fc7dcf20-ed66-45af-8457-4e54db3760c5",
   "metadata": {},
   "source": [
    "## Exercise 2"
   ]
  },
  {
   "cell_type": "markdown",
   "id": "8965821e-0c06-49a6-bbe8-9d8cff8ef7f2",
   "metadata": {},
   "source": [
    "### 2.1\n",
    "\n",
    "Write a loop that iterates over a list of strings and prints `True` if the string is a palindrome and `False` if the string isn't. \n",
    "\n",
    "A palindrome is a word that is read the same backward as forward,e.g. noon, level, civic, etc.,)\n",
    "\n",
    "`words = ['ball', 'kayak', 'song', 'Python', 'madam', 'racecar', 'Laval']`"
   ]
  },
  {
   "cell_type": "code",
   "execution_count": 198,
   "id": "24b1e9e4-48dc-4168-bdb5-00e331591e87",
   "metadata": {
    "tags": []
   },
   "outputs": [
    {
     "name": "stdout",
     "output_type": "stream",
     "text": [
      "False : ball\n",
      "True : kayak\n",
      "False : song\n",
      "False : Python\n",
      "True : madam\n",
      "True : racecar\n",
      "True : Laval\n"
     ]
    }
   ],
   "source": [
    "# 2.1 Answer\n",
    "words = ['ball', 'kayak', 'song', 'Python', 'madam', 'racecar', 'Laval']\n",
    "\n",
    "for word in words:\n",
    "    aux = word.lower()\n",
    "    palindrome = aux == aux[::-1]\n",
    "    print(palindrome,\":\",word)"
   ]
  },
  {
   "cell_type": "markdown",
   "id": "5b52895f-ba4a-49b9-92f0-4e3ea4e06e30",
   "metadata": {},
   "source": [
    "### 2.2\n",
    "\n",
    "Find the sum of all even numbers from 1 to a 100."
   ]
  },
  {
   "cell_type": "code",
   "execution_count": 199,
   "id": "24eb8ffe-da9b-488b-aff0-3af5e642a862",
   "metadata": {
    "tags": []
   },
   "outputs": [
    {
     "name": "stdout",
     "output_type": "stream",
     "text": [
      "The sum of all even numbers from 1 to a 100 is : 2550\n"
     ]
    }
   ],
   "source": [
    "# 2.2 Answer\n",
    "s = 0\n",
    "for i in range(0,101):\n",
    "    if i % 2 == 0:\n",
    "        s = s + i\n",
    "print(\"The sum of all even numbers from 1 to a 100 is :\", s)"
   ]
  },
  {
   "cell_type": "markdown",
   "id": "7fe9a82e-7a7d-4f79-840f-18dd0a393b3c",
   "metadata": {},
   "source": [
    "### 2.3\n",
    "\n",
    "You have a list called `cities` with the following elements: \n",
    "\n",
    "```\n",
    "cities = ['Toronto', 'Vancouver', 'Montreal']\n",
    "```\n",
    "\n",
    "Use a for loop to return a list of these elements in reversed order. Call your new list `reversed_cities`.\n",
    "\n",
    "```\n",
    "reversed_cities = ['otnoroT', 'revuocnaV', 'laertnoM']\n",
    "```"
   ]
  },
  {
   "cell_type": "code",
   "execution_count": 200,
   "id": "bde42027-adad-4738-95a5-c5a2aba11534",
   "metadata": {
    "tags": []
   },
   "outputs": [
    {
     "name": "stdout",
     "output_type": "stream",
     "text": [
      "['otnoroT', 'revuocnaV', 'laertnoM']\n"
     ]
    }
   ],
   "source": [
    "# 2.3 Answer\n",
    "cities = ['Toronto', 'Vancouver', 'Montreal']\n",
    "reversed_cities = []\n",
    "for city in cities:\n",
    "    reversed_cities.append(city[::-1])\n",
    "                           \n",
    "print(reversed_cities)"
   ]
  },
  {
   "cell_type": "markdown",
   "id": "ddc51974-37c5-44d4-904e-ff7992a32274",
   "metadata": {},
   "source": [
    "## 2.4\n",
    "\n",
    "Reverse the same above string, but this time using a function. Create a function called `reverse_string()` that will take in the list of cities, then reverses that string."
   ]
  },
  {
   "cell_type": "code",
   "execution_count": 201,
   "id": "8f8dfb64-774a-484c-9268-9a1941f1243e",
   "metadata": {
    "tags": []
   },
   "outputs": [],
   "source": [
    "# 2.4 Answer\n",
    "def reverse_string(list):\n",
    "    reversed_list = []\n",
    "    for lis in list:\n",
    "        reversed_list.append(lis[::-1])\n",
    "    return reversed_list"
   ]
  },
  {
   "cell_type": "code",
   "execution_count": 202,
   "id": "dccaaedd",
   "metadata": {},
   "outputs": [
    {
     "name": "stdout",
     "output_type": "stream",
     "text": [
      "['otnoroT', 'revuocnaV', 'laertnoM']\n"
     ]
    }
   ],
   "source": [
    "print(reverse_string(cities))"
   ]
  },
  {
   "cell_type": "markdown",
   "id": "d16b527c-20f3-4091-b561-81e931627032",
   "metadata": {},
   "source": [
    "## Exercise 3"
   ]
  },
  {
   "cell_type": "markdown",
   "id": "2b02bdcd-5ac8-4c41-b071-5cd7898f09f7",
   "metadata": {},
   "source": [
    "### 3.1\n",
    "\n",
    "Write a Python function called `test_distinct()` that takes a sequence of numbers and determines whether all the numbers in that sequence are distinct from one another, or not.\n",
    "\n",
    "Your function should have the following output, when the following lists are passed as arguments:\n",
    "\n",
    "```\n",
    "test_distinct([2,3,4,5,7,8]) -> True\n",
    "\n",
    "test_distinct([2,3,4,5,8,8]) -> False\n",
    "```\n"
   ]
  },
  {
   "cell_type": "code",
   "execution_count": 218,
   "id": "81e596e2",
   "metadata": {
    "tags": []
   },
   "outputs": [],
   "source": [
    "# 3.1 Answer\n",
    "def test_distinct(numbers):\n",
    "    aux = set()\n",
    "    for num in numbers:\n",
    "        if num in aux:\n",
    "            return False\n",
    "        aux.add(num)\n",
    "    return True"
   ]
  },
  {
   "cell_type": "code",
   "execution_count": 219,
   "id": "51a9c201-a89b-4ccd-892b-c5e5cf1a1b7f",
   "metadata": {
    "tags": []
   },
   "outputs": [
    {
     "name": "stdout",
     "output_type": "stream",
     "text": [
      "True\n",
      "False\n"
     ]
    }
   ],
   "source": [
    "print(test_distinct([2, 3, 4, 5, 7, 8]))\n",
    "print(test_distinct([2, 3, 4, 5, 8, 8]))"
   ]
  },
  {
   "cell_type": "markdown",
   "id": "09bf0e21-878a-448b-8481-494c085042fc",
   "metadata": {},
   "source": [
    "3.2\n",
    "\n",
    "Creates a function called `first_last()` that takes a string of text and returns the first and last characters of that string.\n",
    "\n",
    "You should get the following output:\n",
    "\n",
    "```\n",
    "first_last('Montreal') -> 'Ml'\n",
    "```"
   ]
  },
  {
   "cell_type": "code",
   "execution_count": 203,
   "id": "48ffd70f-8260-45ef-802c-89616ccb5b61",
   "metadata": {
    "tags": []
   },
   "outputs": [],
   "source": [
    "# 3.2 Answer\n",
    "def first_last(caractere) :\n",
    "    print(caractere[0],caractere[len(caractere)-1])"
   ]
  },
  {
   "cell_type": "code",
   "execution_count": 204,
   "id": "83d54a6c",
   "metadata": {},
   "outputs": [
    {
     "name": "stdout",
     "output_type": "stream",
     "text": [
      "M l\n"
     ]
    }
   ],
   "source": [
    "first_last('Montreal')"
   ]
  },
  {
   "cell_type": "markdown",
   "id": "db0bfa97-10ed-4c32-9f60-7fb7170620f4",
   "metadata": {},
   "source": [
    "### 3.3\n",
    "\n",
    "Create a function called `get_century()` that takes a year and returns its corresponding century.\n",
    "\n",
    "For example, your `get_century()` function should return the following:\n",
    "\n",
    "```\n",
    "get_century(2005) ➞ 21\n",
    "\n",
    "get_century(1850) ➞ 19\n",
    "\n",
    "get_century(-332) ➞ -4\n",
    "\n",
    "get_century(55) ➞ 1\n",
    "\n",
    "get_century(-65) ➞ -1\n",
    "```"
   ]
  },
  {
   "cell_type": "code",
   "execution_count": 209,
   "id": "4422c3fe",
   "metadata": {},
   "outputs": [],
   "source": [
    "# 3.3 Answer\n",
    "# method 1:\n",
    "def get_century(x):\n",
    "    if (x >= 1000 or x <= -1000):\n",
    "        if x>0:\n",
    "            aux = x//100\n",
    "            return aux+1\n",
    "        else:\n",
    "            aux = x//100\n",
    "            return aux\n",
    "    elif (x>=100 and x<1000) or (x<= -100 and x> -1000):\n",
    "        if x >= 0:\n",
    "            aux = x//100\n",
    "            return aux+1\n",
    "        else :\n",
    "            aux = x//100\n",
    "            return aux\n",
    "    else:\n",
    "        if (x >= 0 and x<100):\n",
    "            return 1\n",
    "        else:\n",
    "            return -1"
   ]
  },
  {
   "cell_type": "code",
   "execution_count": 211,
   "id": "5837e076",
   "metadata": {},
   "outputs": [
    {
     "data": {
      "text/plain": [
       "21"
      ]
     },
     "execution_count": 211,
     "metadata": {},
     "output_type": "execute_result"
    }
   ],
   "source": [
    "get_century(2024)"
   ]
  },
  {
   "cell_type": "code",
   "execution_count": 210,
   "id": "74fe56ed",
   "metadata": {},
   "outputs": [],
   "source": [
    "# 3.3 Answer\n",
    "# method 2:\n",
    "def get_century(x):\n",
    "    if (x >= 1000 or x <= -1000):\n",
    "        if x>0:\n",
    "            aux = str(x)\n",
    "            return int(aux[0:2])+1\n",
    "        else:\n",
    "            aux = str(x)\n",
    "            return int(aux[0:3])-1            \n",
    "    elif (x>=100 and x<1000) or (x<= -100 and x> -1000):\n",
    "        if x >= 0:\n",
    "            aux = str(x)\n",
    "            return int(aux[0])+1\n",
    "        else :\n",
    "            aux = str(x)\n",
    "            return int(aux[0:2])-1            \n",
    "    else:\n",
    "        if (x >= 0 and x<100):\n",
    "            return 1\n",
    "        else:\n",
    "            return -1"
   ]
  },
  {
   "cell_type": "code",
   "execution_count": 212,
   "id": "3a1181f0-cef5-4a49-9285-f36fce7fa755",
   "metadata": {
    "tags": []
   },
   "outputs": [
    {
     "data": {
      "text/plain": [
       "-21"
      ]
     },
     "execution_count": 212,
     "metadata": {},
     "output_type": "execute_result"
    }
   ],
   "source": [
    "# 3.3 Answer\n",
    "get_century(-2024)"
   ]
  },
  {
   "cell_type": "markdown",
   "id": "fd8b6a46-0d76-4af6-b1ab-f25615f8a563",
   "metadata": {},
   "source": [
    "## Exercise 4"
   ]
  },
  {
   "cell_type": "markdown",
   "id": "ce69c844-f806-497b-b4bf-8a104552c4d2",
   "metadata": {
    "tags": []
   },
   "source": [
    "### 4.1\n",
    "\n",
    "You have the following list of user IDs.\n",
    "\n",
    "```\n",
    "lst = [gyhwefy7832ryyg-US, iu7ytf87gyuwef-CA, 98yfyg82t3r-US,\n",
    "    iuhsdf897y3righsfe-US, iushdf98h23ryg-IT, GHsg1s54sda8-CA, iuhdf9h32ryu9gf-IT,\n",
    "    IUufgh98y34-FR, 98yfdiuhdfbviuh8-UK, 45asdjJHHghsdas-CA\n",
    "]\n",
    "```\n",
    "\n",
    "Each ID is made up of a unique userID section, as well as a countryID section.\n",
    "\n",
    "Create a function called `country_counter()` that takes in the above list, and gives the following output:\n",
    "\n",
    "```\n",
    "{'US': 3, 'CA': 3, 'IT': 2, 'FR': 1, 'UK': 1}\n",
    "```"
   ]
  },
  {
   "cell_type": "code",
   "execution_count": 220,
   "id": "44030824",
   "metadata": {
    "tags": []
   },
   "outputs": [],
   "source": [
    "# 4.1 Answer\n",
    "def country_counter(lst):\n",
    "    country_count = {}\n",
    "    \n",
    "    for user_id in lst:\n",
    "        country_id = user_id.split('-')[-1]      \n",
    "        if country_id in country_count:\n",
    "            country_count[country_id] += 1\n",
    "        else:\n",
    "            country_count[country_id] = 1    \n",
    "    return country_count\n",
    "\n",
    "lst = [\n",
    "    'gyhwefy7832ryyg-US', 'iu7ytf87gyuwef-CA', '98yfyg82t3r-US',\n",
    "    'iuhsdf897y3righsfe-US', 'iushdf98h23ryg-IT', 'GHsg1s54sda8-CA', 'iuhdf9h32ryu9gf-IT',\n",
    "    'IUufgh98y34-FR', '98yfdiuhdfbviuh8-UK', '45asdjJHHghsdas-CA'\n",
    "]"
   ]
  },
  {
   "cell_type": "code",
   "execution_count": 221,
   "id": "78ebd6d2-5374-41c4-a814-30f077082d8b",
   "metadata": {
    "tags": []
   },
   "outputs": [
    {
     "name": "stdout",
     "output_type": "stream",
     "text": [
      "{'US': 3, 'CA': 3, 'IT': 2, 'FR': 1, 'UK': 1}\n"
     ]
    }
   ],
   "source": [
    "print(country_counter(lst))"
   ]
  },
  {
   "cell_type": "markdown",
   "id": "c7ce8fef-93f4-46f1-bc23-f0bb74c6a12c",
   "metadata": {},
   "source": [
    "### Exercise 4.2\n",
    "\n",
    "Create a function called `factorial()` that computes the factorial of a given number. \n",
    "\n",
    "In math the factorial of a positive integer is the product of all integers smaller than or equal to that integer, starting from 1. \n",
    "\n",
    "For example, the factorial of 4 (4!) can be calculated as follows:\n",
    "\n",
    "$$4! = 4*3*2*1$$\n",
    "$$4! = 24$$\n",
    "\n",
    "Your `factorial()` function should have the following output for the number 4:\n",
    "\n",
    "```\n",
    "factorial(4) --> 24\n",
    "```"
   ]
  },
  {
   "cell_type": "code",
   "execution_count": 213,
   "id": "589ace79-3f0c-4120-8bb4-d0ad247a82dd",
   "metadata": {
    "tags": []
   },
   "outputs": [
    {
     "name": "stdout",
     "output_type": "stream",
     "text": [
      "The factorial of 4 (4!) is : 24\n"
     ]
    }
   ],
   "source": [
    "# 4.2 Answer\n",
    "def factorial(x):\n",
    "    f = 1\n",
    "    for i in range(1,x+1):\n",
    "        f = f*i\n",
    "    return f\n",
    "\n",
    "print(\"The factorial of 4 (4!) is :\",factorial(4))   "
   ]
  },
  {
   "cell_type": "markdown",
   "id": "ad076fb7-8fd5-4e27-a850-9557a4ea455f",
   "metadata": {
    "tags": []
   },
   "source": [
    "### 4.3\n",
    "\n",
    "Create a function called `gcd()` to find the greatest common divisor (GCD) of the following two numbers: 99 and 45."
   ]
  },
  {
   "cell_type": "code",
   "execution_count": 214,
   "id": "749c8581",
   "metadata": {
    "tags": []
   },
   "outputs": [],
   "source": [
    "# 4.3 Answer\n",
    "def gcd(a, b):\n",
    "    while b != 0:\n",
    "        a, b = b, a % b\n",
    "    return a"
   ]
  },
  {
   "cell_type": "code",
   "execution_count": 215,
   "id": "d723956c-b876-4bcf-b4b4-4df106b78112",
   "metadata": {
    "tags": []
   },
   "outputs": [
    {
     "name": "stdout",
     "output_type": "stream",
     "text": [
      "9\n"
     ]
    }
   ],
   "source": [
    "print(gcd(99, 45)) "
   ]
  },
  {
   "cell_type": "markdown",
   "id": "dbc8cc9c-60ac-4fc7-a5eb-82e707c3733c",
   "metadata": {},
   "source": [
    "## Exercise 5"
   ]
  },
  {
   "cell_type": "markdown",
   "id": "45e4cc9f-8925-4800-8161-ccdaea54ad2f",
   "metadata": {},
   "source": [
    "### 5.1\n",
    "\n",
    "Create a function called `pyramid()`, that takes in a number, then prints a sideways pyramid with a number of levels that is equivalant to that number.\n",
    "\n",
    "For example, `pyramid(4)` should print out:\n",
    "\n",
    "```\n",
    "* \n",
    "* * \n",
    "* * * \n",
    "* * * * \n",
    "* * * \n",
    "* * \n",
    "* \n",
    "```\n",
    "\n",
    "Print an 8 leveled pyramid like the one below with your `pyramid()` function:\n",
    "\n",
    "```\n",
    "* \n",
    "* * \n",
    "* * * \n",
    "* * * * \n",
    "* * * * * \n",
    "* * * * * * \n",
    "* * * * * * * \n",
    "* * * * * * * * \n",
    "* * * * * * * \n",
    "* * * * * * \n",
    "* * * * * \n",
    "* * * * \n",
    "* * * \n",
    "* * \n",
    "* \n",
    "```"
   ]
  },
  {
   "cell_type": "code",
   "execution_count": 216,
   "id": "da09de09-cd7f-432c-90b1-e8c9b2acd256",
   "metadata": {
    "tags": []
   },
   "outputs": [],
   "source": [
    "# 5.1 Answer\n",
    "def pyramid(n):\n",
    "    for i in range(0,n):\n",
    "        for j in range(0,i+1):\n",
    "            print(\"*\",end ='')\n",
    "        print(\"\")\n",
    "    \n",
    "    for i in range(n-1,-1,-1):\n",
    "        for j in range(0,i):\n",
    "            print(\"*\",end ='')\n",
    "        print(\"\")    "
   ]
  },
  {
   "cell_type": "code",
   "execution_count": 217,
   "id": "27d434f8",
   "metadata": {},
   "outputs": [
    {
     "name": "stdout",
     "output_type": "stream",
     "text": [
      "*\n",
      "**\n",
      "***\n",
      "****\n",
      "*****\n",
      "******\n",
      "*******\n",
      "********\n",
      "*******\n",
      "******\n",
      "*****\n",
      "****\n",
      "***\n",
      "**\n",
      "*\n",
      "\n"
     ]
    }
   ],
   "source": [
    "pyramid(8)"
   ]
  },
  {
   "cell_type": "markdown",
   "id": "a1d590ef-3b6b-4b9e-9896-60b928779e6e",
   "metadata": {},
   "source": [
    "# The End!"
   ]
  }
 ],
 "metadata": {
  "kernelspec": {
   "display_name": "Python 3 (ipykernel)",
   "language": "python",
   "name": "python3"
  },
  "language_info": {
   "codemirror_mode": {
    "name": "ipython",
    "version": 3
   },
   "file_extension": ".py",
   "mimetype": "text/x-python",
   "name": "python",
   "nbconvert_exporter": "python",
   "pygments_lexer": "ipython3",
   "version": "3.11.5"
  }
 },
 "nbformat": 4,
 "nbformat_minor": 5
}
