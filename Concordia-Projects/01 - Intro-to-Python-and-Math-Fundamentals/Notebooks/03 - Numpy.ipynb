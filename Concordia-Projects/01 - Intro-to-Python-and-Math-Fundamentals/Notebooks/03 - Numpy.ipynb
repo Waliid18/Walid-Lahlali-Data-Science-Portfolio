{
 "cells": [
  {
   "cell_type": "markdown",
   "id": "068b15fd-f85c-4bbc-bfd5-f6d970383427",
   "metadata": {},
   "source": [
    "# Assignment 1 - NumPy\n",
    "---"
   ]
  },
  {
   "cell_type": "markdown",
   "id": "16b56db7-c3b5-43c7-a03b-31cc09cc3a92",
   "metadata": {},
   "source": [
    "## Exercise 1: Array Creation\n",
    "\n",
    "**You can only use NumPy's built-in array creation methods to answer the below questions.**"
   ]
  },
  {
   "cell_type": "markdown",
   "id": "f56d3035-6d8c-4907-81c0-cb24390a07b3",
   "metadata": {},
   "source": [
    "### 1.1\n",
    "\n",
    "Import NumPY."
   ]
  },
  {
   "cell_type": "code",
   "execution_count": 103,
   "id": "f1ba087e-d62b-41a7-a842-3b2b10e4c038",
   "metadata": {
    "tags": []
   },
   "outputs": [],
   "source": [
    "# 1.1 Answer\n",
    "import numpy as np"
   ]
  },
  {
   "cell_type": "markdown",
   "id": "50d1dc49-23e9-4977-b1d4-ab5c8c076b3f",
   "metadata": {},
   "source": [
    "### 1.2\n",
    "\n",
    "Create a 1D array of ODD numbers between 1 and 15 (inclusive)."
   ]
  },
  {
   "cell_type": "code",
   "execution_count": 104,
   "id": "aafe858b-d2ef-4e72-a354-2bddea24ed5e",
   "metadata": {
    "tags": []
   },
   "outputs": [
    {
     "name": "stdout",
     "output_type": "stream",
     "text": [
      "[ 1  3  5  7  9 11 13 15]\n"
     ]
    }
   ],
   "source": [
    "# 1.2 Answer\n",
    "arr_odd = np.array([1,3,5,7,9,11,13,15])\n",
    "print(arr_odd)"
   ]
  },
  {
   "cell_type": "markdown",
   "id": "75ec5afc-3b6e-426a-a4a9-6af2ae61a08b",
   "metadata": {},
   "source": [
    "### 1.2\n",
    "\n",
    "Create a 1D array of EVEN numbers between 0 and -20 (inclusive)."
   ]
  },
  {
   "cell_type": "code",
   "execution_count": 105,
   "id": "167ac3e2-8aae-462f-92b6-13d08880665a",
   "metadata": {
    "tags": []
   },
   "outputs": [
    {
     "name": "stdout",
     "output_type": "stream",
     "text": [
      "[-20 -18 -16 -14 -12 -10  -8  -6  -4  -2   0]\n"
     ]
    }
   ],
   "source": [
    "# 1.2 Answer\n",
    "arr_even = np.array([-20,-18,-16,-14,-12,-10,-8,-6,-4,-2,0])\n",
    "print(arr_even)"
   ]
  },
  {
   "cell_type": "markdown",
   "id": "51846a12-fa4a-432f-aae4-1ea395985472",
   "metadata": {},
   "source": [
    "### 1.3\n",
    "\n",
    "Create an array of 7 ones. Make sure all the elements are integers, not floats."
   ]
  },
  {
   "cell_type": "code",
   "execution_count": 106,
   "id": "b942dee3-9f1d-4480-a12e-b8cc69f19ddd",
   "metadata": {
    "tags": []
   },
   "outputs": [
    {
     "name": "stdout",
     "output_type": "stream",
     "text": [
      "[1 1 1 1 1 1 1]\n"
     ]
    }
   ],
   "source": [
    "# 1.3 Answer\n",
    "arr_one = np.ones(7).astype(int)\n",
    "print(arr_one)"
   ]
  },
  {
   "cell_type": "markdown",
   "id": "c7e0aa17-2d90-4ddf-a844-de48d68f2931",
   "metadata": {},
   "source": [
    "### 1.4\n",
    "\n",
    "Create an array of 7 eights. Make sure all the elements are integers, not floats."
   ]
  },
  {
   "cell_type": "code",
   "execution_count": 107,
   "id": "16ddc9e0-58ec-480a-86ad-b357e62d5753",
   "metadata": {
    "tags": []
   },
   "outputs": [
    {
     "name": "stdout",
     "output_type": "stream",
     "text": [
      "[8 8 8 8 8 8 8]\n"
     ]
    }
   ],
   "source": [
    "# 1.4 Answer\n",
    "arr_eight = np.ones(7)*8\n",
    "arr_eight = arr_eight.astype(int)\n",
    "print(arr_eight)"
   ]
  },
  {
   "cell_type": "markdown",
   "id": "7370bdd1-af2c-4608-a96e-3638449a0dad",
   "metadata": {},
   "source": [
    "### 1.5\n",
    "\n",
    "Create a 2D array of integers from -5 to -50. "
   ]
  },
  {
   "cell_type": "code",
   "execution_count": 108,
   "id": "e513d53b-0430-4241-9ac2-2dcb67bd8c4f",
   "metadata": {
    "tags": []
   },
   "outputs": [
    {
     "name": "stdout",
     "output_type": "stream",
     "text": [
      "[[-23 -13 -23 -21]\n",
      " [-48 -45 -39 -14]\n",
      " [-16 -50 -27 -14]]\n"
     ]
    }
   ],
   "source": [
    "# 1.5 Answer\n",
    "arr2 = np.random.randint(-50,-5,(3,4))\n",
    "print(arr2)"
   ]
  },
  {
   "cell_type": "markdown",
   "id": "fdc01230-2563-4384-a40f-4fe1c1799904",
   "metadata": {},
   "source": [
    "### 1.6\n",
    "\n",
    "Create an array of 5 random numbers between 0 and 1."
   ]
  },
  {
   "cell_type": "code",
   "execution_count": 109,
   "id": "9ee4b243-6aba-435e-9ed2-993429bd202c",
   "metadata": {
    "tags": []
   },
   "outputs": [
    {
     "name": "stdout",
     "output_type": "stream",
     "text": [
      "[0.48595378 0.59046327 0.17517879 0.6706378  0.95459941]\n"
     ]
    }
   ],
   "source": [
    "# 1.6\n",
    "arr3 = np.random.rand(5)\n",
    "print(arr3)"
   ]
  },
  {
   "cell_type": "markdown",
   "id": "4cd26afa-5184-429f-a29f-e3b54d9f39d5",
   "metadata": {
    "tags": []
   },
   "source": [
    "### 1.7\n",
    "\n",
    "Create an array of 30 random numbers from a standard normal distribution."
   ]
  },
  {
   "cell_type": "code",
   "execution_count": 110,
   "id": "4dd9b5af-b6e1-402d-b5e5-28343cbf7962",
   "metadata": {
    "tags": []
   },
   "outputs": [
    {
     "name": "stdout",
     "output_type": "stream",
     "text": [
      "[ 1.19422353  0.46685285  0.27995161  0.48109412  1.37174647 -0.22948147\n",
      " -0.63337078  0.93792711  0.17644436 -2.21384656 -1.16051332  0.4563469\n",
      "  1.43207275 -0.03731316 -1.1145858  -1.41416528 -1.04885646 -0.60650423\n",
      "  0.98768767  0.73527294 -1.75030031 -0.0830572  -0.92314272  0.61921048\n",
      " -1.18433667  0.75240397 -1.22815327 -0.02938918  0.64814639 -2.06588146]\n"
     ]
    }
   ],
   "source": [
    "# 1.7\n",
    "arr4 = np.random.randn(30)\n",
    "print(arr4)"
   ]
  },
  {
   "cell_type": "markdown",
   "id": "88cd325a-ad9f-4e58-8d7a-f45cb733fb20",
   "metadata": {
    "tags": []
   },
   "source": [
    "### 1.8\n",
    "\n",
    "Recreate the following array:\n",
    "\n",
    "    array([[[ 1,  2,  3],\n",
    "            [ 4,  5,  6],\n",
    "            [ 7,  8,  9]],\n",
    "\n",
    "           [[10, 11, 12],\n",
    "            [13, 14, 15],\n",
    "            [16, 17, 18]]])\n"
   ]
  },
  {
   "cell_type": "code",
   "execution_count": 111,
   "id": "b77ca5af-352c-4449-84b5-8d58a5114b95",
   "metadata": {
    "tags": []
   },
   "outputs": [
    {
     "name": "stdout",
     "output_type": "stream",
     "text": [
      "[[[ 1  2  3]\n",
      "  [ 4  5  6]\n",
      "  [ 7  8  9]]\n",
      "\n",
      " [[10 11 12]\n",
      "  [13 14 15]\n",
      "  [16 17 18]]]\n"
     ]
    }
   ],
   "source": [
    "# 1.8 Answer\n",
    "arrr = np.array([[[1,2,3],\n",
    "           [4,5,6],\n",
    "           [7,8,9]],\n",
    "          [[10,11,12],\n",
    "           [13,14,15],\n",
    "           [16,17,18]]])\n",
    "\n",
    "print(arrr)"
   ]
  },
  {
   "cell_type": "markdown",
   "id": "dbd7f869-a787-4288-b60f-002e9eed6434",
   "metadata": {
    "tags": []
   },
   "source": [
    "### 1.9 \n",
    "\n",
    "Create an array of 8 evenly spaced numbers between 0 and 1 (inclusive)."
   ]
  },
  {
   "cell_type": "code",
   "execution_count": 112,
   "id": "4e24942c-491b-4876-99bb-746f8a3af6ae",
   "metadata": {
    "tags": []
   },
   "outputs": [
    {
     "name": "stdout",
     "output_type": "stream",
     "text": [
      "[0.         0.14285714 0.28571429 0.42857143 0.57142857 0.71428571\n",
      " 0.85714286 1.        ]\n"
     ]
    }
   ],
   "source": [
    "# 1.9 Answer\n",
    "arr_spaced = np.linspace(0,1,8)\n",
    "print(arr_spaced)"
   ]
  },
  {
   "cell_type": "markdown",
   "id": "17244592-81f9-4e4a-ac76-3b1cab92503b",
   "metadata": {},
   "source": [
    "## Exercise 2: Indexing and Selection\n",
    "\n",
    "**Make sure your run the below cell. This is the array you will be working with.**"
   ]
  },
  {
   "cell_type": "code",
   "execution_count": 113,
   "id": "3075d26e-0f83-4e91-8b8c-7d083c5d8174",
   "metadata": {
    "tags": []
   },
   "outputs": [
    {
     "data": {
      "text/plain": [
       "array([[ 1,  2,  3,  4,  5],\n",
       "       [ 6,  7,  8,  9, 10],\n",
       "       [11, 12, 13, 14, 15],\n",
       "       [16, 17, 18, 19, 20],\n",
       "       [21, 22, 23, 24, 25],\n",
       "       [26, 27, 28, 29, 30]])"
      ]
     },
     "execution_count": 113,
     "metadata": {},
     "output_type": "execute_result"
    }
   ],
   "source": [
    "arr = np.arange(1,31).reshape(6,5)\n",
    "arr"
   ]
  },
  {
   "cell_type": "markdown",
   "id": "dc5cd201-285f-43b4-80cf-d20ef658f20c",
   "metadata": {
    "tags": []
   },
   "source": [
    "### 2.1\n",
    "\n",
    "Select the numbers 29 and 30 from the array.\n",
    "\n",
    "Your output should look like this:\n",
    "    \n",
    "    array([29, 30])"
   ]
  },
  {
   "cell_type": "code",
   "execution_count": 114,
   "id": "df7318de-f123-45b2-8f05-a1d616056a31",
   "metadata": {
    "tags": []
   },
   "outputs": [
    {
     "data": {
      "text/plain": [
       "array([29, 30])"
      ]
     },
     "execution_count": 114,
     "metadata": {},
     "output_type": "execute_result"
    }
   ],
   "source": [
    "# 2.1 Answer\n",
    "arr[-1,-2:]"
   ]
  },
  {
   "cell_type": "markdown",
   "id": "f371e3a9-4255-4c0e-8fa6-3b21d837ec4a",
   "metadata": {},
   "source": [
    "### 2.2\n",
    "\n",
    "Select the number 13 from the array."
   ]
  },
  {
   "cell_type": "code",
   "execution_count": 115,
   "id": "21a53fad-25b4-4c4f-9c92-22dbb92f0118",
   "metadata": {
    "tags": []
   },
   "outputs": [
    {
     "data": {
      "text/plain": [
       "13"
      ]
     },
     "execution_count": 115,
     "metadata": {},
     "output_type": "execute_result"
    }
   ],
   "source": [
    "# 2.2 Answer\n",
    "arr[2,2]"
   ]
  },
  {
   "cell_type": "markdown",
   "id": "15536acd-2754-41a9-93ef-57dcef9c8ca8",
   "metadata": {},
   "source": [
    "### 2.3\n",
    "\n",
    "Select the numbers 14, 19, and 24 from the array.\n",
    "\n",
    "Your output should look like this:\n",
    "\n",
    "    array([[14],\n",
    "           [19],\n",
    "           [24]])"
   ]
  },
  {
   "cell_type": "code",
   "execution_count": 116,
   "id": "b7e7ff57-2de0-4e24-8b34-f68b51a9af4b",
   "metadata": {
    "tags": []
   },
   "outputs": [
    {
     "data": {
      "text/plain": [
       "array([[14],\n",
       "       [19],\n",
       "       [24]])"
      ]
     },
     "execution_count": 116,
     "metadata": {},
     "output_type": "execute_result"
    }
   ],
   "source": [
    "# 2.3 Answer\n",
    "arr[2:5,3:4]"
   ]
  },
  {
   "cell_type": "markdown",
   "id": "7bbf4310-d6f0-4d74-a0e3-3600e5ea7079",
   "metadata": {},
   "source": [
    "### 2.4\n",
    "\n",
    "Write a code that produces the following output:\n",
    "\n",
    "    array([[21, 22, 23, 24, 25],\n",
    "           [26, 27, 28, 29, 30]])"
   ]
  },
  {
   "cell_type": "code",
   "execution_count": 117,
   "id": "3805350b-16e4-4fe7-8242-fe9341f2917a",
   "metadata": {
    "tags": []
   },
   "outputs": [
    {
     "data": {
      "text/plain": [
       "array([[21, 22, 23, 24, 25],\n",
       "       [26, 27, 28, 29, 30]])"
      ]
     },
     "execution_count": 117,
     "metadata": {},
     "output_type": "execute_result"
    }
   ],
   "source": [
    "# 2.4 Answer\n",
    "arr[-2:]"
   ]
  },
  {
   "cell_type": "markdown",
   "id": "ad7c163a-785a-4e16-80f4-e57619c0e85a",
   "metadata": {},
   "source": [
    "### 2.5\n",
    "\n",
    "Write a code that produces the following output:\n",
    "\n",
    "    array([[ 3,  4],\n",
    "           [ 8,  9],\n",
    "           [13, 14],\n",
    "           [18, 19],\n",
    "           [23, 24],\n",
    "           [28, 29]])"
   ]
  },
  {
   "cell_type": "code",
   "execution_count": 118,
   "id": "1904bd9e-73fe-4437-a6f6-ffc68ebdff3d",
   "metadata": {
    "tags": []
   },
   "outputs": [
    {
     "data": {
      "text/plain": [
       "array([[ 3,  4],\n",
       "       [ 8,  9],\n",
       "       [13, 14],\n",
       "       [18, 19],\n",
       "       [23, 24],\n",
       "       [28, 29]])"
      ]
     },
     "execution_count": 118,
     "metadata": {},
     "output_type": "execute_result"
    }
   ],
   "source": [
    "# 2.5 Answer\n",
    "arr[:,2:4]"
   ]
  },
  {
   "cell_type": "markdown",
   "id": "709a5868-6b32-4eb1-b2e4-65073a22a0ee",
   "metadata": {
    "tags": []
   },
   "source": [
    "## Exercise 3: More NumPy!\n",
    "\n",
    "**Make sure your run the below cell. This is the array you will be working with.**\n",
    "\n",
    "**You can only use NumPy's built-in array creation methods to answer the below questions.**"
   ]
  },
  {
   "cell_type": "code",
   "execution_count": 119,
   "id": "c0690cdb-8f6a-48a2-9c43-896359fcbffe",
   "metadata": {
    "tags": []
   },
   "outputs": [
    {
     "data": {
      "text/plain": [
       "array([[  5,  10,  15,  20],\n",
       "       [ 25,  30,  35,  40],\n",
       "       [ 45,  50,  55,  60],\n",
       "       [ 65,  70,  75,  80],\n",
       "       [ 85,  90,  95, 100]])"
      ]
     },
     "execution_count": 119,
     "metadata": {},
     "output_type": "execute_result"
    }
   ],
   "source": [
    "arr = np.arange(5,101,5).reshape(5,4)\n",
    "arr"
   ]
  },
  {
   "cell_type": "markdown",
   "id": "1a4f04bf-e881-404c-8fe8-161f301d59c5",
   "metadata": {},
   "source": [
    "### 3.1\n",
    "\n",
    "What is the sum of the values in arr?"
   ]
  },
  {
   "cell_type": "code",
   "execution_count": 120,
   "id": "151b7f24-0f9f-4b3d-9ef3-89396de3d499",
   "metadata": {
    "tags": []
   },
   "outputs": [
    {
     "name": "stdout",
     "output_type": "stream",
     "text": [
      "The sum of the values in arr is : 1050\n"
     ]
    }
   ],
   "source": [
    "# 3.1 Answer\n",
    "print(f'The sum of the values in arr is : {arr.sum()}')"
   ]
  },
  {
   "cell_type": "markdown",
   "id": "39cd0589-3265-420a-bf82-f84b09764b32",
   "metadata": {},
   "source": [
    "### 3.2\n",
    "\n",
    "What is the sum of values of each row in arr?"
   ]
  },
  {
   "cell_type": "code",
   "execution_count": 121,
   "id": "5e9cbe7b",
   "metadata": {},
   "outputs": [
    {
     "data": {
      "text/plain": [
       "array([[  5,  10,  15,  20],\n",
       "       [ 25,  30,  35,  40],\n",
       "       [ 45,  50,  55,  60],\n",
       "       [ 65,  70,  75,  80],\n",
       "       [ 85,  90,  95, 100]])"
      ]
     },
     "execution_count": 121,
     "metadata": {},
     "output_type": "execute_result"
    }
   ],
   "source": [
    "arr"
   ]
  },
  {
   "cell_type": "code",
   "execution_count": 122,
   "id": "36d99487-f864-433b-9842-f54eb9db9096",
   "metadata": {
    "tags": []
   },
   "outputs": [
    {
     "name": "stdout",
     "output_type": "stream",
     "text": [
      "The sum of row 1 is : 50\n",
      "The sum of row 2 is : 130\n",
      "The sum of row 3 is : 210\n",
      "The sum of row 4 is : 290\n",
      "The sum of row 5 is : 370\n"
     ]
    }
   ],
   "source": [
    "# 3.2 Answer\n",
    "for row in range(5):\n",
    "    print(\"The sum of row {} is : {}\".format(row + 1,arr[row,:].sum()))"
   ]
  },
  {
   "cell_type": "markdown",
   "id": "8b835f38-510c-448d-be80-8baf4490a6bf",
   "metadata": {
    "tags": []
   },
   "source": [
    "### 3.3\n",
    "\n",
    "What is the min value in each column?"
   ]
  },
  {
   "cell_type": "code",
   "execution_count": 123,
   "id": "940f8a94",
   "metadata": {},
   "outputs": [
    {
     "data": {
      "text/plain": [
       "5"
      ]
     },
     "execution_count": 123,
     "metadata": {},
     "output_type": "execute_result"
    }
   ],
   "source": [
    "arr[:,0].min()"
   ]
  },
  {
   "cell_type": "code",
   "execution_count": 124,
   "id": "616f1b92",
   "metadata": {},
   "outputs": [
    {
     "data": {
      "text/plain": [
       "array([[  5,  10,  15,  20],\n",
       "       [ 25,  30,  35,  40],\n",
       "       [ 45,  50,  55,  60],\n",
       "       [ 65,  70,  75,  80],\n",
       "       [ 85,  90,  95, 100]])"
      ]
     },
     "execution_count": 124,
     "metadata": {},
     "output_type": "execute_result"
    }
   ],
   "source": [
    "arr"
   ]
  },
  {
   "cell_type": "code",
   "execution_count": 125,
   "id": "41814528-ba81-409a-8bd8-bd5636a5445f",
   "metadata": {
    "tags": []
   },
   "outputs": [
    {
     "name": "stdout",
     "output_type": "stream",
     "text": [
      "The min value of column 1 is : 5\n",
      "The min value of column 2 is : 10\n",
      "The min value of column 3 is : 15\n",
      "The min value of column 4 is : 20\n"
     ]
    }
   ],
   "source": [
    "# 3.3 Answer\n",
    "for column in range(4):\n",
    "    print(\"The min value of column {} is : {}\".format(column + 1,arr[:,column].min()))"
   ]
  },
  {
   "cell_type": "markdown",
   "id": "2c4c584b-f585-4b5b-a999-b12ee0f1b33b",
   "metadata": {},
   "source": [
    "### 3.4\n",
    "\n",
    "Convert the rows in arr into columns, and the columns into rows.\n",
    "\n",
    "Hint: Your new array should have a different shape."
   ]
  },
  {
   "cell_type": "code",
   "execution_count": 126,
   "id": "2b1a0634-014f-491d-bd31-ec2acd17697a",
   "metadata": {
    "tags": []
   },
   "outputs": [
    {
     "data": {
      "text/plain": [
       "array([[  5,  25,  45,  65,  85],\n",
       "       [ 10,  30,  50,  70,  90],\n",
       "       [ 15,  35,  55,  75,  95],\n",
       "       [ 20,  40,  60,  80, 100]])"
      ]
     },
     "execution_count": 126,
     "metadata": {},
     "output_type": "execute_result"
    }
   ],
   "source": [
    "# 3.4 Answer\n",
    "arr_transposed = arr.transpose()\n",
    "arr_transposed"
   ]
  },
  {
   "cell_type": "markdown",
   "id": "0df36cbf-ed6b-4e86-b916-9fd00e4e8e4d",
   "metadata": {},
   "source": [
    "### 3.5\n",
    "\n",
    "What is the square root of all the elements in arr?"
   ]
  },
  {
   "cell_type": "code",
   "execution_count": 127,
   "id": "73546c38-5238-40e3-b8e0-9d7d67e1fd3b",
   "metadata": {
    "tags": []
   },
   "outputs": [
    {
     "name": "stdout",
     "output_type": "stream",
     "text": [
      "[[ 2.23606798  3.16227766  3.87298335  4.47213595]\n",
      " [ 5.          5.47722558  5.91607978  6.32455532]\n",
      " [ 6.70820393  7.07106781  7.41619849  7.74596669]\n",
      " [ 8.06225775  8.36660027  8.66025404  8.94427191]\n",
      " [ 9.21954446  9.48683298  9.74679434 10.        ]]\n"
     ]
    }
   ],
   "source": [
    "# 3.5 Answer\n",
    "arr_squareroot = np.sqrt(arr)\n",
    "print(arr_squareroot)"
   ]
  },
  {
   "cell_type": "markdown",
   "id": "e22ac20d-7340-4a2f-a613-36be8747c1fd",
   "metadata": {},
   "source": [
    "## Bonus Question\n",
    "\n",
    "Create a 4x4 identity matrix that matches this array:\n",
    "\n",
    "    array([[0, 0, 0, 0],\n",
    "           [1, 0, 0, 0],\n",
    "           [0, 1, 0, 0],\n",
    "           [0, 0, 1, 0]])\n",
    "       \n",
    "Pay attention to the location of the diagonal ones, as well as the data type of the above array.\n",
    "\n",
    "[Click here for a hint.](https://numpy.org/doc/stable/reference/generated/numpy.eye.html)"
   ]
  },
  {
   "cell_type": "code",
   "execution_count": 128,
   "id": "7b4862cf",
   "metadata": {},
   "outputs": [
    {
     "data": {
      "text/plain": [
       "array([[0, 0, 0, 1],\n",
       "       [0, 0, 0, 0],\n",
       "       [0, 0, 0, 0],\n",
       "       [0, 0, 0, 0]])"
      ]
     },
     "execution_count": 128,
     "metadata": {},
     "output_type": "execute_result"
    }
   ],
   "source": [
    "np.array([[0,0,0,1],[0,0,0,0],[0,0,0,0],[0,0,0,0]])"
   ]
  },
  {
   "cell_type": "code",
   "execution_count": 129,
   "id": "5f0cdd42-4134-482c-98bf-0ded2ac4f4b3",
   "metadata": {
    "tags": []
   },
   "outputs": [
    {
     "name": "stdout",
     "output_type": "stream",
     "text": [
      "[[0 0 0 0]\n",
      " [1 0 0 0]\n",
      " [0 1 0 0]\n",
      " [0 0 1 0]]\n"
     ]
    }
   ],
   "source": [
    "# Method 1:\n",
    "identity4 = np.eye(4, dtype=int)\n",
    "new = np.roll(identity4, 1, axis=0)\n",
    "arr_help = np.array([[0,0,0,1],[0,0,0,0],[0,0,0,0],[0,0,0,0]])\n",
    "print(np.subtract(new,arr_help))"
   ]
  },
  {
   "cell_type": "code",
   "execution_count": 130,
   "id": "92f346b8",
   "metadata": {},
   "outputs": [
    {
     "name": "stdout",
     "output_type": "stream",
     "text": [
      "[[0 0 0 0]\n",
      " [1 0 0 0]\n",
      " [0 1 0 0]\n",
      " [0 0 1 0]]\n"
     ]
    }
   ],
   "source": [
    "# Method 2:\n",
    "arr1 = np.eye(4,dtype = int)\n",
    "arr2 = np.array([[1,0,0,0],[-1,1,0,0],[0,-1,1,0],[0,0,-1,1]])\n",
    "print(np.subtract(arr1,arr2))"
   ]
  },
  {
   "cell_type": "markdown",
   "id": "15aeb41b-20c6-42d2-81f7-61b96e51bbb1",
   "metadata": {},
   "source": [
    "# The End!"
   ]
  }
 ],
 "metadata": {
  "kernelspec": {
   "display_name": "Python 3 (ipykernel)",
   "language": "python",
   "name": "python3"
  },
  "language_info": {
   "codemirror_mode": {
    "name": "ipython",
    "version": 3
   },
   "file_extension": ".py",
   "mimetype": "text/x-python",
   "name": "python",
   "nbconvert_exporter": "python",
   "pygments_lexer": "ipython3",
   "version": "3.11.5"
  }
 },
 "nbformat": 4,
 "nbformat_minor": 5
}
