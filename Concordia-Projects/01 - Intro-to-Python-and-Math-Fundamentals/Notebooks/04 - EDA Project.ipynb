{
 "cells": [
  {
   "cell_type": "markdown",
   "id": "21e0d91b-f24c-4c1f-87d1-9846fb30a6ef",
   "metadata": {},
   "source": [
    "# Exploratory Data Analysis Project\n",
    "___\n",
    "\n",
    "You will be working with the `covid19-can.csv` file located in the `Data` folder.\n",
    "\n",
    "This dataset is obtained from the [Government of Canada Public Health Infobase](https://open.canada.ca/data/en/dataset/261c32ab-4cfd-4f81-9dea-7b64065690dc) and contains information on daily reported COVID-19 cases as well as total COVID-19 deaths in all provinces of Canada.\n",
    "\n",
    "**Analyze the above dataset to answer the following questions:**\n",
    "\n",
    "1. What is the total number of COVID-19 cases reported in each province?\n",
    "2. Which province has the highest average rate of COVID-19 per capita?\n",
    "3. What is the average rate of COVID-19 deaths per capita?\n",
    "4. What is the overall mortality rate of COVID-19 in Canada?\n",
    "5. What is the mortality rate per province?\n",
    "6. What are the total reported cases per year?\n",
    "7. For each year in the dataset, find the month with the highest total number of cases.\n",
    "8. For each year, find the month with the lowest total number of cases.\n",
    "9. Which year had the highest mortality rate?\n",
    "10. Which year had the lowest total number of cases?\n",
    "11. Which year had the highest total number of cases?\n",
    "12. In 2020, on which day did Quebec have the highest number of COVID-19 deaths?"
   ]
  },
  {
   "cell_type": "markdown",
   "id": "d9021cca-c9a2-40fd-92de-1c764f54c073",
   "metadata": {},
   "source": [
    "## Step 1: Imports"
   ]
  },
  {
   "cell_type": "code",
   "execution_count": 1,
   "id": "01b8976c-77a2-465f-921d-56dc196c91a4",
   "metadata": {
    "tags": []
   },
   "outputs": [],
   "source": [
    "import pandas as pd\n",
    "import numpy as np"
   ]
  },
  {
   "cell_type": "markdown",
   "id": "cc549a51-de88-4aef-a945-5d2375cf3ec6",
   "metadata": {},
   "source": [
    "## Step 2: Reading Data"
   ]
  },
  {
   "cell_type": "code",
   "execution_count": 2,
   "id": "28b58df3-3257-4c9e-8a7f-4be3ce2f5ff8",
   "metadata": {
    "tags": []
   },
   "outputs": [
    {
     "data": {
      "text/html": [
       "<div>\n",
       "<style scoped>\n",
       "    .dataframe tbody tr th:only-of-type {\n",
       "        vertical-align: middle;\n",
       "    }\n",
       "\n",
       "    .dataframe tbody tr th {\n",
       "        vertical-align: top;\n",
       "    }\n",
       "\n",
       "    .dataframe thead th {\n",
       "        text-align: right;\n",
       "    }\n",
       "</style>\n",
       "<table border=\"1\" class=\"dataframe\">\n",
       "  <thead>\n",
       "    <tr style=\"text-align: right;\">\n",
       "      <th></th>\n",
       "      <th>prname</th>\n",
       "      <th>date</th>\n",
       "      <th>reporting_week</th>\n",
       "      <th>totalcases</th>\n",
       "      <th>ratecases_total</th>\n",
       "      <th>numdeaths</th>\n",
       "      <th>ratedeaths</th>\n",
       "    </tr>\n",
       "  </thead>\n",
       "  <tbody>\n",
       "    <tr>\n",
       "      <th>0</th>\n",
       "      <td>British Columbia</td>\n",
       "      <td>2020-02-01</td>\n",
       "      <td>5</td>\n",
       "      <td>1</td>\n",
       "      <td>0.02</td>\n",
       "      <td>0</td>\n",
       "      <td>0.0</td>\n",
       "    </tr>\n",
       "    <tr>\n",
       "      <th>1</th>\n",
       "      <td>Alberta</td>\n",
       "      <td>2020-02-01</td>\n",
       "      <td>5</td>\n",
       "      <td>0</td>\n",
       "      <td>0.00</td>\n",
       "      <td>0</td>\n",
       "      <td>0.0</td>\n",
       "    </tr>\n",
       "    <tr>\n",
       "      <th>2</th>\n",
       "      <td>Saskatchewan</td>\n",
       "      <td>2020-02-01</td>\n",
       "      <td>5</td>\n",
       "      <td>0</td>\n",
       "      <td>0.00</td>\n",
       "      <td>0</td>\n",
       "      <td>0.0</td>\n",
       "    </tr>\n",
       "    <tr>\n",
       "      <th>3</th>\n",
       "      <td>Manitoba</td>\n",
       "      <td>2020-02-01</td>\n",
       "      <td>5</td>\n",
       "      <td>0</td>\n",
       "      <td>0.00</td>\n",
       "      <td>0</td>\n",
       "      <td>0.0</td>\n",
       "    </tr>\n",
       "    <tr>\n",
       "      <th>4</th>\n",
       "      <td>Ontario</td>\n",
       "      <td>2020-02-01</td>\n",
       "      <td>5</td>\n",
       "      <td>3</td>\n",
       "      <td>0.02</td>\n",
       "      <td>0</td>\n",
       "      <td>0.0</td>\n",
       "    </tr>\n",
       "  </tbody>\n",
       "</table>\n",
       "</div>"
      ],
      "text/plain": [
       "             prname        date  reporting_week  totalcases  ratecases_total  \\\n",
       "0  British Columbia  2020-02-01               5           1             0.02   \n",
       "1           Alberta  2020-02-01               5           0             0.00   \n",
       "2      Saskatchewan  2020-02-01               5           0             0.00   \n",
       "3          Manitoba  2020-02-01               5           0             0.00   \n",
       "4           Ontario  2020-02-01               5           3             0.02   \n",
       "\n",
       "   numdeaths  ratedeaths  \n",
       "0          0         0.0  \n",
       "1          0         0.0  \n",
       "2          0         0.0  \n",
       "3          0         0.0  \n",
       "4          0         0.0  "
      ]
     },
     "execution_count": 2,
     "metadata": {},
     "output_type": "execute_result"
    }
   ],
   "source": [
    "# Load csv file into df\n",
    "df = pd.read_csv(\"../Desktop/M1-P4-main/Data/covid19-can.csv\")\n",
    "df.head()"
   ]
  },
  {
   "cell_type": "markdown",
   "id": "64bf717c-f145-4c05-9fe1-a45a6a878212",
   "metadata": {},
   "source": [
    "## Step 3: Data Exploration\n",
    "\n",
    "Explore the dataset to better understand its characteristics, structure, content and data types."
   ]
  },
  {
   "cell_type": "code",
   "execution_count": 3,
   "id": "cbc44ca5-c40e-4a3b-be4a-ec50518742cf",
   "metadata": {
    "scrolled": true,
    "tags": []
   },
   "outputs": [
    {
     "name": "stdout",
     "output_type": "stream",
     "text": [
      "<class 'pandas.core.frame.DataFrame'>\n",
      "RangeIndex: 3180 entries, 0 to 3179\n",
      "Data columns (total 7 columns):\n",
      " #   Column           Non-Null Count  Dtype  \n",
      "---  ------           --------------  -----  \n",
      " 0   prname           3180 non-null   object \n",
      " 1   date             3180 non-null   object \n",
      " 2   reporting_week   3180 non-null   int64  \n",
      " 3   totalcases       3180 non-null   int64  \n",
      " 4   ratecases_total  2968 non-null   float64\n",
      " 5   numdeaths        3180 non-null   int64  \n",
      " 6   ratedeaths       2968 non-null   float64\n",
      "dtypes: float64(2), int64(3), object(2)\n",
      "memory usage: 174.0+ KB\n"
     ]
    }
   ],
   "source": [
    "# Exploration (information)\n",
    "df.info()"
   ]
  },
  {
   "cell_type": "code",
   "execution_count": 4,
   "id": "e5a77b63",
   "metadata": {},
   "outputs": [
    {
     "data": {
      "text/plain": [
       "(3180, 7)"
      ]
     },
     "execution_count": 4,
     "metadata": {},
     "output_type": "execute_result"
    }
   ],
   "source": [
    "# Exploration (shape)\n",
    "df.shape"
   ]
  },
  {
   "cell_type": "code",
   "execution_count": 5,
   "id": "7234d062",
   "metadata": {},
   "outputs": [
    {
     "data": {
      "text/plain": [
       "prname              object\n",
       "date                object\n",
       "reporting_week       int64\n",
       "totalcases           int64\n",
       "ratecases_total    float64\n",
       "numdeaths            int64\n",
       "ratedeaths         float64\n",
       "dtype: object"
      ]
     },
     "execution_count": 5,
     "metadata": {},
     "output_type": "execute_result"
    }
   ],
   "source": [
    "# Exploration (types)\n",
    "df.dtypes"
   ]
  },
  {
   "cell_type": "code",
   "execution_count": 6,
   "id": "81d5c22c",
   "metadata": {},
   "outputs": [
    {
     "data": {
      "text/html": [
       "<div>\n",
       "<style scoped>\n",
       "    .dataframe tbody tr th:only-of-type {\n",
       "        vertical-align: middle;\n",
       "    }\n",
       "\n",
       "    .dataframe tbody tr th {\n",
       "        vertical-align: top;\n",
       "    }\n",
       "\n",
       "    .dataframe thead th {\n",
       "        text-align: right;\n",
       "    }\n",
       "</style>\n",
       "<table border=\"1\" class=\"dataframe\">\n",
       "  <thead>\n",
       "    <tr style=\"text-align: right;\">\n",
       "      <th></th>\n",
       "      <th>reporting_week</th>\n",
       "      <th>totalcases</th>\n",
       "      <th>ratecases_total</th>\n",
       "      <th>numdeaths</th>\n",
       "      <th>ratedeaths</th>\n",
       "    </tr>\n",
       "  </thead>\n",
       "  <tbody>\n",
       "    <tr>\n",
       "      <th>count</th>\n",
       "      <td>3180.000000</td>\n",
       "      <td>3.180000e+03</td>\n",
       "      <td>2968.000000</td>\n",
       "      <td>3180.000000</td>\n",
       "      <td>2968.000000</td>\n",
       "    </tr>\n",
       "    <tr>\n",
       "      <th>mean</th>\n",
       "      <td>26.334906</td>\n",
       "      <td>3.518890e+05</td>\n",
       "      <td>7405.393693</td>\n",
       "      <td>4425.555975</td>\n",
       "      <td>59.537823</td>\n",
       "    </tr>\n",
       "    <tr>\n",
       "      <th>std</th>\n",
       "      <td>15.176101</td>\n",
       "      <td>8.596645e+05</td>\n",
       "      <td>7583.690076</td>\n",
       "      <td>10030.916779</td>\n",
       "      <td>56.302812</td>\n",
       "    </tr>\n",
       "    <tr>\n",
       "      <th>min</th>\n",
       "      <td>1.000000</td>\n",
       "      <td>0.000000e+00</td>\n",
       "      <td>0.000000</td>\n",
       "      <td>0.000000</td>\n",
       "      <td>0.000000</td>\n",
       "    </tr>\n",
       "    <tr>\n",
       "      <th>25%</th>\n",
       "      <td>13.000000</td>\n",
       "      <td>7.955000e+02</td>\n",
       "      <td>289.237500</td>\n",
       "      <td>7.000000</td>\n",
       "      <td>6.367500</td>\n",
       "    </tr>\n",
       "    <tr>\n",
       "      <th>50%</th>\n",
       "      <td>26.000000</td>\n",
       "      <td>4.258900e+04</td>\n",
       "      <td>6962.710000</td>\n",
       "      <td>217.000000</td>\n",
       "      <td>48.240000</td>\n",
       "    </tr>\n",
       "    <tr>\n",
       "      <th>75%</th>\n",
       "      <td>39.250000</td>\n",
       "      <td>1.613332e+05</td>\n",
       "      <td>11386.880000</td>\n",
       "      <td>3002.500000</td>\n",
       "      <td>98.690000</td>\n",
       "    </tr>\n",
       "    <tr>\n",
       "      <th>max</th>\n",
       "      <td>53.000000</td>\n",
       "      <td>4.933311e+06</td>\n",
       "      <td>34224.430000</td>\n",
       "      <td>58475.000000</td>\n",
       "      <td>227.440000</td>\n",
       "    </tr>\n",
       "  </tbody>\n",
       "</table>\n",
       "</div>"
      ],
      "text/plain": [
       "       reporting_week    totalcases  ratecases_total     numdeaths  \\\n",
       "count     3180.000000  3.180000e+03      2968.000000   3180.000000   \n",
       "mean        26.334906  3.518890e+05      7405.393693   4425.555975   \n",
       "std         15.176101  8.596645e+05      7583.690076  10030.916779   \n",
       "min          1.000000  0.000000e+00         0.000000      0.000000   \n",
       "25%         13.000000  7.955000e+02       289.237500      7.000000   \n",
       "50%         26.000000  4.258900e+04      6962.710000    217.000000   \n",
       "75%         39.250000  1.613332e+05     11386.880000   3002.500000   \n",
       "max         53.000000  4.933311e+06     34224.430000  58475.000000   \n",
       "\n",
       "        ratedeaths  \n",
       "count  2968.000000  \n",
       "mean     59.537823  \n",
       "std      56.302812  \n",
       "min       0.000000  \n",
       "25%       6.367500  \n",
       "50%      48.240000  \n",
       "75%      98.690000  \n",
       "max     227.440000  "
      ]
     },
     "execution_count": 6,
     "metadata": {},
     "output_type": "execute_result"
    }
   ],
   "source": [
    "# Exploration (descriptive statistics summary for the DataFrame -Numeric columns-)\n",
    "df.describe()"
   ]
  },
  {
   "cell_type": "code",
   "execution_count": 7,
   "id": "05e23e85",
   "metadata": {},
   "outputs": [
    {
     "data": {
      "text/html": [
       "<div>\n",
       "<style scoped>\n",
       "    .dataframe tbody tr th:only-of-type {\n",
       "        vertical-align: middle;\n",
       "    }\n",
       "\n",
       "    .dataframe tbody tr th {\n",
       "        vertical-align: top;\n",
       "    }\n",
       "\n",
       "    .dataframe thead th {\n",
       "        text-align: right;\n",
       "    }\n",
       "</style>\n",
       "<table border=\"1\" class=\"dataframe\">\n",
       "  <thead>\n",
       "    <tr style=\"text-align: right;\">\n",
       "      <th></th>\n",
       "      <th>prname</th>\n",
       "      <th>date</th>\n",
       "    </tr>\n",
       "  </thead>\n",
       "  <tbody>\n",
       "    <tr>\n",
       "      <th>count</th>\n",
       "      <td>3180</td>\n",
       "      <td>3180</td>\n",
       "    </tr>\n",
       "    <tr>\n",
       "      <th>unique</th>\n",
       "      <td>15</td>\n",
       "      <td>212</td>\n",
       "    </tr>\n",
       "    <tr>\n",
       "      <th>top</th>\n",
       "      <td>British Columbia</td>\n",
       "      <td>2020-02-01</td>\n",
       "    </tr>\n",
       "    <tr>\n",
       "      <th>freq</th>\n",
       "      <td>212</td>\n",
       "      <td>15</td>\n",
       "    </tr>\n",
       "  </tbody>\n",
       "</table>\n",
       "</div>"
      ],
      "text/plain": [
       "                  prname        date\n",
       "count               3180        3180\n",
       "unique                15         212\n",
       "top     British Columbia  2020-02-01\n",
       "freq                 212          15"
      ]
     },
     "execution_count": 7,
     "metadata": {},
     "output_type": "execute_result"
    }
   ],
   "source": [
    "# Exploration (descriptive statistics summary for the DataFrame -Object columns-)\n",
    "df.describe(include = [\"object\"])"
   ]
  },
  {
   "cell_type": "markdown",
   "id": "9410037f-2851-4c0f-89ae-b7dee0b0b30b",
   "metadata": {},
   "source": [
    "## Step 4: Data Preparation"
   ]
  },
  {
   "cell_type": "code",
   "execution_count": 8,
   "id": "b4c0c0d2-72a8-4b01-9e12-e71d87c6c7c0",
   "metadata": {
    "tags": []
   },
   "outputs": [
    {
     "name": "stdout",
     "output_type": "stream",
     "text": [
      "Number of missing values for each column :\n",
      "prname               0\n",
      "date                 0\n",
      "reporting_week       0\n",
      "totalcases           0\n",
      "ratecases_total    212\n",
      "numdeaths            0\n",
      "ratedeaths         212\n",
      "dtype: int64\n"
     ]
    }
   ],
   "source": [
    "# Check for missing values\n",
    "print(\"Number of missing values for each column :\")\n",
    "print(df.isnull().sum())"
   ]
  },
  {
   "cell_type": "code",
   "execution_count": 9,
   "id": "ed776aa0-50c5-4ba4-b022-9ce2b0c58259",
   "metadata": {
    "tags": []
   },
   "outputs": [],
   "source": [
    "# Remove all missing values\n",
    "df.dropna(inplace = True)"
   ]
  },
  {
   "cell_type": "code",
   "execution_count": 10,
   "id": "b237eed8",
   "metadata": {},
   "outputs": [
    {
     "name": "stdout",
     "output_type": "stream",
     "text": [
      "Number of missing values for each column :\n",
      "prname             0\n",
      "date               0\n",
      "reporting_week     0\n",
      "totalcases         0\n",
      "ratecases_total    0\n",
      "numdeaths          0\n",
      "ratedeaths         0\n",
      "dtype: int64\n"
     ]
    }
   ],
   "source": [
    "# Check for missing values (verification)\n",
    "print(\"Number of missing values for each column :\")\n",
    "print(df.isnull().sum())"
   ]
  },
  {
   "cell_type": "code",
   "execution_count": 11,
   "id": "90870540-e50c-431f-9e2e-6242efdcf8f2",
   "metadata": {
    "tags": []
   },
   "outputs": [
    {
     "name": "stdout",
     "output_type": "stream",
     "text": [
      "Unique values in the 'prname' column are : 14\n",
      "British Columbia\n",
      "Alberta\n",
      "Saskatchewan\n",
      "Manitoba\n",
      "Ontario\n",
      "Quebec\n",
      "Newfoundland and Labrador\n",
      "New Brunswick\n",
      "Nova Scotia\n",
      "Prince Edward Island\n",
      "Yukon\n",
      "Northwest Territories\n",
      "Nunavut\n",
      "Canada\n"
     ]
    }
   ],
   "source": [
    "# Find all unique values in the 'prname' column\n",
    "\n",
    "# Print the number of unique values in the 'prname' column\n",
    "\n",
    "print(\"Unique values in the 'prname' column are :\", df[\"prname\"].nunique())\n",
    "\n",
    "# Iterate through each unique value in the 'prname' column and print it\n",
    "\n",
    "for i in df[\"prname\"].unique() :\n",
    "    print(i)"
   ]
  },
  {
   "cell_type": "code",
   "execution_count": 12,
   "id": "67150b3a-a942-4b91-a085-de3ca151b2a9",
   "metadata": {
    "tags": []
   },
   "outputs": [],
   "source": [
    "# Delete all records with Canada in 'prname'\n",
    "\n",
    "df.drop(df[df['prname'] == \"Canada\"].index, inplace = True)"
   ]
  },
  {
   "cell_type": "code",
   "execution_count": 13,
   "id": "e8d3a70b",
   "metadata": {},
   "outputs": [
    {
     "name": "stdout",
     "output_type": "stream",
     "text": [
      "<class 'pandas.core.frame.DataFrame'>\n",
      "Index: 2756 entries, 0 to 3177\n",
      "Columns: 7 entries, prname to ratedeaths\n",
      "dtypes: float64(2), int64(3), object(2)\n",
      "memory usage: 172.2+ KB\n"
     ]
    }
   ],
   "source": [
    "# Check\n",
    "\n",
    "df.info(verbose = False)"
   ]
  },
  {
   "cell_type": "code",
   "execution_count": 14,
   "id": "1f6a85e0",
   "metadata": {},
   "outputs": [
    {
     "data": {
      "text/plain": [
       "array(['British Columbia', 'Alberta', 'Saskatchewan', 'Manitoba',\n",
       "       'Ontario', 'Quebec', 'Newfoundland and Labrador', 'New Brunswick',\n",
       "       'Nova Scotia', 'Prince Edward Island', 'Yukon',\n",
       "       'Northwest Territories', 'Nunavut'], dtype=object)"
      ]
     },
     "execution_count": 14,
     "metadata": {},
     "output_type": "execute_result"
    }
   ],
   "source": [
    "# Check\n",
    "\n",
    "df['prname'].unique()"
   ]
  },
  {
   "cell_type": "code",
   "execution_count": 15,
   "id": "cd2f9a66-f6fe-4ad0-8a13-31c7a16b0beb",
   "metadata": {},
   "outputs": [
    {
     "data": {
      "text/html": [
       "<div>\n",
       "<style scoped>\n",
       "    .dataframe tbody tr th:only-of-type {\n",
       "        vertical-align: middle;\n",
       "    }\n",
       "\n",
       "    .dataframe tbody tr th {\n",
       "        vertical-align: top;\n",
       "    }\n",
       "\n",
       "    .dataframe thead th {\n",
       "        text-align: right;\n",
       "    }\n",
       "</style>\n",
       "<table border=\"1\" class=\"dataframe\">\n",
       "  <thead>\n",
       "    <tr style=\"text-align: right;\">\n",
       "      <th></th>\n",
       "      <th>prname</th>\n",
       "      <th>date</th>\n",
       "      <th>reporting_week</th>\n",
       "      <th>totalcases</th>\n",
       "      <th>ratecases_total</th>\n",
       "      <th>numdeaths</th>\n",
       "      <th>ratedeaths</th>\n",
       "    </tr>\n",
       "  </thead>\n",
       "  <tbody>\n",
       "  </tbody>\n",
       "</table>\n",
       "</div>"
      ],
      "text/plain": [
       "Empty DataFrame\n",
       "Columns: [prname, date, reporting_week, totalcases, ratecases_total, numdeaths, ratedeaths]\n",
       "Index: []"
      ]
     },
     "execution_count": 15,
     "metadata": {},
     "output_type": "execute_result"
    }
   ],
   "source": [
    "# Check (There is no longer a 'prname' Canada)\n",
    "\n",
    "df[df['prname']==\"Canada\"]"
   ]
  },
  {
   "cell_type": "code",
   "execution_count": 16,
   "id": "e90b337b",
   "metadata": {},
   "outputs": [],
   "source": [
    "# Convert the 'date' column to datetime format\n",
    "df[\"date\"] = pd.to_datetime(df[\"date\"])"
   ]
  },
  {
   "cell_type": "code",
   "execution_count": 17,
   "id": "ebed658d-7cea-438c-8098-b8bbad8c0465",
   "metadata": {},
   "outputs": [],
   "source": [
    "# Create a 'year' column\n",
    "df[\"year\"] = df[\"date\"].dt.year"
   ]
  },
  {
   "cell_type": "code",
   "execution_count": 18,
   "id": "5aa5a643-d01e-420e-af59-94bfa2c40045",
   "metadata": {
    "tags": []
   },
   "outputs": [],
   "source": [
    "# Create month column\n",
    "df['month'] = df[\"date\"].dt.month"
   ]
  },
  {
   "cell_type": "code",
   "execution_count": 19,
   "id": "61060f51",
   "metadata": {},
   "outputs": [
    {
     "data": {
      "text/html": [
       "<div>\n",
       "<style scoped>\n",
       "    .dataframe tbody tr th:only-of-type {\n",
       "        vertical-align: middle;\n",
       "    }\n",
       "\n",
       "    .dataframe tbody tr th {\n",
       "        vertical-align: top;\n",
       "    }\n",
       "\n",
       "    .dataframe thead th {\n",
       "        text-align: right;\n",
       "    }\n",
       "</style>\n",
       "<table border=\"1\" class=\"dataframe\">\n",
       "  <thead>\n",
       "    <tr style=\"text-align: right;\">\n",
       "      <th></th>\n",
       "      <th>prname</th>\n",
       "      <th>date</th>\n",
       "      <th>reporting_week</th>\n",
       "      <th>totalcases</th>\n",
       "      <th>ratecases_total</th>\n",
       "      <th>numdeaths</th>\n",
       "      <th>ratedeaths</th>\n",
       "      <th>year</th>\n",
       "      <th>month</th>\n",
       "    </tr>\n",
       "  </thead>\n",
       "  <tbody>\n",
       "    <tr>\n",
       "      <th>0</th>\n",
       "      <td>British Columbia</td>\n",
       "      <td>2020-02-01</td>\n",
       "      <td>5</td>\n",
       "      <td>1</td>\n",
       "      <td>0.02</td>\n",
       "      <td>0</td>\n",
       "      <td>0.0</td>\n",
       "      <td>2020</td>\n",
       "      <td>2</td>\n",
       "    </tr>\n",
       "    <tr>\n",
       "      <th>1</th>\n",
       "      <td>Alberta</td>\n",
       "      <td>2020-02-01</td>\n",
       "      <td>5</td>\n",
       "      <td>0</td>\n",
       "      <td>0.00</td>\n",
       "      <td>0</td>\n",
       "      <td>0.0</td>\n",
       "      <td>2020</td>\n",
       "      <td>2</td>\n",
       "    </tr>\n",
       "    <tr>\n",
       "      <th>2</th>\n",
       "      <td>Saskatchewan</td>\n",
       "      <td>2020-02-01</td>\n",
       "      <td>5</td>\n",
       "      <td>0</td>\n",
       "      <td>0.00</td>\n",
       "      <td>0</td>\n",
       "      <td>0.0</td>\n",
       "      <td>2020</td>\n",
       "      <td>2</td>\n",
       "    </tr>\n",
       "    <tr>\n",
       "      <th>3</th>\n",
       "      <td>Manitoba</td>\n",
       "      <td>2020-02-01</td>\n",
       "      <td>5</td>\n",
       "      <td>0</td>\n",
       "      <td>0.00</td>\n",
       "      <td>0</td>\n",
       "      <td>0.0</td>\n",
       "      <td>2020</td>\n",
       "      <td>2</td>\n",
       "    </tr>\n",
       "    <tr>\n",
       "      <th>4</th>\n",
       "      <td>Ontario</td>\n",
       "      <td>2020-02-01</td>\n",
       "      <td>5</td>\n",
       "      <td>3</td>\n",
       "      <td>0.02</td>\n",
       "      <td>0</td>\n",
       "      <td>0.0</td>\n",
       "      <td>2020</td>\n",
       "      <td>2</td>\n",
       "    </tr>\n",
       "  </tbody>\n",
       "</table>\n",
       "</div>"
      ],
      "text/plain": [
       "             prname       date  reporting_week  totalcases  ratecases_total  \\\n",
       "0  British Columbia 2020-02-01               5           1             0.02   \n",
       "1           Alberta 2020-02-01               5           0             0.00   \n",
       "2      Saskatchewan 2020-02-01               5           0             0.00   \n",
       "3          Manitoba 2020-02-01               5           0             0.00   \n",
       "4           Ontario 2020-02-01               5           3             0.02   \n",
       "\n",
       "   numdeaths  ratedeaths  year  month  \n",
       "0          0         0.0  2020      2  \n",
       "1          0         0.0  2020      2  \n",
       "2          0         0.0  2020      2  \n",
       "3          0         0.0  2020      2  \n",
       "4          0         0.0  2020      2  "
      ]
     },
     "execution_count": 19,
     "metadata": {},
     "output_type": "execute_result"
    }
   ],
   "source": [
    "df.head()"
   ]
  },
  {
   "cell_type": "markdown",
   "id": "758536eb-0ff8-405f-b01b-2c68a928427a",
   "metadata": {},
   "source": [
    "## Step 5: Data Analysis"
   ]
  },
  {
   "cell_type": "code",
   "execution_count": 20,
   "id": "c57758b0-763d-467e-b58d-87ea0a7d61c9",
   "metadata": {
    "tags": []
   },
   "outputs": [
    {
     "name": "stdout",
     "output_type": "stream",
     "text": [
      "Total number of COVID-19 cases reported in each province :\n",
      "prname\n",
      "Alberta                       80504411\n",
      "British Columbia              51249692\n",
      "Manitoba                      19485185\n",
      "New Brunswick                  8912651\n",
      "Newfoundland and Labrador      5629703\n",
      "Northwest Territories          1256158\n",
      "Nova Scotia                   13941547\n",
      "Nunavut                         407810\n",
      "Ontario                      193613879\n",
      "Prince Edward Island           5385603\n",
      "Quebec                       159348011\n",
      "Saskatchewan                  19218685\n",
      "Yukon                           547530\n",
      "Name: totalcases, dtype: int64\n"
     ]
    }
   ],
   "source": [
    "# 1. Total number of COVID-19 cases reported in each province\n",
    "\n",
    "# Group the data in the DataFrame by the \"prname\" column, which represents the names of the provinces\n",
    "province_cases = df.groupby(\"prname\")\n",
    "\n",
    "# Calculate the sum of numeric values for each group (province)\n",
    "df_cases = province_cases.sum(numeric_only = True)\n",
    "\n",
    "print('Total number of COVID-19 cases reported in each province :')\n",
    "print(df_cases['totalcases'])"
   ]
  },
  {
   "cell_type": "code",
   "execution_count": 21,
   "id": "c6d76a76-853c-4f99-9c3f-42e8b08865b0",
   "metadata": {
    "tags": []
   },
   "outputs": [
    {
     "name": "stdout",
     "output_type": "stream",
     "text": [
      "The province with the highest average rate of COVID-19 cases per capita is Prince Edward Island\n"
     ]
    }
   ],
   "source": [
    "# 2 Province with the highest average rate of COVID-19 cases per capita\n",
    "\n",
    "# Calculate the mean of numeric values for each group (province)\n",
    "average_rate_cases = province_cases['ratecases_total'].mean()\n",
    "\n",
    "print(\"The province with the highest average rate of COVID-19 cases per capita is\",average_rate_cases.idxmax())"
   ]
  },
  {
   "cell_type": "code",
   "execution_count": 22,
   "id": "1106bb0c-90ac-444a-96a0-33b4a3b2dcd9",
   "metadata": {
    "tags": []
   },
   "outputs": [
    {
     "name": "stdout",
     "output_type": "stream",
     "text": [
      "Average rate of COVID-19 deaths per capita in each province :\n"
     ]
    },
    {
     "data": {
      "text/plain": [
       "prname\n",
       "Alberta                       8358.540613\n",
       "British Columbia              4544.634387\n",
       "Manitoba                      6522.122736\n",
       "New Brunswick                 5177.050330\n",
       "Newfoundland and Labrador     5048.786226\n",
       "Northwest Territories        12992.594623\n",
       "Nova Scotia                   6448.994434\n",
       "Nunavut                       4746.663632\n",
       "Ontario                       6044.396557\n",
       "Prince Edward Island         14883.171745\n",
       "Quebec                        8643.871038\n",
       "Saskatchewan                  7587.374151\n",
       "Yukon                         5898.030189\n",
       "Name: ratecases_total, dtype: float64"
      ]
     },
     "execution_count": 22,
     "metadata": {},
     "output_type": "execute_result"
    }
   ],
   "source": [
    "# 3. Average rate of COVID-19 deaths per capita in each province\n",
    "print('Average rate of COVID-19 deaths per capita in each province :')\n",
    "average_rate_cases"
   ]
  },
  {
   "cell_type": "code",
   "execution_count": 23,
   "id": "1ba7d4d7",
   "metadata": {},
   "outputs": [
    {
     "name": "stdout",
     "output_type": "stream",
     "text": [
      "Overall mortality rate of COVID-19 in Canada is : 1.26\n"
     ]
    }
   ],
   "source": [
    "# 4. Overall mortality rate of COVID-19 in Canada\n",
    "\n",
    "# Sum the total number of cases and deaths across all provinces\n",
    "\n",
    "total_cases = df['totalcases'].sum()\n",
    "total_deaths = df['numdeaths'].sum()\n",
    "\n",
    "# Calculate the overall mortality rate\n",
    "\n",
    "mortality_rate = (total_deaths / total_cases) * 100\n",
    "\n",
    "print(\"Overall mortality rate of COVID-19 in Canada is :\",np.round(mortality_rate,2))"
   ]
  },
  {
   "cell_type": "code",
   "execution_count": 24,
   "id": "d2c1772f-9b7a-49e5-8996-222a9598ac19",
   "metadata": {
    "tags": []
   },
   "outputs": [
    {
     "name": "stdout",
     "output_type": "stream",
     "text": [
      "Mortality rate per province : \n",
      "\n",
      "prname\n",
      "Alberta                      0.895691\n",
      "British Columbia             1.251715\n",
      "Manitoba                     1.599862\n",
      "New Brunswick                0.898285\n",
      "Newfoundland and Labrador    0.549656\n",
      "Northwest Territories        0.201487\n",
      "Nova Scotia                  0.573315\n",
      "Nunavut                      0.228783\n",
      "Ontario                      1.196737\n",
      "Prince Edward Island         0.156696\n",
      "Quebec                       1.641893\n",
      "Saskatchewan                 1.157972\n",
      "Yukon                        0.652202\n",
      "Name: mortality rates province, dtype: float64\n"
     ]
    }
   ],
   "source": [
    "# 5. Mortality rate per province : \\n\n",
    "\n",
    "# Calculate the mortality rate per province as a percentage\n",
    "\n",
    "province_rate = province_cases.sum(numeric_only = True)\n",
    "province_rate['mortality rates province'] = (province_rate['numdeaths']/province_rate['totalcases'])*100\n",
    "\n",
    "# Print the mortality rates per province from the 'cases' DataFrame\n",
    "\n",
    "print('Mortality rate per province : \\n')\n",
    "print(province_rate['mortality rates province'])"
   ]
  },
  {
   "cell_type": "code",
   "execution_count": 25,
   "id": "be6c2a6f-625b-4d2f-a0a7-9336f75bca51",
   "metadata": {
    "tags": []
   },
   "outputs": [
    {
     "name": "stdout",
     "output_type": "stream",
     "text": [
      "Total reported cases per year :\n"
     ]
    },
    {
     "data": {
      "text/plain": [
       "year\n",
       "2020      6505264\n",
       "2021     69105463\n",
       "2022    204977700\n",
       "2023    244473088\n",
       "2024     34439350\n",
       "Name: totalcases, dtype: int64"
      ]
     },
     "execution_count": 25,
     "metadata": {},
     "output_type": "execute_result"
    }
   ],
   "source": [
    "# 6. Total reported cases per year\n",
    "\n",
    "# Group the data by year and calculate the sum of numeric columns\n",
    "cases_year = df.groupby('year').sum(numeric_only=True)\n",
    "\n",
    "print('Total reported cases per year :')\n",
    "cases_year['totalcases']"
   ]
  },
  {
   "cell_type": "code",
   "execution_count": 26,
   "id": "709af432-2151-4c72-ab51-1f3b04710d9b",
   "metadata": {
    "tags": []
   },
   "outputs": [
    {
     "name": "stdout",
     "output_type": "stream",
     "text": [
      "The month with highest total cases for 2000 is : 12\n",
      "The month with highest total cases for 2001 is : 10\n",
      "The month with highest total cases for 2002 is : 12\n",
      "The month with highest total cases for 2003 is : 12\n",
      "The month with highest total cases for 2004 is : 1\n"
     ]
    }
   ],
   "source": [
    "# 7. Month with highest total cases for each year\n",
    "\n",
    "# Group the data by year and month, and calculate the sum of numeric columns\n",
    "\n",
    "cases_month = df.groupby(['year','month']).sum(numeric_only = True)\n",
    "\n",
    "# Retrieve dataframes for each specific year\n",
    "\n",
    "df0 = cases_month.loc[2020]\n",
    "df1 = cases_month.loc[2021]\n",
    "df2 = cases_month.loc[2022]\n",
    "df3 = cases_month.loc[2023]\n",
    "df4 = cases_month.loc[2024]\n",
    "\n",
    "# Find the month with the highest total cases for each year\n",
    "\n",
    "highest_month_2000 = df0['totalcases'].idxmax()\n",
    "highest_month_2001 = df1['totalcases'].idxmax()\n",
    "highest_month_2002 = df2['totalcases'].idxmax()\n",
    "highest_month_2003 = df3['totalcases'].idxmax()\n",
    "highest_month_2004 = df4['totalcases'].idxmax()\n",
    "\n",
    "# List of the months with the highest total cases for each year\n",
    "\n",
    "highest_month = [highest_month_2000,highest_month_2001,highest_month_2002,highest_month_2003,highest_month_2004]\n",
    "\n",
    "# Iterate through the list and print the results\n",
    "\n",
    "j = 2000\n",
    "for i in (highest_month) :\n",
    "    print(\"The month with highest total cases for\",j,\"is :\",i)\n",
    "    j+=1"
   ]
  },
  {
   "cell_type": "code",
   "execution_count": 27,
   "id": "74998d56-85c6-421d-9dfa-14a6aad73f01",
   "metadata": {
    "tags": []
   },
   "outputs": [
    {
     "name": "stdout",
     "output_type": "stream",
     "text": [
      "The month with lowest total cases for 2000 is : 2\n",
      "The month with lowest total cases for 2001 is : 2\n",
      "The month with lowest total cases for 2002 is : 2\n",
      "The month with lowest total cases for 2003 is : 1\n",
      "The month with lowest total cases for 2004 is : 2\n"
     ]
    }
   ],
   "source": [
    "# 8. Month with lowest total cases for each year\n",
    "\n",
    "# Find the month with the lowest total cases for each year\n",
    "\n",
    "lowest_month_2000 = df0['totalcases'].idxmin()\n",
    "lowest_month_2001 = df1['totalcases'].idxmin()\n",
    "lowest_month_2002 = df2['totalcases'].idxmin()\n",
    "lowest_month_2003 = df3['totalcases'].idxmin()\n",
    "lowest_month_2004 = df4['totalcases'].idxmin()\n",
    "\n",
    "# List of the months with the highest total cases for each year\n",
    "\n",
    "lowest_month = [lowest_month_2000,lowest_month_2001,lowest_month_2002,lowest_month_2003,lowest_month_2004]\n",
    "\n",
    "# Iterate through the list and print the results\n",
    "\n",
    "j = 2000\n",
    "for i in (lowest_month) :\n",
    "    print(\"The month with lowest total cases for\",j,\"is :\",i)\n",
    "    j+=1"
   ]
  },
  {
   "cell_type": "code",
   "execution_count": 28,
   "id": "c62a05ee-8578-4381-ba22-937094183ecc",
   "metadata": {
    "tags": []
   },
   "outputs": [
    {
     "name": "stdout",
     "output_type": "stream",
     "text": [
      "Yearly mortality rate :\n",
      "year\n",
      "2020    5.118040\n",
      "2021    1.875300\n",
      "2022    1.074239\n",
      "2023    1.144759\n",
      "2024    1.182307\n",
      "Name: Yearly_mortality_rate, dtype: float64\n"
     ]
    }
   ],
   "source": [
    "# 9. Yearly mortality rate\n",
    "\n",
    "# Calculate the yearly mortality rate as the number of deaths divided by the total number of cases, multiplied by 100\n",
    "\n",
    "cases_year['Yearly_mortality_rate'] = (cases_year['numdeaths']/cases_year['totalcases'])*100\n",
    "\n",
    "# Print the yearly mortality rate for each year\n",
    "\n",
    "print(\"Yearly mortality rate :\")\n",
    "print(cases_year['Yearly_mortality_rate'])"
   ]
  },
  {
   "cell_type": "code",
   "execution_count": 29,
   "id": "72e52205-a74e-4795-a6c6-61d041487454",
   "metadata": {
    "tags": []
   },
   "outputs": [
    {
     "name": "stdout",
     "output_type": "stream",
     "text": [
      "The year with highest total cases is : 2020\n"
     ]
    }
   ],
   "source": [
    "# 10/11: Year with lowest total cases\n",
    "print(\"The year with highest total cases is :\",cases_year['totalcases'].idxmin())"
   ]
  },
  {
   "cell_type": "code",
   "execution_count": 30,
   "id": "ab047e3d-66f2-492a-ae7e-770b7a551214",
   "metadata": {
    "tags": []
   },
   "outputs": [
    {
     "name": "stdout",
     "output_type": "stream",
     "text": [
      "The year with highest total cases is : 2023\n"
     ]
    }
   ],
   "source": [
    "# 11. Year with highest total cases\n",
    "print(\"The year with highest total cases is :\",cases_year['totalcases'].idxmax())"
   ]
  },
  {
   "cell_type": "code",
   "execution_count": 31,
   "id": "1fd47888",
   "metadata": {},
   "outputs": [],
   "source": [
    "# 12. Day with highest number of COVID-19 deaths for Quebec in 2020\n",
    "\n",
    "df['day'] = df['date'].dt.day"
   ]
  },
  {
   "cell_type": "code",
   "execution_count": 32,
   "id": "70ee4440",
   "metadata": {},
   "outputs": [
    {
     "name": "stdout",
     "output_type": "stream",
     "text": [
      "The day with highest number of COVID-19 deaths for Quebec in 2020 is : 26 / 12 with 7662 death\n"
     ]
    }
   ],
   "source": [
    "# 12. Day with highest number of COVID-19 deaths for Quebec in 2020\n",
    "\n",
    "# Group the data by province, year, month, and day, and calculate the sum of numeric columns\n",
    "\n",
    "df_prov_year = df.groupby([\"prname\",\"year\",\"month\",\"day\"]).sum(numeric_only=True)\n",
    "\n",
    "# Select data for Quebec in 2020\n",
    "\n",
    "df_quebec = df_prov_year.loc['Quebec'].loc[2020]\n",
    "\n",
    "# Find the maximum number of deaths and index in Quebec in 2020\n",
    "\n",
    "max_death = df_quebec['numdeaths'].max()\n",
    "ind_max = df_quebec['numdeaths'].idxmax()\n",
    "\n",
    "# Print the day with the highest number of COVID-19 deaths for Quebec in 2020\n",
    "\n",
    "print(\"The day with highest number of COVID-19 deaths for Quebec in 2020 is :\",ind_max[1],\"/\",ind_max[0],\"with\",max_death,\"death\")"
   ]
  },
  {
   "cell_type": "markdown",
   "id": "22bdcb34-8e75-46ee-a203-8f7cce450ec4",
   "metadata": {},
   "source": [
    "The End!"
   ]
  }
 ],
 "metadata": {
  "kernelspec": {
   "display_name": "Python 3 (ipykernel)",
   "language": "python",
   "name": "python3"
  },
  "language_info": {
   "codemirror_mode": {
    "name": "ipython",
    "version": 3
   },
   "file_extension": ".py",
   "mimetype": "text/x-python",
   "name": "python",
   "nbconvert_exporter": "python",
   "pygments_lexer": "ipython3",
   "version": "3.11.5"
  }
 },
 "nbformat": 4,
 "nbformat_minor": 5
}
