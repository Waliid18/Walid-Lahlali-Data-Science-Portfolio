{
 "cells": [
  {
   "cell_type": "markdown",
   "id": "ca2c0c98",
   "metadata": {},
   "source": [
    "# Assignment 1 - Statistics\n",
    "---"
   ]
  },
  {
   "cell_type": "code",
   "execution_count": 49,
   "id": "493d0828-4261-4f5d-926d-c3ef4a746f33",
   "metadata": {
    "tags": []
   },
   "outputs": [],
   "source": [
    "# Imports\n",
    "from scipy.stats import norm\n",
    "import math\n",
    "import random\n",
    "import numpy as np"
   ]
  },
  {
   "cell_type": "markdown",
   "id": "2c7ca9f2-6ef4-465d-b1cf-edfe454d09bd",
   "metadata": {
    "tags": []
   },
   "source": [
    "## Exercise 1: Probability"
   ]
  },
  {
   "cell_type": "markdown",
   "id": "356a353b-78e8-42b7-b778-3c54e7c033e1",
   "metadata": {},
   "source": [
    "### 1.1\n",
    "\n",
    "A company finds that out of every 10 projects, 5 are completed on time, 7 are completed under budget, and 3 are completed both on time and under budget.\n",
    "\n",
    "Given that a project is completed on time, what is the probability that it is under budget?"
   ]
  },
  {
   "cell_type": "code",
   "execution_count": 50,
   "id": "3ff5ad37-007e-42c3-8998-1bd2de51087c",
   "metadata": {
    "tags": []
   },
   "outputs": [
    {
     "name": "stdout",
     "output_type": "stream",
     "text": [
      "The probability that a project is under budget given that it is completed on time is: 0.6\n"
     ]
    }
   ],
   "source": [
    "# 1.1 Answer\n",
    "\n",
    "# Probability that a project is completed on time\n",
    "\n",
    "PA = 5 / 10  \n",
    "\n",
    "# Probability that a project is completed under budget\n",
    "\n",
    "PB = 7 / 10\n",
    "\n",
    "# Probability that a project is completed both on time and under budget\n",
    "\n",
    "PA_and_PB = 3 / 10  \n",
    "\n",
    "# Calculating the conditional probability P(B|A)\n",
    "\n",
    "PB_given_A = PA_and_PB / PA\n",
    "\n",
    "print(f\"The probability that a project is under budget given that it is completed on time is: {PB_given_A}\")"
   ]
  },
  {
   "cell_type": "markdown",
   "id": "8056aef2-59e3-42fa-b6c2-be3f0d9b6e57",
   "metadata": {},
   "source": [
    "### 1.2\n",
    "\n",
    "Let's consider a group of students participating in two extracurricular activities: music club and sports club. Out of 80 students surveyed:\n",
    "\n",
    "- 40 students are members of the music club.\n",
    "- 60 students are members of the sports club.\n",
    "- 20 students are members of both clubs.\n",
    "\n",
    "If we randomly select a student who is a member of the music club, what is the probability that they are also a member of the sports club?"
   ]
  },
  {
   "cell_type": "code",
   "execution_count": 51,
   "id": "e48ed26d-0f01-4149-ba55-30292099eccc",
   "metadata": {
    "tags": []
   },
   "outputs": [
    {
     "name": "stdout",
     "output_type": "stream",
     "text": [
      "The probability that a student is a member of the sports club given that they are a member of the music club is: 0.5\n"
     ]
    }
   ],
   "source": [
    "# 1.2 Answer\n",
    "\n",
    "# Probability that a student is a member of the music club\n",
    "\n",
    "PM = 40 / 80\n",
    "\n",
    "# Probability that a student is a member of the sports club\n",
    "\n",
    "PS = 60 / 80\n",
    "\n",
    "# Probability that a student is a member of both clubs\n",
    "\n",
    "PM_and_S = 20 / 80  \n",
    "\n",
    "# Calculating the conditional probability P(S|M)\n",
    "\n",
    "PS_given_M = PM_and_S / PM\n",
    "\n",
    "print(f\"The probability that a student is a member of the sports club given that they are a member of the music club is: {PS_given_M}\")"
   ]
  },
  {
   "cell_type": "markdown",
   "id": "bff42824-fedd-49d5-a745-b90f9e3037e0",
   "metadata": {},
   "source": [
    "### 1.3\n",
    "\n",
    "Solve the marbles example from Lecture_1 using Python.\n",
    "Suppose you have a bag containing 3 red marbles and 2 blue marbles. You randomly draw one marble from the bag and then another marble without replacing the first one.\n",
    "\n",
    "What is the probability that the second marble is blue, given that the first marble was red?"
   ]
  },
  {
   "cell_type": "code",
   "execution_count": 52,
   "id": "fce12ac7-c56e-4f5f-bc7e-d2e6ea567c9d",
   "metadata": {
    "tags": []
   },
   "outputs": [
    {
     "name": "stdout",
     "output_type": "stream",
     "text": [
      "The probability that the second marble is blue given that the first marble was red is: 0.5\n"
     ]
    }
   ],
   "source": [
    "#  1.3 answer\n",
    "\n",
    "# Define the probabilities\n",
    "\n",
    "total_marbles = 5\n",
    "red_marbles = 3\n",
    "blue_marbles = 2\n",
    "\n",
    "# Probability that the first marble is red\n",
    "\n",
    "P_R1 = red_marbles / total_marbles\n",
    "\n",
    "# After drawing a red marble, the number of remaining marbles\n",
    "\n",
    "remaining_marbles = total_marbles - 1\n",
    "remaining_blue_marbles = blue_marbles\n",
    "\n",
    "# Probability that the second marble is blue given the first was red\n",
    "\n",
    "P_B2_given_R1 = remaining_blue_marbles / remaining_marbles\n",
    "\n",
    "print(f\"The probability that the second marble is blue given that the first marble was red is: {P_B2_given_R1}\")"
   ]
  },
  {
   "cell_type": "markdown",
   "id": "3fff454c-29a7-430a-a315-043b833b420a",
   "metadata": {},
   "source": [
    "### 1.4\n",
    "\n",
    "Dangerous fires in Montreal are rare, and only have a 7% likelyhood. Smoke is more common (10%), but 90% of dangerous fires cause smoke.\n",
    "\n",
    "What is the probability of a dangerous fire when there is smoke?"
   ]
  },
  {
   "cell_type": "code",
   "execution_count": 53,
   "id": "52d9651d-1a5b-40c6-8115-bd08752b3166",
   "metadata": {
    "tags": []
   },
   "outputs": [
    {
     "name": "stdout",
     "output_type": "stream",
     "text": [
      "The probability of a dangerous fire when there is smoke is: 0.63\n"
     ]
    }
   ],
   "source": [
    "# 1.4 answer\n",
    "\n",
    "# Probability of a dangerous fire\n",
    "\n",
    "PF = 0.07 \n",
    "\n",
    "# Probability of smoke\n",
    "\n",
    "PS = 0.10  \n",
    "\n",
    "# Probability of smoke given a dangerous fire\n",
    "\n",
    "PS_given_F = 0.90  \n",
    "\n",
    "# Calculating the conditional probability P(F|S) using Bayes' theorem\n",
    "\n",
    "PF_given_S = (PS_given_F * PF) / PS\n",
    "\n",
    "print(f\"The probability of a dangerous fire when there is smoke is: {P_F_given_S:.2f}\")"
   ]
  },
  {
   "cell_type": "markdown",
   "id": "3116cd95-0d3a-4e02-8e0c-14d8b3f58a5d",
   "metadata": {},
   "source": [
    "### 1.5\n",
    "\n",
    "You are a consultant for a big firm. According to your research, 60% of companies that increased their stock price by more than 5% in the last 5 years replaced their CEO during that period.\n",
    "\n",
    "However, 35% of companies that did not increase their stock price in that same period also replaced their CEO. The probability of stock shares growing by more than 5% is 4%.\n",
    "\n",
    "Given that a company fires its CEO, what is the probability of their stock price increasing by 5%?"
   ]
  },
  {
   "cell_type": "code",
   "execution_count": 54,
   "id": "b1341e5c-8030-4e91-9566-5fdb8fbf3d1d",
   "metadata": {
    "tags": []
   },
   "outputs": [
    {
     "name": "stdout",
     "output_type": "stream",
     "text": [
      "The probability of a company's stock price increasing by more than 5% given that the company replaced its CEO is: 0.0667\n"
     ]
    }
   ],
   "source": [
    "# 1.5 Answer\n",
    "\n",
    "# Probability of stock price increasing by more than 5%\n",
    "\n",
    "P_G = 0.04  \n",
    "\n",
    "# Probability of replacing the CEO given stock price increased by more than 5%\n",
    "\n",
    "P_C_given_G = 0.60  \n",
    "\n",
    "# Probability of replacing the CEO given stock price did not increase by more than 5%\n",
    "\n",
    "P_C_given_not_G = 0.35  \n",
    "\n",
    "# Probability of stock price not increasing by more than 5%\n",
    "\n",
    "P_not_G = 1 - P_G\n",
    "\n",
    "# Overall probability of replacing the CEO\n",
    "\n",
    "P_C = (P_C_given_G * P_G) + (P_C_given_not_G * P_not_G)\n",
    "\n",
    "# Calculating the conditional probability P(G|C) using Bayes' theorem\n",
    "\n",
    "P_G_given_C = (P_C_given_G * P_G) / P_C\n",
    "\n",
    "print(f\"The probability of a company's stock price increasing by more than 5% given that the company replaced its CEO is: {P_G_given_C:.4f}\")"
   ]
  },
  {
   "cell_type": "markdown",
   "id": "054bd275-2aff-4778-9fe6-2e2e02b1c9c0",
   "metadata": {},
   "source": [
    "### 1.6\n",
    "\n",
    "In a medical clinic specializing in pain management, it is observed that 13% of the patients are prescribed narcotic painkillers. Additionally, it is noted that 6% of all patients visiting the clinic are addicted to narcotics, encompassing both prescription painkillers and illegal substances. \n",
    "\n",
    "Aong all patients prescribed pain pills, 9% are found to be addicts. Given that a patient is identified as an addict, what is the likelihood that they will also be prescribed pain pills?"
   ]
  },
  {
   "cell_type": "code",
   "execution_count": 55,
   "id": "fbe238a6-740f-4717-8a9d-f14901f79117",
   "metadata": {
    "tags": []
   },
   "outputs": [
    {
     "name": "stdout",
     "output_type": "stream",
     "text": [
      "The probability that a patient is prescribed pain pills given that they are an addict is: 0.1950\n"
     ]
    }
   ],
   "source": [
    "# 1.6 Answer\n",
    "\n",
    "# Probability that a patient is prescribed pain pills\n",
    "\n",
    "PP = 0.13\n",
    "\n",
    "# Probability that a patient is an addict\n",
    "\n",
    "PA = 0.06  \n",
    "\n",
    "# Probability that a patient is an addict given they are prescribed pain pills\n",
    "\n",
    "PA_given_P = 0.09  \n",
    "\n",
    "# Calculating the conditional probability P(P|A) using Bayes' theorem\n",
    "\n",
    "PP_given_A = (PA_given_P * PP) / PA\n",
    "\n",
    "print(f\"The probability that a patient is prescribed pain pills given that they are an addict is: {P_P_given_A:.4f}\")"
   ]
  },
  {
   "cell_type": "markdown",
   "id": "f6a56ac7-c203-42d8-97ec-b95f4ec02477",
   "metadata": {},
   "source": [
    "### 1.7\n",
    "\n",
    "We have a model that can predict with 99% accuracy whether a TV show on Webflix will be a hit or not. Given that in reality, only 1% of shows on Webflix become hits, what is the probability that given the model predicting that a show will be a hit, that the show is actually a hit?\n",
    "\n",
    "Create a function `prob` that will calculate the above probability for any given model given the percentage of shows that are hits and the accuracy."
   ]
  },
  {
   "cell_type": "code",
   "execution_count": 56,
   "id": "4b0d88f6",
   "metadata": {
    "tags": []
   },
   "outputs": [],
   "source": [
    "# 1.7 Answer\n",
    "def prob(hit_rate, accuracy):\n",
    "    \n",
    "    # Probability that a show is a hit\n",
    "    \n",
    "    P_H = hit_rate  \n",
    "    \n",
    "    # Probability that a show is not a hit\n",
    "    \n",
    "    P_not_H = 1 - P_H  \n",
    "    \n",
    "    # Probability that the model predicts a hit given the show is a hit\n",
    "    \n",
    "    P_M_given_H = accuracy  \n",
    "    \n",
    "    # Probability that the model predicts a hit given the show is not a hit\n",
    "    \n",
    "    P_M_given_not_H = 1 - accuracy  \n",
    "\n",
    "    # Calculating P(M)\n",
    "    \n",
    "    P_M = (P_M_given_H * P_H) + (P_M_given_not_H * P_not_H)\n",
    "\n",
    "    # Using Bayes' theorem to calculate P(H|M)\n",
    "    \n",
    "    P_H_given_M = (P_M_given_H * P_H) / P_M\n",
    "\n",
    "    return P_H_given_M"
   ]
  },
  {
   "cell_type": "code",
   "execution_count": 57,
   "id": "e101c5b6",
   "metadata": {
    "tags": []
   },
   "outputs": [
    {
     "name": "stdout",
     "output_type": "stream",
     "text": [
      "The probability that a show is actually a hit given that the model predicts it will be a hit is: 0.5000\n"
     ]
    }
   ],
   "source": [
    "# Example:\n",
    "# 1% of shows are hits\n",
    "\n",
    "hit_rate = 0.01  \n",
    "\n",
    "# 99% accuracy of the model\n",
    "\n",
    "accuracy = 0.99\n",
    "\n",
    "probability = prob(hit_rate, accuracy)\n",
    "print(f\"The probability that a show is actually a hit given that the model predicts it will be a hit is: {probability:.4f}\")"
   ]
  },
  {
   "cell_type": "markdown",
   "id": "b44357dc",
   "metadata": {},
   "source": [
    "## Exercise 2: Hypothesis Testing \n",
    "\n",
    "You work for an I.T Consulting Firm. \n",
    "\n",
    "One of your clients is looking to improve their website performance.\n",
    "\n",
    "Currently, the client's website takes on average 3.18 micro seconds to load with a standard deviation of 0.7 micro seconds. You have worked on the backend server, and after measuring 40 website clicks, you report an average loading time of 2.87 seconds. \n",
    "\n",
    "Assuming a confidence level of 95%:\n",
    "- State the null and alternative hypotheses\n",
    "- What is the test statistic Z?\n",
    "- What is the p-value?\n",
    "- Is there enough evidence to say that the website is indeed faster after the implemented changes?\n",
    "\n",
    "Answer the above questions using Python, rather than doing the calculations manually. You may not use a z-score table to find the p-value, you have to use one of Python's built in methods."
   ]
  },
  {
   "cell_type": "code",
   "execution_count": 58,
   "id": "5e637833-49d4-4286-981c-ea2cc4bee29e",
   "metadata": {
    "tags": []
   },
   "outputs": [
    {
     "name": "stdout",
     "output_type": "stream",
     "text": [
      "Z-test statistic: -2.8009\n",
      "P-value: 0.0025\n",
      "There is enough evidence to reject the null hypothesis.\n",
      "Therefore, the website is indeed faster after the implemented changes.\n"
     ]
    }
   ],
   "source": [
    "# 2 Answer \n",
    "\n",
    "# population mean loading time\n",
    "\n",
    "mu = 3.18 \n",
    "\n",
    "# population standard deviation\n",
    "\n",
    "sigma = 0.7  \n",
    "\n",
    "# sample size\n",
    "\n",
    "n = 40  \n",
    "\n",
    "# sample mean loading time\n",
    "\n",
    "x_bar = 2.87  \n",
    "confidence_level = 0.95\n",
    "\n",
    "# Calculate the test statistic Z\n",
    "\n",
    "Z = (x_bar - mu) / (sigma / math.sqrt(n))\n",
    "print(f\"Z-test statistic: {Z:.4f}\")\n",
    "\n",
    "# Calculate the p-value\n",
    "\n",
    "p_value = norm.cdf(Z)\n",
    "print(f\"P-value: {p_value:.4f}\")\n",
    "\n",
    "# Compare p-value with significance level\n",
    "\n",
    "alpha = 1 - confidence_level\n",
    "if p_value < alpha:\n",
    "    print(\"There is enough evidence to reject the null hypothesis.\")\n",
    "    print(\"Therefore, the website is indeed faster after the implemented changes.\")\n",
    "else:\n",
    "    print(\"There is not enough evidence to reject the null hypothesis.\")\n",
    "    print(\"Therefore, we cannot conclude that the website is faster after the implemented changes.\")"
   ]
  },
  {
   "cell_type": "markdown",
   "id": "85d42b3e-3c1c-457c-8dd6-efa990c5616e",
   "metadata": {},
   "source": [
    "## Exercise 3\n",
    "\n",
    "Imagine you have a 12 sided die. We want to see how many rolls it takes until the total of the rolls equals 50 or more. \n",
    "\n",
    "Create a function `roll_to_50` that simulates the above experiment. The output of your function should include:\n",
    "1. A list of the numbers rolled in each trial\n",
    "2. The total number of rolls needed to reach 50 or more\n",
    "\n",
    "Your output should like this:\n",
    "\n",
    "`roll_to_50() --- > ([6, 11, 3, 12, 1, 11, 10], 7)`\n",
    "\n",
    "Note: You will likely get different numbers, since you will need to use a Random Number Generator (RNG) for each roll. "
   ]
  },
  {
   "cell_type": "code",
   "execution_count": 59,
   "id": "1cf0be94",
   "metadata": {
    "tags": []
   },
   "outputs": [],
   "source": [
    "# 3 Answer\n",
    "\n",
    "def roll_to_50():\n",
    "    # List to store each roll\n",
    "    rolls = []\n",
    "    # Initialize total sum of rolls\n",
    "    total = 0\n",
    "    # Initialize number of rolls\n",
    "    num_rolls = 0  \n",
    "    \n",
    "    while total < 50:\n",
    "        # Roll a 12-sided die\n",
    "        roll = random.randint(1, 12) \n",
    "        # Record the roll\n",
    "        rolls.append(roll)\n",
    "        # Update the total sum\n",
    "        total += roll\n",
    "        # Increment the number of rolls\n",
    "        num_rolls += 1  \n",
    "        \n",
    "    return rolls, num_rolls"
   ]
  },
  {
   "cell_type": "code",
   "execution_count": 60,
   "id": "2450a9e8-9a64-4bb7-9ea5-92f4e95435f1",
   "metadata": {
    "tags": []
   },
   "outputs": [
    {
     "name": "stdout",
     "output_type": "stream",
     "text": [
      "([12, 10, 2, 7, 2, 1, 12, 4], 8)\n"
     ]
    }
   ],
   "source": [
    "# Check:\n",
    "result = roll_to_50()\n",
    "print(result)"
   ]
  },
  {
   "cell_type": "markdown",
   "id": "9d5fdb5d-66ce-439f-91be-97071bbf1633",
   "metadata": {},
   "source": [
    "## Exercise 4: Bonus\n",
    "\n",
    "Consider a dartboard with a circle of radius $r$ inscribed in a square with side length $2r$.\n",
    "\n",
    "You want to conduct an expirement where you throw a large number of darts at the board.\n",
    "\n",
    "<img src=\"../Data/circle-target.png\" style=\"width: 400px;\">\n",
    "\n",
    "\n",
    " Some of these darts will hit the board within the circle—let’s call this number $N$. Others will hit outside - let'c call this number $M$. If we consider the fraction of darts that land inside the circle:\n",
    " \n",
    "$$f = \\dfrac{N}{N + M}$$\n",
    "\n",
    "Then the value of $f * A$ ($A$ being the area of the square) will approximate the actual area of the circle $\\pi r^2$.\n",
    "\n",
    "Write a function `circle_estimate(radius, trials)` which will estimate the area of a circle by throwing random darts at the square. Each throw can be considered a trial.\n",
    "\n",
    "Your function should return the estimated area of the circle.\n",
    "\n",
    "Test your function with the following parameters to make sure it works when you are done:\n",
    "\n",
    "`circle_estimate(2, 10000)`\n",
    "\n",
    " Print out the estimated area given the above parameters.\n",
    "\n",
    "**Hint:** Generate two random numbers for each dart throw, one for the `x` axis and one for the `y` axis. Use the [Pythagorean Theorem](https://en.wikipedia.org/wiki/Pythagorean_theorem) to determine if the dart lands inside the circle."
   ]
  },
  {
   "cell_type": "code",
   "execution_count": 61,
   "id": "f9f452e9-73d7-4430-9e0b-b7a20373860e",
   "metadata": {
    "tags": []
   },
   "outputs": [
    {
     "name": "stdout",
     "output_type": "stream",
     "text": [
      "Estimated area of the circle: 12.5424\n"
     ]
    }
   ],
   "source": [
    "# 4 Answer\n",
    "\n",
    "def circle_estimate(radius, trials):\n",
    "    r = radius\n",
    "    square_side = 2 * r\n",
    "    square_area = square_side ** 2\n",
    "    circle_area_true = math.pi * r ** 2\n",
    "    \n",
    "    count_inside = 0\n",
    "    \n",
    "    for _ in range(trials):\n",
    "        # Generate random coordinates within the square\n",
    "        x = random.uniform(-r, r)\n",
    "        y = random.uniform(-r, r)\n",
    "        \n",
    "        # Check if the point (x, y) is inside the circle\n",
    "        if x**2 + y**2 <= r**2:\n",
    "            count_inside += 1\n",
    "    \n",
    "    # Calculate the fraction of points inside the circle\n",
    "    f = count_inside / trials\n",
    "    \n",
    "    # Estimate the area of the circle\n",
    "    circle_area_estimate = f * square_area\n",
    "    \n",
    "    return circle_area_estimate\n",
    "\n",
    "# Example usage:\n",
    "estimated_area = circle_estimate(2, 10000)\n",
    "print(f\"Estimated area of the circle: {estimated_area:.4f}\")"
   ]
  },
  {
   "cell_type": "markdown",
   "id": "ab87945c-d812-4769-9702-31c4399a1009",
   "metadata": {},
   "source": [
    "# The End!"
   ]
  }
 ],
 "metadata": {
  "kernelspec": {
   "display_name": "Python 3 (ipykernel)",
   "language": "python",
   "name": "python3"
  },
  "language_info": {
   "codemirror_mode": {
    "name": "ipython",
    "version": 3
   },
   "file_extension": ".py",
   "mimetype": "text/x-python",
   "name": "python",
   "nbconvert_exporter": "python",
   "pygments_lexer": "ipython3",
   "version": "3.11.5"
  }
 },
 "nbformat": 4,
 "nbformat_minor": 5
}
