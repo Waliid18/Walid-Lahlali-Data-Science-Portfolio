{
 "cells": [
  {
   "cell_type": "markdown",
   "id": "ca2c0c98",
   "metadata": {},
   "source": [
    "# Assignment - Web Scraping\n",
    "---"
   ]
  },
  {
   "cell_type": "markdown",
   "id": "ae4dc665-a6f3-4a20-b70c-751420a8ee2e",
   "metadata": {},
   "source": [
    "## Exercise 1: toscrape.com\n",
    "\n",
    "For this exercise, we will use a site that was actually _made for scraping_: [Web Scraping Sandbox](https://toscrape.com/) "
   ]
  },
  {
   "cell_type": "markdown",
   "id": "97cfea31-4593-4213-855f-95e652fe67a9",
   "metadata": {},
   "source": [
    "### 1.1\n",
    "\n",
    "Import all the required libraries."
   ]
  },
  {
   "cell_type": "code",
   "execution_count": 1,
   "id": "8dd80690-4b81-4c46-b920-5ab7be26fbc5",
   "metadata": {
    "tags": []
   },
   "outputs": [],
   "source": [
    "# 1.1 Answer \n",
    "import pandas as pd\n",
    "import requests\n",
    "import re\n",
    "from bs4 import BeautifulSoup"
   ]
  },
  {
   "cell_type": "markdown",
   "id": "cdad7bde-c09c-4370-b2bc-39ac1d106518",
   "metadata": {},
   "source": [
    "### 1.2\n",
    "\n",
    "Scrape ALL urls from https://toscrape.com/"
   ]
  },
  {
   "cell_type": "code",
   "execution_count": 9,
   "id": "898e822d-60fa-4d09-8825-1b00aaf96807",
   "metadata": {
    "tags": []
   },
   "outputs": [
    {
     "name": "stdout",
     "output_type": "stream",
     "text": [
      "The link N° 1 : http://books.toscrape.com\n",
      "The link N° 2 : http://books.toscrape.com\n",
      "The link N° 3 : http://books.toscrape.com\n",
      "The link N° 4 : http://quotes.toscrape.com/\n",
      "The link N° 5 : http://quotes.toscrape.com\n",
      "The link N° 6 : http://quotes.toscrape.com/\n",
      "The link N° 7 : http://quotes.toscrape.com/scroll\n",
      "The link N° 8 : http://quotes.toscrape.com/js\n",
      "The link N° 9 : http://quotes.toscrape.com/js-delayed\n",
      "The link N° 10 : http://quotes.toscrape.com/tableful\n",
      "The link N° 11 : http://quotes.toscrape.com/login\n",
      "The link N° 12 : http://quotes.toscrape.com/search.aspx\n",
      "The link N° 13 : http://quotes.toscrape.com/random\n"
     ]
    }
   ],
   "source": [
    "# 1.2 Answer\n",
    "\n",
    "# Send a GET request to 'https://toscrape.com/' and parse the HTML content\n",
    "\n",
    "response = requests.get('https://toscrape.com/')\n",
    "soup = BeautifulSoup(response.content)\n",
    "\n",
    "# Find all anchor tags (<a>) in the parsed HTML\n",
    "\n",
    "links = soup.find_all('a')\n",
    "\n",
    "# Extract the 'href' attribute from each anchor tag to get URLs\n",
    "\n",
    "urls = [link.get(\"href\") for link in links]    \n",
    "\n",
    "# Print each URL along with its index\n",
    "\n",
    "for i,url in enumerate(urls):\n",
    "    print(\"The link N°\",i+1,\":\",url)"
   ]
  },
  {
   "cell_type": "markdown",
   "id": "4e29d2c4-73ce-41ed-9367-8dfd967bc312",
   "metadata": {},
   "source": [
    "### 1.3\n",
    "\n",
    "1.3 scrape all text ('p') from https://toscrape.com/"
   ]
  },
  {
   "cell_type": "code",
   "execution_count": 10,
   "id": "fdef10db-01f4-42c1-97aa-813533e7b814",
   "metadata": {
    "tags": []
   },
   "outputs": [
    {
     "name": "stdout",
     "output_type": "stream",
     "text": [
      "A fictional bookstore that desperately wants to be scraped. It's a safe place for beginners learning web scraping and for developers validating their scraping technologies as well. Available at: books.toscrape.com\n",
      "A website that lists quotes from famous people. It has many endpoints showing the quotes in many different ways, each of them including new scraping challenges for you, as described below.\n"
     ]
    }
   ],
   "source": [
    "# 1.3 Answer\n",
    "\n",
    "# Find all <p> tags in the parsed HTML content\n",
    "\n",
    "para = soup.find_all('p')\n",
    "\n",
    "# Iterate through each <p> tag and print its text content\n",
    "\n",
    "for i in para:\n",
    "    print(i.text)"
   ]
  },
  {
   "cell_type": "markdown",
   "id": "133ba523-e7c9-4a8a-bbba-065a4342ffb2",
   "metadata": {},
   "source": [
    "## Exercise 2: Wikipedia\n",
    "\n",
    "For this exercise, you will scrape the side-bar data (text box only) from  [The Office Wikipedia Page](https://en.wikipedia.org/wiki/The_Office_(American_TV_series))."
   ]
  },
  {
   "cell_type": "markdown",
   "id": "45599b2c-8c96-4e9c-a286-a2359cacaf0a",
   "metadata": {},
   "source": [
    "### 2.1\n",
    "\n",
    "Scrape the side-bar data."
   ]
  },
  {
   "cell_type": "code",
   "execution_count": 11,
   "id": "e015e2c3-dfe0-43cd-88e9-d4bbb2c72b84",
   "metadata": {
    "tags": []
   },
   "outputs": [
    {
     "name": "stdout",
     "output_type": "stream",
     "text": [
      "The Office\n",
      "\n",
      "Genre\n",
      "Mockumentary\n",
      "Workplace comedy\n",
      "Cringe comedy\n",
      "Sitcom\n",
      "\n",
      "Based onThe Officeby Ricky GervaisStephen Merchant\n",
      "Developed byGreg Daniels\n",
      "Showrunners\n",
      "Greg Daniels\n",
      "Paul Lieberstein\n",
      "Jennifer Celotta\n",
      "\n",
      "Starring\n",
      "Steve Carell\n",
      "Rainn Wilson\n",
      "John Krasinski\n",
      "Jenna Fischer\n",
      "B. J. Novak\n",
      "Melora Hardin\n",
      "David Denman\n",
      "Leslie David Baker\n",
      "Brian Baumgartner\n",
      "Kate Flannery\n",
      "Angela Kinsey\n",
      "Oscar Nunez\n",
      "Phyllis Smith\n",
      "Ed Helms\n",
      "Mindy Kaling\n",
      "Paul Lieberstein\n",
      "Creed Bratton\n",
      "Craig Robinson\n",
      "Ellie Kemper\n",
      "Zach Woods\n",
      "Amy Ryan\n",
      "James Spader\n",
      "Catherine Tate\n",
      "Clark Duke\n",
      "Jake Lacy\n",
      "\n",
      "Theme music composerJay Ferguson\n",
      "Country of originUnited States\n",
      "Original languageEnglish\n",
      "No. of seasons9\n",
      "No. of episodes201 (list of episodes)\n",
      "Production\n",
      "Executive producers\n",
      "Ben Silverman\n",
      "Greg Daniels\n",
      "Ricky Gervais\n",
      "Stephen Merchant\n",
      "Howard Klein\n",
      "Ken Kwapis\n",
      "Paul Lieberstein\n",
      "Jennifer Celotta\n",
      "B. J. Novak\n",
      "Mindy Kaling\n",
      "Brent Forrester\n",
      "Dan Sterling\n",
      "\n",
      "Producers\n",
      "Kent Zbornak\n",
      "Michael Schur\n",
      "Steve Carell\n",
      "Lee Eisenberg\n",
      "Gene Stupnitsky\n",
      "Randy Cordray\n",
      "Justin Spitzer\n",
      "Charlie Grandy\n",
      "Warren Lieberstein\n",
      "Halsted Sullivan\n",
      "Steve Hely\n",
      "David Rogers\n",
      "Aaron Shure\n",
      "Steve Burgess\n",
      "Jenna Fischer\n",
      "Ed Helms\n",
      "John Krasinski\n",
      "Rainn Wilson\n",
      "Graham Wagner\n",
      "\n",
      "Cinematography\n",
      "Randall Einhorn\n",
      "Matt Sohn\n",
      "Sarah Levy\n",
      "Peter Smokler (pilot)\n",
      "\n",
      "Editors\n",
      "David Rogers\n",
      "Dean Holland\n",
      "Claire Scanlon\n",
      "\n",
      "Camera setupSingle-camera\n",
      "Running time22–42 minutes\n",
      "Production companies\n",
      "Deedle-Dee Productions\n",
      "3 Arts Entertainment (uncredited)\n",
      "Shine America[a]\n",
      "Universal Television[b]\n",
      "\n",
      "Original release\n",
      "NetworkNBC\n",
      "ReleaseMarch 24, 2005 (2005-03-24) –May 16, 2013 (2013-05-16)\n",
      "Related\n",
      "The Office\n"
     ]
    }
   ],
   "source": [
    "# 2.1 Answer\n",
    "\n",
    "# Send a GET request to fetch the HTML content from the Wikipedia page\n",
    "\n",
    "rep = requests.get(\"https://en.wikipedia.org/wiki/The_Office_(American_TV_series)\")\n",
    "\n",
    "# Parse the HTML content using BeautifulSoup\n",
    "\n",
    "soup = BeautifulSoup(rep.content)\n",
    "\n",
    "# Iterate through the content found in the <tbody> tag and print its text\n",
    "\n",
    "for i in soup.find(\"tbody\"):\n",
    "    print(i.text)"
   ]
  },
  {
   "cell_type": "markdown",
   "id": "c6ac7dbe-5427-4a0b-b76b-8410269f9b73",
   "metadata": {},
   "source": [
    "### 2.2\n",
    "\n",
    "Save the date into a dictionary."
   ]
  },
  {
   "cell_type": "code",
   "execution_count": 12,
   "id": "9f954814-49c1-4ac5-8fc9-56567d5fadcf",
   "metadata": {
    "tags": []
   },
   "outputs": [
    {
     "name": "stdout",
     "output_type": "stream",
     "text": [
      "{'Genre': 'MockumentaryWorkplace comedyCringe comedySitcom', 'Based on': 'The OfficebyRicky GervaisStephen Merchant', 'Developed by': 'Greg Daniels', 'Showrunners': 'Greg DanielsPaul LiebersteinJennifer Celotta', 'Starring': 'Steve CarellRainn WilsonJohn KrasinskiJenna FischerB. J. NovakMelora HardinDavid DenmanLeslie David BakerBrian BaumgartnerKate FlanneryAngela KinseyOscar NunezPhyllis SmithEd HelmsMindy KalingPaul LiebersteinCreed BrattonCraig RobinsonEllie KemperZach WoodsAmy RyanJames SpaderCatherine TateClark DukeJake Lacy', 'Theme music composer': 'Jay Ferguson', 'Country of origin': 'United States', 'Original language': 'English', 'No.of seasons': '9', 'No.of episodes': '201(list of episodes)', 'Executive producers': 'Ben SilvermanGreg DanielsRicky GervaisStephen MerchantHoward KleinKen KwapisPaul LiebersteinJennifer CelottaB. J. NovakMindy KalingBrent ForresterDan Sterling', 'Producers': 'Kent ZbornakMichael SchurSteve CarellLee EisenbergGene StupnitskyRandy CordrayJustin SpitzerCharlie GrandyWarren LiebersteinHalsted SullivanSteve HelyDavid RogersAaron ShureSteve BurgessJenna FischerEd HelmsJohn KrasinskiRainn WilsonGraham Wagner', 'Cinematography': 'Randall EinhornMatt SohnSarah LevyPeter Smokler (pilot)', 'Editors': 'David RogersDean HollandClaire Scanlon', 'Camera setup': 'Single-camera', 'Running time': '22–42 minutes', 'Production companies': 'Deedle-Dee Productions3 Arts Entertainment(uncredited)Shine America[a]Universal Television[b]', 'Network': 'NBC', 'Release': 'March 24, 2005(2005-03-24)–May 16, 2013(2013-05-16)'}\n"
     ]
    }
   ],
   "source": [
    "# 2.2 Answer\n",
    "\n",
    "# Find the sidebar element\n",
    "\n",
    "infobox = soup.find('table', class_='infobox')\n",
    "\n",
    "# Initialize an empty dictionary to store the data\n",
    "\n",
    "office_data = {}\n",
    "\n",
    "# Extract text from the infobox\n",
    "\n",
    "if infobox:\n",
    "    \n",
    "    # Find all rows (<tr>) in the infobox\n",
    "    \n",
    "    rows = infobox.find_all('tr')\n",
    "    \n",
    "    # Loop through each row and extract key-value pairs\n",
    "    \n",
    "    for row in rows:\n",
    "        \n",
    "        # Find the header cell (<th>) which usually contains the category\n",
    "        \n",
    "        header = row.find('th')\n",
    "        \n",
    "        # Find the data cell (<td>) which usually contains the corresponding value\n",
    "        \n",
    "        data = row.find('td')\n",
    "        \n",
    "        if header and data:\n",
    "            \n",
    "            # Strip any extra whitespace and newlines from text\n",
    "            \n",
    "            key = header.get_text(strip=True)\n",
    "            value = data.get_text(strip=True)\n",
    "            \n",
    "            # Add key-value pair to dictionary\n",
    "            \n",
    "            office_data[key] = value\n",
    "\n",
    "\n",
    "print(office_data)"
   ]
  },
  {
   "cell_type": "markdown",
   "id": "2f7567b8-6a25-4d82-bf73-6044de9c3a27",
   "metadata": {},
   "source": [
    "### 2.3\n",
    "\n",
    "Convert the dictionary into a dataframe that looks as follows:\n",
    "\n",
    "![](../Data/the_office_DF.png)"
   ]
  },
  {
   "cell_type": "code",
   "execution_count": 13,
   "id": "79793d8b-ce1d-402c-a6c1-d52680bc7c9a",
   "metadata": {
    "tags": []
   },
   "outputs": [
    {
     "data": {
      "text/html": [
       "<div>\n",
       "<style scoped>\n",
       "    .dataframe tbody tr th:only-of-type {\n",
       "        vertical-align: middle;\n",
       "    }\n",
       "\n",
       "    .dataframe tbody tr th {\n",
       "        vertical-align: top;\n",
       "    }\n",
       "\n",
       "    .dataframe thead th {\n",
       "        text-align: right;\n",
       "    }\n",
       "</style>\n",
       "<table border=\"1\" class=\"dataframe\">\n",
       "  <thead>\n",
       "    <tr style=\"text-align: right;\">\n",
       "      <th></th>\n",
       "      <th>Value</th>\n",
       "    </tr>\n",
       "  </thead>\n",
       "  <tbody>\n",
       "    <tr>\n",
       "      <th>Genre</th>\n",
       "      <td>MockumentaryWorkplace comedyCringe comedySitcom</td>\n",
       "    </tr>\n",
       "    <tr>\n",
       "      <th>Based on</th>\n",
       "      <td>The OfficebyRicky GervaisStephen Merchant</td>\n",
       "    </tr>\n",
       "    <tr>\n",
       "      <th>Developed by</th>\n",
       "      <td>Greg Daniels</td>\n",
       "    </tr>\n",
       "    <tr>\n",
       "      <th>Showrunners</th>\n",
       "      <td>Greg DanielsPaul LiebersteinJennifer Celotta</td>\n",
       "    </tr>\n",
       "    <tr>\n",
       "      <th>Starring</th>\n",
       "      <td>Steve CarellRainn WilsonJohn KrasinskiJenna Fi...</td>\n",
       "    </tr>\n",
       "    <tr>\n",
       "      <th>Theme music composer</th>\n",
       "      <td>Jay Ferguson</td>\n",
       "    </tr>\n",
       "    <tr>\n",
       "      <th>Country of origin</th>\n",
       "      <td>United States</td>\n",
       "    </tr>\n",
       "    <tr>\n",
       "      <th>Original language</th>\n",
       "      <td>English</td>\n",
       "    </tr>\n",
       "    <tr>\n",
       "      <th>No.of seasons</th>\n",
       "      <td>9</td>\n",
       "    </tr>\n",
       "    <tr>\n",
       "      <th>No.of episodes</th>\n",
       "      <td>201(list of episodes)</td>\n",
       "    </tr>\n",
       "    <tr>\n",
       "      <th>Executive producers</th>\n",
       "      <td>Ben SilvermanGreg DanielsRicky GervaisStephen ...</td>\n",
       "    </tr>\n",
       "    <tr>\n",
       "      <th>Producers</th>\n",
       "      <td>Kent ZbornakMichael SchurSteve CarellLee Eisen...</td>\n",
       "    </tr>\n",
       "    <tr>\n",
       "      <th>Cinematography</th>\n",
       "      <td>Randall EinhornMatt SohnSarah LevyPeter Smokle...</td>\n",
       "    </tr>\n",
       "    <tr>\n",
       "      <th>Editors</th>\n",
       "      <td>David RogersDean HollandClaire Scanlon</td>\n",
       "    </tr>\n",
       "    <tr>\n",
       "      <th>Camera setup</th>\n",
       "      <td>Single-camera</td>\n",
       "    </tr>\n",
       "    <tr>\n",
       "      <th>Running time</th>\n",
       "      <td>22–42 minutes</td>\n",
       "    </tr>\n",
       "    <tr>\n",
       "      <th>Production companies</th>\n",
       "      <td>Deedle-Dee Productions3 Arts Entertainment(unc...</td>\n",
       "    </tr>\n",
       "    <tr>\n",
       "      <th>Network</th>\n",
       "      <td>NBC</td>\n",
       "    </tr>\n",
       "    <tr>\n",
       "      <th>Release</th>\n",
       "      <td>March 24, 2005(2005-03-24)–May 16, 2013(2013-0...</td>\n",
       "    </tr>\n",
       "  </tbody>\n",
       "</table>\n",
       "</div>"
      ],
      "text/plain": [
       "                                                                  Value\n",
       "Genre                   MockumentaryWorkplace comedyCringe comedySitcom\n",
       "Based on                      The OfficebyRicky GervaisStephen Merchant\n",
       "Developed by                                               Greg Daniels\n",
       "Showrunners                Greg DanielsPaul LiebersteinJennifer Celotta\n",
       "Starring              Steve CarellRainn WilsonJohn KrasinskiJenna Fi...\n",
       "Theme music composer                                       Jay Ferguson\n",
       "Country of origin                                         United States\n",
       "Original language                                               English\n",
       "No.of seasons                                                         9\n",
       "No.of episodes                                    201(list of episodes)\n",
       "Executive producers   Ben SilvermanGreg DanielsRicky GervaisStephen ...\n",
       "Producers             Kent ZbornakMichael SchurSteve CarellLee Eisen...\n",
       "Cinematography        Randall EinhornMatt SohnSarah LevyPeter Smokle...\n",
       "Editors                          David RogersDean HollandClaire Scanlon\n",
       "Camera setup                                              Single-camera\n",
       "Running time                                              22–42 minutes\n",
       "Production companies  Deedle-Dee Productions3 Arts Entertainment(unc...\n",
       "Network                                                             NBC\n",
       "Release               March 24, 2005(2005-03-24)–May 16, 2013(2013-0..."
      ]
     },
     "execution_count": 13,
     "metadata": {},
     "output_type": "execute_result"
    }
   ],
   "source": [
    "# 2.3 Answer\n",
    "\n",
    "df = pd.DataFrame.from_dict(office_data, orient='index', columns=['Value'])\n",
    "df"
   ]
  },
  {
   "cell_type": "markdown",
   "id": "0d7dcf98-9adf-4a11-9af3-578b77f6dd7b",
   "metadata": {},
   "source": [
    "# The End!"
   ]
  }
 ],
 "metadata": {
  "kernelspec": {
   "display_name": "Python 3 (ipykernel)",
   "language": "python",
   "name": "python3"
  },
  "language_info": {
   "codemirror_mode": {
    "name": "ipython",
    "version": 3
   },
   "file_extension": ".py",
   "mimetype": "text/x-python",
   "name": "python",
   "nbconvert_exporter": "python",
   "pygments_lexer": "ipython3",
   "version": "3.11.5"
  }
 },
 "nbformat": 4,
 "nbformat_minor": 5
}
