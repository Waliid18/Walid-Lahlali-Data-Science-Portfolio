{
 "cells": [
  {
   "cell_type": "markdown",
   "metadata": {
    "colab_type": "text",
    "id": "c8zuAcfM5lDz"
   },
   "source": [
    "# Algorithms and Big-O\n",
    "\n",
    "## Exercise 1: Big-O Theory\n",
    "\n",
    "### 1.1. What is the big-O of the following algorithm? Assume `A` is an array of numbers\n",
    "\n",
    "```python\n",
    "def number_in_array(A, num):\n",
    "  for i in range(len(A)):\n",
    "    if A[i] == num:\n",
    "      return True\n",
    "  return False\n",
    "```"
   ]
  },
  {
   "cell_type": "code",
   "execution_count": 38,
   "metadata": {},
   "outputs": [],
   "source": [
    "# Pseudocode:\n",
    "\n",
    "# Step 1 : The algorithm takes an array A and a number num as inputs\n",
    "# Step 2 : The loop runs from i = 0,..., len(A) - 1\n",
    "# Step 3 : The if statement checks if A[i] == num\n",
    "        # Step 3-1 : If the number is found, the function returns True\n",
    "        # Step 3-2 : If the loop completes without finding the number, the function returns False"
   ]
  },
  {
   "cell_type": "markdown",
   "metadata": {},
   "source": [
    "1.1: Write your answer here.\n",
    "    \n",
    "The worst-case time complexity of the algorithm is O(n), because  algorithm searches for a number in an array by iterating\n",
    "through each element one by one.\n",
    "\n",
    "Best-case scenario: The number is found at the first position, resulting in a single\n",
    "iteration and O(1) time complexity.\n",
    "\n",
    "Worst-case scenario: The number is not found, requiring a full traversal of the array.\n",
    "This results in n iterations, where n is the length of the array, leading to O(n) time complexity. Since the worst-case\n",
    "time complexity is O(n), this is the big-O notation for the algorithm."
   ]
  },
  {
   "cell_type": "markdown",
   "metadata": {},
   "source": [
    "### 1.2. What is the big-O of the following algorithm? Assume `A` and `B` are arrays of numbers of the **same length n**\n",
    "\n",
    "```python\n",
    "def number_in_two_arrays(A, B, num):\n",
    "  arr_len = len(A)\n",
    "  for i in range(arr_len):\n",
    "    if A[i] == num:\n",
    "      return True\n",
    "  for i in range(arr_len):\n",
    "    if B[i] == num:\n",
    "      return True\n",
    "  return False\n",
    "```"
   ]
  },
  {
   "cell_type": "markdown",
   "metadata": {},
   "source": [
    "1.2: Write your answer here.\n",
    "\n",
    "The **big-O** of the algorithm is **O(n)**, because :\n",
    "\n",
    "First Loop:\n",
    "\n",
    "The first for loop runs from i = 0,...,arr_len - 1. In the worst-case scenario, it iterates through all \n",
    "n elements of array A. Each iteration involves checking if A[i] == num, which is an O(1) operation.So, the first loop's time complexity is O(n).\n",
    "\n",
    "Second Loop:\n",
    "\n",
    "If the number is not found in array A, the second for loop runs from i = 0 to i = arr_len - 1. In the worst-case scenario, it iterates through all n elements of array B. Each iteration involves checking if B[i] == num, which is an O(1) operation. So, the second loop's time complexity is also O(n).\n",
    "\n",
    "Best-case scenario: The number is found in the first position of array A, resulting in \n",
    "O(1) time complexity.\n",
    "\n",
    "Worst-case scenario: The number is not found in either array \n",
    "A or B, requiring a full traversal of both arrays. This results in \n",
    "O(n)+O(n)=O(2n) time complexity, which simplifies to O(n)."
   ]
  },
  {
   "cell_type": "markdown",
   "metadata": {},
   "source": [
    "### 1.3. What would be the big-O above if `A` was length `n` and `B` was length `m`?\n"
   ]
  },
  {
   "cell_type": "markdown",
   "metadata": {},
   "source": [
    "1.3: Write your answer here.\n",
    "\n",
    "The **big-O** will be **O(n + m)**, because :\n",
    "\n",
    "First Loop:\n",
    "\n",
    "The first for loop runs from i = 0 to i = arr_len_A - 1. In the worst-case scenario, it iterates through all n elements of array A. Each iteration involves checking if A[i] == num, which is an O(1) operation. Therefore, the first loop's time complexity is O(n).\n",
    "\n",
    "Second Loop:\n",
    "\n",
    "If the number is not found in array A, the second for loop runs from i = 0 to i = arr_len_B - 1. In the worst-case scenario, it iterates through all m elements of array B. Each iteration involves checking if B[i] == num, which is an O(1) operation.\n",
    "Therefore, the second loop's time complexity is O(m).\n",
    "\n",
    "Best-case scenario: The number is found in the first position of array A, resulting in O(1) time complexity.\n",
    "\n",
    "Worst-case scenario: The number is not found in either array A or B, requiring a full traversal of both arrays. This results in O(n)+O(m) = O(n+m) time complexity."
   ]
  },
  {
   "cell_type": "markdown",
   "metadata": {},
   "source": [
    "### 1.4. What is the big-O of the following algorithm? Assume `A` and `B` are arrays of numbers of the **same length n**\n",
    "\n",
    "```python\n",
    "def number_in_two_arrays(A, B, num):\n",
    "  arr_len = len(A)\n",
    "  for i in range(arr_len):\n",
    "    for j in range(arr_len):\n",
    "    if A[i] == B[j]:\n",
    "      return True\n",
    "  return False\n",
    "```"
   ]
  },
  {
   "cell_type": "markdown",
   "metadata": {},
   "source": [
    "1.4: Write your answer here.\n",
    "    \n",
    "the big-O  for the algorithm is O(n²), because :\n",
    "\n",
    "Nested Loops:\n",
    "\n",
    "The outer for loop runs from i = 0 to i = arr_len - 1.\n",
    "\n",
    "The inner for loop runs from j = 0 to j = arr_len - 1.\n",
    "\n",
    "Each combination of i and j involves checking if A[i] == B[j], which is an O(1) operation. Time Complexity Analysis The outer loop runs n times, where n is the length of the arrays. For each iteration of the outer loop, the inner loop also runs n times. Therefore, the total number of iterations is n × n = n²"
   ]
  },
  {
   "cell_type": "markdown",
   "metadata": {
    "colab_type": "text",
    "id": "4lz1Ha-E_CQ1"
   },
   "source": [
    "## Exercise 2: Reverse Sort\n",
    "\n",
    "Rewrite `selection_sort` so that it sorts in **reverse order** instead (biggest element first, smallest last)"
   ]
  },
  {
   "cell_type": "code",
   "execution_count": 39,
   "metadata": {},
   "outputs": [],
   "source": [
    "# Part 1: Linear Search \n",
    "\n",
    "def linear_search(arr, start_idx):\n",
    "    current_max = float('-inf') # Start with negative infinitym\n",
    "    current_max_idx = start_idx\n",
    "    for i in range(start_idx, len(arr)):\n",
    "        if arr[i] > current_max:\n",
    "            current_max = arr[i] # Update the current maximum and its index if the current element is larger\n",
    "            current_max_idx = i\n",
    "    return current_max_idx # Return the index of the maximum element found in the array"
   ]
  },
  {
   "cell_type": "code",
   "execution_count": 40,
   "metadata": {},
   "outputs": [
    {
     "data": {
      "text/plain": [
       "3"
      ]
     },
     "execution_count": 40,
     "metadata": {},
     "output_type": "execute_result"
    }
   ],
   "source": [
    "# Example : (Check)\n",
    "\n",
    "linear_search([1,5,3,7,2],0)"
   ]
  },
  {
   "cell_type": "code",
   "execution_count": 41,
   "metadata": {},
   "outputs": [],
   "source": [
    "# Part 2: selection sort \n",
    "\n",
    "def selection_sort_reverse(arr):\n",
    "    n_sorted = 0 \n",
    "    while n_sorted < len(arr):\n",
    "        max_idx = linear_search(arr, n_sorted) # Find the index of the maximum element in the unsorted part of the array\n",
    "        to_swap = arr[n_sorted] # Swap the maximum element with the current position (n_sorted)\n",
    "        arr[n_sorted] = arr[max_idx]\n",
    "        arr[max_idx] = to_swap\n",
    "        n_sorted += 1 # Increment the number of sorted elements\n",
    "    return arr  # Return the sorted array in reverse order"
   ]
  },
  {
   "cell_type": "code",
   "execution_count": 42,
   "metadata": {},
   "outputs": [
    {
     "data": {
      "text/plain": [
       "[7, 5, 3, 2, 1]"
      ]
     },
     "execution_count": 42,
     "metadata": {},
     "output_type": "execute_result"
    }
   ],
   "source": [
    "# Example : (Check)\n",
    "\n",
    "selection_sort_reverse([1,5,3,7,2])"
   ]
  },
  {
   "cell_type": "markdown",
   "metadata": {
    "colab": {},
    "colab_type": "code",
    "id": "kLzOQr8tAAIG"
   },
   "source": [
    "## Exercise 3a: Two sum (Brute Force)\n",
    "\n",
    "Two sum. Given an array and a number N, return True if there are numbers A, B in the array such that A + B = N. Otherwise, return False.\n",
    "\n",
    "```\n",
    "two_sum([1, 2, 3, 4], 5) ⇒ True\n",
    "two_sum([3, 4, 6], 6) ⇒ False\n",
    "```\n",
    "\n",
    "Write a brute force $O(n^2)$ algorithm"
   ]
  },
  {
   "cell_type": "code",
   "execution_count": 43,
   "metadata": {},
   "outputs": [],
   "source": [
    "# exercise 3a\n",
    "\n",
    "def two_sum(arr, N):\n",
    "    arr_len = len(arr)\n",
    "    for i in range(arr_len): # Iterate through each element in the array\n",
    "        for j in range(i + 1, arr_len): # Iterate through each subsequent element in the array\n",
    "            if arr[i] + arr[j] == N: # Check if the sum of arr[i] and arr[j] equals N\n",
    "                return True\n",
    "    return False"
   ]
  },
  {
   "cell_type": "code",
   "execution_count": 44,
   "metadata": {},
   "outputs": [
    {
     "name": "stdout",
     "output_type": "stream",
     "text": [
      "True\n",
      "False\n"
     ]
    }
   ],
   "source": [
    "# Examples : (Check)\n",
    "print(two_sum([1, 2, 3, 4], 5)) \n",
    "print(two_sum([3, 4, 6], 6))     "
   ]
  },
  {
   "cell_type": "markdown",
   "metadata": {},
   "source": [
    "## Exercise 3b: Two Sum (Fast Version)\n",
    "\n",
    "Write a linear time version $O(N)$ for the two sum problem"
   ]
  },
  {
   "cell_type": "code",
   "execution_count": 45,
   "metadata": {},
   "outputs": [],
   "source": [
    "# exercise 3b\n",
    "def two_sum(arr, N):\n",
    "    seen = set()\n",
    "    for num in arr: # Iterate through each number in the array\n",
    "        complement = N - num\n",
    "        if complement in seen:  # Check if the complement exists in the seen set\n",
    "            return True\n",
    "        seen.add(num)\n",
    "    return False"
   ]
  },
  {
   "cell_type": "code",
   "execution_count": 46,
   "metadata": {},
   "outputs": [
    {
     "name": "stdout",
     "output_type": "stream",
     "text": [
      "True\n",
      "False\n"
     ]
    }
   ],
   "source": [
    "# Examples : (Check)\n",
    "print(two_sum([1, 2, 3, 4], 5))\n",
    "print(two_sum([3, 4, 6], 6))     "
   ]
  },
  {
   "cell_type": "markdown",
   "metadata": {},
   "source": [
    "## Exercise 3c: Two Sum (itertools version)\n",
    "\n",
    "Use `itertools.combinations` to write an algorithm for two sum"
   ]
  },
  {
   "cell_type": "code",
   "execution_count": 47,
   "metadata": {},
   "outputs": [],
   "source": [
    "# exercise 3c\n",
    "\n",
    "import itertools\n",
    "\n",
    "def two_sum(arr, N):\n",
    "    for A, B in itertools.combinations(arr, 2): # Iterate through all combinations of two elements (A, B) from the array arr\n",
    "        if A + B == N: # Check if the sum of A and B equals N\n",
    "            return True\n",
    "    return False"
   ]
  },
  {
   "cell_type": "code",
   "execution_count": 48,
   "metadata": {},
   "outputs": [
    {
     "name": "stdout",
     "output_type": "stream",
     "text": [
      "True\n",
      "False\n"
     ]
    }
   ],
   "source": [
    "# Examples : (Check)\n",
    "print(two_sum([1, 2, 3, 4], 5))\n",
    "print(two_sum([3, 4, 6], 6))    "
   ]
  }
 ],
 "metadata": {
  "colab": {
   "authorship_tag": "ABX9TyOATH9BoLFARMvG0o+Vj9NT",
   "collapsed_sections": [],
   "name": "Algorithms 1 Workshop.ipynb",
   "provenance": []
  },
  "kernelspec": {
   "display_name": "Python 3 (ipykernel)",
   "language": "python",
   "name": "python3"
  },
  "language_info": {
   "codemirror_mode": {
    "name": "ipython",
    "version": 3
   },
   "file_extension": ".py",
   "mimetype": "text/x-python",
   "name": "python",
   "nbconvert_exporter": "python",
   "pygments_lexer": "ipython3",
   "version": "3.11.5"
  },
  "metadata": {
   "interpreter": {
    "hash": "63fd5069d213b44bf678585dea6b12cceca9941eaf7f819626cde1f2670de90d"
   }
  }
 },
 "nbformat": 4,
 "nbformat_minor": 1
}
