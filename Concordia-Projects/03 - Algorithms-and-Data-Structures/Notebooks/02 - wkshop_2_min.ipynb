{
 "cells": [
  {
   "cell_type": "markdown",
   "metadata": {
    "id": "S-Xd3LLIcLBw"
   },
   "source": [
    "# Algorithms - Python Classes\n"
   ]
  },
  {
   "cell_type": "markdown",
   "metadata": {},
   "source": [
    "# 1. Rational Number\n",
    "\n",
    "Make a class that represents a [Rational Number](https://en.wikipedia.org/wiki/Rational_number). The rational number takes as input two integers and represents them as a number which is a fraction.\n",
    "\n",
    "You will need:\n",
    "\n",
    "- A creation rountine taking in two integers and initializing the Rational Number\n",
    "\n",
    "- A functionality where printing the rational number prints it as a clean string in the format `\"a / b\"`\n",
    "\n",
    "- An addition/substraction/multiplication/division method defined on other rational numbers\n",
    "\n",
    "    - These only need to be defined on other rational numbers!\n",
    "\n",
    "    - The result needs to be another `RationalNumber` object\n",
    "\n",
    "```\n",
    ">>> a = RationalNumber(1, 2)\n",
    ">>> b = RationalNumber(1, 3)\n",
    ">>> a\n",
    "1 / 2\n",
    ">>> a + b\n",
    "5/6\n",
    ">>> a - b\n",
    "1/6\n",
    ">>> a * b\n",
    "1/6\n",
    ">>> a/b\n",
    "3/2\n",
    "```"
   ]
  },
  {
   "cell_type": "code",
   "execution_count": 1,
   "metadata": {},
   "outputs": [],
   "source": [
    "# Import the Greatest Common Divisor function\n",
    "\n",
    "from math import gcd"
   ]
  },
  {
   "cell_type": "code",
   "execution_count": 2,
   "metadata": {},
   "outputs": [],
   "source": [
    "class RationalNumber:\n",
    "    def __init__(self, numerator, denominator):\n",
    "        \n",
    "        # Check if the denominator is zero\n",
    "        \n",
    "        if denominator == 0:\n",
    "            raise ValueError(\"Denominator cannot be zero.\")\n",
    "            \n",
    "        # Initialize the numerator and denominator\n",
    "        \n",
    "        self.numerator = numerator\n",
    "        self.denominator = denominator\n",
    "        \n",
    "        # Reduce the fraction to its simplest form\n",
    "        \n",
    "        self._reduce()\n",
    "    \n",
    "    def _reduce(self):\n",
    "        \n",
    "        # Reduce the fraction by dividing both numerator and denominator by their greatest common divisor\n",
    "        \n",
    "        common_divisor = gcd(self.numerator, self.denominator)\n",
    "        self.numerator //= common_divisor\n",
    "        self.denominator //= common_divisor\n",
    "    \n",
    "    def __str__(self):\n",
    "        \n",
    "        # Return a string in the format \"numerator / denominator\"\n",
    "        \n",
    "        return f\"{self.numerator} / {self.denominator}\"\n",
    "    \n",
    "    def __repr__(self):\n",
    "        \n",
    "        # Return a string representation of the rational number for debugging purposes\n",
    "        \n",
    "        return self.__str__()\n",
    "    \n",
    "    def __add__(self, other):\n",
    "        \n",
    "        # Check if the other object is an instance of RationalNumber\n",
    "        \n",
    "        if isinstance(other, RationalNumber):\n",
    "            \n",
    "            # Calculate the new numerator and denominator for the sum\n",
    "            \n",
    "            new_numerator = self.numerator * other.denominator + other.numerator * self.denominator\n",
    "            new_denominator = self.denominator * other.denominator\n",
    "            \n",
    "            # Return a new RationalNumber representing the sum\n",
    "            \n",
    "            return RationalNumber(new_numerator, new_denominator)\n",
    "        \n",
    "        # Return NotImplemented if the other object is not a RationalNumber (False)\n",
    "        \n",
    "        return NotImplemented\n",
    "    \n",
    "    def __sub__(self, other):\n",
    "        \n",
    "        # Check if the other object is an instance of RationalNumber\n",
    "        \n",
    "        if isinstance(other, RationalNumber):\n",
    "            \n",
    "            # Calculate the new numerator and denominator for the difference\n",
    "            \n",
    "            new_numerator = self.numerator * other.denominator - other.numerator * self.denominator\n",
    "            new_denominator = self.denominator * other.denominator\n",
    "            \n",
    "            # Return a new RationalNumber representing the difference\n",
    "            \n",
    "            return RationalNumber(new_numerator, new_denominator)\n",
    "        \n",
    "        # Return NotImplemented if the other object is not a RationalNumber\n",
    "        \n",
    "        return NotImplemented\n",
    "    \n",
    "    def __mul__(self, other):\n",
    "        \n",
    "        # Check if the other object is an instance of RationalNumber\n",
    "        \n",
    "        if isinstance(other, RationalNumber):\n",
    "            \n",
    "            # Calculate the new numerator and denominator for the product\n",
    "            \n",
    "            new_numerator = self.numerator * other.numerator\n",
    "            new_denominator = self.denominator * other.denominator\n",
    "            \n",
    "            # Return a new RationalNumber representing the product\n",
    "            \n",
    "            return RationalNumber(new_numerator, new_denominator)\n",
    "        \n",
    "        # Return NotImplemented if the other object is not a RationalNumber\n",
    "        \n",
    "        return NotImplemented\n",
    "    \n",
    "    def __truediv__(self, other):\n",
    "        \n",
    "        # Check if the other object is an instance of RationalNumber\n",
    "        \n",
    "        if isinstance(other, RationalNumber):\n",
    "            \n",
    "            # Calculate the new numerator and denominator for the quotient\n",
    "            \n",
    "            new_numerator = self.numerator * other.denominator\n",
    "            new_denominator = self.denominator * other.numerator\n",
    "            \n",
    "            # Check if the new denominator is zero and raise an error if it is\n",
    "            \n",
    "            if new_denominator == 0:\n",
    "                raise ValueError(\"Division by zero is not allowed.\")\n",
    "                \n",
    "            # Return a new RationalNumber representing the quotient\n",
    "            \n",
    "            return RationalNumber(new_numerator, new_denominator)\n",
    "        \n",
    "        # Return NotImplemented if the other object is not a RationalNumber\n",
    "        return NotImplemented"
   ]
  },
  {
   "cell_type": "code",
   "execution_count": 3,
   "metadata": {},
   "outputs": [],
   "source": [
    "# Example: (Check)\n",
    "a = RationalNumber(1, 2)\n",
    "b = RationalNumber(1, 3)"
   ]
  },
  {
   "cell_type": "code",
   "execution_count": 4,
   "metadata": {},
   "outputs": [
    {
     "name": "stdout",
     "output_type": "stream",
     "text": [
      "First Rational Number is : 1 / 2\n",
      "Second Rational Number is : 1 / 3\n"
     ]
    }
   ],
   "source": [
    "# Check\n",
    "print(\"First Rational Number is :\",a) \n",
    "print(\"Second Rational Number is :\",b) "
   ]
  },
  {
   "cell_type": "code",
   "execution_count": 5,
   "metadata": {},
   "outputs": [
    {
     "name": "stdout",
     "output_type": "stream",
     "text": [
      "(1 / 2) + (1 / 3) =  5 / 6\n",
      "(1 / 2) - (1 / 3) =  1 / 6\n",
      "(1 / 2) × (1 / 3) =  1 / 6\n",
      "(1 / 2) ÷ (1 / 3) =  3 / 2\n"
     ]
    }
   ],
   "source": [
    "print(f\"({a}) + ({b}) = \",a + b) \n",
    "print(f\"({a}) - ({b}) = \",a - b) \n",
    "print(f\"({a}) × ({b}) = \",a * b) \n",
    "print(f\"({a}) ÷ ({b}) = \",a / b) "
   ]
  },
  {
   "cell_type": "markdown",
   "metadata": {
    "id": "U-Adr8UyBJMd"
   },
   "source": [
    "# 2. Deck of Cards\n",
    "\n",
    "Create a deck of cards class. \n",
    "\n",
    "Internally, the deck of cards should use another class, a card class. \n",
    "\n",
    "Your requirements are:\n",
    "\n",
    "- The Deck class should have a deal method to deal a single card from the deck\n",
    "- After a card is dealt, it is removed from the deck.\n",
    "    - If no cards remain in the deck and we try to deal, it should raise an exception\n",
    "- There should be a shuffle method which makes sure the deck of cards has all 52 cards and then rearranges them randomly.\n",
    "    - If there are fewer than 52 cards, an exception should be raised\n",
    "- The Card class should have a suit (Hearts, Diamonds, Clubs, Spades) and a value (A,2,3,4,5,6,7,8,9,10,J,Q,K)\n",
    "\n",
    "```\n",
    ">>> c = Card(suit='Hearts', value='K')\n",
    ">>> c\n",
    "\"K of Hearts\"\n",
    ">>> d = Deck()\n",
    ">>> d\n",
    "\"Cards remaining in deck: 52\"\n",
    "\n",
    "# Deck is not shuffled -- deals cards consecutively:\n",
    "\n",
    ">>> d.deal()\n",
    "\"K of Spades\"\n",
    ">>> d.deal()\n",
    "\"Q of Spades\"\n",
    ">>> d.deal()\n",
    "\"J of Spades\"\n",
    ">>> d\n",
    "\"Cards remaining in deck: 49\"\n",
    "\n",
    "# We dealt 3 cards, 49 remain\n",
    "# Can't shuffle deck that's not full:\n",
    "\n",
    ">>> d.shuffle()\n",
    "ValueError: Only full decks can be shuffled\n",
    "\n",
    "# You can shuffle full decks \n",
    ">>> d = Deck()\n",
    ">>> d.shuffle()\n",
    "\n",
    "# Now it deals random cards\n",
    "\n",
    ">>> d.deal()\n",
    "\"2 of Hearts\"\n",
    "\n",
    "```"
   ]
  },
  {
   "cell_type": "code",
   "execution_count": 6,
   "metadata": {
    "id": "MGl-Jwl-XwCn",
    "outputId": "7e020842-8c46-42b5-9701-89bb5058e59c"
   },
   "outputs": [],
   "source": [
    "# Import the random module to use its functions for generating random numbers and shuffling sequences\n",
    "\n",
    "import random  "
   ]
  },
  {
   "cell_type": "code",
   "execution_count": 7,
   "metadata": {
    "id": "MGl-Jwl-XwCn",
    "outputId": "7e020842-8c46-42b5-9701-89bb5058e59c"
   },
   "outputs": [],
   "source": [
    "class Card:\n",
    "    def __init__(self, suit, value):\n",
    "        \n",
    "        # Initialize the card with a suit and value\n",
    "        \n",
    "        self.suit = suit\n",
    "        self.value = value\n",
    "    \n",
    "    def __str__(self):\n",
    "        \n",
    "        # Return a string representation of the card in the format \"value of suit\"\n",
    "        \n",
    "        return f\"{self.value} of {self.suit}\"\n",
    "    \n",
    "    def __repr__(self):\n",
    "        \n",
    "        # Return a string representation of the card for debugging purposes\n",
    "        \n",
    "        return self.__str__()\n",
    "\n",
    "class Deck:\n",
    "    \n",
    "    # Class variables for the suits and values of a standard deck of cards\n",
    "    \n",
    "    suits = ['Hearts', 'Diamonds', 'Clubs', 'Spades']\n",
    "    values = ['A', '2', '3', '4', '5', '6', '7', '8', '9', '10', 'J', 'Q', 'K']\n",
    "    \n",
    "    def __init__(self):\n",
    "        \n",
    "        # Create a deck of 52 cards\n",
    "        \n",
    "        self.cards = [Card(suit, value) for suit in self.suits for value in self.values]\n",
    "    \n",
    "    def deal(self):\n",
    "        \n",
    "        # Deal a card from the deck\n",
    "        \n",
    "        if not self.cards:\n",
    "            \n",
    "            # Raise an error if all cards have been dealt\n",
    "            \n",
    "            raise ValueError(\"All cards have been dealt\")\n",
    "            \n",
    "        # Remove and return the last card from the list\n",
    "        \n",
    "        return self.cards.pop()\n",
    "    \n",
    "    def shuffle(self):\n",
    "        \n",
    "        # Shuffle the deck if it contains all 52 cards\n",
    "        \n",
    "        if len(self.cards) != 52:\n",
    "            \n",
    "            # Raise an error if the deck is not full\n",
    "            \n",
    "            raise ValueError(\"Only full decks can be shuffled\")\n",
    "            \n",
    "        # Shuffle the cards\n",
    "        random.shuffle(self.cards)\n",
    "    \n",
    "    def __str__(self):\n",
    "        \n",
    "        # Return the number of cards remaining in the deck\n",
    "        \n",
    "        return f\"Cards remaining in deck: {len(self.cards)}\"\n",
    "    \n",
    "    def __repr__(self):\n",
    "        \n",
    "        # Return the number of cards remaining in the deck for debugging purposes\n",
    "        return self.__str__()"
   ]
  },
  {
   "cell_type": "code",
   "execution_count": 8,
   "metadata": {},
   "outputs": [
    {
     "name": "stdout",
     "output_type": "stream",
     "text": [
      "K of Hearts\n"
     ]
    }
   ],
   "source": [
    "# Check\n",
    "c = Card(suit='Hearts', value='K')\n",
    "print(c)"
   ]
  },
  {
   "cell_type": "code",
   "execution_count": 9,
   "metadata": {},
   "outputs": [
    {
     "name": "stdout",
     "output_type": "stream",
     "text": [
      "Cards remaining in deck: 52\n"
     ]
    }
   ],
   "source": [
    "# Check\n",
    "d = Deck()\n",
    "print(d)"
   ]
  },
  {
   "cell_type": "code",
   "execution_count": 10,
   "metadata": {},
   "outputs": [
    {
     "name": "stdout",
     "output_type": "stream",
     "text": [
      "K of Spades\n",
      "Q of Spades\n",
      "J of Spades\n",
      "Cards remaining in deck: 49\n"
     ]
    }
   ],
   "source": [
    "# Deal cards consecutively\n",
    "\n",
    "print(d.deal())  \n",
    "print(d.deal())  \n",
    "print(d.deal())  \n",
    "print(d) "
   ]
  },
  {
   "cell_type": "code",
   "execution_count": 11,
   "metadata": {},
   "outputs": [
    {
     "name": "stdout",
     "output_type": "stream",
     "text": [
      "Only full decks can be shuffled\n",
      "4 of Clubs\n"
     ]
    }
   ],
   "source": [
    "# Can't shuffle deck that's not full\n",
    "\n",
    "try:\n",
    "    d.shuffle()\n",
    "except ValueError as e:\n",
    "    print(e) \n",
    "\n",
    "# Shuffle full deck\n",
    "\n",
    "d = Deck()\n",
    "d.shuffle()\n",
    "\n",
    "# Deal random cards\n",
    "\n",
    "print(d.deal()) "
   ]
  },
  {
   "cell_type": "markdown",
   "metadata": {},
   "source": [
    " # 3. Reverse a Stack\n",
    " \n",
    " Write a method\n",
    "to reverse the elements in a stack using only the methods available in Stack class."
   ]
  },
  {
   "cell_type": "code",
   "execution_count": 19,
   "metadata": {},
   "outputs": [],
   "source": [
    "class Stack:\n",
    "\n",
    "    def __init__(self):\n",
    "        # Initialize an empty list to store stack items\n",
    "        self.items = []\n",
    "    \n",
    "    def push(self, item):\n",
    "        # Add an item to the top of the stack\n",
    "        self.items.append(item)\n",
    "    \n",
    "    def pop(self):\n",
    "        # Remove and return the top item of the stack\n",
    "        if not self.is_empty():\n",
    "            return self.items.pop()\n",
    "        \n",
    "        # Raise an error if the stack is empty\n",
    "        raise IndexError(\"pop from empty stack\")\n",
    "    \n",
    "    def is_empty(self):\n",
    "        # Check if the stack is empty\n",
    "        return len(self.items) == 0\n",
    "    \n",
    "    def peek(self):\n",
    "        # Return the top item of the stack without removing it\n",
    "        if not self.is_empty():\n",
    "            return self.items[-1]\n",
    "        \n",
    "        # Raise an error if the stack is empty\n",
    "        raise IndexError(\"peek from empty stack\")\n",
    "    \n",
    "    def size(self):\n",
    "        # Return the number of items in the stack\n",
    "        return len(self.items)\n",
    "    \n",
    "    def __str__(self):\n",
    "        # Return a string representation of the stack for easy visualization\n",
    "        return str(self.items)\n",
    "\n",
    "# Method to reverse the stack\n",
    "def reverse_stack(stack):\n",
    "    # Create an auxiliary stack\n",
    "    aux_stack = Stack()\n",
    "    \n",
    "    # Transfer all elements from the original stack to the auxiliary stack\n",
    "    while not stack.is_empty():\n",
    "        aux_stack.push(stack.pop())\n",
    "    \n",
    "    return aux_stack"
   ]
  },
  {
   "cell_type": "code",
   "execution_count": 20,
   "metadata": {},
   "outputs": [],
   "source": [
    "# Example usage\n",
    "stack = Stack()\n",
    "stack.push(\"Concordia\")\n",
    "stack.push(\"Montreal\")\n",
    "stack.push(\"Quebec\")\n",
    "stack.push(\"Canada\")"
   ]
  },
  {
   "cell_type": "code",
   "execution_count": 21,
   "metadata": {},
   "outputs": [
    {
     "name": "stdout",
     "output_type": "stream",
     "text": [
      "Original stack: ['Concordia', 'Montreal', 'Quebec', 'Canada']\n",
      "Reversed stack: ['Canada', 'Quebec', 'Montreal', 'Concordia']\n"
     ]
    }
   ],
   "source": [
    "print(\"Original stack:\", stack)\n",
    "print(\"Reversed stack:\", reverse_stack(stack))"
   ]
  }
 ],
 "metadata": {
  "colab": {
   "collapsed_sections": [],
   "name": "Workshop Stable Mariages.ipynb",
   "provenance": []
  },
  "kernelspec": {
   "display_name": "Python 3 (ipykernel)",
   "language": "python",
   "name": "python3"
  },
  "language_info": {
   "codemirror_mode": {
    "name": "ipython",
    "version": 3
   },
   "file_extension": ".py",
   "mimetype": "text/x-python",
   "name": "python",
   "nbconvert_exporter": "python",
   "pygments_lexer": "ipython3",
   "version": "3.11.5"
  }
 },
 "nbformat": 4,
 "nbformat_minor": 1
}
