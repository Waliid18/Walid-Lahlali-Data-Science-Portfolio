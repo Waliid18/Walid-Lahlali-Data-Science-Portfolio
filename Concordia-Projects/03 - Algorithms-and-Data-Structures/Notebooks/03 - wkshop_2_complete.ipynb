{
 "cells": [
  {
   "cell_type": "markdown",
   "id": "e1cf91c0",
   "metadata": {},
   "source": [
    "## Exercise 1: Linked Lists\n",
    "\n",
    "Unlike a regular array, a [Linked List](https://en.wikipedia.org/wiki/Linked_list) is a container where inserting a new element somewhere in the middle is $O(1)$. \n",
    "\n",
    "For a regular array inserting an element in the middle is $O(N)$, because we need to \"shift back\" all the elements after it. In practice, we might also have to allocate new memory to fit in the element.\n",
    "\n",
    "A linked list is a series of elements, `Node(value, next)` which work as follows:\n",
    "\n",
    "- The `value` field is the element value -- python object at that place in the list (like elements in a python `list`)\n",
    "- The `next` field points to the next element in the linked list. In python holding a reference to the element does this (the same way a python list holds references to objects)\n",
    "\n",
    "Implement the `Node` Class as described above then initialize a list with 5 elements `(3 -> 'cat' -> 'dog' -> 55 -> 56)`"
   ]
  },
  {
   "cell_type": "code",
   "execution_count": 5,
   "id": "4f29c025",
   "metadata": {},
   "outputs": [
    {
     "name": "stdout",
     "output_type": "stream",
     "text": [
      "3 -> cat -> dog -> 55 -> 56 -> None\n"
     ]
    }
   ],
   "source": [
    "class Node:\n",
    "    def __init__(self, value):\n",
    "        self.value = value\n",
    "        self.next = None\n",
    "\n",
    "# Initialize the linked list with 5 elements: 3,'cat','dog',55,56\n",
    "\n",
    "node1 = Node(3)\n",
    "node2 = Node('cat')\n",
    "node3 = Node('dog')\n",
    "node4 = Node(55)\n",
    "node5 = Node(56)\n",
    "\n",
    "# Link the nodes together\n",
    "\n",
    "node1.next = node2\n",
    "node2.next = node3\n",
    "node3.next = node4\n",
    "node4.next = node5\n",
    "\n",
    "# Printing the linked list\n",
    "\n",
    "current = node1\n",
    "while current is not None:\n",
    "    print(current.value, end=\" -> \")\n",
    "    current = current.next\n",
    "print(\"None\")"
   ]
  },
  {
   "cell_type": "markdown",
   "id": "0717b471",
   "metadata": {},
   "source": [
    "## Exercise 2: Reversing a linked list\n",
    "\n",
    "Write a $O(N)$ function `reverse_ll` that reverses all the pointers in a linked list:\n",
    "\n",
    "```\n",
    "(a -> b -> c) ⇒ (c -> b -> a)\n",
    "```\n",
    "\n",
    "Note: You don't have to reverse their order in the python tuple/list if that's where you're holding them. Just reverse their `Node` pointers to each other"
   ]
  },
  {
   "cell_type": "code",
   "execution_count": 6,
   "id": "ca8455fc",
   "metadata": {},
   "outputs": [],
   "source": [
    "# exercise 2\n",
    "class Node:\n",
    "    def __init__(self, value):\n",
    "        \n",
    "        # Initialize the value of the node\n",
    "        \n",
    "        self.value = value\n",
    "        \n",
    "        # Initialize the next pointer of the node as None\n",
    "        \n",
    "        self.next = None\n",
    "\n",
    "def reverse_ll(head):\n",
    "    \n",
    "    # Initialize the previous node as None\n",
    "    \n",
    "    prev = None\n",
    "    \n",
    "    # Start with the head node\n",
    "    \n",
    "    current = head\n",
    "    \n",
    "    # Loop through the linked list\n",
    "    \n",
    "    while current is not None:\n",
    "        \n",
    "        # Store the next node\n",
    "        \n",
    "        next_node = current.next\n",
    "        \n",
    "        # Reverse the current node's pointer\n",
    "        \n",
    "        current.next = prev\n",
    "        \n",
    "        # Move the previous node to the current node\n",
    "        \n",
    "        prev = current\n",
    "        \n",
    "        # Move to the next node in the original list\n",
    "        \n",
    "        current = next_node\n",
    "    \n",
    "    # Return the new head of the reversed linked list\n",
    "    \n",
    "    return prev"
   ]
  },
  {
   "cell_type": "code",
   "execution_count": 7,
   "id": "ac53b047",
   "metadata": {},
   "outputs": [
    {
     "name": "stdout",
     "output_type": "stream",
     "text": [
      "a -> b -> c -> None\n",
      "c -> b -> a -> None\n"
     ]
    }
   ],
   "source": [
    "# Example linked list: a -> b -> c\n",
    "\n",
    "a = Node('a')\n",
    "b = Node('b')\n",
    "c = Node('c')\n",
    "\n",
    "a.next = b\n",
    "b.next = c\n",
    "\n",
    "# Print original linked list: a -> b -> c\n",
    "\n",
    "current = a\n",
    "while current is not None:\n",
    "    print(current.value, end=\" -> \")\n",
    "    current = current.next\n",
    "print(\"None\")\n",
    "\n",
    "# Reverse the linked list\n",
    "\n",
    "new_head = reverse_ll(a)\n",
    "\n",
    "# Print reversed linked list: c -> b -> a\n",
    "\n",
    "current = new_head\n",
    "while current is not None:\n",
    "    print(current.value, end=\" -> \")\n",
    "    current = current.next\n",
    "print(\"None\")"
   ]
  }
 ],
 "metadata": {
  "kernelspec": {
   "display_name": "Python 3 (ipykernel)",
   "language": "python",
   "name": "python3"
  },
  "language_info": {
   "codemirror_mode": {
    "name": "ipython",
    "version": 3
   },
   "file_extension": ".py",
   "mimetype": "text/x-python",
   "name": "python",
   "nbconvert_exporter": "python",
   "pygments_lexer": "ipython3",
   "version": "3.11.5"
  }
 },
 "nbformat": 4,
 "nbformat_minor": 5
}
