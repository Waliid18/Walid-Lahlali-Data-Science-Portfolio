{
 "cells": [
  {
   "cell_type": "markdown",
   "metadata": {
    "id": "J584qJB9M8uE"
   },
   "source": [
    "## Exercise 2\n",
    "\n",
    "### 2.1: Make an algorithm to generate [random walks](https://en.wikipedia.org/wiki/Random_walk) on a NetworkX graphs.\n",
    "\n",
    "The form is `random_walk(G, nodeid, length)` so the input should be a graph, node ID and the number of steps to take in the random walk. The output is a list of node IDs in the walks\n",
    "\n",
    "```\n",
    "G = nx.binomial_graph(25, 0.3, directed=True)\n",
    "\n",
    "# this output is random\n",
    "# don't try to reproduce it exactly\n",
    "random_walk(G, 3, 5) -> [3, 1, 4, 2, 3]\n",
    "```"
   ]
  },
  {
   "cell_type": "code",
   "execution_count": 4,
   "metadata": {
    "executionInfo": {
     "elapsed": 558,
     "status": "ok",
     "timestamp": 1605985871500,
     "user": {
      "displayName": "jasleen Kaur",
      "photoUrl": "https://lh3.googleusercontent.com/a-/AOh14GitSy-VVABi645nqScpV23oW5NBCAa7lTQqdIKl=s64",
      "userId": "12125715966921775581"
     },
     "user_tz": 300
    },
    "id": "5-iwrKK5vHEN",
    "scrolled": true
   },
   "outputs": [
    {
     "name": "stdout",
     "output_type": "stream",
     "text": [
      "Random walk starting from node 3: [3, 1, 24, 6, 1, 22]\n"
     ]
    }
   ],
   "source": [
    "# 2.1\n",
    "\n",
    "# Import necessary libraries\n",
    "\n",
    "import networkx as nx\n",
    "import random\n",
    "\n",
    "# Define a function to perform a random walk on a graph\n",
    "\n",
    "def random_walk(G, nodeid, length):\n",
    "    \n",
    "    # Initialize the walk with the starting node\n",
    "    \n",
    "    walk = [nodeid]  \n",
    "    \n",
    "    # Set the current node to the starting node\n",
    "    \n",
    "    current_node = nodeid  \n",
    "    \n",
    "    # Perform the random walk for the specified length\n",
    "    \n",
    "    for _ in range(length):\n",
    "        # Get neighbors of the current node\n",
    "        \n",
    "        neighbors = list(G.neighbors(current_node))  \n",
    "        \n",
    "        # If there are no neighbors, terminate the walk\n",
    "        \n",
    "        if not neighbors:  \n",
    "            break\n",
    "            \n",
    "        # Choose a random neighbor as the next node\n",
    "        \n",
    "        next_node = random.choice(neighbors)  \n",
    "        \n",
    "        # Append the chosen node to the walk\n",
    "        \n",
    "        walk.append(next_node)  \n",
    "        \n",
    "        # Update the current node to the next node\n",
    "        \n",
    "        current_node = next_node  \n",
    "    \n",
    "    return walk  \n",
    "\n",
    "# Create a directed binomial \n",
    "\n",
    "G = nx.binomial_graph(25, 0.3, directed=True)\n",
    "\n",
    "# Define parameters for the random walk\n",
    "\n",
    "start_node = 3\n",
    "walk_length = 5\n",
    "\n",
    "# Perform a random walk starting from the specified node and of the specified length\n",
    "\n",
    "random_walk_result = random_walk(G, start_node, walk_length)\n",
    "\n",
    "# Print the random walk result\n",
    "\n",
    "print(f\"Random walk starting from node {start_node}: {random_walk_result}\")"
   ]
  },
  {
   "cell_type": "markdown",
   "metadata": {
    "id": "_WpAmCeovHEN"
   },
   "source": [
    "### 2.2: Modify your random walk algorithm so that:\n",
    "\n",
    "- It takes in on a weighed graph's adjacency matrix (a numpy matrix). \n",
    "- The probability to go from node A to node B should be proportional to the weight on their edge (relative to the other edges starting at node A).\n",
    "\n",
    "Example:\n",
    "```\n",
    "G = np.array([\n",
    "    [0, 0.5, 0, 0.5],\n",
    "    [0.5, 0, 0, 0.5],\n",
    "    [0.25, 0.25, 0.25, 0.25],\n",
    "    [0.5, 0.5, 0, 0],\n",
    "])\n",
    "\n",
    "random_walk(G, 0, 4) -> [0, 1, 0, 3]\n",
    "```\n",
    "\n",
    "Here, `node 0` would give us 50% chance to transition to `node 1` and 50% chance to transition to `node 3`. Then `node 1` would give us 50% chance to transition to `node 0` and 50% to `node 3`, etc."
   ]
  },
  {
   "cell_type": "code",
   "execution_count": 5,
   "metadata": {
    "executionInfo": {
     "elapsed": 724,
     "status": "ok",
     "timestamp": 1605986519970,
     "user": {
      "displayName": "jasleen Kaur",
      "photoUrl": "https://lh3.googleusercontent.com/a-/AOh14GitSy-VVABi645nqScpV23oW5NBCAa7lTQqdIKl=s64",
      "userId": "12125715966921775581"
     },
     "user_tz": 300
    },
    "id": "qeyTs_drvHEN"
   },
   "outputs": [
    {
     "name": "stdout",
     "output_type": "stream",
     "text": [
      "Random walk starting from node 0: [0, 1, 0, 3]\n"
     ]
    }
   ],
   "source": [
    "# 2.2\n",
    "\n",
    "# Import numpy librarie\n",
    "\n",
    "import numpy as np\n",
    "\n",
    "# Define a function to perform a random walk based on an adjacency matrix\n",
    "\n",
    "def random_walk(adj_matrix, nodeid, length):\n",
    "    \n",
    "    # Get the number of nodes in the graph\n",
    "    \n",
    "    num_nodes = adj_matrix.shape[0]  \n",
    "    walk = [nodeid] \n",
    "    \n",
    "    # Set the current node to the starting node\n",
    "    \n",
    "    current_node = nodeid  \n",
    "    \n",
    "    # Perform the random walk for the specified length\n",
    "    \n",
    "    for _ in range(length - 1):  \n",
    "        \n",
    "        # Get the weights of the outgoing edges from the current node\n",
    "        \n",
    "        weights = adj_matrix[current_node]\n",
    "        \n",
    "        # Normalize the weights to get probabilities\n",
    "        \n",
    "        total_weight = np.sum(weights)\n",
    "        if total_weight == 0:\n",
    "            break  \n",
    "        probabilities = weights / total_weight\n",
    "        \n",
    "        # Choose the next node based on the probabilities\n",
    "        \n",
    "        next_node = np.random.choice(num_nodes, p=probabilities)\n",
    "        walk.append(next_node)  \n",
    "        current_node = next_node\n",
    "        \n",
    "    return walk\n",
    "\n",
    "# Adjacency matrix representing a directed graph\n",
    "\n",
    "G = np.array([\n",
    "    [0, 0.5, 0, 0.5],\n",
    "    [0.5, 0, 0, 0.5],\n",
    "    [0.25, 0.25, 0.25, 0.25],\n",
    "    [0.5, 0.5, 0, 0],\n",
    "])\n",
    "\n",
    "# Define parameters for the random walk\n",
    "\n",
    "start_node = 0\n",
    "walk_length = 4\n",
    "\n",
    "# Perform a random walk starting from the specified node and of the specified length\n",
    "\n",
    "random_walk_result = random_walk(G, start_node, walk_length)\n",
    "\n",
    "# Print the random walk result\n",
    "\n",
    "print(f\"Random walk starting from node {start_node}: {random_walk_result}\")"
   ]
  },
  {
   "cell_type": "markdown",
   "metadata": {},
   "source": [
    "### 3.1: computing node degrees of graphs (take 2)\n",
    "\n",
    "For the graph made by your function in the previous workshop, calculate the **diameter** AND the degrees of each node, and visually confirm those values by inspecting the above graph. Write a function `compute_diameter_and_degrees` which takes a networkx graph object as input, and returns a `dict` with the diameter and the degrees of all the nodes in the graph.\n",
    "\n",
    "**NOTE:** You cannot use the diameter or degree method from networkx directly to compute the degrees.\n",
    "\n",
    "```\n",
    "compute_diameter_and_degrees(G) -> {\n",
    "    'diameter': 3,\n",
    "    'degree_A': 3,\n",
    "    'degree_B': 1,\n",
    "    'degree_C': 2,\n",
    "    'degree_D': 3,\n",
    "    'degree_E': 3,\n",
    "}\n",
    "```"
   ]
  },
  {
   "cell_type": "code",
   "execution_count": 6,
   "metadata": {},
   "outputs": [
    {
     "name": "stdout",
     "output_type": "stream",
     "text": [
      "{'diameter': 3, 'degree_B': 1, 'degree_D': 3, 'degree_E': 3, 'degree_C': 2, 'degree_A': 3}\n"
     ]
    }
   ],
   "source": [
    "# 3.1\n",
    "\n",
    "# Define a function to compute the diameter and degrees of a graph\n",
    "\n",
    "def compute_diameter_and_degrees(G):\n",
    "    \n",
    "    # Initialize a dictionary to store the degrees of nodes\n",
    "    \n",
    "    degrees = {}\n",
    "    \n",
    "    # Calculate the degree for each node in the graph\n",
    "    \n",
    "    for node in G.nodes():\n",
    "        degree = len(list(G.neighbors(node))) \n",
    "        degrees[f'degree_{node}'] = degree \n",
    "    \n",
    "    # Calculate the shortest path lengths between all pairs of nodes\n",
    "    \n",
    "    lengths = dict(nx.all_pairs_shortest_path_length(G))\n",
    "    \n",
    "    # Find the longest shortest path\n",
    "    \n",
    "    diameter = 0\n",
    "    for node, path_lengths in lengths.items():\n",
    "        \n",
    "        # Find the maximum shortest path length for each node\n",
    "        \n",
    "        max_length = max(path_lengths.values())  \n",
    "        if max_length > diameter:\n",
    "            diameter = max_length  \n",
    "    \n",
    "    # Create a dictionary to store the result including diameter and degrees\n",
    "    \n",
    "    result = {'diameter': diameter}\n",
    "    result.update(degrees)\n",
    "    \n",
    "    return result  \n",
    "\n",
    "\n",
    "graph1 = {\n",
    "    'B': set(['D']),\n",
    "    'D': set(['B', 'E', 'A']),\n",
    "    'E': set(['D', 'A', 'C']),\n",
    "    'C': set(['E', 'A']),\n",
    "    'A': set(['D', 'C', 'E']),\n",
    "}\n",
    "\n",
    "# Create a NetworkX graph from the dictionary representation\n",
    "\n",
    "G = nx.Graph(graph1)\n",
    "\n",
    "# Compute the diameter and degrees of the graph\n",
    "\n",
    "result = compute_diameter_and_degrees(G)\n",
    "\n",
    "# Print the computed result\n",
    "\n",
    "print(result)"
   ]
  }
 ],
 "metadata": {
  "colab": {
   "collapsed_sections": [],
   "name": "Workshop Graphs.ipynb",
   "provenance": []
  },
  "kernelspec": {
   "display_name": "Python 3 (ipykernel)",
   "language": "python",
   "name": "python3"
  },
  "language_info": {
   "codemirror_mode": {
    "name": "ipython",
    "version": 3
   },
   "file_extension": ".py",
   "mimetype": "text/x-python",
   "name": "python",
   "nbconvert_exporter": "python",
   "pygments_lexer": "ipython3",
   "version": "3.11.5"
  },
  "metadata": {
   "interpreter": {
    "hash": "63fd5069d213b44bf678585dea6b12cceca9941eaf7f819626cde1f2670de90d"
   }
  }
 },
 "nbformat": 4,
 "nbformat_minor": 1
}
