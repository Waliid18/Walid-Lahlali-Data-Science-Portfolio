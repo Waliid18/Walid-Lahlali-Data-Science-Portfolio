{
 "cells": [
  {
   "cell_type": "markdown",
   "metadata": {
    "id": "Bj-Gi0QlUfyL"
   },
   "source": [
    "# Algorithms - Recursion\n",
    "\n",
    "## Exercise 1\n",
    "\n",
    "Although merge sort has a better Big-O than selection sort, selection sort can be faster for smaller inputs.\n",
    "\n",
    "Rewrite `merge_sort(A, min_size)` such that sub-arrays smaller than an input parameter `min_size` are sorted with our `selection_sort` from the lecture `algorithms intro`.\n",
    "\n",
    "Time the difference between pure merge sort and this new algorithm. Is it faster? Why or why not?"
   ]
  },
  {
   "cell_type": "code",
   "execution_count": 38,
   "metadata": {
    "id": "KEBg1H4VWkHt"
   },
   "outputs": [],
   "source": [
    "# exercise 1\n",
    "\n",
    "# Function \"merge_sort\"\n",
    "\n",
    "def merge_sort(arr, min_size):\n",
    "    size = len(arr)\n",
    "    if size > min_size:\n",
    "        m = size // 2\n",
    "        left = merge_sort(arr[:m], min_size)    \n",
    "        right = merge_sort(arr[m:], min_size)   \n",
    "        return merge(left, right)               \n",
    "    \n",
    "    else:\n",
    "        return selection_sort(arr)              #\n",
    "\n",
    "# Function \"merge\"\n",
    "def merge(left, right):\n",
    "    res = []\n",
    "    while left and right:\n",
    "        if left[0] < right[0]:\n",
    "            res.append(left[0])\n",
    "            left.pop(0)                        \n",
    "        else:\n",
    "            res.append(right[0])\n",
    "            right.pop(0)                       \n",
    "    \n",
    "    res.extend(left)                            \n",
    "    res.extend(right)                           \n",
    "    return res\n",
    "\n",
    "# Function \"selection_sort\"\n",
    "def selection_sort(arr):\n",
    "    n_sorted = 0 \n",
    "    while n_sorted < len(arr):\n",
    "        min_idx = linear_search(arr[n_sorted:]) + n_sorted  \n",
    "        to_swap = arr[n_sorted]                             \n",
    "        arr[n_sorted] = arr[min_idx]\n",
    "        arr[min_idx] = to_swap\n",
    "        n_sorted += 1\n",
    "    return arr\n",
    "\n",
    "# Function to find index of minimum element\n",
    "\n",
    "def linear_search(arr):\n",
    "    min_idx = 0\n",
    "    for i in range(1, len(arr)):\n",
    "        if arr[i] < arr[min_idx]:\n",
    "            min_idx = i\n",
    "    return min_idx"
   ]
  },
  {
   "cell_type": "code",
   "execution_count": 39,
   "metadata": {
    "id": "KEBg1H4VWkHt",
    "scrolled": true
   },
   "outputs": [
    {
     "name": "stdout",
     "output_type": "stream",
     "text": [
      "Array size: 1000\n",
      "Merge Sort (min_size=5) Time: 0.005983 seconds\n",
      "Selection Sort Time: 0.043673 seconds\n",
      "\n",
      "Array size: 1000\n",
      "Merge Sort (min_size=10) Time: 0.001995 seconds\n",
      "Selection Sort Time: 0.048446 seconds\n",
      "\n",
      "Array size: 1000\n",
      "Merge Sort (min_size=20) Time: 0.002992 seconds\n",
      "Selection Sort Time: 0.037371 seconds\n",
      "\n"
     ]
    }
   ],
   "source": [
    "# Example : (Check)\n",
    "\n",
    "import time\n",
    "import random\n",
    "\n",
    "# Function to generate a random array of given size\n",
    "\n",
    "def generate_random_array(size):\n",
    "    return [random.randint(1, 1000) for _ in range(size)]\n",
    "\n",
    "# Function to compare the timing of merge_sort and selection_sort\n",
    "\n",
    "def compare_sorting(min_size, array_size):\n",
    "    arr = generate_random_array(array_size)  \n",
    "    \n",
    "    # Timing merge_sort with the given min_size\n",
    "    \n",
    "    start_time = time.time()\n",
    "    sorted_arr_merge = merge_sort(arr, min_size)\n",
    "    merge_sort_time = time.time() - start_time\n",
    "    \n",
    "    # Timing selection_sort (using a copy of the original array)\n",
    "    \n",
    "    start_time = time.time()\n",
    "    sorted_arr_selection = selection_sort(arr.copy())\n",
    "    selection_sort_time = time.time() - start_time\n",
    "    \n",
    "    # Print the results\n",
    "    print(f\"Array size: {array_size}\")\n",
    "    print(f\"Merge Sort (min_size={min_size}) Time: {merge_sort_time:.6f} seconds\")\n",
    "    print(f\"Selection Sort Time: {selection_sort_time:.6f} seconds\")\n",
    "    print()\n",
    "\n",
    "# Example usage and comparison for different min_size values\n",
    "\n",
    "compare_sorting(min_size=5, array_size=1000)\n",
    "compare_sorting(min_size=10, array_size=1000)\n",
    "compare_sorting(min_size=20, array_size=1000)"
   ]
  },
  {
   "cell_type": "markdown",
   "metadata": {},
   "source": [
    "The modified merge_sort with a min_size threshold for using selection_sort on smaller sub-arrays provides a trade-off between sorting efficiency and algorithm simplicity:\n",
    "\n",
    "1 - For small arrays: selection_sort tends to perform faster due to its simpler O(n^2) time complexity compared to the O(n log n) complexity of merge_sort. This is especially noticeable when min_size is set appropriately low, allowing selection_sort to handle smaller partitions efficiently.\n",
    "\n",
    "2 - For large arrays: As the array size grows, the efficiency of merge_sort becomes more pronounced. Its divide-and-conquer approach and O(n log n) complexity make it significantly faster than selection_sort for larger datasets.\n",
    "\n",
    "3 - Choosing min_size: The optimal value of min_size depends on the specific use case and dataset characteristics. Experimentation with different values of min_size and array sizes is crucial to find the balance between sorting speed and algorithmic complexity."
   ]
  },
  {
   "cell_type": "markdown",
   "metadata": {
    "id": "_xlEp7VWWkLL"
   },
   "source": [
    "## Exercise 2\n",
    "\n",
    "Let $A[1...n]$ be an array of $n$ distinct numbers. If $i < j$ and $A[i] > A[j]$, then the pair $(i, j)$ is called an **inversion** of $A$. \n",
    "\n",
    "In other words an inversion is a pair of unsorted elements in an array.\n",
    "\n",
    "1. List the five inversions of $[2, 3, 8, 6, 1]$ \n",
    "2. Give an algorithm that determines the number of inversions in any permutation on $n$ elements. \n",
    "- Bonus points: make your algorithm to have $O(nlog_2(n))$ in worst-case time. (Hint: Modify merge sort.)"
   ]
  },
  {
   "cell_type": "code",
   "execution_count": 33,
   "metadata": {
    "id": "8-o8CqiRWkOF"
   },
   "outputs": [],
   "source": [
    "# 2.1 ---> The five inversions in the array [2,3,8,6,1] are: \n",
    "        # (1,5) :  2 > 1\n",
    "        # (2,5) :  3 > 1\n",
    "        # (3,4) :  8 > 6\n",
    "        # (3,5) :  8 > 1\n",
    "        # (4,5) :  6 > 1\n",
    "\n",
    "# 2.2\n",
    "\n",
    "# Function to merge two halves of the array and count inversions\n",
    "\n",
    "def merge_and_count(arr, temp_arr, left, mid, right):\n",
    "    \n",
    "    # Starting index for the left subarray\n",
    "    \n",
    "    i = left  \n",
    "    \n",
    "    # Starting index for the right subarray\n",
    "    \n",
    "    j = mid + 1\n",
    "    \n",
    "    # Starting index to be sorted\n",
    "    \n",
    "    k = left  \n",
    "    \n",
    "    # Initialize inversion count\n",
    "    \n",
    "    inv_count = 0 \n",
    "\n",
    "    # Conditions are checked to ensure that i doesn't exceed mid and j doesn't exceed right\n",
    "    \n",
    "    while i <= mid and j <= right:\n",
    "        if arr[i] <= arr[j]:\n",
    "            temp_arr[k] = arr[i]\n",
    "            i += 1\n",
    "        else:\n",
    "            temp_arr[k] = arr[j]\n",
    "            \n",
    "            # Since arr[i] > arr[j], all elements from arr[i] to arr[mid] will be greater than arr[j]\n",
    "            \n",
    "            inv_count += (mid - i + 1)\n",
    "            j += 1\n",
    "        k += 1\n",
    "\n",
    "    # Copy the remaining elements of the left subarray, if any\n",
    "    \n",
    "    while i <= mid:\n",
    "        temp_arr[k] = arr[i]\n",
    "        i += 1\n",
    "        k += 1\n",
    "\n",
    "    # Copy the remaining elements of the right subarray, if any\n",
    "    \n",
    "    while j <= right:\n",
    "        temp_arr[k] = arr[j]\n",
    "        j += 1\n",
    "        k += 1\n",
    "\n",
    "    # Copy the sorted subarray back into the original array\n",
    "    \n",
    "    for i in range(left, right + 1):\n",
    "        arr[i] = temp_arr[i]\n",
    "\n",
    "    return inv_count\n",
    "\n",
    "# Function to use merge sort and count inversions\n",
    "\n",
    "def merge_sort_and_count(arr, temp_arr, left, right):\n",
    "    \n",
    "    # Initialize inversion count\n",
    "    \n",
    "    inv_count = 0 \n",
    "    if left < right:\n",
    "        \n",
    "        # Find the mid-point\n",
    "        \n",
    "        mid = (left + right) // 2 \n",
    "\n",
    "        # Count inversions in the left half\n",
    "        \n",
    "        inv_count += merge_sort_and_count(arr, temp_arr, left, mid)\n",
    "\n",
    "        # Count inversions in the right half\n",
    "        \n",
    "        inv_count += merge_sort_and_count(arr, temp_arr, mid + 1, right)\n",
    "\n",
    "        # Count inversions while merging both halves\n",
    "        \n",
    "        inv_count += merge_and_count(arr, temp_arr, left, mid, right)\n",
    "\n",
    "    return inv_count"
   ]
  },
  {
   "cell_type": "code",
   "execution_count": 35,
   "metadata": {
    "id": "8-o8CqiRWkOF"
   },
   "outputs": [
    {
     "name": "stdout",
     "output_type": "stream",
     "text": [
      "Number of inversions are: 5\n"
     ]
    }
   ],
   "source": [
    "# Example : (Check)\n",
    "\n",
    "arr = [2, 3, 8, 6, 1]\n",
    "\n",
    "# Calculate the length of the array\n",
    "\n",
    "n = len(arr)  \n",
    "\n",
    "# Initialize a temporary array with zeros, of the same length as arr\n",
    "\n",
    "temp_arr = [0] * n  \n",
    "\n",
    "# Call the merge_sort_and_count function to sort the array and count inversions\n",
    "\n",
    "result = merge_sort_and_count(arr, temp_arr, 0, n - 1)\n",
    "\n",
    "# Print the number of inversions\n",
    "\n",
    "print(\"Number of inversions are:\", result)  "
   ]
  },
  {
   "cell_type": "markdown",
   "metadata": {
    "id": "7DHNJtvOUkgo"
   },
   "source": [
    "## Exercise 3: Recursive sum\n",
    "\n",
    "Write a function that uses recursion to compute the sum of an array or list of numbers\n",
    "\n",
    "```\n",
    "recursive_sum([2, 4, 5, 6, 7])\n",
    "\n",
    "output: 24\n",
    "```"
   ]
  },
  {
   "cell_type": "code",
   "execution_count": 15,
   "metadata": {},
   "outputs": [],
   "source": [
    "# exercise 3\n",
    "\n",
    "def recursive_sum(arr):\n",
    "    \n",
    "    # Base case: if the list is empty, return 0\n",
    "    \n",
    "    if len(arr) == 0:\n",
    "        return 0\n",
    "    \n",
    "    # Recursive case: return the first element plus the sum of the rest of the list\n",
    "    \n",
    "    else:\n",
    "        return arr[0] + recursive_sum(arr[1:])"
   ]
  },
  {
   "cell_type": "code",
   "execution_count": 16,
   "metadata": {},
   "outputs": [
    {
     "name": "stdout",
     "output_type": "stream",
     "text": [
      "Sum of the array is: 24\n"
     ]
    }
   ],
   "source": [
    "# Example: (Check)\n",
    "\n",
    "arr = [2, 4, 5, 6, 7]\n",
    "\n",
    "# Call the recursive_sum function and print the result\n",
    "    \n",
    "print(\"Sum of the array is:\", recursive_sum(arr))"
   ]
  },
  {
   "cell_type": "markdown",
   "metadata": {
    "id": "LSFr3qLboTzE"
   },
   "source": [
    "## Exercise 4: Recursive denominators\n",
    "\n",
    "Write a Python program that uses recursion to find the greatest common divisor (gcd) of two integers.\n",
    "\n",
    "```\n",
    "recursive_gcd(12,14)\n",
    "\n",
    "output : 2\n",
    "```"
   ]
  },
  {
   "cell_type": "code",
   "execution_count": 17,
   "metadata": {
    "colab": {
     "base_uri": "https://localhost:8080/"
    },
    "executionInfo": {
     "elapsed": 500,
     "status": "ok",
     "timestamp": 1604976325610,
     "user": {
      "displayName": "Javad Khataei",
      "photoUrl": "https://lh3.googleusercontent.com/a-/AOh14Gj4OOPiD15D3oyUyLayCOaELp_6Bn0vwX5kdych=s64",
      "userId": "01623733572031019100"
     },
     "user_tz": 300
    },
    "id": "YoYokrfHCXt9",
    "outputId": "91d6edeb-4512-4ea7-a9e9-5ad61d9a215d"
   },
   "outputs": [],
   "source": [
    "# exercise 4\n",
    "\n",
    "def recursive_gcd(a, b):\n",
    "    # Base case: if b is 0, the GCD is a\n",
    "    \n",
    "    if b == 0:\n",
    "        return a\n",
    "    \n",
    "    # Recursive case: compute the GCD of b and the remainder of a divided by b\n",
    "    \n",
    "    else:\n",
    "        return recursive_gcd(b, a % b)"
   ]
  },
  {
   "cell_type": "code",
   "execution_count": 18,
   "metadata": {
    "colab": {
     "base_uri": "https://localhost:8080/"
    },
    "executionInfo": {
     "elapsed": 500,
     "status": "ok",
     "timestamp": 1604976325610,
     "user": {
      "displayName": "Javad Khataei",
      "photoUrl": "https://lh3.googleusercontent.com/a-/AOh14Gj4OOPiD15D3oyUyLayCOaELp_6Bn0vwX5kdych=s64",
      "userId": "01623733572031019100"
     },
     "user_tz": 300
    },
    "id": "YoYokrfHCXt9",
    "outputId": "91d6edeb-4512-4ea7-a9e9-5ad61d9a215d"
   },
   "outputs": [
    {
     "name": "stdout",
     "output_type": "stream",
     "text": [
      "GCD of 12 and 14 is: 2\n"
     ]
    }
   ],
   "source": [
    "# Example : (Check)\n",
    "\n",
    "# Call the recursive_gcd function and print the result\n",
    "\n",
    "print(\"GCD of 12 and 14 is:\", recursive_gcd(12, 14)) "
   ]
  },
  {
   "cell_type": "markdown",
   "metadata": {
    "id": "Qy5JQQBPoTzP"
   },
   "source": [
    "## Exercise 5: Recursive power function\n",
    "\n",
    "Write a recursive function to calculate the value of 'a' to the power 'b'. \n",
    "\n",
    "```\n",
    "recursive_pow(3, 4)\n",
    "\n",
    "output: 81\n",
    "```"
   ]
  },
  {
   "cell_type": "code",
   "execution_count": null,
   "metadata": {
    "id": "ZSL9bWWJoTzS"
   },
   "outputs": [],
   "source": [
    "# exercise 5\n",
    "\n",
    "def recursive_pow(a, n):\n",
    "    \n",
    "    # If the base is 0 and the exponent is positive, the result is 0\n",
    "    \n",
    "    if a == 0:\n",
    "        return 0\n",
    "    # Base case: any number to the power of 0 is 1\n",
    "    \n",
    "    elif n == 0:\n",
    "        return 1\n",
    "    \n",
    "    # Recursive case: multiply a by the result of a to the power of (n-1)\n",
    "    \n",
    "    else:\n",
    "        return a * recursive_pow(a, n - 1)"
   ]
  },
  {
   "cell_type": "code",
   "execution_count": 30,
   "metadata": {
    "id": "ZSL9bWWJoTzS"
   },
   "outputs": [
    {
     "name": "stdout",
     "output_type": "stream",
     "text": [
      "3 to the power of 4 is : 81\n"
     ]
    }
   ],
   "source": [
    "# Example : (Check)\n",
    "\n",
    "# Call the recursive_pow function and print the result\n",
    "\n",
    "print(\"3 to the power of 4 is :\", recursive_pow(3, 4))  "
   ]
  }
 ],
 "metadata": {
  "colab": {
   "collapsed_sections": [],
   "name": "Workshop_ Recursive _ Divide and conquer.ipynb",
   "provenance": []
  },
  "kernelspec": {
   "display_name": "Python 3 (ipykernel)",
   "language": "python",
   "name": "python3"
  },
  "language_info": {
   "codemirror_mode": {
    "name": "ipython",
    "version": 3
   },
   "file_extension": ".py",
   "mimetype": "text/x-python",
   "name": "python",
   "nbconvert_exporter": "python",
   "pygments_lexer": "ipython3",
   "version": "3.11.5"
  }
 },
 "nbformat": 4,
 "nbformat_minor": 1
}
