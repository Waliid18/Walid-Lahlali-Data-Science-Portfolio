{
 "cells": [
  {
   "cell_type": "markdown",
   "id": "ca2c0c98",
   "metadata": {},
   "source": [
    "# NLP Assignment\n",
    "---"
   ]
  },
  {
   "cell_type": "markdown",
   "id": "d9dd1edc-bceb-468c-ab2e-265ec12d33a7",
   "metadata": {},
   "source": [
    "## Apple Store App Review\n",
    "\n",
    "The Apple app store has a `GET` API to get reviews on apps. The URL is:\n",
    "\n",
    "```\n",
    "https://itunes.apple.com/{COUNTRY_CODE}/rss/customerreviews/id={APP_ID_HERE}/page={PAGE_NUMBER}/sortby=mostrecent/json\n",
    "```\n",
    "\n",
    "Note that you need to provide:\n",
    "\n",
    "- The country codes (`'us'`, `'fr'`, `'ca'`, `'au'`). Use these four, or any other 4 apps of your choice.\n",
    "- The app ID. This can be found in the web page for the app right after `id`.\n",
    "    - You will need to use the IDs for the apps of your choice.\n",
    "- The \"Page Number\". The request responds with multiple pages of data, but sends them one at a time. Note that you are limited to 10 pages.\n",
    "\n",
    "For example, Candy Crush's US webpage is `https://apps.apple.com/us/app/candy-crush-saga/id553834731`, which means that the ID is `553834731`.\n",
    "\n",
    "**Your goal is to use any predictive model you want in order to predict the 5 star rating for a particular app, depending on the review.**\n",
    "\n",
    "Requirements:\n",
    "1. Scrape the Apple Store in order to obtain reviews for the apps and countries\n",
    "2. Save your results in a DataFrame. The head of your DataFrame should look like this:\n",
    "\n",
    "<img src=\"../Data/df_example.png\" width=\"500\">\n",
    "\n",
    "3. Using any method you want (pretrained models, dimensionality reduction, TF-IDF vectorization, etc.) make the best model you can to predict the 5 star rating.\n",
    "4. Test your model with a \"new\" review."
   ]
  },
  {
   "cell_type": "code",
   "execution_count": 1,
   "id": "fbc8cb32-b0cc-4b6e-92c2-769b7b926528",
   "metadata": {},
   "outputs": [],
   "source": [
    "# 1.\n",
    "import requests\n",
    "import pandas as pd\n",
    "from sklearn.feature_extraction.text import TfidfVectorizer\n",
    "from sklearn.model_selection import train_test_split\n",
    "from sklearn.linear_model import LogisticRegression\n",
    "from sklearn.metrics import classification_report\n",
    "\n",
    "# Mapping of country codes and app IDs\n",
    "country_codes = {'USA': 'us', 'France': 'fr', 'Canada': 'ca', 'Australia': 'au'}\n",
    "app_identifiers = {'Candy Crush': '553834731', 'Facebook': '284882215', 'X': '333903271', 'Tinder': '547702041'}\n",
    "\n",
    "def fetch_reviews(app_name, app_id, country_name, country_code):\n",
    "    review_entries = []\n",
    "    for page_num in range(1, 11):\n",
    "        url = f\"https://itunes.apple.com/{country_code}/rss/customerreviews/id={app_id}/page={page_num}/sortby=mostrecent/json\"\n",
    "        response = requests.get(url)\n",
    "\n",
    "        if response.status_code == 200:\n",
    "            try:\n",
    "                json_data = response.json()\n",
    "                entries = json_data.get('feed', {}).get('entry', [])\n",
    "                for entry in entries:\n",
    "                    review_entries.append({\n",
    "                        'App': app_name,\n",
    "                        'Country': country_name,\n",
    "                        'Rating': entry['im:rating']['label'],\n",
    "                        'Review': entry['content']['label']\n",
    "                    })\n",
    "            except requests.exceptions.JSONDecodeError:\n",
    "                print(f\"Error decoding JSON from {url}\")\n",
    "        else:\n",
    "            print(f\"Failed to fetch data from {url} with status code {response.status_code}\")\n",
    "    return review_entries\n",
    "\n",
    "def gather_all_reviews(app_identifiers, country_codes):\n",
    "    all_reviews = []\n",
    "    for app_name, app_id in app_identifiers.items():\n",
    "        for country_name, country_code in country_codes.items():\n",
    "            reviews = fetch_reviews(app_name, app_id, country_name, country_code)\n",
    "            all_reviews.extend(reviews)\n",
    "    return all_reviews"
   ]
  },
  {
   "cell_type": "code",
   "execution_count": 2,
   "id": "aa00796b-5a98-4a17-87a6-1e96b03b248c",
   "metadata": {},
   "outputs": [
    {
     "data": {
      "text/html": [
       "<div>\n",
       "<style scoped>\n",
       "    .dataframe tbody tr th:only-of-type {\n",
       "        vertical-align: middle;\n",
       "    }\n",
       "\n",
       "    .dataframe tbody tr th {\n",
       "        vertical-align: top;\n",
       "    }\n",
       "\n",
       "    .dataframe thead th {\n",
       "        text-align: right;\n",
       "    }\n",
       "</style>\n",
       "<table border=\"1\" class=\"dataframe\">\n",
       "  <thead>\n",
       "    <tr style=\"text-align: right;\">\n",
       "      <th></th>\n",
       "      <th>App</th>\n",
       "      <th>Country</th>\n",
       "      <th>Rating</th>\n",
       "      <th>Review</th>\n",
       "    </tr>\n",
       "  </thead>\n",
       "  <tbody>\n",
       "    <tr>\n",
       "      <th>0</th>\n",
       "      <td>Candy Crush</td>\n",
       "      <td>USA</td>\n",
       "      <td>1</td>\n",
       "      <td>Don’t waste your time.  First few levels are e...</td>\n",
       "    </tr>\n",
       "    <tr>\n",
       "      <th>1</th>\n",
       "      <td>Candy Crush</td>\n",
       "      <td>USA</td>\n",
       "      <td>1</td>\n",
       "      <td>What’s up with the ads that don’t complete to ...</td>\n",
       "    </tr>\n",
       "    <tr>\n",
       "      <th>2</th>\n",
       "      <td>Candy Crush</td>\n",
       "      <td>USA</td>\n",
       "      <td>1</td>\n",
       "      <td>Mid- isle equipment add keeps freezing at 29 s...</td>\n",
       "    </tr>\n",
       "    <tr>\n",
       "      <th>3</th>\n",
       "      <td>Candy Crush</td>\n",
       "      <td>USA</td>\n",
       "      <td>5</td>\n",
       "      <td>So fun and I love it helps your stress</td>\n",
       "    </tr>\n",
       "    <tr>\n",
       "      <th>4</th>\n",
       "      <td>Candy Crush</td>\n",
       "      <td>USA</td>\n",
       "      <td>4</td>\n",
       "      <td>Like the game but your tiny screen version tak...</td>\n",
       "    </tr>\n",
       "  </tbody>\n",
       "</table>\n",
       "</div>"
      ],
      "text/plain": [
       "           App Country Rating  \\\n",
       "0  Candy Crush     USA      1   \n",
       "1  Candy Crush     USA      1   \n",
       "2  Candy Crush     USA      1   \n",
       "3  Candy Crush     USA      5   \n",
       "4  Candy Crush     USA      4   \n",
       "\n",
       "                                              Review  \n",
       "0  Don’t waste your time.  First few levels are e...  \n",
       "1  What’s up with the ads that don’t complete to ...  \n",
       "2  Mid- isle equipment add keeps freezing at 29 s...  \n",
       "3             So fun and I love it helps your stress  \n",
       "4  Like the game but your tiny screen version tak...  "
      ]
     },
     "execution_count": 2,
     "metadata": {},
     "output_type": "execute_result"
    }
   ],
   "source": [
    "# 2.\n",
    "# Fetch all reviews\n",
    "all_reviews_data = gather_all_reviews(app_identifiers, country_codes)\n",
    "\n",
    "# Convert the list of reviews to a DataFrame\n",
    "df = pd.DataFrame(all_reviews_data)\n",
    "df.head()"
   ]
  },
  {
   "cell_type": "code",
   "execution_count": 3,
   "id": "ad924812-bc22-4e3b-9338-7a46e6ed155b",
   "metadata": {
    "scrolled": true
   },
   "outputs": [
    {
     "name": "stdout",
     "output_type": "stream",
     "text": [
      "              precision    recall  f1-score   support\n",
      "\n",
      "           0       0.83      0.97      0.89      1167\n",
      "           1       0.85      0.44      0.58       423\n",
      "\n",
      "    accuracy                           0.83      1590\n",
      "   macro avg       0.84      0.70      0.74      1590\n",
      "weighted avg       0.83      0.83      0.81      1590\n",
      "\n"
     ]
    }
   ],
   "source": [
    "# 3\n",
    "# Preprocessing\n",
    "df['Review'] = df['Review'].str.lower().str.replace(r'[^\\w\\s]', '', regex=True)\n",
    "df['is_five_star'] = (df['Rating'] == '5').astype(int)\n",
    "\n",
    "# Feature Engineering - TFIDF\n",
    "tfidf = TfidfVectorizer(stop_words='english')\n",
    "X = tfidf.fit_transform(df['Review'])\n",
    "y = df['is_five_star']\n",
    "\n",
    "# Train/Test Split\n",
    "X_train, X_test, y_train, y_test = train_test_split(X, y, test_size=0.2, random_state=42)\n",
    "\n",
    "# Model Building\n",
    "model = LogisticRegression()\n",
    "model.fit(X_train, y_train)\n",
    "\n",
    "# Prediction and Evaluation\n",
    "y_pred = model.predict(X_test)\n",
    "print(classification_report(y_test, y_pred))"
   ]
  },
  {
   "cell_type": "code",
   "execution_count": 4,
   "id": "dfeb9e44-38d6-4e77-a450-e298ab206289",
   "metadata": {
    "scrolled": true
   },
   "outputs": [
    {
     "name": "stdout",
     "output_type": "stream",
     "text": [
      "Predicted 5-star rating\n"
     ]
    }
   ],
   "source": [
    "# 4\n",
    "# Test with a new review\n",
    "new_review = [\"This game is awesome and I love it!\"]\n",
    "new_review_tfidf = tfidf.transform(new_review)\n",
    "predicted_rating = model.predict(new_review_tfidf)\n",
    "if predicted_rating[0] == 1:\n",
    "    print(\"Predicted 5-star rating\")\n",
    "else:\n",
    "    print(\"Not a 5-star rating\")"
   ]
  },
  {
   "cell_type": "code",
   "execution_count": 5,
   "id": "1a25c193-aac3-4c06-a842-10c1a695ec2b",
   "metadata": {},
   "outputs": [
    {
     "name": "stdout",
     "output_type": "stream",
     "text": [
      "Not a 5-star rating\n"
     ]
    }
   ],
   "source": [
    "# Test with a new review\n",
    "new_review = [\"This game is bad!\"]\n",
    "new_review_tfidf = tfidf.transform(new_review)\n",
    "predicted_rating = model.predict(new_review_tfidf)\n",
    "if predicted_rating[0] == 1:\n",
    "    print(\"Predicted 5-star rating\")\n",
    "else:\n",
    "    print(\"Not a 5-star rating\")"
   ]
  },
  {
   "cell_type": "markdown",
   "id": "075b2c5c-89e1-4de5-b223-fe37ef242c07",
   "metadata": {},
   "source": [
    "## Great Job! "
   ]
  }
 ],
 "metadata": {
  "kernelspec": {
   "display_name": "Python 3 (ipykernel)",
   "language": "python",
   "name": "python3"
  },
  "language_info": {
   "codemirror_mode": {
    "name": "ipython",
    "version": 3
   },
   "file_extension": ".py",
   "mimetype": "text/x-python",
   "name": "python",
   "nbconvert_exporter": "python",
   "pygments_lexer": "ipython3",
   "version": "3.12.4"
  }
 },
 "nbformat": 4,
 "nbformat_minor": 5
}
